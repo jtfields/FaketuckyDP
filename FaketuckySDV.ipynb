{
  "cells": [
    {
      "cell_type": "markdown",
      "metadata": {
        "id": "kgQiNwrhyQXs"
      },
      "source": [
        "COSC 6960 - Fall 2024 - Privacy Preserving Machine Learning\n",
        "\n",
        "\n",
        "Sources:\n",
        "\n",
        "https://github.com/OpenSDP/faketucky\n",
        "\n",
        "https://colab.research.google.com/drive/1DlUlHNohxBhxN6GA5C_C4Fd9wx5AR11Y?usp=sharing"
      ]
    },
    {
      "cell_type": "markdown",
      "metadata": {
        "id": "TjuXN9nOzGJb"
      },
      "source": [
        "# Dataset \\#1 - Use SDV's Gaussian Copula synthesizer to create a mock dataset"
      ]
    },
    {
      "cell_type": "code",
      "execution_count": null,
      "metadata": {
        "colab": {
          "base_uri": "https://localhost:8080/"
        },
        "id": "F0W4rCZxw6mh",
        "outputId": "742216e6-6459-47f5-9457-c1b34d491682"
      },
      "outputs": [
        {
          "name": "stdout",
          "output_type": "stream",
          "text": [
            "Collecting sdv\n",
            "  Downloading sdv-1.16.2-py3-none-any.whl.metadata (13 kB)\n",
            "Collecting boto3<2.0.0,>=1.28 (from sdv)\n",
            "  Downloading boto3-1.35.29-py3-none-any.whl.metadata (6.6 kB)\n",
            "Collecting botocore<2.0.0,>=1.31 (from sdv)\n",
            "  Downloading botocore-1.35.29-py3-none-any.whl.metadata (5.6 kB)\n",
            "Requirement already satisfied: cloudpickle>=2.1.0 in /usr/local/lib/python3.10/dist-packages (from sdv) (2.2.1)\n",
            "Requirement already satisfied: graphviz>=0.13.2 in /usr/local/lib/python3.10/dist-packages (from sdv) (0.20.3)\n",
            "Requirement already satisfied: tqdm>=4.29 in /usr/local/lib/python3.10/dist-packages (from sdv) (4.66.5)\n",
            "Collecting copulas>=0.11.0 (from sdv)\n",
            "  Downloading copulas-0.11.1-py3-none-any.whl.metadata (9.1 kB)\n",
            "Collecting ctgan>=0.10.0 (from sdv)\n",
            "  Downloading ctgan-0.10.1-py3-none-any.whl.metadata (11 kB)\n",
            "Collecting deepecho>=0.6.0 (from sdv)\n",
            "  Downloading deepecho-0.6.0-py3-none-any.whl.metadata (10 kB)\n",
            "Collecting rdt>=1.12.3 (from sdv)\n",
            "  Downloading rdt-1.12.4-py3-none-any.whl.metadata (10 kB)\n",
            "Collecting sdmetrics>=0.16.0 (from sdv)\n",
            "  Downloading sdmetrics-0.16.0-py3-none-any.whl.metadata (8.7 kB)\n",
            "Requirement already satisfied: platformdirs>=4.0 in /usr/local/lib/python3.10/dist-packages (from sdv) (4.3.6)\n",
            "Requirement already satisfied: pyyaml>=6.0.1 in /usr/local/lib/python3.10/dist-packages (from sdv) (6.0.2)\n",
            "Requirement already satisfied: pandas>=1.4.0 in /usr/local/lib/python3.10/dist-packages (from sdv) (2.1.4)\n",
            "Requirement already satisfied: numpy<2.0.0,>=1.23.3 in /usr/local/lib/python3.10/dist-packages (from sdv) (1.26.4)\n",
            "Collecting jmespath<2.0.0,>=0.7.1 (from boto3<2.0.0,>=1.28->sdv)\n",
            "  Downloading jmespath-1.0.1-py3-none-any.whl.metadata (7.6 kB)\n",
            "Collecting s3transfer<0.11.0,>=0.10.0 (from boto3<2.0.0,>=1.28->sdv)\n",
            "  Downloading s3transfer-0.10.2-py3-none-any.whl.metadata (1.7 kB)\n",
            "Requirement already satisfied: python-dateutil<3.0.0,>=2.1 in /usr/local/lib/python3.10/dist-packages (from botocore<2.0.0,>=1.31->sdv) (2.8.2)\n",
            "Requirement already satisfied: urllib3!=2.2.0,<3,>=1.25.4 in /usr/local/lib/python3.10/dist-packages (from botocore<2.0.0,>=1.31->sdv) (2.2.3)\n",
            "Requirement already satisfied: plotly>=5.10.0 in /usr/local/lib/python3.10/dist-packages (from copulas>=0.11.0->sdv) (5.24.1)\n",
            "Requirement already satisfied: scipy>=1.9.2 in /usr/local/lib/python3.10/dist-packages (from copulas>=0.11.0->sdv) (1.13.1)\n",
            "Requirement already satisfied: torch>=1.11.0 in /usr/local/lib/python3.10/dist-packages (from ctgan>=0.10.0->sdv) (2.4.1+cu121)\n",
            "Requirement already satisfied: pytz>=2020.1 in /usr/local/lib/python3.10/dist-packages (from pandas>=1.4.0->sdv) (2024.2)\n",
            "Requirement already satisfied: tzdata>=2022.1 in /usr/local/lib/python3.10/dist-packages (from pandas>=1.4.0->sdv) (2024.1)\n",
            "Collecting Faker>=17 (from rdt>=1.12.3->sdv)\n",
            "  Downloading Faker-30.0.0-py3-none-any.whl.metadata (15 kB)\n",
            "Requirement already satisfied: scikit-learn>=1.1.0 in /usr/local/lib/python3.10/dist-packages (from rdt>=1.12.3->sdv) (1.5.2)\n",
            "Requirement already satisfied: tenacity>=6.2.0 in /usr/local/lib/python3.10/dist-packages (from plotly>=5.10.0->copulas>=0.11.0->sdv) (9.0.0)\n",
            "Requirement already satisfied: packaging in /usr/local/lib/python3.10/dist-packages (from plotly>=5.10.0->copulas>=0.11.0->sdv) (24.1)\n",
            "Requirement already satisfied: six>=1.5 in /usr/local/lib/python3.10/dist-packages (from python-dateutil<3.0.0,>=2.1->botocore<2.0.0,>=1.31->sdv) (1.16.0)\n",
            "Requirement already satisfied: joblib>=1.2.0 in /usr/local/lib/python3.10/dist-packages (from scikit-learn>=1.1.0->rdt>=1.12.3->sdv) (1.4.2)\n",
            "Requirement already satisfied: threadpoolctl>=3.1.0 in /usr/local/lib/python3.10/dist-packages (from scikit-learn>=1.1.0->rdt>=1.12.3->sdv) (3.5.0)\n",
            "Requirement already satisfied: filelock in /usr/local/lib/python3.10/dist-packages (from torch>=1.11.0->ctgan>=0.10.0->sdv) (3.16.1)\n",
            "Requirement already satisfied: typing-extensions>=4.8.0 in /usr/local/lib/python3.10/dist-packages (from torch>=1.11.0->ctgan>=0.10.0->sdv) (4.12.2)\n",
            "Requirement already satisfied: sympy in /usr/local/lib/python3.10/dist-packages (from torch>=1.11.0->ctgan>=0.10.0->sdv) (1.13.3)\n",
            "Requirement already satisfied: networkx in /usr/local/lib/python3.10/dist-packages (from torch>=1.11.0->ctgan>=0.10.0->sdv) (3.3)\n",
            "Requirement already satisfied: jinja2 in /usr/local/lib/python3.10/dist-packages (from torch>=1.11.0->ctgan>=0.10.0->sdv) (3.1.4)\n",
            "Requirement already satisfied: fsspec in /usr/local/lib/python3.10/dist-packages (from torch>=1.11.0->ctgan>=0.10.0->sdv) (2024.6.1)\n",
            "Requirement already satisfied: MarkupSafe>=2.0 in /usr/local/lib/python3.10/dist-packages (from jinja2->torch>=1.11.0->ctgan>=0.10.0->sdv) (2.1.5)\n",
            "Requirement already satisfied: mpmath<1.4,>=1.1.0 in /usr/local/lib/python3.10/dist-packages (from sympy->torch>=1.11.0->ctgan>=0.10.0->sdv) (1.3.0)\n",
            "Downloading sdv-1.16.2-py3-none-any.whl (149 kB)\n",
            "\u001b[2K   \u001b[90m━━━━━━━━━━━━━━━━━━━━━━━━━━━━━━━━━━━━━━━━\u001b[0m \u001b[32m149.0/149.0 kB\u001b[0m \u001b[31m7.3 MB/s\u001b[0m eta \u001b[36m0:00:00\u001b[0m\n",
            "\u001b[?25hDownloading boto3-1.35.29-py3-none-any.whl (139 kB)\n",
            "\u001b[2K   \u001b[90m━━━━━━━━━━━━━━━━━━━━━━━━━━━━━━━━━━━━━━━━\u001b[0m \u001b[32m139.1/139.1 kB\u001b[0m \u001b[31m10.3 MB/s\u001b[0m eta \u001b[36m0:00:00\u001b[0m\n",
            "\u001b[?25hDownloading botocore-1.35.29-py3-none-any.whl (12.6 MB)\n",
            "\u001b[2K   \u001b[90m━━━━━━━━━━━━━━━━━━━━━━━━━━━━━━━━━━━━━━━━\u001b[0m \u001b[32m12.6/12.6 MB\u001b[0m \u001b[31m76.1 MB/s\u001b[0m eta \u001b[36m0:00:00\u001b[0m\n",
            "\u001b[?25hDownloading copulas-0.11.1-py3-none-any.whl (51 kB)\n",
            "\u001b[2K   \u001b[90m━━━━━━━━━━━━━━━━━━━━━━━━━━━━━━━━━━━━━━━━\u001b[0m \u001b[32m51.6/51.6 kB\u001b[0m \u001b[31m3.7 MB/s\u001b[0m eta \u001b[36m0:00:00\u001b[0m\n",
            "\u001b[?25hDownloading ctgan-0.10.1-py3-none-any.whl (24 kB)\n",
            "Downloading deepecho-0.6.0-py3-none-any.whl (27 kB)\n",
            "Downloading rdt-1.12.4-py3-none-any.whl (65 kB)\n",
            "\u001b[2K   \u001b[90m━━━━━━━━━━━━━━━━━━━━━━━━━━━━━━━━━━━━━━━━\u001b[0m \u001b[32m65.3/65.3 kB\u001b[0m \u001b[31m4.5 MB/s\u001b[0m eta \u001b[36m0:00:00\u001b[0m\n",
            "\u001b[?25hDownloading sdmetrics-0.16.0-py3-none-any.whl (170 kB)\n",
            "\u001b[2K   \u001b[90m━━━━━━━━━━━━━━━━━━━━━━━━━━━━━━━━━━━━━━━━\u001b[0m \u001b[32m170.5/170.5 kB\u001b[0m \u001b[31m12.1 MB/s\u001b[0m eta \u001b[36m0:00:00\u001b[0m\n",
            "\u001b[?25hDownloading Faker-30.0.0-py3-none-any.whl (1.8 MB)\n",
            "\u001b[2K   \u001b[90m━━━━━━━━━━━━━━━━━━━━━━━━━━━━━━━━━━━━━━━━\u001b[0m \u001b[32m1.8/1.8 MB\u001b[0m \u001b[31m48.9 MB/s\u001b[0m eta \u001b[36m0:00:00\u001b[0m\n",
            "\u001b[?25hDownloading jmespath-1.0.1-py3-none-any.whl (20 kB)\n",
            "Downloading s3transfer-0.10.2-py3-none-any.whl (82 kB)\n",
            "\u001b[2K   \u001b[90m━━━━━━━━━━━━━━━━━━━━━━━━━━━━━━━━━━━━━━━━\u001b[0m \u001b[32m82.7/82.7 kB\u001b[0m \u001b[31m5.7 MB/s\u001b[0m eta \u001b[36m0:00:00\u001b[0m\n",
            "\u001b[?25hInstalling collected packages: jmespath, Faker, botocore, s3transfer, rdt, deepecho, copulas, sdmetrics, ctgan, boto3, sdv\n",
            "Successfully installed Faker-30.0.0 boto3-1.35.29 botocore-1.35.29 copulas-0.11.1 ctgan-0.10.1 deepecho-0.6.0 jmespath-1.0.1 rdt-1.12.4 s3transfer-0.10.2 sdmetrics-0.16.0 sdv-1.16.2\n"
          ]
        }
      ],
      "source": [
        "# Install the Secure Data Vault (SDV) package\n",
        "%pip install sdv"
      ]
    },
    {
      "cell_type": "code",
      "execution_count": null,
      "metadata": {
        "id": "qS1mKd1xXgRr"
      },
      "outputs": [],
      "source": [
        "# Load packages and import Faketucky dataset\n",
        "import pandas as pd\n",
        "real_data = pd.read_stata(\"/content/drive/MyDrive/Colab Notebooks/Marquette/COSC6960 Fall 24 - PPML/faketucky.dta\")"
      ]
    },
    {
      "cell_type": "code",
      "execution_count": null,
      "metadata": {
        "id": "pqNlCGKHbmK5"
      },
      "outputs": [],
      "source": [
        "# prompt: export real_data to a csv\n",
        "\n",
        "real_data.to_csv('faketucky.csv', index=False)\n"
      ]
    },
    {
      "cell_type": "code",
      "execution_count": null,
      "metadata": {
        "colab": {
          "base_uri": "https://localhost:8080/"
        },
        "id": "vzflRdjVXvXg",
        "outputId": "5261a20b-0a8a-4c31-c4d3-9e2f36f1e483"
      },
      "outputs": [
        {
          "name": "stdout",
          "output_type": "stream",
          "text": [
            "           sid     sid_type first_coop_code  first_dist_code  first_hs_code  \\\n",
            "0           10  Fake record           GRREC              103           1110   \n",
            "1         1622  Fake record           GRREC              103           1110   \n",
            "2         1877  Fake record           GRREC              103           1110   \n",
            "3         1941  Fake record           GRREC              103           1110   \n",
            "4         2405  Fake record           GRREC              103           1110   \n",
            "...        ...          ...             ...              ...            ...   \n",
            "111986   94764  Fake record          Jeffco              613           9144   \n",
            "111987   97538  Fake record          Jeffco              613           9144   \n",
            "111988  101342  Fake record          Jeffco              613           9144   \n",
            "111989  104903  Fake record          Jeffco              613           9144   \n",
            "111990  105444  Fake record          Jeffco              613           9144   \n",
            "\n",
            "       first_dist_name  first_hs_name  first_hs_alt first_hs_urbanicity  \\\n",
            "0              Jackson        Jackson             0      Rural: Distant   \n",
            "1              Jackson        Jackson             0      Rural: Distant   \n",
            "2              Jackson        Jackson             0      Rural: Distant   \n",
            "3              Jackson        Jackson             0      Rural: Distant   \n",
            "4              Jackson        Jackson             0      Rural: Distant   \n",
            "...                ...            ...           ...                 ...   \n",
            "111986   Lookout Point  Lookout Point             1       Town: Distant   \n",
            "111987   Lookout Point  Lookout Point             1       Town: Distant   \n",
            "111988   Lookout Point  Lookout Point             1       Town: Distant   \n",
            "111989   Lookout Point  Lookout Point             1       Town: Distant   \n",
            "111990   Lookout Point  Lookout Point             1       Town: Distant   \n",
            "\n",
            "        chrt_ninth  male            race_ethnicity  frpl_ever_in_hs  \\\n",
            "0             2010   0.0                     White              1.0   \n",
            "1             2009   1.0  Multiple/Native American              1.0   \n",
            "2             2009   1.0                     White              1.0   \n",
            "3             2009   1.0                     White              0.0   \n",
            "4             2010   0.0                     White              0.0   \n",
            "...            ...   ...                       ...              ...   \n",
            "111986        2009   0.0                     White              1.0   \n",
            "111987        2009   1.0                     White              1.0   \n",
            "111988        2009   1.0                     White              0.0   \n",
            "111989        2009   1.0                  Hispanic              0.0   \n",
            "111990        2010   1.0                  Hispanic              1.0   \n",
            "\n",
            "        sped_ever_in_hs  lep_ever_in_hs  gifted_ever_in_hs  \\\n",
            "0                     0               0                  0   \n",
            "1                     0               0                  0   \n",
            "2                     0               0                  0   \n",
            "3                     0               0                  0   \n",
            "4                     0               0                  1   \n",
            "...                 ...             ...                ...   \n",
            "111986                0               0                  0   \n",
            "111987                1               0                  0   \n",
            "111988                1               0                  0   \n",
            "111989                0               0                  0   \n",
            "111990                1               0                  0   \n",
            "\n",
            "        ever_alt_sch_in_hs  scale_score_6_math  scale_score_6_read  \\\n",
            "0                        0               600.0               651.0   \n",
            "1                        1                 NaN                 NaN   \n",
            "2                        1                 NaN                 NaN   \n",
            "3                        0                 NaN                 NaN   \n",
            "4                        0               650.0               668.0   \n",
            "...                    ...                 ...                 ...   \n",
            "111986                   1                 NaN                 NaN   \n",
            "111987                   1                 NaN                 NaN   \n",
            "111988                   1                 NaN                 NaN   \n",
            "111989                   1                 NaN                 NaN   \n",
            "111990                   1               620.0               605.0   \n",
            "\n",
            "        scale_score_8_math  scale_score_8_read  pct_absent_in_hs  \\\n",
            "0                     12.0                22.0          8.165230   \n",
            "1                      NaN                35.0         10.188295   \n",
            "2                     11.0                21.0         13.082019   \n",
            "3                     68.0                40.0          5.259312   \n",
            "4                     70.0                78.0          4.823954   \n",
            "...                    ...                 ...               ...   \n",
            "111986                16.0                43.0          9.454114   \n",
            "111987                 NaN                18.0         12.805944   \n",
            "111988                19.0                29.0          2.495714   \n",
            "111989                12.0                32.0          0.000000   \n",
            "111990                10.0                15.0          5.727700   \n",
            "\n",
            "        pct_excused_in_hs  avg_gpa_hs  scale_score_11_eng  \\\n",
            "0                5.346264    2.020945                14.0   \n",
            "1                7.548193    1.599410                12.0   \n",
            "2                4.081081    1.805000                15.0   \n",
            "3                6.129657    3.050000                17.0   \n",
            "4                3.053633    3.551000                25.0   \n",
            "...                   ...         ...                 ...   \n",
            "111986           6.346968    1.000000                 NaN   \n",
            "111987           9.300000    2.719500                12.0   \n",
            "111988           2.330000    2.750000                 NaN   \n",
            "111989           0.000000    2.750000                10.0   \n",
            "111990           6.262857    2.061200                 7.0   \n",
            "\n",
            "        scale_score_11_math  scale_score_11_read  scale_score_11_comp  \\\n",
            "0                      15.0                 14.0                 15.0   \n",
            "1                      15.0                 15.0                 14.0   \n",
            "2                      15.0                 19.0                 15.0   \n",
            "3                      23.0                 21.0                 22.0   \n",
            "4                      19.0                 28.0                 23.0   \n",
            "...                     ...                  ...                  ...   \n",
            "111986                  NaN                  NaN                  NaN   \n",
            "111987                 13.0                 15.0                 13.0   \n",
            "111988                  NaN                  NaN                  NaN   \n",
            "111989                 16.0                 18.0                 15.0   \n",
            "111990                 14.0                 14.0                 10.0   \n",
            "\n",
            "        collegeready_ever_in_hs  careerready_ever_in_hs  ap_ever_take_class  \\\n",
            "0                             0                       1                   0   \n",
            "1                             0                       0                   0   \n",
            "2                             0                       0                   0   \n",
            "3                             0                       0                   0   \n",
            "4                             1                       0                   0   \n",
            "...                         ...                     ...                 ...   \n",
            "111986                        0                       0                   0   \n",
            "111987                        0                       0                   0   \n",
            "111988                        0                       0                   0   \n",
            "111989                        0                       0                   0   \n",
            "111990                        0                       0                   0   \n",
            "\n",
            "        last_acadyr_observed  transferout  dropout  still_enrolled  \\\n",
            "0                       2013            0        0               0   \n",
            "1                       2011            0        1               0   \n",
            "2                       2012            0        0               0   \n",
            "3                       2012            0        0               0   \n",
            "4                       2013            0        0               0   \n",
            "...                      ...          ...      ...             ...   \n",
            "111986                  2014            0        0               1   \n",
            "111987                  2012            0        1               0   \n",
            "111988                  2013            0        1               0   \n",
            "111989                  2012            0        0               0   \n",
            "111990                  2013            0        0               0   \n",
            "\n",
            "        ontime_grad  chrt_grad  hs_diploma  enroll_yr1_any  enroll_yr1_2yr  \\\n",
            "0                 1     2013.0           1             0.0             0.0   \n",
            "1                 0        NaN           0             NaN             NaN   \n",
            "2                 1     2012.0           1             1.0             1.0   \n",
            "3                 1     2012.0           1             1.0             1.0   \n",
            "4                 1     2013.0           1             0.0             0.0   \n",
            "...             ...        ...         ...             ...             ...   \n",
            "111986            0     2015.0           0             0.0             0.0   \n",
            "111987            0        NaN           0             NaN             NaN   \n",
            "111988            0        NaN           0             NaN             NaN   \n",
            "111989            1     2012.0           1             0.0             0.0   \n",
            "111990            1     2013.0           1             0.0             0.0   \n",
            "\n",
            "        enroll_yr1_4yr  enroll_yr2_any  ihe_code_yr1            ihe_name_yr1  \\\n",
            "0                  0.0             0.0           NaN                           \n",
            "1                  NaN             NaN           NaN                           \n",
            "2                  0.0             0.0         101.0  Alpha State University   \n",
            "3                  0.0             1.0         101.0  Alpha State University   \n",
            "4                  0.0             0.0           NaN                           \n",
            "...                ...             ...           ...                     ...   \n",
            "111986             0.0             0.0           NaN                           \n",
            "111987             NaN             NaN           NaN                           \n",
            "111988             NaN             NaN           NaN                           \n",
            "111989             0.0             0.0           NaN                           \n",
            "111990             0.0             0.0           NaN                           \n",
            "\n",
            "       ihe_barrons_rank_2013            ihe_degrees_awarded_predominant  \\\n",
            "0                                                                   NaN   \n",
            "1                                                                   NaN   \n",
            "2                             Predominantly certificate-degree granting   \n",
            "3                             Predominantly certificate-degree granting   \n",
            "4                                                                   NaN   \n",
            "...                      ...                                        ...   \n",
            "111986                                                              NaN   \n",
            "111987                                                              NaN   \n",
            "111988                                                              NaN   \n",
            "111989                                                              NaN   \n",
            "111990                                                              NaN   \n",
            "\n",
            "       ihe_degrees_awarded_highest  ihe_act_25th_pctl_cumulative  \\\n",
            "0                              NaN                           NaN   \n",
            "1                              NaN                           NaN   \n",
            "2                 Associate degree                           NaN   \n",
            "3                 Associate degree                           NaN   \n",
            "4                              NaN                           NaN   \n",
            "...                            ...                           ...   \n",
            "111986                         NaN                           NaN   \n",
            "111987                         NaN                           NaN   \n",
            "111988                         NaN                           NaN   \n",
            "111989                         NaN                           NaN   \n",
            "111990                         NaN                           NaN   \n",
            "\n",
            "        ihe_act_75th_pctl_cumulative  ihe_act_midpoint_cumulative  \\\n",
            "0                                NaN                          NaN   \n",
            "1                                NaN                          NaN   \n",
            "2                                NaN                          NaN   \n",
            "3                                NaN                          NaN   \n",
            "4                                NaN                          NaN   \n",
            "...                              ...                          ...   \n",
            "111986                           NaN                          NaN   \n",
            "111987                           NaN                          NaN   \n",
            "111988                           NaN                          NaN   \n",
            "111989                           NaN                          NaN   \n",
            "111990                           NaN                          NaN   \n",
            "\n",
            "        ihe_ihe_size  ihe_part_time_share  ihe_avg_net_price_pub  \\\n",
            "0                NaN                  NaN                    NaN   \n",
            "1                NaN                  NaN                    NaN   \n",
            "2             3296.0               0.4475                 6602.0   \n",
            "3             3296.0               0.4475                 6602.0   \n",
            "4                NaN                  NaN                    NaN   \n",
            "...              ...                  ...                    ...   \n",
            "111986           NaN                  NaN                    NaN   \n",
            "111987           NaN                  NaN                    NaN   \n",
            "111988           NaN                  NaN                    NaN   \n",
            "111989           NaN                  NaN                    NaN   \n",
            "111990           NaN                  NaN                    NaN   \n",
            "\n",
            "        ihe_avg_net_price_priv  ihe_pell_grant_rate  \\\n",
            "0                          NaN                  NaN   \n",
            "1                          NaN                  NaN   \n",
            "2                          NaN               0.4645   \n",
            "3                          NaN               0.4645   \n",
            "4                          NaN                  NaN   \n",
            "...                        ...                  ...   \n",
            "111986                     NaN                  NaN   \n",
            "111987                     NaN                  NaN   \n",
            "111988                     NaN                  NaN   \n",
            "111989                     NaN                  NaN   \n",
            "111990                     NaN                  NaN   \n",
            "\n",
            "        ihe_retention_4_yr_full_time  ihe_retention_lt_4_yr_full_time  \\\n",
            "0                                NaN                              NaN   \n",
            "1                                NaN                              NaN   \n",
            "2                                NaN                           0.6043   \n",
            "3                                NaN                           0.6043   \n",
            "4                                NaN                              NaN   \n",
            "...                              ...                              ...   \n",
            "111986                           NaN                              NaN   \n",
            "111987                           NaN                              NaN   \n",
            "111988                           NaN                              NaN   \n",
            "111989                           NaN                              NaN   \n",
            "111990                           NaN                              NaN   \n",
            "\n",
            "        ihe_retention_4_yr_part_time  ihe_retention_lt_4_yr_part_time  \\\n",
            "0                                NaN                              NaN   \n",
            "1                                NaN                              NaN   \n",
            "2                                NaN                           0.4522   \n",
            "3                                NaN                           0.4522   \n",
            "4                                NaN                              NaN   \n",
            "...                              ...                              ...   \n",
            "111986                           NaN                              NaN   \n",
            "111987                           NaN                              NaN   \n",
            "111988                           NaN                              NaN   \n",
            "111989                           NaN                              NaN   \n",
            "111990                           NaN                              NaN   \n",
            "\n",
            "        ihe_federal_loan_rate  ihe_share_25_older  \\\n",
            "0                         NaN                 NaN   \n",
            "1                         NaN                 NaN   \n",
            "2                      0.2661              0.3929   \n",
            "3                      0.2661              0.3929   \n",
            "4                         NaN                 NaN   \n",
            "...                       ...                 ...   \n",
            "111986                    NaN                 NaN   \n",
            "111987                    NaN                 NaN   \n",
            "111988                    NaN                 NaN   \n",
            "111989                    NaN                 NaN   \n",
            "111990                    NaN                 NaN   \n",
            "\n",
            "        ihe_med_debt_completers_all  ihe_med_debt_completers_pmts  \\\n",
            "0                               NaN                           NaN   \n",
            "1                               NaN                           NaN   \n",
            "2                            9740.0                    108.133967   \n",
            "3                            9740.0                    108.133967   \n",
            "4                               NaN                           NaN   \n",
            "...                             ...                           ...   \n",
            "111986                          NaN                           NaN   \n",
            "111987                          NaN                           NaN   \n",
            "111988                          NaN                           NaN   \n",
            "111989                          NaN                           NaN   \n",
            "111990                          NaN                           NaN   \n",
            "\n",
            "        ihe_ihe_repay_3_yr_all  ihe_rate_4_yr  ihe_rate_lt_4_yr  \\\n",
            "0                          NaN            NaN               NaN   \n",
            "1                          NaN            NaN               NaN   \n",
            "2                     0.556974            NaN          0.398137   \n",
            "3                     0.556974            NaN          0.398137   \n",
            "4                          NaN            NaN               NaN   \n",
            "...                        ...            ...               ...   \n",
            "111986                     NaN            NaN               NaN   \n",
            "111987                     NaN            NaN               NaN   \n",
            "111988                     NaN            NaN               NaN   \n",
            "111989                     NaN            NaN               NaN   \n",
            "111990                     NaN            NaN               NaN   \n",
            "\n",
            "        ihe_med_earn_10_yrs_after  ihe_pct_earn_gt_25k_6_yrs_after  \n",
            "0                             NaN                              NaN  \n",
            "1                             NaN                              NaN  \n",
            "2                         25000.0                          0.44169  \n",
            "3                         25000.0                          0.44169  \n",
            "4                             NaN                              NaN  \n",
            "...                           ...                              ...  \n",
            "111986                        NaN                              NaN  \n",
            "111987                        NaN                              NaN  \n",
            "111988                        NaN                              NaN  \n",
            "111989                        NaN                              NaN  \n",
            "111990                        NaN                              NaN  \n",
            "\n",
            "[111991 rows x 68 columns]\n"
          ]
        }
      ],
      "source": [
        "# Display all columns for this print only\n",
        "with pd.option_context('display.max_columns', None):\n",
        "    print(real_data)"
      ]
    },
    {
      "cell_type": "markdown",
      "metadata": {
        "id": "UG5b23cMz9bS"
      },
      "source": [
        "## 1. Create metadata for the Faketucky dataset"
      ]
    },
    {
      "cell_type": "code",
      "execution_count": null,
      "metadata": {
        "id": "g9NEUweaztzA"
      },
      "outputs": [],
      "source": [
        "from sdv.metadata import SingleTableMetadata\n",
        "\n",
        "metadata = SingleTableMetadata()\n",
        "metadata.detect_from_dataframe(real_data)"
      ]
    },
    {
      "cell_type": "code",
      "execution_count": null,
      "metadata": {
        "colab": {
          "base_uri": "https://localhost:8080/",
          "height": 1000
        },
        "id": "N5bsJb-zyN9S",
        "outputId": "11074c6d-3cbe-426e-cbb6-52545f467b83"
      },
      "outputs": [
        {
          "data": {
            "image/svg+xml": "<?xml version=\"1.0\" encoding=\"UTF-8\" standalone=\"no\"?>\n<!DOCTYPE svg PUBLIC \"-//W3C//DTD SVG 1.1//EN\"\n \"http://www.w3.org/Graphics/SVG/1.1/DTD/svg11.dtd\">\n<!-- Generated by graphviz version 2.43.0 (0)\n -->\n<!-- Title: Metadata Pages: 1 -->\n<svg width=\"288pt\" height=\"1060pt\"\n viewBox=\"0.00 0.00 288.00 1060.00\" xmlns=\"http://www.w3.org/2000/svg\" xmlns:xlink=\"http://www.w3.org/1999/xlink\">\n<g id=\"graph0\" class=\"graph\" transform=\"scale(1 1) rotate(0) translate(4 1056)\">\n<title>Metadata</title>\n<polygon fill=\"white\" stroke=\"transparent\" points=\"-4,4 -4,-1056 284,-1056 284,4 -4,4\"/>\n<g id=\"node1\" class=\"node\">\n<title></title>\n<path fill=\"#ffec8b\" stroke=\"black\" d=\"M12,-0.5C12,-0.5 268,-0.5 268,-0.5 274,-0.5 280,-6.5 280,-12.5 280,-12.5 280,-1039.5 280,-1039.5 280,-1045.5 274,-1051.5 268,-1051.5 268,-1051.5 12,-1051.5 12,-1051.5 6,-1051.5 0,-1045.5 0,-1039.5 0,-1039.5 0,-12.5 0,-12.5 0,-6.5 6,-0.5 12,-0.5\"/>\n<text text-anchor=\"start\" x=\"8\" y=\"-1036.3\" font-family=\"Times,serif\" font-size=\"14.00\">sid : id</text>\n<text text-anchor=\"start\" x=\"8\" y=\"-1021.3\" font-family=\"Times,serif\" font-size=\"14.00\">sid_type : categorical</text>\n<text text-anchor=\"start\" x=\"8\" y=\"-1006.3\" font-family=\"Times,serif\" font-size=\"14.00\">first_coop_code : categorical</text>\n<text text-anchor=\"start\" x=\"8\" y=\"-991.3\" font-family=\"Times,serif\" font-size=\"14.00\">first_dist_code : numerical</text>\n<text text-anchor=\"start\" x=\"8\" y=\"-976.3\" font-family=\"Times,serif\" font-size=\"14.00\">first_hs_code : numerical</text>\n<text text-anchor=\"start\" x=\"8\" y=\"-961.3\" font-family=\"Times,serif\" font-size=\"14.00\">first_dist_name : categorical</text>\n<text text-anchor=\"start\" x=\"8\" y=\"-946.3\" font-family=\"Times,serif\" font-size=\"14.00\">first_hs_name : categorical</text>\n<text text-anchor=\"start\" x=\"8\" y=\"-931.3\" font-family=\"Times,serif\" font-size=\"14.00\">first_hs_alt : categorical</text>\n<text text-anchor=\"start\" x=\"8\" y=\"-916.3\" font-family=\"Times,serif\" font-size=\"14.00\">first_hs_urbanicity : categorical</text>\n<text text-anchor=\"start\" x=\"8\" y=\"-901.3\" font-family=\"Times,serif\" font-size=\"14.00\">chrt_ninth : categorical</text>\n<text text-anchor=\"start\" x=\"8\" y=\"-886.3\" font-family=\"Times,serif\" font-size=\"14.00\">male : categorical</text>\n<text text-anchor=\"start\" x=\"8\" y=\"-871.3\" font-family=\"Times,serif\" font-size=\"14.00\">race_ethnicity : categorical</text>\n<text text-anchor=\"start\" x=\"8\" y=\"-856.3\" font-family=\"Times,serif\" font-size=\"14.00\">frpl_ever_in_hs : categorical</text>\n<text text-anchor=\"start\" x=\"8\" y=\"-841.3\" font-family=\"Times,serif\" font-size=\"14.00\">sped_ever_in_hs : categorical</text>\n<text text-anchor=\"start\" x=\"8\" y=\"-826.3\" font-family=\"Times,serif\" font-size=\"14.00\">lep_ever_in_hs : categorical</text>\n<text text-anchor=\"start\" x=\"8\" y=\"-811.3\" font-family=\"Times,serif\" font-size=\"14.00\">gifted_ever_in_hs : categorical</text>\n<text text-anchor=\"start\" x=\"8\" y=\"-796.3\" font-family=\"Times,serif\" font-size=\"14.00\">ever_alt_sch_in_hs : categorical</text>\n<text text-anchor=\"start\" x=\"8\" y=\"-781.3\" font-family=\"Times,serif\" font-size=\"14.00\">scale_score_6_math : numerical</text>\n<text text-anchor=\"start\" x=\"8\" y=\"-766.3\" font-family=\"Times,serif\" font-size=\"14.00\">scale_score_6_read : numerical</text>\n<text text-anchor=\"start\" x=\"8\" y=\"-751.3\" font-family=\"Times,serif\" font-size=\"14.00\">scale_score_8_math : numerical</text>\n<text text-anchor=\"start\" x=\"8\" y=\"-736.3\" font-family=\"Times,serif\" font-size=\"14.00\">scale_score_8_read : numerical</text>\n<text text-anchor=\"start\" x=\"8\" y=\"-721.3\" font-family=\"Times,serif\" font-size=\"14.00\">pct_absent_in_hs : numerical</text>\n<text text-anchor=\"start\" x=\"8\" y=\"-706.3\" font-family=\"Times,serif\" font-size=\"14.00\">pct_excused_in_hs : numerical</text>\n<text text-anchor=\"start\" x=\"8\" y=\"-691.3\" font-family=\"Times,serif\" font-size=\"14.00\">avg_gpa_hs : numerical</text>\n<text text-anchor=\"start\" x=\"8\" y=\"-676.3\" font-family=\"Times,serif\" font-size=\"14.00\">scale_score_11_eng : numerical</text>\n<text text-anchor=\"start\" x=\"8\" y=\"-661.3\" font-family=\"Times,serif\" font-size=\"14.00\">scale_score_11_math : numerical</text>\n<text text-anchor=\"start\" x=\"8\" y=\"-646.3\" font-family=\"Times,serif\" font-size=\"14.00\">scale_score_11_read : numerical</text>\n<text text-anchor=\"start\" x=\"8\" y=\"-631.3\" font-family=\"Times,serif\" font-size=\"14.00\">scale_score_11_comp : numerical</text>\n<text text-anchor=\"start\" x=\"8\" y=\"-616.3\" font-family=\"Times,serif\" font-size=\"14.00\">collegeready_ever_in_hs : categorical</text>\n<text text-anchor=\"start\" x=\"8\" y=\"-601.3\" font-family=\"Times,serif\" font-size=\"14.00\">careerready_ever_in_hs : categorical</text>\n<text text-anchor=\"start\" x=\"8\" y=\"-586.3\" font-family=\"Times,serif\" font-size=\"14.00\">ap_ever_take_class : categorical</text>\n<text text-anchor=\"start\" x=\"8\" y=\"-571.3\" font-family=\"Times,serif\" font-size=\"14.00\">last_acadyr_observed : categorical</text>\n<text text-anchor=\"start\" x=\"8\" y=\"-556.3\" font-family=\"Times,serif\" font-size=\"14.00\">transferout : categorical</text>\n<text text-anchor=\"start\" x=\"8\" y=\"-541.3\" font-family=\"Times,serif\" font-size=\"14.00\">dropout : categorical</text>\n<text text-anchor=\"start\" x=\"8\" y=\"-526.3\" font-family=\"Times,serif\" font-size=\"14.00\">still_enrolled : categorical</text>\n<text text-anchor=\"start\" x=\"8\" y=\"-511.3\" font-family=\"Times,serif\" font-size=\"14.00\">ontime_grad : categorical</text>\n<text text-anchor=\"start\" x=\"8\" y=\"-496.3\" font-family=\"Times,serif\" font-size=\"14.00\">chrt_grad : categorical</text>\n<text text-anchor=\"start\" x=\"8\" y=\"-481.3\" font-family=\"Times,serif\" font-size=\"14.00\">hs_diploma : categorical</text>\n<text text-anchor=\"start\" x=\"8\" y=\"-466.3\" font-family=\"Times,serif\" font-size=\"14.00\">enroll_yr1_any : categorical</text>\n<text text-anchor=\"start\" x=\"8\" y=\"-451.3\" font-family=\"Times,serif\" font-size=\"14.00\">enroll_yr1_2yr : categorical</text>\n<text text-anchor=\"start\" x=\"8\" y=\"-436.3\" font-family=\"Times,serif\" font-size=\"14.00\">enroll_yr1_4yr : categorical</text>\n<text text-anchor=\"start\" x=\"8\" y=\"-421.3\" font-family=\"Times,serif\" font-size=\"14.00\">enroll_yr2_any : categorical</text>\n<text text-anchor=\"start\" x=\"8\" y=\"-406.3\" font-family=\"Times,serif\" font-size=\"14.00\">ihe_code_yr1 : numerical</text>\n<text text-anchor=\"start\" x=\"8\" y=\"-391.3\" font-family=\"Times,serif\" font-size=\"14.00\">ihe_name_yr1 : categorical</text>\n<text text-anchor=\"start\" x=\"8\" y=\"-376.3\" font-family=\"Times,serif\" font-size=\"14.00\">ihe_barrons_rank_2013 : categorical</text>\n<text text-anchor=\"start\" x=\"8\" y=\"-361.3\" font-family=\"Times,serif\" font-size=\"14.00\">ihe_degrees_awarded_predominant : categorical</text>\n<text text-anchor=\"start\" x=\"8\" y=\"-346.3\" font-family=\"Times,serif\" font-size=\"14.00\">ihe_degrees_awarded_highest : categorical</text>\n<text text-anchor=\"start\" x=\"8\" y=\"-331.3\" font-family=\"Times,serif\" font-size=\"14.00\">ihe_act_25th_pctl_cumulative : numerical</text>\n<text text-anchor=\"start\" x=\"8\" y=\"-316.3\" font-family=\"Times,serif\" font-size=\"14.00\">ihe_act_75th_pctl_cumulative : numerical</text>\n<text text-anchor=\"start\" x=\"8\" y=\"-301.3\" font-family=\"Times,serif\" font-size=\"14.00\">ihe_act_midpoint_cumulative : numerical</text>\n<text text-anchor=\"start\" x=\"8\" y=\"-286.3\" font-family=\"Times,serif\" font-size=\"14.00\">ihe_ihe_size : numerical</text>\n<text text-anchor=\"start\" x=\"8\" y=\"-271.3\" font-family=\"Times,serif\" font-size=\"14.00\">ihe_part_time_share : numerical</text>\n<text text-anchor=\"start\" x=\"8\" y=\"-256.3\" font-family=\"Times,serif\" font-size=\"14.00\">ihe_avg_net_price_pub : numerical</text>\n<text text-anchor=\"start\" x=\"8\" y=\"-241.3\" font-family=\"Times,serif\" font-size=\"14.00\">ihe_avg_net_price_priv : numerical</text>\n<text text-anchor=\"start\" x=\"8\" y=\"-226.3\" font-family=\"Times,serif\" font-size=\"14.00\">ihe_pell_grant_rate : numerical</text>\n<text text-anchor=\"start\" x=\"8\" y=\"-211.3\" font-family=\"Times,serif\" font-size=\"14.00\">ihe_retention_4_yr_full_time : numerical</text>\n<text text-anchor=\"start\" x=\"8\" y=\"-196.3\" font-family=\"Times,serif\" font-size=\"14.00\">ihe_retention_lt_4_yr_full_time : numerical</text>\n<text text-anchor=\"start\" x=\"8\" y=\"-181.3\" font-family=\"Times,serif\" font-size=\"14.00\">ihe_retention_4_yr_part_time : numerical</text>\n<text text-anchor=\"start\" x=\"8\" y=\"-166.3\" font-family=\"Times,serif\" font-size=\"14.00\">ihe_retention_lt_4_yr_part_time : numerical</text>\n<text text-anchor=\"start\" x=\"8\" y=\"-151.3\" font-family=\"Times,serif\" font-size=\"14.00\">ihe_federal_loan_rate : numerical</text>\n<text text-anchor=\"start\" x=\"8\" y=\"-136.3\" font-family=\"Times,serif\" font-size=\"14.00\">ihe_share_25_older : numerical</text>\n<text text-anchor=\"start\" x=\"8\" y=\"-121.3\" font-family=\"Times,serif\" font-size=\"14.00\">ihe_med_debt_completers_all : numerical</text>\n<text text-anchor=\"start\" x=\"8\" y=\"-106.3\" font-family=\"Times,serif\" font-size=\"14.00\">ihe_med_debt_completers_pmts : numerical</text>\n<text text-anchor=\"start\" x=\"8\" y=\"-91.3\" font-family=\"Times,serif\" font-size=\"14.00\">ihe_ihe_repay_3_yr_all : numerical</text>\n<text text-anchor=\"start\" x=\"8\" y=\"-76.3\" font-family=\"Times,serif\" font-size=\"14.00\">ihe_rate_4_yr : numerical</text>\n<text text-anchor=\"start\" x=\"8\" y=\"-61.3\" font-family=\"Times,serif\" font-size=\"14.00\">ihe_rate_lt_4_yr : numerical</text>\n<text text-anchor=\"start\" x=\"8\" y=\"-46.3\" font-family=\"Times,serif\" font-size=\"14.00\">ihe_med_earn_10_yrs_after : numerical</text>\n<text text-anchor=\"start\" x=\"8\" y=\"-31.3\" font-family=\"Times,serif\" font-size=\"14.00\">ihe_pct_earn_gt_25k_6_yrs_after : numerical</text>\n<polyline fill=\"none\" stroke=\"black\" points=\"0,-23.5 280,-23.5 \"/>\n<text text-anchor=\"start\" x=\"8\" y=\"-8.3\" font-family=\"Times,serif\" font-size=\"14.00\">Primary key: sid</text>\n</g>\n</g>\n</svg>\n",
            "text/plain": [
              "<graphviz.graphs.Digraph at 0x7eedde943250>"
            ]
          },
          "execution_count": 6,
          "metadata": {},
          "output_type": "execute_result"
        }
      ],
      "source": [
        "metadata.visualize()"
      ]
    },
    {
      "cell_type": "markdown",
      "metadata": {
        "id": "w8FUcJhdyKge"
      },
      "source": [
        "## 2. Creating a Gaussian Copula synthesizer\n",
        "\n",
        "An SDV **synthesizer** is an object that you can use to create synthetic data. It learns patterns from the real data and replicates them to generate synthetic data."
      ]
    },
    {
      "cell_type": "code",
      "execution_count": null,
      "metadata": {
        "colab": {
          "base_uri": "https://localhost:8080/"
        },
        "id": "f2thM029VmUC",
        "outputId": "5c0aa5bb-c66f-4322-cb70-4f4d7c7d06eb"
      },
      "outputs": [
        {
          "name": "stderr",
          "output_type": "stream",
          "text": [
            "/usr/local/lib/python3.10/dist-packages/sdv/single_table/base.py:97: UserWarning: We strongly recommend saving the metadata using 'save_to_json' for replicability in future SDV versions.\n",
            "  warnings.warn(\n"
          ]
        }
      ],
      "source": [
        "from sdv.single_table import GaussianCopulaSynthesizer\n",
        "\n",
        "synthesizer = GaussianCopulaSynthesizer(metadata)\n",
        "synthesizer.fit(real_data)"
      ]
    },
    {
      "cell_type": "code",
      "execution_count": null,
      "metadata": {
        "id": "SW_L2jBZ0OU0"
      },
      "outputs": [],
      "source": [
        "# Train the synthesizer\n",
        "synthesizer.fit(\n",
        "    data=real_data\n",
        ")"
      ]
    },
    {
      "cell_type": "markdown",
      "metadata": {
        "id": "Ulr536zY0atP"
      },
      "source": [
        "## 3. Generating synthetic data\n",
        "Use the `sample` function and pass in any number of rows to synthesize."
      ]
    },
    {
      "cell_type": "code",
      "execution_count": null,
      "metadata": {
        "colab": {
          "base_uri": "https://localhost:8080/",
          "height": 342
        },
        "id": "8yu4GDZC0cg4",
        "outputId": "78ff51d6-f84e-4b89-9bf6-b9e6a2b7e355"
      },
      "outputs": [
        {
          "data": {
            "application/vnd.google.colaboratory.intrinsic+json": {
              "type": "dataframe",
              "variable_name": "synthetic_data"
            },
            "text/html": [
              "\n",
              "  <div id=\"df-d6034d66-d46c-4362-8542-6af53290d4cd\" class=\"colab-df-container\">\n",
              "    <div>\n",
              "<style scoped>\n",
              "    .dataframe tbody tr th:only-of-type {\n",
              "        vertical-align: middle;\n",
              "    }\n",
              "\n",
              "    .dataframe tbody tr th {\n",
              "        vertical-align: top;\n",
              "    }\n",
              "\n",
              "    .dataframe thead th {\n",
              "        text-align: right;\n",
              "    }\n",
              "</style>\n",
              "<table border=\"1\" class=\"dataframe\">\n",
              "  <thead>\n",
              "    <tr style=\"text-align: right;\">\n",
              "      <th></th>\n",
              "      <th>sid</th>\n",
              "      <th>sid_type</th>\n",
              "      <th>first_coop_code</th>\n",
              "      <th>first_dist_code</th>\n",
              "      <th>first_hs_code</th>\n",
              "      <th>first_dist_name</th>\n",
              "      <th>first_hs_name</th>\n",
              "      <th>first_hs_alt</th>\n",
              "      <th>first_hs_urbanicity</th>\n",
              "      <th>chrt_ninth</th>\n",
              "      <th>...</th>\n",
              "      <th>ihe_retention_lt_4_yr_part_time</th>\n",
              "      <th>ihe_federal_loan_rate</th>\n",
              "      <th>ihe_share_25_older</th>\n",
              "      <th>ihe_med_debt_completers_all</th>\n",
              "      <th>ihe_med_debt_completers_pmts</th>\n",
              "      <th>ihe_ihe_repay_3_yr_all</th>\n",
              "      <th>ihe_rate_4_yr</th>\n",
              "      <th>ihe_rate_lt_4_yr</th>\n",
              "      <th>ihe_med_earn_10_yrs_after</th>\n",
              "      <th>ihe_pct_earn_gt_25k_6_yrs_after</th>\n",
              "    </tr>\n",
              "  </thead>\n",
              "  <tbody>\n",
              "    <tr>\n",
              "      <th>0</th>\n",
              "      <td>264322880</td>\n",
              "      <td>Fake record</td>\n",
              "      <td>WKEC</td>\n",
              "      <td>424</td>\n",
              "      <td>6551</td>\n",
              "      <td>Ashmont</td>\n",
              "      <td>Acacia</td>\n",
              "      <td>1</td>\n",
              "      <td>Town: Remote</td>\n",
              "      <td>2010</td>\n",
              "      <td>...</td>\n",
              "      <td>NaN</td>\n",
              "      <td>0.4508</td>\n",
              "      <td>NaN</td>\n",
              "      <td>NaN</td>\n",
              "      <td>211.713103</td>\n",
              "      <td>NaN</td>\n",
              "      <td>0.616851</td>\n",
              "      <td>NaN</td>\n",
              "      <td>NaN</td>\n",
              "      <td>NaN</td>\n",
              "    </tr>\n",
              "    <tr>\n",
              "      <th>1</th>\n",
              "      <td>599467191</td>\n",
              "      <td>Fake record</td>\n",
              "      <td>OVEC</td>\n",
              "      <td>186</td>\n",
              "      <td>2980</td>\n",
              "      <td>Ascendance</td>\n",
              "      <td>Southbridge</td>\n",
              "      <td>0</td>\n",
              "      <td>Rural: Fringe</td>\n",
              "      <td>2009</td>\n",
              "      <td>...</td>\n",
              "      <td>NaN</td>\n",
              "      <td>NaN</td>\n",
              "      <td>NaN</td>\n",
              "      <td>NaN</td>\n",
              "      <td>232.780675</td>\n",
              "      <td>NaN</td>\n",
              "      <td>NaN</td>\n",
              "      <td>NaN</td>\n",
              "      <td>NaN</td>\n",
              "      <td>NaN</td>\n",
              "    </tr>\n",
              "    <tr>\n",
              "      <th>2</th>\n",
              "      <td>937731915</td>\n",
              "      <td>Fake record</td>\n",
              "      <td>KEDC</td>\n",
              "      <td>212</td>\n",
              "      <td>3541</td>\n",
              "      <td>Stadium</td>\n",
              "      <td>Homer</td>\n",
              "      <td>0</td>\n",
              "      <td>City: Large</td>\n",
              "      <td>2009</td>\n",
              "      <td>...</td>\n",
              "      <td>0.3693</td>\n",
              "      <td>NaN</td>\n",
              "      <td>NaN</td>\n",
              "      <td>NaN</td>\n",
              "      <td>193.261431</td>\n",
              "      <td>NaN</td>\n",
              "      <td>NaN</td>\n",
              "      <td>NaN</td>\n",
              "      <td>32493.0</td>\n",
              "      <td>0.542313</td>\n",
              "    </tr>\n",
              "    <tr>\n",
              "      <th>3</th>\n",
              "      <td>715371482</td>\n",
              "      <td>Fake record</td>\n",
              "      <td>Jeffco</td>\n",
              "      <td>604</td>\n",
              "      <td>9446</td>\n",
              "      <td>Snowy Hill</td>\n",
              "      <td>Adams</td>\n",
              "      <td>0</td>\n",
              "      <td>Town: Distant</td>\n",
              "      <td>2009</td>\n",
              "      <td>...</td>\n",
              "      <td>NaN</td>\n",
              "      <td>0.3773</td>\n",
              "      <td>0.3224</td>\n",
              "      <td>NaN</td>\n",
              "      <td>167.289651</td>\n",
              "      <td>0.623997</td>\n",
              "      <td>NaN</td>\n",
              "      <td>0.248147</td>\n",
              "      <td>NaN</td>\n",
              "      <td>NaN</td>\n",
              "    </tr>\n",
              "    <tr>\n",
              "      <th>4</th>\n",
              "      <td>498394514</td>\n",
              "      <td>Fake record</td>\n",
              "      <td>Jeffco</td>\n",
              "      <td>527</td>\n",
              "      <td>7528</td>\n",
              "      <td>Barton</td>\n",
              "      <td>Cold Springs</td>\n",
              "      <td>0</td>\n",
              "      <td>NaN</td>\n",
              "      <td>2010</td>\n",
              "      <td>...</td>\n",
              "      <td>NaN</td>\n",
              "      <td>0.6175</td>\n",
              "      <td>0.1737</td>\n",
              "      <td>NaN</td>\n",
              "      <td>277.917234</td>\n",
              "      <td>0.731175</td>\n",
              "      <td>NaN</td>\n",
              "      <td>NaN</td>\n",
              "      <td>NaN</td>\n",
              "      <td>0.580336</td>\n",
              "    </tr>\n",
              "  </tbody>\n",
              "</table>\n",
              "<p>5 rows × 68 columns</p>\n",
              "</div>\n",
              "    <div class=\"colab-df-buttons\">\n",
              "\n",
              "  <div class=\"colab-df-container\">\n",
              "    <button class=\"colab-df-convert\" onclick=\"convertToInteractive('df-d6034d66-d46c-4362-8542-6af53290d4cd')\"\n",
              "            title=\"Convert this dataframe to an interactive table.\"\n",
              "            style=\"display:none;\">\n",
              "\n",
              "  <svg xmlns=\"http://www.w3.org/2000/svg\" height=\"24px\" viewBox=\"0 -960 960 960\">\n",
              "    <path d=\"M120-120v-720h720v720H120Zm60-500h600v-160H180v160Zm220 220h160v-160H400v160Zm0 220h160v-160H400v160ZM180-400h160v-160H180v160Zm440 0h160v-160H620v160ZM180-180h160v-160H180v160Zm440 0h160v-160H620v160Z\"/>\n",
              "  </svg>\n",
              "    </button>\n",
              "\n",
              "  <style>\n",
              "    .colab-df-container {\n",
              "      display:flex;\n",
              "      gap: 12px;\n",
              "    }\n",
              "\n",
              "    .colab-df-convert {\n",
              "      background-color: #E8F0FE;\n",
              "      border: none;\n",
              "      border-radius: 50%;\n",
              "      cursor: pointer;\n",
              "      display: none;\n",
              "      fill: #1967D2;\n",
              "      height: 32px;\n",
              "      padding: 0 0 0 0;\n",
              "      width: 32px;\n",
              "    }\n",
              "\n",
              "    .colab-df-convert:hover {\n",
              "      background-color: #E2EBFA;\n",
              "      box-shadow: 0px 1px 2px rgba(60, 64, 67, 0.3), 0px 1px 3px 1px rgba(60, 64, 67, 0.15);\n",
              "      fill: #174EA6;\n",
              "    }\n",
              "\n",
              "    .colab-df-buttons div {\n",
              "      margin-bottom: 4px;\n",
              "    }\n",
              "\n",
              "    [theme=dark] .colab-df-convert {\n",
              "      background-color: #3B4455;\n",
              "      fill: #D2E3FC;\n",
              "    }\n",
              "\n",
              "    [theme=dark] .colab-df-convert:hover {\n",
              "      background-color: #434B5C;\n",
              "      box-shadow: 0px 1px 3px 1px rgba(0, 0, 0, 0.15);\n",
              "      filter: drop-shadow(0px 1px 2px rgba(0, 0, 0, 0.3));\n",
              "      fill: #FFFFFF;\n",
              "    }\n",
              "  </style>\n",
              "\n",
              "    <script>\n",
              "      const buttonEl =\n",
              "        document.querySelector('#df-d6034d66-d46c-4362-8542-6af53290d4cd button.colab-df-convert');\n",
              "      buttonEl.style.display =\n",
              "        google.colab.kernel.accessAllowed ? 'block' : 'none';\n",
              "\n",
              "      async function convertToInteractive(key) {\n",
              "        const element = document.querySelector('#df-d6034d66-d46c-4362-8542-6af53290d4cd');\n",
              "        const dataTable =\n",
              "          await google.colab.kernel.invokeFunction('convertToInteractive',\n",
              "                                                    [key], {});\n",
              "        if (!dataTable) return;\n",
              "\n",
              "        const docLinkHtml = 'Like what you see? Visit the ' +\n",
              "          '<a target=\"_blank\" href=https://colab.research.google.com/notebooks/data_table.ipynb>data table notebook</a>'\n",
              "          + ' to learn more about interactive tables.';\n",
              "        element.innerHTML = '';\n",
              "        dataTable['output_type'] = 'display_data';\n",
              "        await google.colab.output.renderOutput(dataTable, element);\n",
              "        const docLink = document.createElement('div');\n",
              "        docLink.innerHTML = docLinkHtml;\n",
              "        element.appendChild(docLink);\n",
              "      }\n",
              "    </script>\n",
              "  </div>\n",
              "\n",
              "\n",
              "<div id=\"df-70fd8585-d3ab-4e22-86a6-697004590b9a\">\n",
              "  <button class=\"colab-df-quickchart\" onclick=\"quickchart('df-70fd8585-d3ab-4e22-86a6-697004590b9a')\"\n",
              "            title=\"Suggest charts\"\n",
              "            style=\"display:none;\">\n",
              "\n",
              "<svg xmlns=\"http://www.w3.org/2000/svg\" height=\"24px\"viewBox=\"0 0 24 24\"\n",
              "     width=\"24px\">\n",
              "    <g>\n",
              "        <path d=\"M19 3H5c-1.1 0-2 .9-2 2v14c0 1.1.9 2 2 2h14c1.1 0 2-.9 2-2V5c0-1.1-.9-2-2-2zM9 17H7v-7h2v7zm4 0h-2V7h2v10zm4 0h-2v-4h2v4z\"/>\n",
              "    </g>\n",
              "</svg>\n",
              "  </button>\n",
              "\n",
              "<style>\n",
              "  .colab-df-quickchart {\n",
              "      --bg-color: #E8F0FE;\n",
              "      --fill-color: #1967D2;\n",
              "      --hover-bg-color: #E2EBFA;\n",
              "      --hover-fill-color: #174EA6;\n",
              "      --disabled-fill-color: #AAA;\n",
              "      --disabled-bg-color: #DDD;\n",
              "  }\n",
              "\n",
              "  [theme=dark] .colab-df-quickchart {\n",
              "      --bg-color: #3B4455;\n",
              "      --fill-color: #D2E3FC;\n",
              "      --hover-bg-color: #434B5C;\n",
              "      --hover-fill-color: #FFFFFF;\n",
              "      --disabled-bg-color: #3B4455;\n",
              "      --disabled-fill-color: #666;\n",
              "  }\n",
              "\n",
              "  .colab-df-quickchart {\n",
              "    background-color: var(--bg-color);\n",
              "    border: none;\n",
              "    border-radius: 50%;\n",
              "    cursor: pointer;\n",
              "    display: none;\n",
              "    fill: var(--fill-color);\n",
              "    height: 32px;\n",
              "    padding: 0;\n",
              "    width: 32px;\n",
              "  }\n",
              "\n",
              "  .colab-df-quickchart:hover {\n",
              "    background-color: var(--hover-bg-color);\n",
              "    box-shadow: 0 1px 2px rgba(60, 64, 67, 0.3), 0 1px 3px 1px rgba(60, 64, 67, 0.15);\n",
              "    fill: var(--button-hover-fill-color);\n",
              "  }\n",
              "\n",
              "  .colab-df-quickchart-complete:disabled,\n",
              "  .colab-df-quickchart-complete:disabled:hover {\n",
              "    background-color: var(--disabled-bg-color);\n",
              "    fill: var(--disabled-fill-color);\n",
              "    box-shadow: none;\n",
              "  }\n",
              "\n",
              "  .colab-df-spinner {\n",
              "    border: 2px solid var(--fill-color);\n",
              "    border-color: transparent;\n",
              "    border-bottom-color: var(--fill-color);\n",
              "    animation:\n",
              "      spin 1s steps(1) infinite;\n",
              "  }\n",
              "\n",
              "  @keyframes spin {\n",
              "    0% {\n",
              "      border-color: transparent;\n",
              "      border-bottom-color: var(--fill-color);\n",
              "      border-left-color: var(--fill-color);\n",
              "    }\n",
              "    20% {\n",
              "      border-color: transparent;\n",
              "      border-left-color: var(--fill-color);\n",
              "      border-top-color: var(--fill-color);\n",
              "    }\n",
              "    30% {\n",
              "      border-color: transparent;\n",
              "      border-left-color: var(--fill-color);\n",
              "      border-top-color: var(--fill-color);\n",
              "      border-right-color: var(--fill-color);\n",
              "    }\n",
              "    40% {\n",
              "      border-color: transparent;\n",
              "      border-right-color: var(--fill-color);\n",
              "      border-top-color: var(--fill-color);\n",
              "    }\n",
              "    60% {\n",
              "      border-color: transparent;\n",
              "      border-right-color: var(--fill-color);\n",
              "    }\n",
              "    80% {\n",
              "      border-color: transparent;\n",
              "      border-right-color: var(--fill-color);\n",
              "      border-bottom-color: var(--fill-color);\n",
              "    }\n",
              "    90% {\n",
              "      border-color: transparent;\n",
              "      border-bottom-color: var(--fill-color);\n",
              "    }\n",
              "  }\n",
              "</style>\n",
              "\n",
              "  <script>\n",
              "    async function quickchart(key) {\n",
              "      const quickchartButtonEl =\n",
              "        document.querySelector('#' + key + ' button');\n",
              "      quickchartButtonEl.disabled = true;  // To prevent multiple clicks.\n",
              "      quickchartButtonEl.classList.add('colab-df-spinner');\n",
              "      try {\n",
              "        const charts = await google.colab.kernel.invokeFunction(\n",
              "            'suggestCharts', [key], {});\n",
              "      } catch (error) {\n",
              "        console.error('Error during call to suggestCharts:', error);\n",
              "      }\n",
              "      quickchartButtonEl.classList.remove('colab-df-spinner');\n",
              "      quickchartButtonEl.classList.add('colab-df-quickchart-complete');\n",
              "    }\n",
              "    (() => {\n",
              "      let quickchartButtonEl =\n",
              "        document.querySelector('#df-70fd8585-d3ab-4e22-86a6-697004590b9a button');\n",
              "      quickchartButtonEl.style.display =\n",
              "        google.colab.kernel.accessAllowed ? 'block' : 'none';\n",
              "    })();\n",
              "  </script>\n",
              "</div>\n",
              "\n",
              "    </div>\n",
              "  </div>\n"
            ],
            "text/plain": [
              "         sid     sid_type first_coop_code  first_dist_code  first_hs_code  \\\n",
              "0  264322880  Fake record            WKEC              424           6551   \n",
              "1  599467191  Fake record            OVEC              186           2980   \n",
              "2  937731915  Fake record            KEDC              212           3541   \n",
              "3  715371482  Fake record          Jeffco              604           9446   \n",
              "4  498394514  Fake record          Jeffco              527           7528   \n",
              "\n",
              "  first_dist_name first_hs_name  first_hs_alt first_hs_urbanicity  chrt_ninth  \\\n",
              "0         Ashmont        Acacia             1        Town: Remote        2010   \n",
              "1      Ascendance   Southbridge             0       Rural: Fringe        2009   \n",
              "2         Stadium         Homer             0         City: Large        2009   \n",
              "3      Snowy Hill         Adams             0       Town: Distant        2009   \n",
              "4          Barton  Cold Springs             0                 NaN        2010   \n",
              "\n",
              "   ...  ihe_retention_lt_4_yr_part_time ihe_federal_loan_rate  \\\n",
              "0  ...                              NaN                0.4508   \n",
              "1  ...                              NaN                   NaN   \n",
              "2  ...                           0.3693                   NaN   \n",
              "3  ...                              NaN                0.3773   \n",
              "4  ...                              NaN                0.6175   \n",
              "\n",
              "   ihe_share_25_older  ihe_med_debt_completers_all  \\\n",
              "0                 NaN                          NaN   \n",
              "1                 NaN                          NaN   \n",
              "2                 NaN                          NaN   \n",
              "3              0.3224                          NaN   \n",
              "4              0.1737                          NaN   \n",
              "\n",
              "   ihe_med_debt_completers_pmts  ihe_ihe_repay_3_yr_all  ihe_rate_4_yr  \\\n",
              "0                    211.713103                     NaN       0.616851   \n",
              "1                    232.780675                     NaN            NaN   \n",
              "2                    193.261431                     NaN            NaN   \n",
              "3                    167.289651                0.623997            NaN   \n",
              "4                    277.917234                0.731175            NaN   \n",
              "\n",
              "   ihe_rate_lt_4_yr  ihe_med_earn_10_yrs_after  \\\n",
              "0               NaN                        NaN   \n",
              "1               NaN                        NaN   \n",
              "2               NaN                    32493.0   \n",
              "3          0.248147                        NaN   \n",
              "4               NaN                        NaN   \n",
              "\n",
              "   ihe_pct_earn_gt_25k_6_yrs_after  \n",
              "0                              NaN  \n",
              "1                              NaN  \n",
              "2                         0.542313  \n",
              "3                              NaN  \n",
              "4                         0.580336  \n",
              "\n",
              "[5 rows x 68 columns]"
            ]
          },
          "execution_count": 9,
          "metadata": {},
          "output_type": "execute_result"
        }
      ],
      "source": [
        "synthetic_data = synthesizer.sample(\n",
        "    num_rows=111991\n",
        ")\n",
        "\n",
        "synthetic_data.head()"
      ]
    },
    {
      "cell_type": "code",
      "execution_count": null,
      "metadata": {
        "id": "yJ_O-RPGbKTY"
      },
      "outputs": [],
      "source": [
        "# prompt: Export synthetic_data to a csv file\n",
        "\n",
        "synthetic_data.to_csv('synthetic_data.csv', index=False)\n"
      ]
    },
    {
      "cell_type": "markdown",
      "metadata": {
        "id": "QWR6wmib11PG"
      },
      "source": [
        "## 4. Evaluating real vs. synthetic data\n",
        "\n",
        "SDV has built-in functions for evaluating the synthetic data and getting more insight."
      ]
    },
    {
      "cell_type": "markdown",
      "metadata": {
        "id": "zngxiT3o19pG"
      },
      "source": [
        "### 4.1 Diagnostic\n",
        "\n",
        "As a first step, we can run a **diagnostic** to ensure that the data is valid. SDV's diagnostic performs some basic checks such as:\n",
        "\n",
        "- All primary keys must be unique\n",
        "- Continuous values must adhere to the min/max of the real data\n",
        "- Discrete columns (non-PII) must have the same categories as the real data\n",
        "- Etc."
      ]
    },
    {
      "cell_type": "code",
      "execution_count": null,
      "metadata": {
        "colab": {
          "base_uri": "https://localhost:8080/"
        },
        "id": "tBNWxBKB2DmZ",
        "outputId": "38bec5be-4ab2-4cb6-c1d2-06ecd5268334"
      },
      "outputs": [
        {
          "name": "stdout",
          "output_type": "stream",
          "text": [
            "Generating report ...\n",
            "\n",
            "(1/2) Evaluating Data Validity: |██████████| 68/68 [00:00<00:00, 169.75it/s]|\n",
            "Data Validity Score: 100.0%\n",
            "\n",
            "(2/2) Evaluating Data Structure: |██████████| 1/1 [00:00<00:00, 156.15it/s]|\n",
            "Data Structure Score: 100.0%\n",
            "\n",
            "Overall Score (Average): 100.0%\n",
            "\n"
          ]
        }
      ],
      "source": [
        "from sdv.evaluation.single_table import run_diagnostic\n",
        "\n",
        "diagnostic = run_diagnostic(\n",
        "    real_data=real_data,\n",
        "    synthetic_data=synthetic_data,\n",
        "    metadata=metadata\n",
        ")"
      ]
    },
    {
      "cell_type": "markdown",
      "metadata": {
        "id": "HYZr2wCp3CWc"
      },
      "source": [
        "<font color=\"green\"><b>The score is 100%</b></font>, indicating that the data is fully valid."
      ]
    },
    {
      "cell_type": "markdown",
      "metadata": {
        "id": "tYAk_ZHp3GrP"
      },
      "source": [
        "### 4.2 Data Quality\n",
        "\n",
        "We can also measure the **data quality** or the statistical similarity between the real and synthetic data. This value may vary anywhere from 0 to 100%."
      ]
    },
    {
      "cell_type": "code",
      "execution_count": null,
      "metadata": {
        "colab": {
          "base_uri": "https://localhost:8080/"
        },
        "id": "xTpENMGd3J7M",
        "outputId": "5a321025-6241-49c2-8bbf-ba62f1f69ea8"
      },
      "outputs": [
        {
          "name": "stdout",
          "output_type": "stream",
          "text": [
            "Generating report ...\n",
            "\n",
            "(1/2) Evaluating Column Shapes: |██████████| 68/68 [00:02<00:00, 27.88it/s]|\n",
            "Column Shapes Score: 87.73%\n",
            "\n",
            "(2/2) Evaluating Column Pair Trends: |▎         | 70/2278 [00:00<00:13, 165.34it/s]|"
          ]
        },
        {
          "name": "stderr",
          "output_type": "stream",
          "text": [
            "/usr/local/lib/python3.10/dist-packages/sdmetrics/column_pairs/statistical/contingency_similarity.py:43: FutureWarning: The default of observed=False is deprecated and will be changed to True in a future version of pandas. Pass observed=False to retain current behavior or observed=True to adopt the future default and silence this warning.\n",
            "  contingency_real = real.groupby(list(columns), dropna=False).size() / len(real)\n",
            "/usr/local/lib/python3.10/dist-packages/sdmetrics/column_pairs/statistical/contingency_similarity.py:44: FutureWarning: The default of observed=False is deprecated and will be changed to True in a future version of pandas. Pass observed=False to retain current behavior or observed=True to adopt the future default and silence this warning.\n",
            "  contingency_synthetic = synthetic.groupby(list(columns), dropna=False).size() / len(\n",
            "/usr/local/lib/python3.10/dist-packages/sdmetrics/column_pairs/statistical/contingency_similarity.py:43: FutureWarning: The default of observed=False is deprecated and will be changed to True in a future version of pandas. Pass observed=False to retain current behavior or observed=True to adopt the future default and silence this warning.\n",
            "  contingency_real = real.groupby(list(columns), dropna=False).size() / len(real)\n",
            "/usr/local/lib/python3.10/dist-packages/sdmetrics/column_pairs/statistical/contingency_similarity.py:44: FutureWarning: The default of observed=False is deprecated and will be changed to True in a future version of pandas. Pass observed=False to retain current behavior or observed=True to adopt the future default and silence this warning.\n",
            "  contingency_synthetic = synthetic.groupby(list(columns), dropna=False).size() / len(\n"
          ]
        },
        {
          "name": "stdout",
          "output_type": "stream",
          "text": [
            "\r(2/2) Evaluating Column Pair Trends: |▍         | 100/2278 [00:01<00:46, 46.53it/s]|"
          ]
        },
        {
          "name": "stderr",
          "output_type": "stream",
          "text": [
            "/usr/local/lib/python3.10/dist-packages/sdmetrics/column_pairs/statistical/contingency_similarity.py:43: FutureWarning: The default of observed=False is deprecated and will be changed to True in a future version of pandas. Pass observed=False to retain current behavior or observed=True to adopt the future default and silence this warning.\n",
            "  contingency_real = real.groupby(list(columns), dropna=False).size() / len(real)\n",
            "/usr/local/lib/python3.10/dist-packages/sdmetrics/column_pairs/statistical/contingency_similarity.py:44: FutureWarning: The default of observed=False is deprecated and will be changed to True in a future version of pandas. Pass observed=False to retain current behavior or observed=True to adopt the future default and silence this warning.\n",
            "  contingency_synthetic = synthetic.groupby(list(columns), dropna=False).size() / len(\n",
            "/usr/local/lib/python3.10/dist-packages/sdmetrics/column_pairs/statistical/contingency_similarity.py:43: FutureWarning: The default of observed=False is deprecated and will be changed to True in a future version of pandas. Pass observed=False to retain current behavior or observed=True to adopt the future default and silence this warning.\n",
            "  contingency_real = real.groupby(list(columns), dropna=False).size() / len(real)\n",
            "/usr/local/lib/python3.10/dist-packages/sdmetrics/column_pairs/statistical/contingency_similarity.py:44: FutureWarning: The default of observed=False is deprecated and will be changed to True in a future version of pandas. Pass observed=False to retain current behavior or observed=True to adopt the future default and silence this warning.\n",
            "  contingency_synthetic = synthetic.groupby(list(columns), dropna=False).size() / len(\n"
          ]
        },
        {
          "name": "stdout",
          "output_type": "stream",
          "text": [
            "(2/2) Evaluating Column Pair Trends: |▌         | 138/2278 [00:03<01:08, 31.23it/s]|"
          ]
        },
        {
          "name": "stderr",
          "output_type": "stream",
          "text": [
            "/usr/local/lib/python3.10/dist-packages/sdmetrics/column_pairs/statistical/contingency_similarity.py:43: FutureWarning: The default of observed=False is deprecated and will be changed to True in a future version of pandas. Pass observed=False to retain current behavior or observed=True to adopt the future default and silence this warning.\n",
            "  contingency_real = real.groupby(list(columns), dropna=False).size() / len(real)\n",
            "/usr/local/lib/python3.10/dist-packages/sdmetrics/column_pairs/statistical/contingency_similarity.py:44: FutureWarning: The default of observed=False is deprecated and will be changed to True in a future version of pandas. Pass observed=False to retain current behavior or observed=True to adopt the future default and silence this warning.\n",
            "  contingency_synthetic = synthetic.groupby(list(columns), dropna=False).size() / len(\n",
            "/usr/local/lib/python3.10/dist-packages/sdmetrics/column_pairs/statistical/contingency_similarity.py:43: FutureWarning: The default of observed=False is deprecated and will be changed to True in a future version of pandas. Pass observed=False to retain current behavior or observed=True to adopt the future default and silence this warning.\n",
            "  contingency_real = real.groupby(list(columns), dropna=False).size() / len(real)\n",
            "/usr/local/lib/python3.10/dist-packages/sdmetrics/column_pairs/statistical/contingency_similarity.py:44: FutureWarning: The default of observed=False is deprecated and will be changed to True in a future version of pandas. Pass observed=False to retain current behavior or observed=True to adopt the future default and silence this warning.\n",
            "  contingency_synthetic = synthetic.groupby(list(columns), dropna=False).size() / len(\n",
            "/usr/local/lib/python3.10/dist-packages/sdmetrics/column_pairs/statistical/contingency_similarity.py:43: FutureWarning: The default of observed=False is deprecated and will be changed to True in a future version of pandas. Pass observed=False to retain current behavior or observed=True to adopt the future default and silence this warning.\n",
            "  contingency_real = real.groupby(list(columns), dropna=False).size() / len(real)\n",
            "/usr/local/lib/python3.10/dist-packages/sdmetrics/column_pairs/statistical/contingency_similarity.py:44: FutureWarning: The default of observed=False is deprecated and will be changed to True in a future version of pandas. Pass observed=False to retain current behavior or observed=True to adopt the future default and silence this warning.\n",
            "  contingency_synthetic = synthetic.groupby(list(columns), dropna=False).size() / len(\n",
            "/usr/local/lib/python3.10/dist-packages/sdmetrics/column_pairs/statistical/contingency_similarity.py:43: FutureWarning: The default of observed=False is deprecated and will be changed to True in a future version of pandas. Pass observed=False to retain current behavior or observed=True to adopt the future default and silence this warning.\n",
            "  contingency_real = real.groupby(list(columns), dropna=False).size() / len(real)\n",
            "/usr/local/lib/python3.10/dist-packages/sdmetrics/column_pairs/statistical/contingency_similarity.py:44: FutureWarning: The default of observed=False is deprecated and will be changed to True in a future version of pandas. Pass observed=False to retain current behavior or observed=True to adopt the future default and silence this warning.\n",
            "  contingency_synthetic = synthetic.groupby(list(columns), dropna=False).size() / len(\n",
            "/usr/local/lib/python3.10/dist-packages/sdmetrics/column_pairs/statistical/contingency_similarity.py:43: FutureWarning: The default of observed=False is deprecated and will be changed to True in a future version of pandas. Pass observed=False to retain current behavior or observed=True to adopt the future default and silence this warning.\n",
            "  contingency_real = real.groupby(list(columns), dropna=False).size() / len(real)\n",
            "/usr/local/lib/python3.10/dist-packages/sdmetrics/column_pairs/statistical/contingency_similarity.py:44: FutureWarning: The default of observed=False is deprecated and will be changed to True in a future version of pandas. Pass observed=False to retain current behavior or observed=True to adopt the future default and silence this warning.\n",
            "  contingency_synthetic = synthetic.groupby(list(columns), dropna=False).size() / len(\n",
            "/usr/local/lib/python3.10/dist-packages/sdmetrics/column_pairs/statistical/contingency_similarity.py:43: FutureWarning: The default of observed=False is deprecated and will be changed to True in a future version of pandas. Pass observed=False to retain current behavior or observed=True to adopt the future default and silence this warning.\n",
            "  contingency_real = real.groupby(list(columns), dropna=False).size() / len(real)\n",
            "/usr/local/lib/python3.10/dist-packages/sdmetrics/column_pairs/statistical/contingency_similarity.py:44: FutureWarning: The default of observed=False is deprecated and will be changed to True in a future version of pandas. Pass observed=False to retain current behavior or observed=True to adopt the future default and silence this warning.\n",
            "  contingency_synthetic = synthetic.groupby(list(columns), dropna=False).size() / len(\n",
            "/usr/local/lib/python3.10/dist-packages/sdmetrics/column_pairs/statistical/contingency_similarity.py:43: FutureWarning: The default of observed=False is deprecated and will be changed to True in a future version of pandas. Pass observed=False to retain current behavior or observed=True to adopt the future default and silence this warning.\n",
            "  contingency_real = real.groupby(list(columns), dropna=False).size() / len(real)\n",
            "/usr/local/lib/python3.10/dist-packages/sdmetrics/column_pairs/statistical/contingency_similarity.py:44: FutureWarning: The default of observed=False is deprecated and will be changed to True in a future version of pandas. Pass observed=False to retain current behavior or observed=True to adopt the future default and silence this warning.\n",
            "  contingency_synthetic = synthetic.groupby(list(columns), dropna=False).size() / len(\n"
          ]
        },
        {
          "name": "stdout",
          "output_type": "stream",
          "text": [
            "\r(2/2) Evaluating Column Pair Trends: |▋         | 145/2278 [00:03<01:05, 32.34it/s]|"
          ]
        },
        {
          "name": "stderr",
          "output_type": "stream",
          "text": [
            "/usr/local/lib/python3.10/dist-packages/sdmetrics/column_pairs/statistical/contingency_similarity.py:43: FutureWarning: The default of observed=False is deprecated and will be changed to True in a future version of pandas. Pass observed=False to retain current behavior or observed=True to adopt the future default and silence this warning.\n",
            "  contingency_real = real.groupby(list(columns), dropna=False).size() / len(real)\n",
            "/usr/local/lib/python3.10/dist-packages/sdmetrics/column_pairs/statistical/contingency_similarity.py:44: FutureWarning: The default of observed=False is deprecated and will be changed to True in a future version of pandas. Pass observed=False to retain current behavior or observed=True to adopt the future default and silence this warning.\n",
            "  contingency_synthetic = synthetic.groupby(list(columns), dropna=False).size() / len(\n",
            "/usr/local/lib/python3.10/dist-packages/sdmetrics/column_pairs/statistical/contingency_similarity.py:43: FutureWarning: The default of observed=False is deprecated and will be changed to True in a future version of pandas. Pass observed=False to retain current behavior or observed=True to adopt the future default and silence this warning.\n",
            "  contingency_real = real.groupby(list(columns), dropna=False).size() / len(real)\n",
            "/usr/local/lib/python3.10/dist-packages/sdmetrics/column_pairs/statistical/contingency_similarity.py:44: FutureWarning: The default of observed=False is deprecated and will be changed to True in a future version of pandas. Pass observed=False to retain current behavior or observed=True to adopt the future default and silence this warning.\n",
            "  contingency_synthetic = synthetic.groupby(list(columns), dropna=False).size() / len(\n",
            "/usr/local/lib/python3.10/dist-packages/sdmetrics/column_pairs/statistical/contingency_similarity.py:43: FutureWarning: The default of observed=False is deprecated and will be changed to True in a future version of pandas. Pass observed=False to retain current behavior or observed=True to adopt the future default and silence this warning.\n",
            "  contingency_real = real.groupby(list(columns), dropna=False).size() / len(real)\n",
            "/usr/local/lib/python3.10/dist-packages/sdmetrics/column_pairs/statistical/contingency_similarity.py:44: FutureWarning: The default of observed=False is deprecated and will be changed to True in a future version of pandas. Pass observed=False to retain current behavior or observed=True to adopt the future default and silence this warning.\n",
            "  contingency_synthetic = synthetic.groupby(list(columns), dropna=False).size() / len(\n",
            "/usr/local/lib/python3.10/dist-packages/sdmetrics/column_pairs/statistical/contingency_similarity.py:43: FutureWarning: The default of observed=False is deprecated and will be changed to True in a future version of pandas. Pass observed=False to retain current behavior or observed=True to adopt the future default and silence this warning.\n",
            "  contingency_real = real.groupby(list(columns), dropna=False).size() / len(real)\n",
            "/usr/local/lib/python3.10/dist-packages/sdmetrics/column_pairs/statistical/contingency_similarity.py:44: FutureWarning: The default of observed=False is deprecated and will be changed to True in a future version of pandas. Pass observed=False to retain current behavior or observed=True to adopt the future default and silence this warning.\n",
            "  contingency_synthetic = synthetic.groupby(list(columns), dropna=False).size() / len(\n",
            "/usr/local/lib/python3.10/dist-packages/sdmetrics/column_pairs/statistical/contingency_similarity.py:43: FutureWarning: The default of observed=False is deprecated and will be changed to True in a future version of pandas. Pass observed=False to retain current behavior or observed=True to adopt the future default and silence this warning.\n",
            "  contingency_real = real.groupby(list(columns), dropna=False).size() / len(real)\n",
            "/usr/local/lib/python3.10/dist-packages/sdmetrics/column_pairs/statistical/contingency_similarity.py:44: FutureWarning: The default of observed=False is deprecated and will be changed to True in a future version of pandas. Pass observed=False to retain current behavior or observed=True to adopt the future default and silence this warning.\n",
            "  contingency_synthetic = synthetic.groupby(list(columns), dropna=False).size() / len(\n",
            "/usr/local/lib/python3.10/dist-packages/sdmetrics/column_pairs/statistical/contingency_similarity.py:43: FutureWarning: The default of observed=False is deprecated and will be changed to True in a future version of pandas. Pass observed=False to retain current behavior or observed=True to adopt the future default and silence this warning.\n",
            "  contingency_real = real.groupby(list(columns), dropna=False).size() / len(real)\n",
            "/usr/local/lib/python3.10/dist-packages/sdmetrics/column_pairs/statistical/contingency_similarity.py:44: FutureWarning: The default of observed=False is deprecated and will be changed to True in a future version of pandas. Pass observed=False to retain current behavior or observed=True to adopt the future default and silence this warning.\n",
            "  contingency_synthetic = synthetic.groupby(list(columns), dropna=False).size() / len(\n",
            "/usr/local/lib/python3.10/dist-packages/sdmetrics/column_pairs/statistical/contingency_similarity.py:43: FutureWarning: The default of observed=False is deprecated and will be changed to True in a future version of pandas. Pass observed=False to retain current behavior or observed=True to adopt the future default and silence this warning.\n",
            "  contingency_real = real.groupby(list(columns), dropna=False).size() / len(real)\n",
            "/usr/local/lib/python3.10/dist-packages/sdmetrics/column_pairs/statistical/contingency_similarity.py:44: FutureWarning: The default of observed=False is deprecated and will be changed to True in a future version of pandas. Pass observed=False to retain current behavior or observed=True to adopt the future default and silence this warning.\n",
            "  contingency_synthetic = synthetic.groupby(list(columns), dropna=False).size() / len(\n",
            "/usr/local/lib/python3.10/dist-packages/sdmetrics/column_pairs/statistical/contingency_similarity.py:43: FutureWarning: The default of observed=False is deprecated and will be changed to True in a future version of pandas. Pass observed=False to retain current behavior or observed=True to adopt the future default and silence this warning.\n",
            "  contingency_real = real.groupby(list(columns), dropna=False).size() / len(real)\n",
            "/usr/local/lib/python3.10/dist-packages/sdmetrics/column_pairs/statistical/contingency_similarity.py:44: FutureWarning: The default of observed=False is deprecated and will be changed to True in a future version of pandas. Pass observed=False to retain current behavior or observed=True to adopt the future default and silence this warning.\n",
            "  contingency_synthetic = synthetic.groupby(list(columns), dropna=False).size() / len(\n",
            "/usr/local/lib/python3.10/dist-packages/sdmetrics/column_pairs/statistical/contingency_similarity.py:43: FutureWarning: The default of observed=False is deprecated and will be changed to True in a future version of pandas. Pass observed=False to retain current behavior or observed=True to adopt the future default and silence this warning.\n",
            "  contingency_real = real.groupby(list(columns), dropna=False).size() / len(real)\n",
            "/usr/local/lib/python3.10/dist-packages/sdmetrics/column_pairs/statistical/contingency_similarity.py:44: FutureWarning: The default of observed=False is deprecated and will be changed to True in a future version of pandas. Pass observed=False to retain current behavior or observed=True to adopt the future default and silence this warning.\n",
            "  contingency_synthetic = synthetic.groupby(list(columns), dropna=False).size() / len(\n"
          ]
        },
        {
          "name": "stdout",
          "output_type": "stream",
          "text": [
            "(2/2) Evaluating Column Pair Trends: |▋         | 157/2278 [00:04<00:58, 36.30it/s]|"
          ]
        },
        {
          "name": "stderr",
          "output_type": "stream",
          "text": [
            "/usr/local/lib/python3.10/dist-packages/sdmetrics/column_pairs/statistical/contingency_similarity.py:43: FutureWarning: The default of observed=False is deprecated and will be changed to True in a future version of pandas. Pass observed=False to retain current behavior or observed=True to adopt the future default and silence this warning.\n",
            "  contingency_real = real.groupby(list(columns), dropna=False).size() / len(real)\n",
            "/usr/local/lib/python3.10/dist-packages/sdmetrics/column_pairs/statistical/contingency_similarity.py:44: FutureWarning: The default of observed=False is deprecated and will be changed to True in a future version of pandas. Pass observed=False to retain current behavior or observed=True to adopt the future default and silence this warning.\n",
            "  contingency_synthetic = synthetic.groupby(list(columns), dropna=False).size() / len(\n",
            "/usr/local/lib/python3.10/dist-packages/sdmetrics/column_pairs/statistical/contingency_similarity.py:43: FutureWarning: The default of observed=False is deprecated and will be changed to True in a future version of pandas. Pass observed=False to retain current behavior or observed=True to adopt the future default and silence this warning.\n",
            "  contingency_real = real.groupby(list(columns), dropna=False).size() / len(real)\n",
            "/usr/local/lib/python3.10/dist-packages/sdmetrics/column_pairs/statistical/contingency_similarity.py:44: FutureWarning: The default of observed=False is deprecated and will be changed to True in a future version of pandas. Pass observed=False to retain current behavior or observed=True to adopt the future default and silence this warning.\n",
            "  contingency_synthetic = synthetic.groupby(list(columns), dropna=False).size() / len(\n",
            "/usr/local/lib/python3.10/dist-packages/sdmetrics/column_pairs/statistical/contingency_similarity.py:43: FutureWarning: The default of observed=False is deprecated and will be changed to True in a future version of pandas. Pass observed=False to retain current behavior or observed=True to adopt the future default and silence this warning.\n",
            "  contingency_real = real.groupby(list(columns), dropna=False).size() / len(real)\n",
            "/usr/local/lib/python3.10/dist-packages/sdmetrics/column_pairs/statistical/contingency_similarity.py:44: FutureWarning: The default of observed=False is deprecated and will be changed to True in a future version of pandas. Pass observed=False to retain current behavior or observed=True to adopt the future default and silence this warning.\n",
            "  contingency_synthetic = synthetic.groupby(list(columns), dropna=False).size() / len(\n",
            "/usr/local/lib/python3.10/dist-packages/sdmetrics/column_pairs/statistical/contingency_similarity.py:43: FutureWarning: The default of observed=False is deprecated and will be changed to True in a future version of pandas. Pass observed=False to retain current behavior or observed=True to adopt the future default and silence this warning.\n",
            "  contingency_real = real.groupby(list(columns), dropna=False).size() / len(real)\n",
            "/usr/local/lib/python3.10/dist-packages/sdmetrics/column_pairs/statistical/contingency_similarity.py:44: FutureWarning: The default of observed=False is deprecated and will be changed to True in a future version of pandas. Pass observed=False to retain current behavior or observed=True to adopt the future default and silence this warning.\n",
            "  contingency_synthetic = synthetic.groupby(list(columns), dropna=False).size() / len(\n",
            "/usr/local/lib/python3.10/dist-packages/sdmetrics/column_pairs/statistical/contingency_similarity.py:43: FutureWarning: The default of observed=False is deprecated and will be changed to True in a future version of pandas. Pass observed=False to retain current behavior or observed=True to adopt the future default and silence this warning.\n",
            "  contingency_real = real.groupby(list(columns), dropna=False).size() / len(real)\n",
            "/usr/local/lib/python3.10/dist-packages/sdmetrics/column_pairs/statistical/contingency_similarity.py:44: FutureWarning: The default of observed=False is deprecated and will be changed to True in a future version of pandas. Pass observed=False to retain current behavior or observed=True to adopt the future default and silence this warning.\n",
            "  contingency_synthetic = synthetic.groupby(list(columns), dropna=False).size() / len(\n",
            "/usr/local/lib/python3.10/dist-packages/sdmetrics/column_pairs/statistical/contingency_similarity.py:43: FutureWarning: The default of observed=False is deprecated and will be changed to True in a future version of pandas. Pass observed=False to retain current behavior or observed=True to adopt the future default and silence this warning.\n",
            "  contingency_real = real.groupby(list(columns), dropna=False).size() / len(real)\n",
            "/usr/local/lib/python3.10/dist-packages/sdmetrics/column_pairs/statistical/contingency_similarity.py:44: FutureWarning: The default of observed=False is deprecated and will be changed to True in a future version of pandas. Pass observed=False to retain current behavior or observed=True to adopt the future default and silence this warning.\n",
            "  contingency_synthetic = synthetic.groupby(list(columns), dropna=False).size() / len(\n",
            "/usr/local/lib/python3.10/dist-packages/sdmetrics/column_pairs/statistical/contingency_similarity.py:43: FutureWarning: The default of observed=False is deprecated and will be changed to True in a future version of pandas. Pass observed=False to retain current behavior or observed=True to adopt the future default and silence this warning.\n",
            "  contingency_real = real.groupby(list(columns), dropna=False).size() / len(real)\n",
            "/usr/local/lib/python3.10/dist-packages/sdmetrics/column_pairs/statistical/contingency_similarity.py:44: FutureWarning: The default of observed=False is deprecated and will be changed to True in a future version of pandas. Pass observed=False to retain current behavior or observed=True to adopt the future default and silence this warning.\n",
            "  contingency_synthetic = synthetic.groupby(list(columns), dropna=False).size() / len(\n",
            "/usr/local/lib/python3.10/dist-packages/sdmetrics/column_pairs/statistical/contingency_similarity.py:43: FutureWarning: The default of observed=False is deprecated and will be changed to True in a future version of pandas. Pass observed=False to retain current behavior or observed=True to adopt the future default and silence this warning.\n",
            "  contingency_real = real.groupby(list(columns), dropna=False).size() / len(real)\n",
            "/usr/local/lib/python3.10/dist-packages/sdmetrics/column_pairs/statistical/contingency_similarity.py:44: FutureWarning: The default of observed=False is deprecated and will be changed to True in a future version of pandas. Pass observed=False to retain current behavior or observed=True to adopt the future default and silence this warning.\n",
            "  contingency_synthetic = synthetic.groupby(list(columns), dropna=False).size() / len(\n",
            "/usr/local/lib/python3.10/dist-packages/sdmetrics/column_pairs/statistical/contingency_similarity.py:43: FutureWarning: The default of observed=False is deprecated and will be changed to True in a future version of pandas. Pass observed=False to retain current behavior or observed=True to adopt the future default and silence this warning.\n",
            "  contingency_real = real.groupby(list(columns), dropna=False).size() / len(real)\n",
            "/usr/local/lib/python3.10/dist-packages/sdmetrics/column_pairs/statistical/contingency_similarity.py:44: FutureWarning: The default of observed=False is deprecated and will be changed to True in a future version of pandas. Pass observed=False to retain current behavior or observed=True to adopt the future default and silence this warning.\n",
            "  contingency_synthetic = synthetic.groupby(list(columns), dropna=False).size() / len(\n",
            "/usr/local/lib/python3.10/dist-packages/sdmetrics/column_pairs/statistical/contingency_similarity.py:43: FutureWarning: The default of observed=False is deprecated and will be changed to True in a future version of pandas. Pass observed=False to retain current behavior or observed=True to adopt the future default and silence this warning.\n",
            "  contingency_real = real.groupby(list(columns), dropna=False).size() / len(real)\n",
            "/usr/local/lib/python3.10/dist-packages/sdmetrics/column_pairs/statistical/contingency_similarity.py:44: FutureWarning: The default of observed=False is deprecated and will be changed to True in a future version of pandas. Pass observed=False to retain current behavior or observed=True to adopt the future default and silence this warning.\n",
            "  contingency_synthetic = synthetic.groupby(list(columns), dropna=False).size() / len(\n"
          ]
        },
        {
          "name": "stdout",
          "output_type": "stream",
          "text": [
            "(2/2) Evaluating Column Pair Trends: |▋         | 169/2278 [00:04<00:51, 40.80it/s]|"
          ]
        },
        {
          "name": "stderr",
          "output_type": "stream",
          "text": [
            "/usr/local/lib/python3.10/dist-packages/sdmetrics/column_pairs/statistical/contingency_similarity.py:43: FutureWarning: The default of observed=False is deprecated and will be changed to True in a future version of pandas. Pass observed=False to retain current behavior or observed=True to adopt the future default and silence this warning.\n",
            "  contingency_real = real.groupby(list(columns), dropna=False).size() / len(real)\n",
            "/usr/local/lib/python3.10/dist-packages/sdmetrics/column_pairs/statistical/contingency_similarity.py:44: FutureWarning: The default of observed=False is deprecated and will be changed to True in a future version of pandas. Pass observed=False to retain current behavior or observed=True to adopt the future default and silence this warning.\n",
            "  contingency_synthetic = synthetic.groupby(list(columns), dropna=False).size() / len(\n",
            "/usr/local/lib/python3.10/dist-packages/sdmetrics/column_pairs/statistical/contingency_similarity.py:43: FutureWarning: The default of observed=False is deprecated and will be changed to True in a future version of pandas. Pass observed=False to retain current behavior or observed=True to adopt the future default and silence this warning.\n",
            "  contingency_real = real.groupby(list(columns), dropna=False).size() / len(real)\n",
            "/usr/local/lib/python3.10/dist-packages/sdmetrics/column_pairs/statistical/contingency_similarity.py:44: FutureWarning: The default of observed=False is deprecated and will be changed to True in a future version of pandas. Pass observed=False to retain current behavior or observed=True to adopt the future default and silence this warning.\n",
            "  contingency_synthetic = synthetic.groupby(list(columns), dropna=False).size() / len(\n",
            "/usr/local/lib/python3.10/dist-packages/sdmetrics/column_pairs/statistical/contingency_similarity.py:43: FutureWarning: The default of observed=False is deprecated and will be changed to True in a future version of pandas. Pass observed=False to retain current behavior or observed=True to adopt the future default and silence this warning.\n",
            "  contingency_real = real.groupby(list(columns), dropna=False).size() / len(real)\n",
            "/usr/local/lib/python3.10/dist-packages/sdmetrics/column_pairs/statistical/contingency_similarity.py:44: FutureWarning: The default of observed=False is deprecated and will be changed to True in a future version of pandas. Pass observed=False to retain current behavior or observed=True to adopt the future default and silence this warning.\n",
            "  contingency_synthetic = synthetic.groupby(list(columns), dropna=False).size() / len(\n",
            "/usr/local/lib/python3.10/dist-packages/sdmetrics/column_pairs/statistical/contingency_similarity.py:43: FutureWarning: The default of observed=False is deprecated and will be changed to True in a future version of pandas. Pass observed=False to retain current behavior or observed=True to adopt the future default and silence this warning.\n",
            "  contingency_real = real.groupby(list(columns), dropna=False).size() / len(real)\n",
            "/usr/local/lib/python3.10/dist-packages/sdmetrics/column_pairs/statistical/contingency_similarity.py:44: FutureWarning: The default of observed=False is deprecated and will be changed to True in a future version of pandas. Pass observed=False to retain current behavior or observed=True to adopt the future default and silence this warning.\n",
            "  contingency_synthetic = synthetic.groupby(list(columns), dropna=False).size() / len(\n",
            "/usr/local/lib/python3.10/dist-packages/sdmetrics/column_pairs/statistical/contingency_similarity.py:43: FutureWarning: The default of observed=False is deprecated and will be changed to True in a future version of pandas. Pass observed=False to retain current behavior or observed=True to adopt the future default and silence this warning.\n",
            "  contingency_real = real.groupby(list(columns), dropna=False).size() / len(real)\n",
            "/usr/local/lib/python3.10/dist-packages/sdmetrics/column_pairs/statistical/contingency_similarity.py:44: FutureWarning: The default of observed=False is deprecated and will be changed to True in a future version of pandas. Pass observed=False to retain current behavior or observed=True to adopt the future default and silence this warning.\n",
            "  contingency_synthetic = synthetic.groupby(list(columns), dropna=False).size() / len(\n",
            "/usr/local/lib/python3.10/dist-packages/sdmetrics/column_pairs/statistical/contingency_similarity.py:43: FutureWarning: The default of observed=False is deprecated and will be changed to True in a future version of pandas. Pass observed=False to retain current behavior or observed=True to adopt the future default and silence this warning.\n",
            "  contingency_real = real.groupby(list(columns), dropna=False).size() / len(real)\n",
            "/usr/local/lib/python3.10/dist-packages/sdmetrics/column_pairs/statistical/contingency_similarity.py:44: FutureWarning: The default of observed=False is deprecated and will be changed to True in a future version of pandas. Pass observed=False to retain current behavior or observed=True to adopt the future default and silence this warning.\n",
            "  contingency_synthetic = synthetic.groupby(list(columns), dropna=False).size() / len(\n",
            "/usr/local/lib/python3.10/dist-packages/sdmetrics/column_pairs/statistical/contingency_similarity.py:43: FutureWarning: The default of observed=False is deprecated and will be changed to True in a future version of pandas. Pass observed=False to retain current behavior or observed=True to adopt the future default and silence this warning.\n",
            "  contingency_real = real.groupby(list(columns), dropna=False).size() / len(real)\n",
            "/usr/local/lib/python3.10/dist-packages/sdmetrics/column_pairs/statistical/contingency_similarity.py:44: FutureWarning: The default of observed=False is deprecated and will be changed to True in a future version of pandas. Pass observed=False to retain current behavior or observed=True to adopt the future default and silence this warning.\n",
            "  contingency_synthetic = synthetic.groupby(list(columns), dropna=False).size() / len(\n",
            "/usr/local/lib/python3.10/dist-packages/sdmetrics/column_pairs/statistical/contingency_similarity.py:43: FutureWarning: The default of observed=False is deprecated and will be changed to True in a future version of pandas. Pass observed=False to retain current behavior or observed=True to adopt the future default and silence this warning.\n",
            "  contingency_real = real.groupby(list(columns), dropna=False).size() / len(real)\n",
            "/usr/local/lib/python3.10/dist-packages/sdmetrics/column_pairs/statistical/contingency_similarity.py:44: FutureWarning: The default of observed=False is deprecated and will be changed to True in a future version of pandas. Pass observed=False to retain current behavior or observed=True to adopt the future default and silence this warning.\n",
            "  contingency_synthetic = synthetic.groupby(list(columns), dropna=False).size() / len(\n",
            "/usr/local/lib/python3.10/dist-packages/sdmetrics/column_pairs/statistical/contingency_similarity.py:43: FutureWarning: The default of observed=False is deprecated and will be changed to True in a future version of pandas. Pass observed=False to retain current behavior or observed=True to adopt the future default and silence this warning.\n",
            "  contingency_real = real.groupby(list(columns), dropna=False).size() / len(real)\n",
            "/usr/local/lib/python3.10/dist-packages/sdmetrics/column_pairs/statistical/contingency_similarity.py:44: FutureWarning: The default of observed=False is deprecated and will be changed to True in a future version of pandas. Pass observed=False to retain current behavior or observed=True to adopt the future default and silence this warning.\n",
            "  contingency_synthetic = synthetic.groupby(list(columns), dropna=False).size() / len(\n",
            "/usr/local/lib/python3.10/dist-packages/sdmetrics/column_pairs/statistical/contingency_similarity.py:43: FutureWarning: The default of observed=False is deprecated and will be changed to True in a future version of pandas. Pass observed=False to retain current behavior or observed=True to adopt the future default and silence this warning.\n",
            "  contingency_real = real.groupby(list(columns), dropna=False).size() / len(real)\n",
            "/usr/local/lib/python3.10/dist-packages/sdmetrics/column_pairs/statistical/contingency_similarity.py:44: FutureWarning: The default of observed=False is deprecated and will be changed to True in a future version of pandas. Pass observed=False to retain current behavior or observed=True to adopt the future default and silence this warning.\n",
            "  contingency_synthetic = synthetic.groupby(list(columns), dropna=False).size() / len(\n",
            "/usr/local/lib/python3.10/dist-packages/sdmetrics/column_pairs/statistical/contingency_similarity.py:43: FutureWarning: The default of observed=False is deprecated and will be changed to True in a future version of pandas. Pass observed=False to retain current behavior or observed=True to adopt the future default and silence this warning.\n",
            "  contingency_real = real.groupby(list(columns), dropna=False).size() / len(real)\n"
          ]
        },
        {
          "name": "stdout",
          "output_type": "stream",
          "text": [
            "\r(2/2) Evaluating Column Pair Trends: |▊         | 175/2278 [00:04<00:54, 38.28it/s]|"
          ]
        },
        {
          "name": "stderr",
          "output_type": "stream",
          "text": [
            "/usr/local/lib/python3.10/dist-packages/sdmetrics/column_pairs/statistical/contingency_similarity.py:44: FutureWarning: The default of observed=False is deprecated and will be changed to True in a future version of pandas. Pass observed=False to retain current behavior or observed=True to adopt the future default and silence this warning.\n",
            "  contingency_synthetic = synthetic.groupby(list(columns), dropna=False).size() / len(\n",
            "/usr/local/lib/python3.10/dist-packages/sdmetrics/column_pairs/statistical/contingency_similarity.py:43: FutureWarning: The default of observed=False is deprecated and will be changed to True in a future version of pandas. Pass observed=False to retain current behavior or observed=True to adopt the future default and silence this warning.\n",
            "  contingency_real = real.groupby(list(columns), dropna=False).size() / len(real)\n",
            "/usr/local/lib/python3.10/dist-packages/sdmetrics/column_pairs/statistical/contingency_similarity.py:44: FutureWarning: The default of observed=False is deprecated and will be changed to True in a future version of pandas. Pass observed=False to retain current behavior or observed=True to adopt the future default and silence this warning.\n",
            "  contingency_synthetic = synthetic.groupby(list(columns), dropna=False).size() / len(\n",
            "/usr/local/lib/python3.10/dist-packages/sdmetrics/column_pairs/statistical/contingency_similarity.py:43: FutureWarning: The default of observed=False is deprecated and will be changed to True in a future version of pandas. Pass observed=False to retain current behavior or observed=True to adopt the future default and silence this warning.\n",
            "  contingency_real = real.groupby(list(columns), dropna=False).size() / len(real)\n",
            "/usr/local/lib/python3.10/dist-packages/sdmetrics/column_pairs/statistical/contingency_similarity.py:44: FutureWarning: The default of observed=False is deprecated and will be changed to True in a future version of pandas. Pass observed=False to retain current behavior or observed=True to adopt the future default and silence this warning.\n",
            "  contingency_synthetic = synthetic.groupby(list(columns), dropna=False).size() / len(\n",
            "/usr/local/lib/python3.10/dist-packages/sdmetrics/column_pairs/statistical/contingency_similarity.py:43: FutureWarning: The default of observed=False is deprecated and will be changed to True in a future version of pandas. Pass observed=False to retain current behavior or observed=True to adopt the future default and silence this warning.\n",
            "  contingency_real = real.groupby(list(columns), dropna=False).size() / len(real)\n",
            "/usr/local/lib/python3.10/dist-packages/sdmetrics/column_pairs/statistical/contingency_similarity.py:44: FutureWarning: The default of observed=False is deprecated and will be changed to True in a future version of pandas. Pass observed=False to retain current behavior or observed=True to adopt the future default and silence this warning.\n",
            "  contingency_synthetic = synthetic.groupby(list(columns), dropna=False).size() / len(\n",
            "/usr/local/lib/python3.10/dist-packages/sdmetrics/column_pairs/statistical/contingency_similarity.py:43: FutureWarning: The default of observed=False is deprecated and will be changed to True in a future version of pandas. Pass observed=False to retain current behavior or observed=True to adopt the future default and silence this warning.\n",
            "  contingency_real = real.groupby(list(columns), dropna=False).size() / len(real)\n",
            "/usr/local/lib/python3.10/dist-packages/sdmetrics/column_pairs/statistical/contingency_similarity.py:44: FutureWarning: The default of observed=False is deprecated and will be changed to True in a future version of pandas. Pass observed=False to retain current behavior or observed=True to adopt the future default and silence this warning.\n",
            "  contingency_synthetic = synthetic.groupby(list(columns), dropna=False).size() / len(\n",
            "/usr/local/lib/python3.10/dist-packages/sdmetrics/column_pairs/statistical/contingency_similarity.py:43: FutureWarning: The default of observed=False is deprecated and will be changed to True in a future version of pandas. Pass observed=False to retain current behavior or observed=True to adopt the future default and silence this warning.\n",
            "  contingency_real = real.groupby(list(columns), dropna=False).size() / len(real)\n",
            "/usr/local/lib/python3.10/dist-packages/sdmetrics/column_pairs/statistical/contingency_similarity.py:44: FutureWarning: The default of observed=False is deprecated and will be changed to True in a future version of pandas. Pass observed=False to retain current behavior or observed=True to adopt the future default and silence this warning.\n",
            "  contingency_synthetic = synthetic.groupby(list(columns), dropna=False).size() / len(\n",
            "/usr/local/lib/python3.10/dist-packages/sdmetrics/column_pairs/statistical/contingency_similarity.py:43: FutureWarning: The default of observed=False is deprecated and will be changed to True in a future version of pandas. Pass observed=False to retain current behavior or observed=True to adopt the future default and silence this warning.\n",
            "  contingency_real = real.groupby(list(columns), dropna=False).size() / len(real)\n",
            "/usr/local/lib/python3.10/dist-packages/sdmetrics/column_pairs/statistical/contingency_similarity.py:44: FutureWarning: The default of observed=False is deprecated and will be changed to True in a future version of pandas. Pass observed=False to retain current behavior or observed=True to adopt the future default and silence this warning.\n",
            "  contingency_synthetic = synthetic.groupby(list(columns), dropna=False).size() / len(\n",
            "/usr/local/lib/python3.10/dist-packages/sdmetrics/column_pairs/statistical/contingency_similarity.py:43: FutureWarning: The default of observed=False is deprecated and will be changed to True in a future version of pandas. Pass observed=False to retain current behavior or observed=True to adopt the future default and silence this warning.\n",
            "  contingency_real = real.groupby(list(columns), dropna=False).size() / len(real)\n"
          ]
        },
        {
          "name": "stdout",
          "output_type": "stream",
          "text": [
            "(2/2) Evaluating Column Pair Trends: |▊         | 185/2278 [00:04<00:50, 41.25it/s]|"
          ]
        },
        {
          "name": "stderr",
          "output_type": "stream",
          "text": [
            "/usr/local/lib/python3.10/dist-packages/sdmetrics/column_pairs/statistical/contingency_similarity.py:44: FutureWarning: The default of observed=False is deprecated and will be changed to True in a future version of pandas. Pass observed=False to retain current behavior or observed=True to adopt the future default and silence this warning.\n",
            "  contingency_synthetic = synthetic.groupby(list(columns), dropna=False).size() / len(\n",
            "/usr/local/lib/python3.10/dist-packages/sdmetrics/column_pairs/statistical/contingency_similarity.py:43: FutureWarning: The default of observed=False is deprecated and will be changed to True in a future version of pandas. Pass observed=False to retain current behavior or observed=True to adopt the future default and silence this warning.\n",
            "  contingency_real = real.groupby(list(columns), dropna=False).size() / len(real)\n",
            "/usr/local/lib/python3.10/dist-packages/sdmetrics/column_pairs/statistical/contingency_similarity.py:44: FutureWarning: The default of observed=False is deprecated and will be changed to True in a future version of pandas. Pass observed=False to retain current behavior or observed=True to adopt the future default and silence this warning.\n",
            "  contingency_synthetic = synthetic.groupby(list(columns), dropna=False).size() / len(\n",
            "/usr/local/lib/python3.10/dist-packages/sdmetrics/column_pairs/statistical/contingency_similarity.py:43: FutureWarning: The default of observed=False is deprecated and will be changed to True in a future version of pandas. Pass observed=False to retain current behavior or observed=True to adopt the future default and silence this warning.\n",
            "  contingency_real = real.groupby(list(columns), dropna=False).size() / len(real)\n",
            "/usr/local/lib/python3.10/dist-packages/sdmetrics/column_pairs/statistical/contingency_similarity.py:44: FutureWarning: The default of observed=False is deprecated and will be changed to True in a future version of pandas. Pass observed=False to retain current behavior or observed=True to adopt the future default and silence this warning.\n",
            "  contingency_synthetic = synthetic.groupby(list(columns), dropna=False).size() / len(\n",
            "/usr/local/lib/python3.10/dist-packages/sdmetrics/column_pairs/statistical/contingency_similarity.py:43: FutureWarning: The default of observed=False is deprecated and will be changed to True in a future version of pandas. Pass observed=False to retain current behavior or observed=True to adopt the future default and silence this warning.\n",
            "  contingency_real = real.groupby(list(columns), dropna=False).size() / len(real)\n",
            "/usr/local/lib/python3.10/dist-packages/sdmetrics/column_pairs/statistical/contingency_similarity.py:44: FutureWarning: The default of observed=False is deprecated and will be changed to True in a future version of pandas. Pass observed=False to retain current behavior or observed=True to adopt the future default and silence this warning.\n",
            "  contingency_synthetic = synthetic.groupby(list(columns), dropna=False).size() / len(\n",
            "/usr/local/lib/python3.10/dist-packages/sdmetrics/column_pairs/statistical/contingency_similarity.py:43: FutureWarning: The default of observed=False is deprecated and will be changed to True in a future version of pandas. Pass observed=False to retain current behavior or observed=True to adopt the future default and silence this warning.\n",
            "  contingency_real = real.groupby(list(columns), dropna=False).size() / len(real)\n",
            "/usr/local/lib/python3.10/dist-packages/sdmetrics/column_pairs/statistical/contingency_similarity.py:44: FutureWarning: The default of observed=False is deprecated and will be changed to True in a future version of pandas. Pass observed=False to retain current behavior or observed=True to adopt the future default and silence this warning.\n",
            "  contingency_synthetic = synthetic.groupby(list(columns), dropna=False).size() / len(\n",
            "/usr/local/lib/python3.10/dist-packages/sdmetrics/column_pairs/statistical/contingency_similarity.py:43: FutureWarning: The default of observed=False is deprecated and will be changed to True in a future version of pandas. Pass observed=False to retain current behavior or observed=True to adopt the future default and silence this warning.\n",
            "  contingency_real = real.groupby(list(columns), dropna=False).size() / len(real)\n",
            "/usr/local/lib/python3.10/dist-packages/sdmetrics/column_pairs/statistical/contingency_similarity.py:44: FutureWarning: The default of observed=False is deprecated and will be changed to True in a future version of pandas. Pass observed=False to retain current behavior or observed=True to adopt the future default and silence this warning.\n",
            "  contingency_synthetic = synthetic.groupby(list(columns), dropna=False).size() / len(\n",
            "/usr/local/lib/python3.10/dist-packages/sdmetrics/column_pairs/statistical/contingency_similarity.py:43: FutureWarning: The default of observed=False is deprecated and will be changed to True in a future version of pandas. Pass observed=False to retain current behavior or observed=True to adopt the future default and silence this warning.\n",
            "  contingency_real = real.groupby(list(columns), dropna=False).size() / len(real)\n",
            "/usr/local/lib/python3.10/dist-packages/sdmetrics/column_pairs/statistical/contingency_similarity.py:44: FutureWarning: The default of observed=False is deprecated and will be changed to True in a future version of pandas. Pass observed=False to retain current behavior or observed=True to adopt the future default and silence this warning.\n",
            "  contingency_synthetic = synthetic.groupby(list(columns), dropna=False).size() / len(\n",
            "/usr/local/lib/python3.10/dist-packages/sdmetrics/column_pairs/statistical/contingency_similarity.py:43: FutureWarning: The default of observed=False is deprecated and will be changed to True in a future version of pandas. Pass observed=False to retain current behavior or observed=True to adopt the future default and silence this warning.\n",
            "  contingency_real = real.groupby(list(columns), dropna=False).size() / len(real)\n",
            "/usr/local/lib/python3.10/dist-packages/sdmetrics/column_pairs/statistical/contingency_similarity.py:44: FutureWarning: The default of observed=False is deprecated and will be changed to True in a future version of pandas. Pass observed=False to retain current behavior or observed=True to adopt the future default and silence this warning.\n",
            "  contingency_synthetic = synthetic.groupby(list(columns), dropna=False).size() / len(\n",
            "/usr/local/lib/python3.10/dist-packages/sdmetrics/column_pairs/statistical/contingency_similarity.py:43: FutureWarning: The default of observed=False is deprecated and will be changed to True in a future version of pandas. Pass observed=False to retain current behavior or observed=True to adopt the future default and silence this warning.\n",
            "  contingency_real = real.groupby(list(columns), dropna=False).size() / len(real)\n",
            "/usr/local/lib/python3.10/dist-packages/sdmetrics/column_pairs/statistical/contingency_similarity.py:44: FutureWarning: The default of observed=False is deprecated and will be changed to True in a future version of pandas. Pass observed=False to retain current behavior or observed=True to adopt the future default and silence this warning.\n",
            "  contingency_synthetic = synthetic.groupby(list(columns), dropna=False).size() / len(\n",
            "/usr/local/lib/python3.10/dist-packages/sdmetrics/column_pairs/statistical/contingency_similarity.py:43: FutureWarning: The default of observed=False is deprecated and will be changed to True in a future version of pandas. Pass observed=False to retain current behavior or observed=True to adopt the future default and silence this warning.\n",
            "  contingency_real = real.groupby(list(columns), dropna=False).size() / len(real)\n",
            "/usr/local/lib/python3.10/dist-packages/sdmetrics/column_pairs/statistical/contingency_similarity.py:44: FutureWarning: The default of observed=False is deprecated and will be changed to True in a future version of pandas. Pass observed=False to retain current behavior or observed=True to adopt the future default and silence this warning.\n",
            "  contingency_synthetic = synthetic.groupby(list(columns), dropna=False).size() / len(\n"
          ]
        },
        {
          "name": "stdout",
          "output_type": "stream",
          "text": [
            "(2/2) Evaluating Column Pair Trends: |▊         | 195/2278 [00:04<00:48, 42.78it/s]|"
          ]
        },
        {
          "name": "stderr",
          "output_type": "stream",
          "text": [
            "/usr/local/lib/python3.10/dist-packages/sdmetrics/column_pairs/statistical/contingency_similarity.py:43: FutureWarning: The default of observed=False is deprecated and will be changed to True in a future version of pandas. Pass observed=False to retain current behavior or observed=True to adopt the future default and silence this warning.\n",
            "  contingency_real = real.groupby(list(columns), dropna=False).size() / len(real)\n",
            "/usr/local/lib/python3.10/dist-packages/sdmetrics/column_pairs/statistical/contingency_similarity.py:44: FutureWarning: The default of observed=False is deprecated and will be changed to True in a future version of pandas. Pass observed=False to retain current behavior or observed=True to adopt the future default and silence this warning.\n",
            "  contingency_synthetic = synthetic.groupby(list(columns), dropna=False).size() / len(\n",
            "/usr/local/lib/python3.10/dist-packages/sdmetrics/column_pairs/statistical/contingency_similarity.py:43: FutureWarning: The default of observed=False is deprecated and will be changed to True in a future version of pandas. Pass observed=False to retain current behavior or observed=True to adopt the future default and silence this warning.\n",
            "  contingency_real = real.groupby(list(columns), dropna=False).size() / len(real)\n",
            "/usr/local/lib/python3.10/dist-packages/sdmetrics/column_pairs/statistical/contingency_similarity.py:44: FutureWarning: The default of observed=False is deprecated and will be changed to True in a future version of pandas. Pass observed=False to retain current behavior or observed=True to adopt the future default and silence this warning.\n",
            "  contingency_synthetic = synthetic.groupby(list(columns), dropna=False).size() / len(\n",
            "/usr/local/lib/python3.10/dist-packages/sdmetrics/column_pairs/statistical/contingency_similarity.py:43: FutureWarning: The default of observed=False is deprecated and will be changed to True in a future version of pandas. Pass observed=False to retain current behavior or observed=True to adopt the future default and silence this warning.\n",
            "  contingency_real = real.groupby(list(columns), dropna=False).size() / len(real)\n",
            "/usr/local/lib/python3.10/dist-packages/sdmetrics/column_pairs/statistical/contingency_similarity.py:44: FutureWarning: The default of observed=False is deprecated and will be changed to True in a future version of pandas. Pass observed=False to retain current behavior or observed=True to adopt the future default and silence this warning.\n",
            "  contingency_synthetic = synthetic.groupby(list(columns), dropna=False).size() / len(\n",
            "/usr/local/lib/python3.10/dist-packages/sdmetrics/column_pairs/statistical/contingency_similarity.py:43: FutureWarning: The default of observed=False is deprecated and will be changed to True in a future version of pandas. Pass observed=False to retain current behavior or observed=True to adopt the future default and silence this warning.\n",
            "  contingency_real = real.groupby(list(columns), dropna=False).size() / len(real)\n",
            "/usr/local/lib/python3.10/dist-packages/sdmetrics/column_pairs/statistical/contingency_similarity.py:44: FutureWarning: The default of observed=False is deprecated and will be changed to True in a future version of pandas. Pass observed=False to retain current behavior or observed=True to adopt the future default and silence this warning.\n",
            "  contingency_synthetic = synthetic.groupby(list(columns), dropna=False).size() / len(\n",
            "/usr/local/lib/python3.10/dist-packages/sdmetrics/column_pairs/statistical/contingency_similarity.py:43: FutureWarning: The default of observed=False is deprecated and will be changed to True in a future version of pandas. Pass observed=False to retain current behavior or observed=True to adopt the future default and silence this warning.\n",
            "  contingency_real = real.groupby(list(columns), dropna=False).size() / len(real)\n",
            "/usr/local/lib/python3.10/dist-packages/sdmetrics/column_pairs/statistical/contingency_similarity.py:44: FutureWarning: The default of observed=False is deprecated and will be changed to True in a future version of pandas. Pass observed=False to retain current behavior or observed=True to adopt the future default and silence this warning.\n",
            "  contingency_synthetic = synthetic.groupby(list(columns), dropna=False).size() / len(\n",
            "/usr/local/lib/python3.10/dist-packages/sdmetrics/column_pairs/statistical/contingency_similarity.py:43: FutureWarning: The default of observed=False is deprecated and will be changed to True in a future version of pandas. Pass observed=False to retain current behavior or observed=True to adopt the future default and silence this warning.\n",
            "  contingency_real = real.groupby(list(columns), dropna=False).size() / len(real)\n",
            "/usr/local/lib/python3.10/dist-packages/sdmetrics/column_pairs/statistical/contingency_similarity.py:44: FutureWarning: The default of observed=False is deprecated and will be changed to True in a future version of pandas. Pass observed=False to retain current behavior or observed=True to adopt the future default and silence this warning.\n",
            "  contingency_synthetic = synthetic.groupby(list(columns), dropna=False).size() / len(\n",
            "/usr/local/lib/python3.10/dist-packages/sdmetrics/column_pairs/statistical/contingency_similarity.py:43: FutureWarning: The default of observed=False is deprecated and will be changed to True in a future version of pandas. Pass observed=False to retain current behavior or observed=True to adopt the future default and silence this warning.\n",
            "  contingency_real = real.groupby(list(columns), dropna=False).size() / len(real)\n",
            "/usr/local/lib/python3.10/dist-packages/sdmetrics/column_pairs/statistical/contingency_similarity.py:44: FutureWarning: The default of observed=False is deprecated and will be changed to True in a future version of pandas. Pass observed=False to retain current behavior or observed=True to adopt the future default and silence this warning.\n",
            "  contingency_synthetic = synthetic.groupby(list(columns), dropna=False).size() / len(\n",
            "/usr/local/lib/python3.10/dist-packages/sdmetrics/column_pairs/statistical/contingency_similarity.py:43: FutureWarning: The default of observed=False is deprecated and will be changed to True in a future version of pandas. Pass observed=False to retain current behavior or observed=True to adopt the future default and silence this warning.\n",
            "  contingency_real = real.groupby(list(columns), dropna=False).size() / len(real)\n",
            "/usr/local/lib/python3.10/dist-packages/sdmetrics/column_pairs/statistical/contingency_similarity.py:44: FutureWarning: The default of observed=False is deprecated and will be changed to True in a future version of pandas. Pass observed=False to retain current behavior or observed=True to adopt the future default and silence this warning.\n",
            "  contingency_synthetic = synthetic.groupby(list(columns), dropna=False).size() / len(\n",
            "/usr/local/lib/python3.10/dist-packages/sdmetrics/column_pairs/statistical/contingency_similarity.py:43: FutureWarning: The default of observed=False is deprecated and will be changed to True in a future version of pandas. Pass observed=False to retain current behavior or observed=True to adopt the future default and silence this warning.\n",
            "  contingency_real = real.groupby(list(columns), dropna=False).size() / len(real)\n",
            "/usr/local/lib/python3.10/dist-packages/sdmetrics/column_pairs/statistical/contingency_similarity.py:44: FutureWarning: The default of observed=False is deprecated and will be changed to True in a future version of pandas. Pass observed=False to retain current behavior or observed=True to adopt the future default and silence this warning.\n",
            "  contingency_synthetic = synthetic.groupby(list(columns), dropna=False).size() / len(\n",
            "/usr/local/lib/python3.10/dist-packages/sdmetrics/column_pairs/statistical/contingency_similarity.py:43: FutureWarning: The default of observed=False is deprecated and will be changed to True in a future version of pandas. Pass observed=False to retain current behavior or observed=True to adopt the future default and silence this warning.\n",
            "  contingency_real = real.groupby(list(columns), dropna=False).size() / len(real)\n"
          ]
        },
        {
          "name": "stdout",
          "output_type": "stream",
          "text": [
            "\r(2/2) Evaluating Column Pair Trends: |▉         | 200/2278 [00:05<00:53, 38.58it/s]|"
          ]
        },
        {
          "name": "stderr",
          "output_type": "stream",
          "text": [
            "/usr/local/lib/python3.10/dist-packages/sdmetrics/column_pairs/statistical/contingency_similarity.py:44: FutureWarning: The default of observed=False is deprecated and will be changed to True in a future version of pandas. Pass observed=False to retain current behavior or observed=True to adopt the future default and silence this warning.\n",
            "  contingency_synthetic = synthetic.groupby(list(columns), dropna=False).size() / len(\n",
            "/usr/local/lib/python3.10/dist-packages/sdmetrics/column_pairs/statistical/contingency_similarity.py:43: FutureWarning: The default of observed=False is deprecated and will be changed to True in a future version of pandas. Pass observed=False to retain current behavior or observed=True to adopt the future default and silence this warning.\n",
            "  contingency_real = real.groupby(list(columns), dropna=False).size() / len(real)\n",
            "/usr/local/lib/python3.10/dist-packages/sdmetrics/column_pairs/statistical/contingency_similarity.py:44: FutureWarning: The default of observed=False is deprecated and will be changed to True in a future version of pandas. Pass observed=False to retain current behavior or observed=True to adopt the future default and silence this warning.\n",
            "  contingency_synthetic = synthetic.groupby(list(columns), dropna=False).size() / len(\n",
            "/usr/local/lib/python3.10/dist-packages/sdmetrics/column_pairs/statistical/contingency_similarity.py:43: FutureWarning: The default of observed=False is deprecated and will be changed to True in a future version of pandas. Pass observed=False to retain current behavior or observed=True to adopt the future default and silence this warning.\n",
            "  contingency_real = real.groupby(list(columns), dropna=False).size() / len(real)\n",
            "/usr/local/lib/python3.10/dist-packages/sdmetrics/column_pairs/statistical/contingency_similarity.py:44: FutureWarning: The default of observed=False is deprecated and will be changed to True in a future version of pandas. Pass observed=False to retain current behavior or observed=True to adopt the future default and silence this warning.\n",
            "  contingency_synthetic = synthetic.groupby(list(columns), dropna=False).size() / len(\n"
          ]
        },
        {
          "name": "stdout",
          "output_type": "stream",
          "text": [
            "(2/2) Evaluating Column Pair Trends: |▉         | 210/2278 [00:05<00:53, 38.46it/s]|"
          ]
        },
        {
          "name": "stderr",
          "output_type": "stream",
          "text": [
            "/usr/local/lib/python3.10/dist-packages/sdmetrics/column_pairs/statistical/contingency_similarity.py:43: FutureWarning: The default of observed=False is deprecated and will be changed to True in a future version of pandas. Pass observed=False to retain current behavior or observed=True to adopt the future default and silence this warning.\n",
            "  contingency_real = real.groupby(list(columns), dropna=False).size() / len(real)\n",
            "/usr/local/lib/python3.10/dist-packages/sdmetrics/column_pairs/statistical/contingency_similarity.py:44: FutureWarning: The default of observed=False is deprecated and will be changed to True in a future version of pandas. Pass observed=False to retain current behavior or observed=True to adopt the future default and silence this warning.\n",
            "  contingency_synthetic = synthetic.groupby(list(columns), dropna=False).size() / len(\n"
          ]
        },
        {
          "name": "stdout",
          "output_type": "stream",
          "text": [
            "(2/2) Evaluating Column Pair Trends: |█         | 243/2278 [00:06<00:50, 40.35it/s]|"
          ]
        },
        {
          "name": "stderr",
          "output_type": "stream",
          "text": [
            "/usr/local/lib/python3.10/dist-packages/sdmetrics/column_pairs/statistical/contingency_similarity.py:43: FutureWarning: The default of observed=False is deprecated and will be changed to True in a future version of pandas. Pass observed=False to retain current behavior or observed=True to adopt the future default and silence this warning.\n",
            "  contingency_real = real.groupby(list(columns), dropna=False).size() / len(real)\n",
            "/usr/local/lib/python3.10/dist-packages/sdmetrics/column_pairs/statistical/contingency_similarity.py:44: FutureWarning: The default of observed=False is deprecated and will be changed to True in a future version of pandas. Pass observed=False to retain current behavior or observed=True to adopt the future default and silence this warning.\n",
            "  contingency_synthetic = synthetic.groupby(list(columns), dropna=False).size() / len(\n",
            "/usr/local/lib/python3.10/dist-packages/sdmetrics/column_pairs/statistical/contingency_similarity.py:43: FutureWarning: The default of observed=False is deprecated and will be changed to True in a future version of pandas. Pass observed=False to retain current behavior or observed=True to adopt the future default and silence this warning.\n",
            "  contingency_real = real.groupby(list(columns), dropna=False).size() / len(real)\n",
            "/usr/local/lib/python3.10/dist-packages/sdmetrics/column_pairs/statistical/contingency_similarity.py:44: FutureWarning: The default of observed=False is deprecated and will be changed to True in a future version of pandas. Pass observed=False to retain current behavior or observed=True to adopt the future default and silence this warning.\n",
            "  contingency_synthetic = synthetic.groupby(list(columns), dropna=False).size() / len(\n"
          ]
        },
        {
          "name": "stdout",
          "output_type": "stream",
          "text": [
            "(2/2) Evaluating Column Pair Trends: |█▏        | 269/2278 [00:07<01:12, 27.86it/s]|"
          ]
        },
        {
          "name": "stderr",
          "output_type": "stream",
          "text": [
            "/usr/local/lib/python3.10/dist-packages/sdmetrics/column_pairs/statistical/contingency_similarity.py:43: FutureWarning: The default of observed=False is deprecated and will be changed to True in a future version of pandas. Pass observed=False to retain current behavior or observed=True to adopt the future default and silence this warning.\n",
            "  contingency_real = real.groupby(list(columns), dropna=False).size() / len(real)\n",
            "/usr/local/lib/python3.10/dist-packages/sdmetrics/column_pairs/statistical/contingency_similarity.py:44: FutureWarning: The default of observed=False is deprecated and will be changed to True in a future version of pandas. Pass observed=False to retain current behavior or observed=True to adopt the future default and silence this warning.\n",
            "  contingency_synthetic = synthetic.groupby(list(columns), dropna=False).size() / len(\n"
          ]
        },
        {
          "name": "stdout",
          "output_type": "stream",
          "text": [
            "(2/2) Evaluating Column Pair Trends: |█▎        | 307/2278 [00:08<00:55, 35.78it/s]|"
          ]
        },
        {
          "name": "stderr",
          "output_type": "stream",
          "text": [
            "/usr/local/lib/python3.10/dist-packages/sdmetrics/column_pairs/statistical/contingency_similarity.py:43: FutureWarning: The default of observed=False is deprecated and will be changed to True in a future version of pandas. Pass observed=False to retain current behavior or observed=True to adopt the future default and silence this warning.\n",
            "  contingency_real = real.groupby(list(columns), dropna=False).size() / len(real)\n",
            "/usr/local/lib/python3.10/dist-packages/sdmetrics/column_pairs/statistical/contingency_similarity.py:44: FutureWarning: The default of observed=False is deprecated and will be changed to True in a future version of pandas. Pass observed=False to retain current behavior or observed=True to adopt the future default and silence this warning.\n",
            "  contingency_synthetic = synthetic.groupby(list(columns), dropna=False).size() / len(\n",
            "/usr/local/lib/python3.10/dist-packages/sdmetrics/column_pairs/statistical/contingency_similarity.py:43: FutureWarning: The default of observed=False is deprecated and will be changed to True in a future version of pandas. Pass observed=False to retain current behavior or observed=True to adopt the future default and silence this warning.\n",
            "  contingency_real = real.groupby(list(columns), dropna=False).size() / len(real)\n",
            "/usr/local/lib/python3.10/dist-packages/sdmetrics/column_pairs/statistical/contingency_similarity.py:44: FutureWarning: The default of observed=False is deprecated and will be changed to True in a future version of pandas. Pass observed=False to retain current behavior or observed=True to adopt the future default and silence this warning.\n",
            "  contingency_synthetic = synthetic.groupby(list(columns), dropna=False).size() / len(\n"
          ]
        },
        {
          "name": "stdout",
          "output_type": "stream",
          "text": [
            "(2/2) Evaluating Column Pair Trends: |█▍        | 330/2278 [00:09<01:25, 22.67it/s]|"
          ]
        },
        {
          "name": "stderr",
          "output_type": "stream",
          "text": [
            "/usr/local/lib/python3.10/dist-packages/sdmetrics/column_pairs/statistical/contingency_similarity.py:43: FutureWarning: The default of observed=False is deprecated and will be changed to True in a future version of pandas. Pass observed=False to retain current behavior or observed=True to adopt the future default and silence this warning.\n",
            "  contingency_real = real.groupby(list(columns), dropna=False).size() / len(real)\n",
            "/usr/local/lib/python3.10/dist-packages/sdmetrics/column_pairs/statistical/contingency_similarity.py:44: FutureWarning: The default of observed=False is deprecated and will be changed to True in a future version of pandas. Pass observed=False to retain current behavior or observed=True to adopt the future default and silence this warning.\n",
            "  contingency_synthetic = synthetic.groupby(list(columns), dropna=False).size() / len(\n"
          ]
        },
        {
          "name": "stdout",
          "output_type": "stream",
          "text": [
            "(2/2) Evaluating Column Pair Trends: |█▌        | 367/2278 [00:11<01:45, 18.18it/s]|"
          ]
        },
        {
          "name": "stderr",
          "output_type": "stream",
          "text": [
            "/usr/local/lib/python3.10/dist-packages/sdmetrics/column_pairs/statistical/contingency_similarity.py:43: FutureWarning: The default of observed=False is deprecated and will be changed to True in a future version of pandas. Pass observed=False to retain current behavior or observed=True to adopt the future default and silence this warning.\n",
            "  contingency_real = real.groupby(list(columns), dropna=False).size() / len(real)\n",
            "/usr/local/lib/python3.10/dist-packages/sdmetrics/column_pairs/statistical/contingency_similarity.py:44: FutureWarning: The default of observed=False is deprecated and will be changed to True in a future version of pandas. Pass observed=False to retain current behavior or observed=True to adopt the future default and silence this warning.\n",
            "  contingency_synthetic = synthetic.groupby(list(columns), dropna=False).size() / len(\n",
            "/usr/local/lib/python3.10/dist-packages/sdmetrics/column_pairs/statistical/contingency_similarity.py:43: FutureWarning: The default of observed=False is deprecated and will be changed to True in a future version of pandas. Pass observed=False to retain current behavior or observed=True to adopt the future default and silence this warning.\n",
            "  contingency_real = real.groupby(list(columns), dropna=False).size() / len(real)\n",
            "/usr/local/lib/python3.10/dist-packages/sdmetrics/column_pairs/statistical/contingency_similarity.py:44: FutureWarning: The default of observed=False is deprecated and will be changed to True in a future version of pandas. Pass observed=False to retain current behavior or observed=True to adopt the future default and silence this warning.\n",
            "  contingency_synthetic = synthetic.groupby(list(columns), dropna=False).size() / len(\n"
          ]
        },
        {
          "name": "stdout",
          "output_type": "stream",
          "text": [
            "(2/2) Evaluating Column Pair Trends: |█▋        | 391/2278 [00:12<01:36, 19.65it/s]|"
          ]
        },
        {
          "name": "stderr",
          "output_type": "stream",
          "text": [
            "/usr/local/lib/python3.10/dist-packages/sdmetrics/column_pairs/statistical/contingency_similarity.py:43: FutureWarning: The default of observed=False is deprecated and will be changed to True in a future version of pandas. Pass observed=False to retain current behavior or observed=True to adopt the future default and silence this warning.\n",
            "  contingency_real = real.groupby(list(columns), dropna=False).size() / len(real)\n",
            "/usr/local/lib/python3.10/dist-packages/sdmetrics/column_pairs/statistical/contingency_similarity.py:44: FutureWarning: The default of observed=False is deprecated and will be changed to True in a future version of pandas. Pass observed=False to retain current behavior or observed=True to adopt the future default and silence this warning.\n",
            "  contingency_synthetic = synthetic.groupby(list(columns), dropna=False).size() / len(\n"
          ]
        },
        {
          "name": "stdout",
          "output_type": "stream",
          "text": [
            "(2/2) Evaluating Column Pair Trends: |█▊        | 427/2278 [00:14<01:50, 16.82it/s]|"
          ]
        },
        {
          "name": "stderr",
          "output_type": "stream",
          "text": [
            "/usr/local/lib/python3.10/dist-packages/sdmetrics/column_pairs/statistical/contingency_similarity.py:43: FutureWarning: The default of observed=False is deprecated and will be changed to True in a future version of pandas. Pass observed=False to retain current behavior or observed=True to adopt the future default and silence this warning.\n",
            "  contingency_real = real.groupby(list(columns), dropna=False).size() / len(real)\n",
            "/usr/local/lib/python3.10/dist-packages/sdmetrics/column_pairs/statistical/contingency_similarity.py:44: FutureWarning: The default of observed=False is deprecated and will be changed to True in a future version of pandas. Pass observed=False to retain current behavior or observed=True to adopt the future default and silence this warning.\n",
            "  contingency_synthetic = synthetic.groupby(list(columns), dropna=False).size() / len(\n",
            "/usr/local/lib/python3.10/dist-packages/sdmetrics/column_pairs/statistical/contingency_similarity.py:43: FutureWarning: The default of observed=False is deprecated and will be changed to True in a future version of pandas. Pass observed=False to retain current behavior or observed=True to adopt the future default and silence this warning.\n",
            "  contingency_real = real.groupby(list(columns), dropna=False).size() / len(real)\n",
            "/usr/local/lib/python3.10/dist-packages/sdmetrics/column_pairs/statistical/contingency_similarity.py:44: FutureWarning: The default of observed=False is deprecated and will be changed to True in a future version of pandas. Pass observed=False to retain current behavior or observed=True to adopt the future default and silence this warning.\n",
            "  contingency_synthetic = synthetic.groupby(list(columns), dropna=False).size() / len(\n"
          ]
        },
        {
          "name": "stdout",
          "output_type": "stream",
          "text": [
            "(2/2) Evaluating Column Pair Trends: |██        | 456/2278 [00:15<00:59, 30.38it/s]|"
          ]
        },
        {
          "name": "stderr",
          "output_type": "stream",
          "text": [
            "/usr/local/lib/python3.10/dist-packages/sdmetrics/column_pairs/statistical/contingency_similarity.py:43: FutureWarning: The default of observed=False is deprecated and will be changed to True in a future version of pandas. Pass observed=False to retain current behavior or observed=True to adopt the future default and silence this warning.\n",
            "  contingency_real = real.groupby(list(columns), dropna=False).size() / len(real)\n",
            "/usr/local/lib/python3.10/dist-packages/sdmetrics/column_pairs/statistical/contingency_similarity.py:44: FutureWarning: The default of observed=False is deprecated and will be changed to True in a future version of pandas. Pass observed=False to retain current behavior or observed=True to adopt the future default and silence this warning.\n",
            "  contingency_synthetic = synthetic.groupby(list(columns), dropna=False).size() / len(\n"
          ]
        },
        {
          "name": "stdout",
          "output_type": "stream",
          "text": [
            "(2/2) Evaluating Column Pair Trends: |██▏       | 493/2278 [00:16<00:38, 46.68it/s]|"
          ]
        },
        {
          "name": "stderr",
          "output_type": "stream",
          "text": [
            "/usr/local/lib/python3.10/dist-packages/sdmetrics/column_pairs/statistical/contingency_similarity.py:43: FutureWarning: The default of observed=False is deprecated and will be changed to True in a future version of pandas. Pass observed=False to retain current behavior or observed=True to adopt the future default and silence this warning.\n",
            "  contingency_real = real.groupby(list(columns), dropna=False).size() / len(real)\n",
            "/usr/local/lib/python3.10/dist-packages/sdmetrics/column_pairs/statistical/contingency_similarity.py:44: FutureWarning: The default of observed=False is deprecated and will be changed to True in a future version of pandas. Pass observed=False to retain current behavior or observed=True to adopt the future default and silence this warning.\n",
            "  contingency_synthetic = synthetic.groupby(list(columns), dropna=False).size() / len(\n",
            "/usr/local/lib/python3.10/dist-packages/sdmetrics/column_pairs/statistical/contingency_similarity.py:43: FutureWarning: The default of observed=False is deprecated and will be changed to True in a future version of pandas. Pass observed=False to retain current behavior or observed=True to adopt the future default and silence this warning.\n",
            "  contingency_real = real.groupby(list(columns), dropna=False).size() / len(real)\n",
            "/usr/local/lib/python3.10/dist-packages/sdmetrics/column_pairs/statistical/contingency_similarity.py:44: FutureWarning: The default of observed=False is deprecated and will be changed to True in a future version of pandas. Pass observed=False to retain current behavior or observed=True to adopt the future default and silence this warning.\n",
            "  contingency_synthetic = synthetic.groupby(list(columns), dropna=False).size() / len(\n"
          ]
        },
        {
          "name": "stdout",
          "output_type": "stream",
          "text": [
            "(2/2) Evaluating Column Pair Trends: |██▎       | 516/2278 [00:16<00:37, 46.80it/s]|"
          ]
        },
        {
          "name": "stderr",
          "output_type": "stream",
          "text": [
            "/usr/local/lib/python3.10/dist-packages/sdmetrics/column_pairs/statistical/contingency_similarity.py:43: FutureWarning: The default of observed=False is deprecated and will be changed to True in a future version of pandas. Pass observed=False to retain current behavior or observed=True to adopt the future default and silence this warning.\n",
            "  contingency_real = real.groupby(list(columns), dropna=False).size() / len(real)\n",
            "/usr/local/lib/python3.10/dist-packages/sdmetrics/column_pairs/statistical/contingency_similarity.py:44: FutureWarning: The default of observed=False is deprecated and will be changed to True in a future version of pandas. Pass observed=False to retain current behavior or observed=True to adopt the future default and silence this warning.\n",
            "  contingency_synthetic = synthetic.groupby(list(columns), dropna=False).size() / len(\n",
            "/usr/local/lib/python3.10/dist-packages/sdmetrics/column_pairs/statistical/contingency_similarity.py:43: FutureWarning: The default of observed=False is deprecated and will be changed to True in a future version of pandas. Pass observed=False to retain current behavior or observed=True to adopt the future default and silence this warning.\n",
            "  contingency_real = real.groupby(list(columns), dropna=False).size() / len(real)\n",
            "/usr/local/lib/python3.10/dist-packages/sdmetrics/column_pairs/statistical/contingency_similarity.py:44: FutureWarning: The default of observed=False is deprecated and will be changed to True in a future version of pandas. Pass observed=False to retain current behavior or observed=True to adopt the future default and silence this warning.\n",
            "  contingency_synthetic = synthetic.groupby(list(columns), dropna=False).size() / len(\n",
            "/usr/local/lib/python3.10/dist-packages/sdmetrics/column_pairs/statistical/contingency_similarity.py:43: FutureWarning: The default of observed=False is deprecated and will be changed to True in a future version of pandas. Pass observed=False to retain current behavior or observed=True to adopt the future default and silence this warning.\n",
            "  contingency_real = real.groupby(list(columns), dropna=False).size() / len(real)\n",
            "/usr/local/lib/python3.10/dist-packages/sdmetrics/column_pairs/statistical/contingency_similarity.py:44: FutureWarning: The default of observed=False is deprecated and will be changed to True in a future version of pandas. Pass observed=False to retain current behavior or observed=True to adopt the future default and silence this warning.\n",
            "  contingency_synthetic = synthetic.groupby(list(columns), dropna=False).size() / len(\n",
            "/usr/local/lib/python3.10/dist-packages/sdmetrics/column_pairs/statistical/contingency_similarity.py:43: FutureWarning: The default of observed=False is deprecated and will be changed to True in a future version of pandas. Pass observed=False to retain current behavior or observed=True to adopt the future default and silence this warning.\n",
            "  contingency_real = real.groupby(list(columns), dropna=False).size() / len(real)\n",
            "/usr/local/lib/python3.10/dist-packages/sdmetrics/column_pairs/statistical/contingency_similarity.py:44: FutureWarning: The default of observed=False is deprecated and will be changed to True in a future version of pandas. Pass observed=False to retain current behavior or observed=True to adopt the future default and silence this warning.\n",
            "  contingency_synthetic = synthetic.groupby(list(columns), dropna=False).size() / len(\n",
            "/usr/local/lib/python3.10/dist-packages/sdmetrics/column_pairs/statistical/contingency_similarity.py:43: FutureWarning: The default of observed=False is deprecated and will be changed to True in a future version of pandas. Pass observed=False to retain current behavior or observed=True to adopt the future default and silence this warning.\n",
            "  contingency_real = real.groupby(list(columns), dropna=False).size() / len(real)\n",
            "/usr/local/lib/python3.10/dist-packages/sdmetrics/column_pairs/statistical/contingency_similarity.py:44: FutureWarning: The default of observed=False is deprecated and will be changed to True in a future version of pandas. Pass observed=False to retain current behavior or observed=True to adopt the future default and silence this warning.\n",
            "  contingency_synthetic = synthetic.groupby(list(columns), dropna=False).size() / len(\n",
            "/usr/local/lib/python3.10/dist-packages/sdmetrics/column_pairs/statistical/contingency_similarity.py:43: FutureWarning: The default of observed=False is deprecated and will be changed to True in a future version of pandas. Pass observed=False to retain current behavior or observed=True to adopt the future default and silence this warning.\n",
            "  contingency_real = real.groupby(list(columns), dropna=False).size() / len(real)\n",
            "/usr/local/lib/python3.10/dist-packages/sdmetrics/column_pairs/statistical/contingency_similarity.py:44: FutureWarning: The default of observed=False is deprecated and will be changed to True in a future version of pandas. Pass observed=False to retain current behavior or observed=True to adopt the future default and silence this warning.\n",
            "  contingency_synthetic = synthetic.groupby(list(columns), dropna=False).size() / len(\n",
            "/usr/local/lib/python3.10/dist-packages/sdmetrics/column_pairs/statistical/contingency_similarity.py:43: FutureWarning: The default of observed=False is deprecated and will be changed to True in a future version of pandas. Pass observed=False to retain current behavior or observed=True to adopt the future default and silence this warning.\n",
            "  contingency_real = real.groupby(list(columns), dropna=False).size() / len(real)\n",
            "/usr/local/lib/python3.10/dist-packages/sdmetrics/column_pairs/statistical/contingency_similarity.py:44: FutureWarning: The default of observed=False is deprecated and will be changed to True in a future version of pandas. Pass observed=False to retain current behavior or observed=True to adopt the future default and silence this warning.\n",
            "  contingency_synthetic = synthetic.groupby(list(columns), dropna=False).size() / len(\n",
            "/usr/local/lib/python3.10/dist-packages/sdmetrics/column_pairs/statistical/contingency_similarity.py:43: FutureWarning: The default of observed=False is deprecated and will be changed to True in a future version of pandas. Pass observed=False to retain current behavior or observed=True to adopt the future default and silence this warning.\n",
            "  contingency_real = real.groupby(list(columns), dropna=False).size() / len(real)\n",
            "/usr/local/lib/python3.10/dist-packages/sdmetrics/column_pairs/statistical/contingency_similarity.py:44: FutureWarning: The default of observed=False is deprecated and will be changed to True in a future version of pandas. Pass observed=False to retain current behavior or observed=True to adopt the future default and silence this warning.\n",
            "  contingency_synthetic = synthetic.groupby(list(columns), dropna=False).size() / len(\n"
          ]
        },
        {
          "name": "stdout",
          "output_type": "stream",
          "text": [
            "\r(2/2) Evaluating Column Pair Trends: |██▎       | 521/2278 [00:16<00:38, 45.78it/s]|"
          ]
        },
        {
          "name": "stderr",
          "output_type": "stream",
          "text": [
            "/usr/local/lib/python3.10/dist-packages/sdmetrics/column_pairs/statistical/contingency_similarity.py:43: FutureWarning: The default of observed=False is deprecated and will be changed to True in a future version of pandas. Pass observed=False to retain current behavior or observed=True to adopt the future default and silence this warning.\n",
            "  contingency_real = real.groupby(list(columns), dropna=False).size() / len(real)\n",
            "/usr/local/lib/python3.10/dist-packages/sdmetrics/column_pairs/statistical/contingency_similarity.py:44: FutureWarning: The default of observed=False is deprecated and will be changed to True in a future version of pandas. Pass observed=False to retain current behavior or observed=True to adopt the future default and silence this warning.\n",
            "  contingency_synthetic = synthetic.groupby(list(columns), dropna=False).size() / len(\n",
            "/usr/local/lib/python3.10/dist-packages/sdmetrics/column_pairs/statistical/contingency_similarity.py:43: FutureWarning: The default of observed=False is deprecated and will be changed to True in a future version of pandas. Pass observed=False to retain current behavior or observed=True to adopt the future default and silence this warning.\n",
            "  contingency_real = real.groupby(list(columns), dropna=False).size() / len(real)\n",
            "/usr/local/lib/python3.10/dist-packages/sdmetrics/column_pairs/statistical/contingency_similarity.py:44: FutureWarning: The default of observed=False is deprecated and will be changed to True in a future version of pandas. Pass observed=False to retain current behavior or observed=True to adopt the future default and silence this warning.\n",
            "  contingency_synthetic = synthetic.groupby(list(columns), dropna=False).size() / len(\n",
            "/usr/local/lib/python3.10/dist-packages/sdmetrics/column_pairs/statistical/contingency_similarity.py:43: FutureWarning: The default of observed=False is deprecated and will be changed to True in a future version of pandas. Pass observed=False to retain current behavior or observed=True to adopt the future default and silence this warning.\n",
            "  contingency_real = real.groupby(list(columns), dropna=False).size() / len(real)\n",
            "/usr/local/lib/python3.10/dist-packages/sdmetrics/column_pairs/statistical/contingency_similarity.py:44: FutureWarning: The default of observed=False is deprecated and will be changed to True in a future version of pandas. Pass observed=False to retain current behavior or observed=True to adopt the future default and silence this warning.\n",
            "  contingency_synthetic = synthetic.groupby(list(columns), dropna=False).size() / len(\n",
            "/usr/local/lib/python3.10/dist-packages/sdmetrics/column_pairs/statistical/contingency_similarity.py:43: FutureWarning: The default of observed=False is deprecated and will be changed to True in a future version of pandas. Pass observed=False to retain current behavior or observed=True to adopt the future default and silence this warning.\n",
            "  contingency_real = real.groupby(list(columns), dropna=False).size() / len(real)\n",
            "/usr/local/lib/python3.10/dist-packages/sdmetrics/column_pairs/statistical/contingency_similarity.py:44: FutureWarning: The default of observed=False is deprecated and will be changed to True in a future version of pandas. Pass observed=False to retain current behavior or observed=True to adopt the future default and silence this warning.\n",
            "  contingency_synthetic = synthetic.groupby(list(columns), dropna=False).size() / len(\n",
            "/usr/local/lib/python3.10/dist-packages/sdmetrics/column_pairs/statistical/contingency_similarity.py:43: FutureWarning: The default of observed=False is deprecated and will be changed to True in a future version of pandas. Pass observed=False to retain current behavior or observed=True to adopt the future default and silence this warning.\n",
            "  contingency_real = real.groupby(list(columns), dropna=False).size() / len(real)\n",
            "/usr/local/lib/python3.10/dist-packages/sdmetrics/column_pairs/statistical/contingency_similarity.py:44: FutureWarning: The default of observed=False is deprecated and will be changed to True in a future version of pandas. Pass observed=False to retain current behavior or observed=True to adopt the future default and silence this warning.\n",
            "  contingency_synthetic = synthetic.groupby(list(columns), dropna=False).size() / len(\n",
            "/usr/local/lib/python3.10/dist-packages/sdmetrics/column_pairs/statistical/contingency_similarity.py:43: FutureWarning: The default of observed=False is deprecated and will be changed to True in a future version of pandas. Pass observed=False to retain current behavior or observed=True to adopt the future default and silence this warning.\n",
            "  contingency_real = real.groupby(list(columns), dropna=False).size() / len(real)\n",
            "/usr/local/lib/python3.10/dist-packages/sdmetrics/column_pairs/statistical/contingency_similarity.py:44: FutureWarning: The default of observed=False is deprecated and will be changed to True in a future version of pandas. Pass observed=False to retain current behavior or observed=True to adopt the future default and silence this warning.\n",
            "  contingency_synthetic = synthetic.groupby(list(columns), dropna=False).size() / len(\n",
            "/usr/local/lib/python3.10/dist-packages/sdmetrics/column_pairs/statistical/contingency_similarity.py:43: FutureWarning: The default of observed=False is deprecated and will be changed to True in a future version of pandas. Pass observed=False to retain current behavior or observed=True to adopt the future default and silence this warning.\n",
            "  contingency_real = real.groupby(list(columns), dropna=False).size() / len(real)\n",
            "/usr/local/lib/python3.10/dist-packages/sdmetrics/column_pairs/statistical/contingency_similarity.py:44: FutureWarning: The default of observed=False is deprecated and will be changed to True in a future version of pandas. Pass observed=False to retain current behavior or observed=True to adopt the future default and silence this warning.\n",
            "  contingency_synthetic = synthetic.groupby(list(columns), dropna=False).size() / len(\n",
            "/usr/local/lib/python3.10/dist-packages/sdmetrics/column_pairs/statistical/contingency_similarity.py:43: FutureWarning: The default of observed=False is deprecated and will be changed to True in a future version of pandas. Pass observed=False to retain current behavior or observed=True to adopt the future default and silence this warning.\n",
            "  contingency_real = real.groupby(list(columns), dropna=False).size() / len(real)\n",
            "/usr/local/lib/python3.10/dist-packages/sdmetrics/column_pairs/statistical/contingency_similarity.py:44: FutureWarning: The default of observed=False is deprecated and will be changed to True in a future version of pandas. Pass observed=False to retain current behavior or observed=True to adopt the future default and silence this warning.\n",
            "  contingency_synthetic = synthetic.groupby(list(columns), dropna=False).size() / len(\n",
            "/usr/local/lib/python3.10/dist-packages/sdmetrics/column_pairs/statistical/contingency_similarity.py:43: FutureWarning: The default of observed=False is deprecated and will be changed to True in a future version of pandas. Pass observed=False to retain current behavior or observed=True to adopt the future default and silence this warning.\n",
            "  contingency_real = real.groupby(list(columns), dropna=False).size() / len(real)\n",
            "/usr/local/lib/python3.10/dist-packages/sdmetrics/column_pairs/statistical/contingency_similarity.py:44: FutureWarning: The default of observed=False is deprecated and will be changed to True in a future version of pandas. Pass observed=False to retain current behavior or observed=True to adopt the future default and silence this warning.\n",
            "  contingency_synthetic = synthetic.groupby(list(columns), dropna=False).size() / len(\n",
            "/usr/local/lib/python3.10/dist-packages/sdmetrics/column_pairs/statistical/contingency_similarity.py:43: FutureWarning: The default of observed=False is deprecated and will be changed to True in a future version of pandas. Pass observed=False to retain current behavior or observed=True to adopt the future default and silence this warning.\n",
            "  contingency_real = real.groupby(list(columns), dropna=False).size() / len(real)\n"
          ]
        },
        {
          "name": "stdout",
          "output_type": "stream",
          "text": [
            "(2/2) Evaluating Column Pair Trends: |██▎       | 531/2278 [00:17<00:38, 45.04it/s]|"
          ]
        },
        {
          "name": "stderr",
          "output_type": "stream",
          "text": [
            "/usr/local/lib/python3.10/dist-packages/sdmetrics/column_pairs/statistical/contingency_similarity.py:44: FutureWarning: The default of observed=False is deprecated and will be changed to True in a future version of pandas. Pass observed=False to retain current behavior or observed=True to adopt the future default and silence this warning.\n",
            "  contingency_synthetic = synthetic.groupby(list(columns), dropna=False).size() / len(\n",
            "/usr/local/lib/python3.10/dist-packages/sdmetrics/column_pairs/statistical/contingency_similarity.py:43: FutureWarning: The default of observed=False is deprecated and will be changed to True in a future version of pandas. Pass observed=False to retain current behavior or observed=True to adopt the future default and silence this warning.\n",
            "  contingency_real = real.groupby(list(columns), dropna=False).size() / len(real)\n",
            "/usr/local/lib/python3.10/dist-packages/sdmetrics/column_pairs/statistical/contingency_similarity.py:44: FutureWarning: The default of observed=False is deprecated and will be changed to True in a future version of pandas. Pass observed=False to retain current behavior or observed=True to adopt the future default and silence this warning.\n",
            "  contingency_synthetic = synthetic.groupby(list(columns), dropna=False).size() / len(\n",
            "/usr/local/lib/python3.10/dist-packages/sdmetrics/column_pairs/statistical/contingency_similarity.py:43: FutureWarning: The default of observed=False is deprecated and will be changed to True in a future version of pandas. Pass observed=False to retain current behavior or observed=True to adopt the future default and silence this warning.\n",
            "  contingency_real = real.groupby(list(columns), dropna=False).size() / len(real)\n",
            "/usr/local/lib/python3.10/dist-packages/sdmetrics/column_pairs/statistical/contingency_similarity.py:44: FutureWarning: The default of observed=False is deprecated and will be changed to True in a future version of pandas. Pass observed=False to retain current behavior or observed=True to adopt the future default and silence this warning.\n",
            "  contingency_synthetic = synthetic.groupby(list(columns), dropna=False).size() / len(\n",
            "/usr/local/lib/python3.10/dist-packages/sdmetrics/column_pairs/statistical/contingency_similarity.py:43: FutureWarning: The default of observed=False is deprecated and will be changed to True in a future version of pandas. Pass observed=False to retain current behavior or observed=True to adopt the future default and silence this warning.\n",
            "  contingency_real = real.groupby(list(columns), dropna=False).size() / len(real)\n",
            "/usr/local/lib/python3.10/dist-packages/sdmetrics/column_pairs/statistical/contingency_similarity.py:44: FutureWarning: The default of observed=False is deprecated and will be changed to True in a future version of pandas. Pass observed=False to retain current behavior or observed=True to adopt the future default and silence this warning.\n",
            "  contingency_synthetic = synthetic.groupby(list(columns), dropna=False).size() / len(\n",
            "/usr/local/lib/python3.10/dist-packages/sdmetrics/column_pairs/statistical/contingency_similarity.py:43: FutureWarning: The default of observed=False is deprecated and will be changed to True in a future version of pandas. Pass observed=False to retain current behavior or observed=True to adopt the future default and silence this warning.\n",
            "  contingency_real = real.groupby(list(columns), dropna=False).size() / len(real)\n",
            "/usr/local/lib/python3.10/dist-packages/sdmetrics/column_pairs/statistical/contingency_similarity.py:44: FutureWarning: The default of observed=False is deprecated and will be changed to True in a future version of pandas. Pass observed=False to retain current behavior or observed=True to adopt the future default and silence this warning.\n",
            "  contingency_synthetic = synthetic.groupby(list(columns), dropna=False).size() / len(\n",
            "/usr/local/lib/python3.10/dist-packages/sdmetrics/column_pairs/statistical/contingency_similarity.py:43: FutureWarning: The default of observed=False is deprecated and will be changed to True in a future version of pandas. Pass observed=False to retain current behavior or observed=True to adopt the future default and silence this warning.\n",
            "  contingency_real = real.groupby(list(columns), dropna=False).size() / len(real)\n",
            "/usr/local/lib/python3.10/dist-packages/sdmetrics/column_pairs/statistical/contingency_similarity.py:44: FutureWarning: The default of observed=False is deprecated and will be changed to True in a future version of pandas. Pass observed=False to retain current behavior or observed=True to adopt the future default and silence this warning.\n",
            "  contingency_synthetic = synthetic.groupby(list(columns), dropna=False).size() / len(\n",
            "/usr/local/lib/python3.10/dist-packages/sdmetrics/column_pairs/statistical/contingency_similarity.py:43: FutureWarning: The default of observed=False is deprecated and will be changed to True in a future version of pandas. Pass observed=False to retain current behavior or observed=True to adopt the future default and silence this warning.\n",
            "  contingency_real = real.groupby(list(columns), dropna=False).size() / len(real)\n",
            "/usr/local/lib/python3.10/dist-packages/sdmetrics/column_pairs/statistical/contingency_similarity.py:44: FutureWarning: The default of observed=False is deprecated and will be changed to True in a future version of pandas. Pass observed=False to retain current behavior or observed=True to adopt the future default and silence this warning.\n",
            "  contingency_synthetic = synthetic.groupby(list(columns), dropna=False).size() / len(\n",
            "/usr/local/lib/python3.10/dist-packages/sdmetrics/column_pairs/statistical/contingency_similarity.py:43: FutureWarning: The default of observed=False is deprecated and will be changed to True in a future version of pandas. Pass observed=False to retain current behavior or observed=True to adopt the future default and silence this warning.\n",
            "  contingency_real = real.groupby(list(columns), dropna=False).size() / len(real)\n",
            "/usr/local/lib/python3.10/dist-packages/sdmetrics/column_pairs/statistical/contingency_similarity.py:44: FutureWarning: The default of observed=False is deprecated and will be changed to True in a future version of pandas. Pass observed=False to retain current behavior or observed=True to adopt the future default and silence this warning.\n",
            "  contingency_synthetic = synthetic.groupby(list(columns), dropna=False).size() / len(\n",
            "/usr/local/lib/python3.10/dist-packages/sdmetrics/column_pairs/statistical/contingency_similarity.py:43: FutureWarning: The default of observed=False is deprecated and will be changed to True in a future version of pandas. Pass observed=False to retain current behavior or observed=True to adopt the future default and silence this warning.\n",
            "  contingency_real = real.groupby(list(columns), dropna=False).size() / len(real)\n",
            "/usr/local/lib/python3.10/dist-packages/sdmetrics/column_pairs/statistical/contingency_similarity.py:44: FutureWarning: The default of observed=False is deprecated and will be changed to True in a future version of pandas. Pass observed=False to retain current behavior or observed=True to adopt the future default and silence this warning.\n",
            "  contingency_synthetic = synthetic.groupby(list(columns), dropna=False).size() / len(\n",
            "/usr/local/lib/python3.10/dist-packages/sdmetrics/column_pairs/statistical/contingency_similarity.py:43: FutureWarning: The default of observed=False is deprecated and will be changed to True in a future version of pandas. Pass observed=False to retain current behavior or observed=True to adopt the future default and silence this warning.\n",
            "  contingency_real = real.groupby(list(columns), dropna=False).size() / len(real)\n",
            "/usr/local/lib/python3.10/dist-packages/sdmetrics/column_pairs/statistical/contingency_similarity.py:44: FutureWarning: The default of observed=False is deprecated and will be changed to True in a future version of pandas. Pass observed=False to retain current behavior or observed=True to adopt the future default and silence this warning.\n",
            "  contingency_synthetic = synthetic.groupby(list(columns), dropna=False).size() / len(\n"
          ]
        },
        {
          "name": "stdout",
          "output_type": "stream",
          "text": [
            "(2/2) Evaluating Column Pair Trends: |██▎       | 541/2278 [00:17<00:38, 45.07it/s]|"
          ]
        },
        {
          "name": "stderr",
          "output_type": "stream",
          "text": [
            "/usr/local/lib/python3.10/dist-packages/sdmetrics/column_pairs/statistical/contingency_similarity.py:43: FutureWarning: The default of observed=False is deprecated and will be changed to True in a future version of pandas. Pass observed=False to retain current behavior or observed=True to adopt the future default and silence this warning.\n",
            "  contingency_real = real.groupby(list(columns), dropna=False).size() / len(real)\n",
            "/usr/local/lib/python3.10/dist-packages/sdmetrics/column_pairs/statistical/contingency_similarity.py:44: FutureWarning: The default of observed=False is deprecated and will be changed to True in a future version of pandas. Pass observed=False to retain current behavior or observed=True to adopt the future default and silence this warning.\n",
            "  contingency_synthetic = synthetic.groupby(list(columns), dropna=False).size() / len(\n",
            "/usr/local/lib/python3.10/dist-packages/sdmetrics/column_pairs/statistical/contingency_similarity.py:43: FutureWarning: The default of observed=False is deprecated and will be changed to True in a future version of pandas. Pass observed=False to retain current behavior or observed=True to adopt the future default and silence this warning.\n",
            "  contingency_real = real.groupby(list(columns), dropna=False).size() / len(real)\n",
            "/usr/local/lib/python3.10/dist-packages/sdmetrics/column_pairs/statistical/contingency_similarity.py:44: FutureWarning: The default of observed=False is deprecated and will be changed to True in a future version of pandas. Pass observed=False to retain current behavior or observed=True to adopt the future default and silence this warning.\n",
            "  contingency_synthetic = synthetic.groupby(list(columns), dropna=False).size() / len(\n",
            "/usr/local/lib/python3.10/dist-packages/sdmetrics/column_pairs/statistical/contingency_similarity.py:43: FutureWarning: The default of observed=False is deprecated and will be changed to True in a future version of pandas. Pass observed=False to retain current behavior or observed=True to adopt the future default and silence this warning.\n",
            "  contingency_real = real.groupby(list(columns), dropna=False).size() / len(real)\n",
            "/usr/local/lib/python3.10/dist-packages/sdmetrics/column_pairs/statistical/contingency_similarity.py:44: FutureWarning: The default of observed=False is deprecated and will be changed to True in a future version of pandas. Pass observed=False to retain current behavior or observed=True to adopt the future default and silence this warning.\n",
            "  contingency_synthetic = synthetic.groupby(list(columns), dropna=False).size() / len(\n",
            "/usr/local/lib/python3.10/dist-packages/sdmetrics/column_pairs/statistical/contingency_similarity.py:43: FutureWarning: The default of observed=False is deprecated and will be changed to True in a future version of pandas. Pass observed=False to retain current behavior or observed=True to adopt the future default and silence this warning.\n",
            "  contingency_real = real.groupby(list(columns), dropna=False).size() / len(real)\n",
            "/usr/local/lib/python3.10/dist-packages/sdmetrics/column_pairs/statistical/contingency_similarity.py:44: FutureWarning: The default of observed=False is deprecated and will be changed to True in a future version of pandas. Pass observed=False to retain current behavior or observed=True to adopt the future default and silence this warning.\n",
            "  contingency_synthetic = synthetic.groupby(list(columns), dropna=False).size() / len(\n",
            "/usr/local/lib/python3.10/dist-packages/sdmetrics/column_pairs/statistical/contingency_similarity.py:43: FutureWarning: The default of observed=False is deprecated and will be changed to True in a future version of pandas. Pass observed=False to retain current behavior or observed=True to adopt the future default and silence this warning.\n",
            "  contingency_real = real.groupby(list(columns), dropna=False).size() / len(real)\n",
            "/usr/local/lib/python3.10/dist-packages/sdmetrics/column_pairs/statistical/contingency_similarity.py:44: FutureWarning: The default of observed=False is deprecated and will be changed to True in a future version of pandas. Pass observed=False to retain current behavior or observed=True to adopt the future default and silence this warning.\n",
            "  contingency_synthetic = synthetic.groupby(list(columns), dropna=False).size() / len(\n",
            "/usr/local/lib/python3.10/dist-packages/sdmetrics/column_pairs/statistical/contingency_similarity.py:43: FutureWarning: The default of observed=False is deprecated and will be changed to True in a future version of pandas. Pass observed=False to retain current behavior or observed=True to adopt the future default and silence this warning.\n",
            "  contingency_real = real.groupby(list(columns), dropna=False).size() / len(real)\n",
            "/usr/local/lib/python3.10/dist-packages/sdmetrics/column_pairs/statistical/contingency_similarity.py:44: FutureWarning: The default of observed=False is deprecated and will be changed to True in a future version of pandas. Pass observed=False to retain current behavior or observed=True to adopt the future default and silence this warning.\n",
            "  contingency_synthetic = synthetic.groupby(list(columns), dropna=False).size() / len(\n",
            "/usr/local/lib/python3.10/dist-packages/sdmetrics/column_pairs/statistical/contingency_similarity.py:43: FutureWarning: The default of observed=False is deprecated and will be changed to True in a future version of pandas. Pass observed=False to retain current behavior or observed=True to adopt the future default and silence this warning.\n",
            "  contingency_real = real.groupby(list(columns), dropna=False).size() / len(real)\n",
            "/usr/local/lib/python3.10/dist-packages/sdmetrics/column_pairs/statistical/contingency_similarity.py:44: FutureWarning: The default of observed=False is deprecated and will be changed to True in a future version of pandas. Pass observed=False to retain current behavior or observed=True to adopt the future default and silence this warning.\n",
            "  contingency_synthetic = synthetic.groupby(list(columns), dropna=False).size() / len(\n",
            "/usr/local/lib/python3.10/dist-packages/sdmetrics/column_pairs/statistical/contingency_similarity.py:43: FutureWarning: The default of observed=False is deprecated and will be changed to True in a future version of pandas. Pass observed=False to retain current behavior or observed=True to adopt the future default and silence this warning.\n",
            "  contingency_real = real.groupby(list(columns), dropna=False).size() / len(real)\n",
            "/usr/local/lib/python3.10/dist-packages/sdmetrics/column_pairs/statistical/contingency_similarity.py:44: FutureWarning: The default of observed=False is deprecated and will be changed to True in a future version of pandas. Pass observed=False to retain current behavior or observed=True to adopt the future default and silence this warning.\n",
            "  contingency_synthetic = synthetic.groupby(list(columns), dropna=False).size() / len(\n"
          ]
        },
        {
          "name": "stdout",
          "output_type": "stream",
          "text": [
            "(2/2) Evaluating Column Pair Trends: |██▍       | 551/2278 [00:17<00:42, 40.38it/s]|"
          ]
        },
        {
          "name": "stderr",
          "output_type": "stream",
          "text": [
            "/usr/local/lib/python3.10/dist-packages/sdmetrics/column_pairs/statistical/contingency_similarity.py:43: FutureWarning: The default of observed=False is deprecated and will be changed to True in a future version of pandas. Pass observed=False to retain current behavior or observed=True to adopt the future default and silence this warning.\n",
            "  contingency_real = real.groupby(list(columns), dropna=False).size() / len(real)\n",
            "/usr/local/lib/python3.10/dist-packages/sdmetrics/column_pairs/statistical/contingency_similarity.py:44: FutureWarning: The default of observed=False is deprecated and will be changed to True in a future version of pandas. Pass observed=False to retain current behavior or observed=True to adopt the future default and silence this warning.\n",
            "  contingency_synthetic = synthetic.groupby(list(columns), dropna=False).size() / len(\n",
            "/usr/local/lib/python3.10/dist-packages/sdmetrics/column_pairs/statistical/contingency_similarity.py:43: FutureWarning: The default of observed=False is deprecated and will be changed to True in a future version of pandas. Pass observed=False to retain current behavior or observed=True to adopt the future default and silence this warning.\n",
            "  contingency_real = real.groupby(list(columns), dropna=False).size() / len(real)\n",
            "/usr/local/lib/python3.10/dist-packages/sdmetrics/column_pairs/statistical/contingency_similarity.py:44: FutureWarning: The default of observed=False is deprecated and will be changed to True in a future version of pandas. Pass observed=False to retain current behavior or observed=True to adopt the future default and silence this warning.\n",
            "  contingency_synthetic = synthetic.groupby(list(columns), dropna=False).size() / len(\n",
            "/usr/local/lib/python3.10/dist-packages/sdmetrics/column_pairs/statistical/contingency_similarity.py:43: FutureWarning: The default of observed=False is deprecated and will be changed to True in a future version of pandas. Pass observed=False to retain current behavior or observed=True to adopt the future default and silence this warning.\n",
            "  contingency_real = real.groupby(list(columns), dropna=False).size() / len(real)\n",
            "/usr/local/lib/python3.10/dist-packages/sdmetrics/column_pairs/statistical/contingency_similarity.py:44: FutureWarning: The default of observed=False is deprecated and will be changed to True in a future version of pandas. Pass observed=False to retain current behavior or observed=True to adopt the future default and silence this warning.\n",
            "  contingency_synthetic = synthetic.groupby(list(columns), dropna=False).size() / len(\n",
            "/usr/local/lib/python3.10/dist-packages/sdmetrics/column_pairs/statistical/contingency_similarity.py:43: FutureWarning: The default of observed=False is deprecated and will be changed to True in a future version of pandas. Pass observed=False to retain current behavior or observed=True to adopt the future default and silence this warning.\n",
            "  contingency_real = real.groupby(list(columns), dropna=False).size() / len(real)\n",
            "/usr/local/lib/python3.10/dist-packages/sdmetrics/column_pairs/statistical/contingency_similarity.py:44: FutureWarning: The default of observed=False is deprecated and will be changed to True in a future version of pandas. Pass observed=False to retain current behavior or observed=True to adopt the future default and silence this warning.\n",
            "  contingency_synthetic = synthetic.groupby(list(columns), dropna=False).size() / len(\n",
            "/usr/local/lib/python3.10/dist-packages/sdmetrics/column_pairs/statistical/contingency_similarity.py:43: FutureWarning: The default of observed=False is deprecated and will be changed to True in a future version of pandas. Pass observed=False to retain current behavior or observed=True to adopt the future default and silence this warning.\n",
            "  contingency_real = real.groupby(list(columns), dropna=False).size() / len(real)\n",
            "/usr/local/lib/python3.10/dist-packages/sdmetrics/column_pairs/statistical/contingency_similarity.py:44: FutureWarning: The default of observed=False is deprecated and will be changed to True in a future version of pandas. Pass observed=False to retain current behavior or observed=True to adopt the future default and silence this warning.\n",
            "  contingency_synthetic = synthetic.groupby(list(columns), dropna=False).size() / len(\n",
            "/usr/local/lib/python3.10/dist-packages/sdmetrics/column_pairs/statistical/contingency_similarity.py:43: FutureWarning: The default of observed=False is deprecated and will be changed to True in a future version of pandas. Pass observed=False to retain current behavior or observed=True to adopt the future default and silence this warning.\n",
            "  contingency_real = real.groupby(list(columns), dropna=False).size() / len(real)\n",
            "/usr/local/lib/python3.10/dist-packages/sdmetrics/column_pairs/statistical/contingency_similarity.py:44: FutureWarning: The default of observed=False is deprecated and will be changed to True in a future version of pandas. Pass observed=False to retain current behavior or observed=True to adopt the future default and silence this warning.\n",
            "  contingency_synthetic = synthetic.groupby(list(columns), dropna=False).size() / len(\n",
            "/usr/local/lib/python3.10/dist-packages/sdmetrics/column_pairs/statistical/contingency_similarity.py:43: FutureWarning: The default of observed=False is deprecated and will be changed to True in a future version of pandas. Pass observed=False to retain current behavior or observed=True to adopt the future default and silence this warning.\n",
            "  contingency_real = real.groupby(list(columns), dropna=False).size() / len(real)\n",
            "/usr/local/lib/python3.10/dist-packages/sdmetrics/column_pairs/statistical/contingency_similarity.py:44: FutureWarning: The default of observed=False is deprecated and will be changed to True in a future version of pandas. Pass observed=False to retain current behavior or observed=True to adopt the future default and silence this warning.\n",
            "  contingency_synthetic = synthetic.groupby(list(columns), dropna=False).size() / len(\n",
            "/usr/local/lib/python3.10/dist-packages/sdmetrics/column_pairs/statistical/contingency_similarity.py:43: FutureWarning: The default of observed=False is deprecated and will be changed to True in a future version of pandas. Pass observed=False to retain current behavior or observed=True to adopt the future default and silence this warning.\n",
            "  contingency_real = real.groupby(list(columns), dropna=False).size() / len(real)\n",
            "/usr/local/lib/python3.10/dist-packages/sdmetrics/column_pairs/statistical/contingency_similarity.py:44: FutureWarning: The default of observed=False is deprecated and will be changed to True in a future version of pandas. Pass observed=False to retain current behavior or observed=True to adopt the future default and silence this warning.\n",
            "  contingency_synthetic = synthetic.groupby(list(columns), dropna=False).size() / len(\n"
          ]
        },
        {
          "name": "stdout",
          "output_type": "stream",
          "text": [
            "\r(2/2) Evaluating Column Pair Trends: |██▍       | 556/2278 [00:17<00:41, 41.12it/s]|"
          ]
        },
        {
          "name": "stderr",
          "output_type": "stream",
          "text": [
            "/usr/local/lib/python3.10/dist-packages/sdmetrics/column_pairs/statistical/contingency_similarity.py:43: FutureWarning: The default of observed=False is deprecated and will be changed to True in a future version of pandas. Pass observed=False to retain current behavior or observed=True to adopt the future default and silence this warning.\n",
            "  contingency_real = real.groupby(list(columns), dropna=False).size() / len(real)\n",
            "/usr/local/lib/python3.10/dist-packages/sdmetrics/column_pairs/statistical/contingency_similarity.py:44: FutureWarning: The default of observed=False is deprecated and will be changed to True in a future version of pandas. Pass observed=False to retain current behavior or observed=True to adopt the future default and silence this warning.\n",
            "  contingency_synthetic = synthetic.groupby(list(columns), dropna=False).size() / len(\n",
            "/usr/local/lib/python3.10/dist-packages/sdmetrics/column_pairs/statistical/contingency_similarity.py:43: FutureWarning: The default of observed=False is deprecated and will be changed to True in a future version of pandas. Pass observed=False to retain current behavior or observed=True to adopt the future default and silence this warning.\n",
            "  contingency_real = real.groupby(list(columns), dropna=False).size() / len(real)\n",
            "/usr/local/lib/python3.10/dist-packages/sdmetrics/column_pairs/statistical/contingency_similarity.py:44: FutureWarning: The default of observed=False is deprecated and will be changed to True in a future version of pandas. Pass observed=False to retain current behavior or observed=True to adopt the future default and silence this warning.\n",
            "  contingency_synthetic = synthetic.groupby(list(columns), dropna=False).size() / len(\n",
            "/usr/local/lib/python3.10/dist-packages/sdmetrics/column_pairs/statistical/contingency_similarity.py:43: FutureWarning: The default of observed=False is deprecated and will be changed to True in a future version of pandas. Pass observed=False to retain current behavior or observed=True to adopt the future default and silence this warning.\n",
            "  contingency_real = real.groupby(list(columns), dropna=False).size() / len(real)\n",
            "/usr/local/lib/python3.10/dist-packages/sdmetrics/column_pairs/statistical/contingency_similarity.py:44: FutureWarning: The default of observed=False is deprecated and will be changed to True in a future version of pandas. Pass observed=False to retain current behavior or observed=True to adopt the future default and silence this warning.\n",
            "  contingency_synthetic = synthetic.groupby(list(columns), dropna=False).size() / len(\n",
            "/usr/local/lib/python3.10/dist-packages/sdmetrics/column_pairs/statistical/contingency_similarity.py:43: FutureWarning: The default of observed=False is deprecated and will be changed to True in a future version of pandas. Pass observed=False to retain current behavior or observed=True to adopt the future default and silence this warning.\n",
            "  contingency_real = real.groupby(list(columns), dropna=False).size() / len(real)\n",
            "/usr/local/lib/python3.10/dist-packages/sdmetrics/column_pairs/statistical/contingency_similarity.py:44: FutureWarning: The default of observed=False is deprecated and will be changed to True in a future version of pandas. Pass observed=False to retain current behavior or observed=True to adopt the future default and silence this warning.\n",
            "  contingency_synthetic = synthetic.groupby(list(columns), dropna=False).size() / len(\n",
            "/usr/local/lib/python3.10/dist-packages/sdmetrics/column_pairs/statistical/contingency_similarity.py:43: FutureWarning: The default of observed=False is deprecated and will be changed to True in a future version of pandas. Pass observed=False to retain current behavior or observed=True to adopt the future default and silence this warning.\n",
            "  contingency_real = real.groupby(list(columns), dropna=False).size() / len(real)\n",
            "/usr/local/lib/python3.10/dist-packages/sdmetrics/column_pairs/statistical/contingency_similarity.py:44: FutureWarning: The default of observed=False is deprecated and will be changed to True in a future version of pandas. Pass observed=False to retain current behavior or observed=True to adopt the future default and silence this warning.\n",
            "  contingency_synthetic = synthetic.groupby(list(columns), dropna=False).size() / len(\n",
            "/usr/local/lib/python3.10/dist-packages/sdmetrics/column_pairs/statistical/contingency_similarity.py:43: FutureWarning: The default of observed=False is deprecated and will be changed to True in a future version of pandas. Pass observed=False to retain current behavior or observed=True to adopt the future default and silence this warning.\n",
            "  contingency_real = real.groupby(list(columns), dropna=False).size() / len(real)\n",
            "/usr/local/lib/python3.10/dist-packages/sdmetrics/column_pairs/statistical/contingency_similarity.py:44: FutureWarning: The default of observed=False is deprecated and will be changed to True in a future version of pandas. Pass observed=False to retain current behavior or observed=True to adopt the future default and silence this warning.\n",
            "  contingency_synthetic = synthetic.groupby(list(columns), dropna=False).size() / len(\n",
            "/usr/local/lib/python3.10/dist-packages/sdmetrics/column_pairs/statistical/contingency_similarity.py:43: FutureWarning: The default of observed=False is deprecated and will be changed to True in a future version of pandas. Pass observed=False to retain current behavior or observed=True to adopt the future default and silence this warning.\n",
            "  contingency_real = real.groupby(list(columns), dropna=False).size() / len(real)\n",
            "/usr/local/lib/python3.10/dist-packages/sdmetrics/column_pairs/statistical/contingency_similarity.py:44: FutureWarning: The default of observed=False is deprecated and will be changed to True in a future version of pandas. Pass observed=False to retain current behavior or observed=True to adopt the future default and silence this warning.\n",
            "  contingency_synthetic = synthetic.groupby(list(columns), dropna=False).size() / len(\n",
            "/usr/local/lib/python3.10/dist-packages/sdmetrics/column_pairs/statistical/contingency_similarity.py:43: FutureWarning: The default of observed=False is deprecated and will be changed to True in a future version of pandas. Pass observed=False to retain current behavior or observed=True to adopt the future default and silence this warning.\n",
            "  contingency_real = real.groupby(list(columns), dropna=False).size() / len(real)\n",
            "/usr/local/lib/python3.10/dist-packages/sdmetrics/column_pairs/statistical/contingency_similarity.py:44: FutureWarning: The default of observed=False is deprecated and will be changed to True in a future version of pandas. Pass observed=False to retain current behavior or observed=True to adopt the future default and silence this warning.\n",
            "  contingency_synthetic = synthetic.groupby(list(columns), dropna=False).size() / len(\n",
            "/usr/local/lib/python3.10/dist-packages/sdmetrics/column_pairs/statistical/contingency_similarity.py:43: FutureWarning: The default of observed=False is deprecated and will be changed to True in a future version of pandas. Pass observed=False to retain current behavior or observed=True to adopt the future default and silence this warning.\n",
            "  contingency_real = real.groupby(list(columns), dropna=False).size() / len(real)\n",
            "/usr/local/lib/python3.10/dist-packages/sdmetrics/column_pairs/statistical/contingency_similarity.py:44: FutureWarning: The default of observed=False is deprecated and will be changed to True in a future version of pandas. Pass observed=False to retain current behavior or observed=True to adopt the future default and silence this warning.\n",
            "  contingency_synthetic = synthetic.groupby(list(columns), dropna=False).size() / len(\n"
          ]
        },
        {
          "name": "stdout",
          "output_type": "stream",
          "text": [
            "(2/2) Evaluating Column Pair Trends: |██▍       | 566/2278 [00:17<00:40, 42.35it/s]|"
          ]
        },
        {
          "name": "stderr",
          "output_type": "stream",
          "text": [
            "/usr/local/lib/python3.10/dist-packages/sdmetrics/column_pairs/statistical/contingency_similarity.py:43: FutureWarning: The default of observed=False is deprecated and will be changed to True in a future version of pandas. Pass observed=False to retain current behavior or observed=True to adopt the future default and silence this warning.\n",
            "  contingency_real = real.groupby(list(columns), dropna=False).size() / len(real)\n",
            "/usr/local/lib/python3.10/dist-packages/sdmetrics/column_pairs/statistical/contingency_similarity.py:44: FutureWarning: The default of observed=False is deprecated and will be changed to True in a future version of pandas. Pass observed=False to retain current behavior or observed=True to adopt the future default and silence this warning.\n",
            "  contingency_synthetic = synthetic.groupby(list(columns), dropna=False).size() / len(\n",
            "/usr/local/lib/python3.10/dist-packages/sdmetrics/column_pairs/statistical/contingency_similarity.py:43: FutureWarning: The default of observed=False is deprecated and will be changed to True in a future version of pandas. Pass observed=False to retain current behavior or observed=True to adopt the future default and silence this warning.\n",
            "  contingency_real = real.groupby(list(columns), dropna=False).size() / len(real)\n",
            "/usr/local/lib/python3.10/dist-packages/sdmetrics/column_pairs/statistical/contingency_similarity.py:44: FutureWarning: The default of observed=False is deprecated and will be changed to True in a future version of pandas. Pass observed=False to retain current behavior or observed=True to adopt the future default and silence this warning.\n",
            "  contingency_synthetic = synthetic.groupby(list(columns), dropna=False).size() / len(\n",
            "/usr/local/lib/python3.10/dist-packages/sdmetrics/column_pairs/statistical/contingency_similarity.py:43: FutureWarning: The default of observed=False is deprecated and will be changed to True in a future version of pandas. Pass observed=False to retain current behavior or observed=True to adopt the future default and silence this warning.\n",
            "  contingency_real = real.groupby(list(columns), dropna=False).size() / len(real)\n",
            "/usr/local/lib/python3.10/dist-packages/sdmetrics/column_pairs/statistical/contingency_similarity.py:44: FutureWarning: The default of observed=False is deprecated and will be changed to True in a future version of pandas. Pass observed=False to retain current behavior or observed=True to adopt the future default and silence this warning.\n",
            "  contingency_synthetic = synthetic.groupby(list(columns), dropna=False).size() / len(\n",
            "/usr/local/lib/python3.10/dist-packages/sdmetrics/column_pairs/statistical/contingency_similarity.py:43: FutureWarning: The default of observed=False is deprecated and will be changed to True in a future version of pandas. Pass observed=False to retain current behavior or observed=True to adopt the future default and silence this warning.\n",
            "  contingency_real = real.groupby(list(columns), dropna=False).size() / len(real)\n",
            "/usr/local/lib/python3.10/dist-packages/sdmetrics/column_pairs/statistical/contingency_similarity.py:44: FutureWarning: The default of observed=False is deprecated and will be changed to True in a future version of pandas. Pass observed=False to retain current behavior or observed=True to adopt the future default and silence this warning.\n",
            "  contingency_synthetic = synthetic.groupby(list(columns), dropna=False).size() / len(\n",
            "/usr/local/lib/python3.10/dist-packages/sdmetrics/column_pairs/statistical/contingency_similarity.py:43: FutureWarning: The default of observed=False is deprecated and will be changed to True in a future version of pandas. Pass observed=False to retain current behavior or observed=True to adopt the future default and silence this warning.\n",
            "  contingency_real = real.groupby(list(columns), dropna=False).size() / len(real)\n",
            "/usr/local/lib/python3.10/dist-packages/sdmetrics/column_pairs/statistical/contingency_similarity.py:44: FutureWarning: The default of observed=False is deprecated and will be changed to True in a future version of pandas. Pass observed=False to retain current behavior or observed=True to adopt the future default and silence this warning.\n",
            "  contingency_synthetic = synthetic.groupby(list(columns), dropna=False).size() / len(\n",
            "/usr/local/lib/python3.10/dist-packages/sdmetrics/column_pairs/statistical/contingency_similarity.py:43: FutureWarning: The default of observed=False is deprecated and will be changed to True in a future version of pandas. Pass observed=False to retain current behavior or observed=True to adopt the future default and silence this warning.\n",
            "  contingency_real = real.groupby(list(columns), dropna=False).size() / len(real)\n",
            "/usr/local/lib/python3.10/dist-packages/sdmetrics/column_pairs/statistical/contingency_similarity.py:44: FutureWarning: The default of observed=False is deprecated and will be changed to True in a future version of pandas. Pass observed=False to retain current behavior or observed=True to adopt the future default and silence this warning.\n",
            "  contingency_synthetic = synthetic.groupby(list(columns), dropna=False).size() / len(\n",
            "/usr/local/lib/python3.10/dist-packages/sdmetrics/column_pairs/statistical/contingency_similarity.py:43: FutureWarning: The default of observed=False is deprecated and will be changed to True in a future version of pandas. Pass observed=False to retain current behavior or observed=True to adopt the future default and silence this warning.\n",
            "  contingency_real = real.groupby(list(columns), dropna=False).size() / len(real)\n",
            "/usr/local/lib/python3.10/dist-packages/sdmetrics/column_pairs/statistical/contingency_similarity.py:44: FutureWarning: The default of observed=False is deprecated and will be changed to True in a future version of pandas. Pass observed=False to retain current behavior or observed=True to adopt the future default and silence this warning.\n",
            "  contingency_synthetic = synthetic.groupby(list(columns), dropna=False).size() / len(\n"
          ]
        },
        {
          "name": "stdout",
          "output_type": "stream",
          "text": [
            "(2/2) Evaluating Column Pair Trends: |██▋       | 608/2278 [00:18<00:33, 49.65it/s]|"
          ]
        },
        {
          "name": "stderr",
          "output_type": "stream",
          "text": [
            "/usr/local/lib/python3.10/dist-packages/sdmetrics/column_pairs/statistical/contingency_similarity.py:43: FutureWarning: The default of observed=False is deprecated and will be changed to True in a future version of pandas. Pass observed=False to retain current behavior or observed=True to adopt the future default and silence this warning.\n",
            "  contingency_real = real.groupby(list(columns), dropna=False).size() / len(real)\n",
            "/usr/local/lib/python3.10/dist-packages/sdmetrics/column_pairs/statistical/contingency_similarity.py:44: FutureWarning: The default of observed=False is deprecated and will be changed to True in a future version of pandas. Pass observed=False to retain current behavior or observed=True to adopt the future default and silence this warning.\n",
            "  contingency_synthetic = synthetic.groupby(list(columns), dropna=False).size() / len(\n",
            "/usr/local/lib/python3.10/dist-packages/sdmetrics/column_pairs/statistical/contingency_similarity.py:43: FutureWarning: The default of observed=False is deprecated and will be changed to True in a future version of pandas. Pass observed=False to retain current behavior or observed=True to adopt the future default and silence this warning.\n",
            "  contingency_real = real.groupby(list(columns), dropna=False).size() / len(real)\n",
            "/usr/local/lib/python3.10/dist-packages/sdmetrics/column_pairs/statistical/contingency_similarity.py:44: FutureWarning: The default of observed=False is deprecated and will be changed to True in a future version of pandas. Pass observed=False to retain current behavior or observed=True to adopt the future default and silence this warning.\n",
            "  contingency_synthetic = synthetic.groupby(list(columns), dropna=False).size() / len(\n"
          ]
        },
        {
          "name": "stdout",
          "output_type": "stream",
          "text": [
            "(2/2) Evaluating Column Pair Trends: |██▉       | 664/2278 [00:19<00:37, 43.01it/s]|"
          ]
        },
        {
          "name": "stderr",
          "output_type": "stream",
          "text": [
            "/usr/local/lib/python3.10/dist-packages/sdmetrics/column_pairs/statistical/contingency_similarity.py:43: FutureWarning: The default of observed=False is deprecated and will be changed to True in a future version of pandas. Pass observed=False to retain current behavior or observed=True to adopt the future default and silence this warning.\n",
            "  contingency_real = real.groupby(list(columns), dropna=False).size() / len(real)\n",
            "/usr/local/lib/python3.10/dist-packages/sdmetrics/column_pairs/statistical/contingency_similarity.py:44: FutureWarning: The default of observed=False is deprecated and will be changed to True in a future version of pandas. Pass observed=False to retain current behavior or observed=True to adopt the future default and silence this warning.\n",
            "  contingency_synthetic = synthetic.groupby(list(columns), dropna=False).size() / len(\n",
            "/usr/local/lib/python3.10/dist-packages/sdmetrics/column_pairs/statistical/contingency_similarity.py:43: FutureWarning: The default of observed=False is deprecated and will be changed to True in a future version of pandas. Pass observed=False to retain current behavior or observed=True to adopt the future default and silence this warning.\n",
            "  contingency_real = real.groupby(list(columns), dropna=False).size() / len(real)\n",
            "/usr/local/lib/python3.10/dist-packages/sdmetrics/column_pairs/statistical/contingency_similarity.py:44: FutureWarning: The default of observed=False is deprecated and will be changed to True in a future version of pandas. Pass observed=False to retain current behavior or observed=True to adopt the future default and silence this warning.\n",
            "  contingency_synthetic = synthetic.groupby(list(columns), dropna=False).size() / len(\n"
          ]
        },
        {
          "name": "stdout",
          "output_type": "stream",
          "text": [
            "(2/2) Evaluating Column Pair Trends: |███▏      | 718/2278 [00:22<01:21, 19.20it/s]|"
          ]
        },
        {
          "name": "stderr",
          "output_type": "stream",
          "text": [
            "/usr/local/lib/python3.10/dist-packages/sdmetrics/column_pairs/statistical/contingency_similarity.py:43: FutureWarning: The default of observed=False is deprecated and will be changed to True in a future version of pandas. Pass observed=False to retain current behavior or observed=True to adopt the future default and silence this warning.\n",
            "  contingency_real = real.groupby(list(columns), dropna=False).size() / len(real)\n",
            "/usr/local/lib/python3.10/dist-packages/sdmetrics/column_pairs/statistical/contingency_similarity.py:44: FutureWarning: The default of observed=False is deprecated and will be changed to True in a future version of pandas. Pass observed=False to retain current behavior or observed=True to adopt the future default and silence this warning.\n",
            "  contingency_synthetic = synthetic.groupby(list(columns), dropna=False).size() / len(\n",
            "/usr/local/lib/python3.10/dist-packages/sdmetrics/column_pairs/statistical/contingency_similarity.py:43: FutureWarning: The default of observed=False is deprecated and will be changed to True in a future version of pandas. Pass observed=False to retain current behavior or observed=True to adopt the future default and silence this warning.\n",
            "  contingency_real = real.groupby(list(columns), dropna=False).size() / len(real)\n",
            "/usr/local/lib/python3.10/dist-packages/sdmetrics/column_pairs/statistical/contingency_similarity.py:44: FutureWarning: The default of observed=False is deprecated and will be changed to True in a future version of pandas. Pass observed=False to retain current behavior or observed=True to adopt the future default and silence this warning.\n",
            "  contingency_synthetic = synthetic.groupby(list(columns), dropna=False).size() / len(\n"
          ]
        },
        {
          "name": "stdout",
          "output_type": "stream",
          "text": [
            "(2/2) Evaluating Column Pair Trends: |███▍      | 775/2278 [00:23<00:36, 40.67it/s]|"
          ]
        },
        {
          "name": "stderr",
          "output_type": "stream",
          "text": [
            "/usr/local/lib/python3.10/dist-packages/sdmetrics/column_pairs/statistical/contingency_similarity.py:43: FutureWarning: The default of observed=False is deprecated and will be changed to True in a future version of pandas. Pass observed=False to retain current behavior or observed=True to adopt the future default and silence this warning.\n",
            "  contingency_real = real.groupby(list(columns), dropna=False).size() / len(real)\n",
            "/usr/local/lib/python3.10/dist-packages/sdmetrics/column_pairs/statistical/contingency_similarity.py:44: FutureWarning: The default of observed=False is deprecated and will be changed to True in a future version of pandas. Pass observed=False to retain current behavior or observed=True to adopt the future default and silence this warning.\n",
            "  contingency_synthetic = synthetic.groupby(list(columns), dropna=False).size() / len(\n",
            "/usr/local/lib/python3.10/dist-packages/sdmetrics/column_pairs/statistical/contingency_similarity.py:43: FutureWarning: The default of observed=False is deprecated and will be changed to True in a future version of pandas. Pass observed=False to retain current behavior or observed=True to adopt the future default and silence this warning.\n",
            "  contingency_real = real.groupby(list(columns), dropna=False).size() / len(real)\n",
            "/usr/local/lib/python3.10/dist-packages/sdmetrics/column_pairs/statistical/contingency_similarity.py:44: FutureWarning: The default of observed=False is deprecated and will be changed to True in a future version of pandas. Pass observed=False to retain current behavior or observed=True to adopt the future default and silence this warning.\n",
            "  contingency_synthetic = synthetic.groupby(list(columns), dropna=False).size() / len(\n"
          ]
        },
        {
          "name": "stdout",
          "output_type": "stream",
          "text": [
            "(2/2) Evaluating Column Pair Trends: |███▋      | 834/2278 [00:25<00:28, 50.09it/s]|"
          ]
        },
        {
          "name": "stderr",
          "output_type": "stream",
          "text": [
            "/usr/local/lib/python3.10/dist-packages/sdmetrics/column_pairs/statistical/contingency_similarity.py:43: FutureWarning: The default of observed=False is deprecated and will be changed to True in a future version of pandas. Pass observed=False to retain current behavior or observed=True to adopt the future default and silence this warning.\n",
            "  contingency_real = real.groupby(list(columns), dropna=False).size() / len(real)\n",
            "/usr/local/lib/python3.10/dist-packages/sdmetrics/column_pairs/statistical/contingency_similarity.py:44: FutureWarning: The default of observed=False is deprecated and will be changed to True in a future version of pandas. Pass observed=False to retain current behavior or observed=True to adopt the future default and silence this warning.\n",
            "  contingency_synthetic = synthetic.groupby(list(columns), dropna=False).size() / len(\n",
            "/usr/local/lib/python3.10/dist-packages/sdmetrics/column_pairs/statistical/contingency_similarity.py:43: FutureWarning: The default of observed=False is deprecated and will be changed to True in a future version of pandas. Pass observed=False to retain current behavior or observed=True to adopt the future default and silence this warning.\n",
            "  contingency_real = real.groupby(list(columns), dropna=False).size() / len(real)\n",
            "/usr/local/lib/python3.10/dist-packages/sdmetrics/column_pairs/statistical/contingency_similarity.py:44: FutureWarning: The default of observed=False is deprecated and will be changed to True in a future version of pandas. Pass observed=False to retain current behavior or observed=True to adopt the future default and silence this warning.\n",
            "  contingency_synthetic = synthetic.groupby(list(columns), dropna=False).size() / len(\n"
          ]
        },
        {
          "name": "stdout",
          "output_type": "stream",
          "text": [
            "(2/2) Evaluating Column Pair Trends: |███▉      | 884/2278 [00:26<00:27, 50.91it/s]|"
          ]
        },
        {
          "name": "stderr",
          "output_type": "stream",
          "text": [
            "/usr/local/lib/python3.10/dist-packages/sdmetrics/column_pairs/statistical/contingency_similarity.py:43: FutureWarning: The default of observed=False is deprecated and will be changed to True in a future version of pandas. Pass observed=False to retain current behavior or observed=True to adopt the future default and silence this warning.\n",
            "  contingency_real = real.groupby(list(columns), dropna=False).size() / len(real)\n",
            "/usr/local/lib/python3.10/dist-packages/sdmetrics/column_pairs/statistical/contingency_similarity.py:44: FutureWarning: The default of observed=False is deprecated and will be changed to True in a future version of pandas. Pass observed=False to retain current behavior or observed=True to adopt the future default and silence this warning.\n",
            "  contingency_synthetic = synthetic.groupby(list(columns), dropna=False).size() / len(\n",
            "/usr/local/lib/python3.10/dist-packages/sdmetrics/column_pairs/statistical/contingency_similarity.py:43: FutureWarning: The default of observed=False is deprecated and will be changed to True in a future version of pandas. Pass observed=False to retain current behavior or observed=True to adopt the future default and silence this warning.\n",
            "  contingency_real = real.groupby(list(columns), dropna=False).size() / len(real)\n",
            "/usr/local/lib/python3.10/dist-packages/sdmetrics/column_pairs/statistical/contingency_similarity.py:44: FutureWarning: The default of observed=False is deprecated and will be changed to True in a future version of pandas. Pass observed=False to retain current behavior or observed=True to adopt the future default and silence this warning.\n",
            "  contingency_synthetic = synthetic.groupby(list(columns), dropna=False).size() / len(\n"
          ]
        },
        {
          "name": "stdout",
          "output_type": "stream",
          "text": [
            "(2/2) Evaluating Column Pair Trends: |████      | 934/2278 [00:26<00:26, 50.13it/s]|"
          ]
        },
        {
          "name": "stderr",
          "output_type": "stream",
          "text": [
            "/usr/local/lib/python3.10/dist-packages/sdmetrics/column_pairs/statistical/contingency_similarity.py:43: FutureWarning: The default of observed=False is deprecated and will be changed to True in a future version of pandas. Pass observed=False to retain current behavior or observed=True to adopt the future default and silence this warning.\n",
            "  contingency_real = real.groupby(list(columns), dropna=False).size() / len(real)\n",
            "/usr/local/lib/python3.10/dist-packages/sdmetrics/column_pairs/statistical/contingency_similarity.py:44: FutureWarning: The default of observed=False is deprecated and will be changed to True in a future version of pandas. Pass observed=False to retain current behavior or observed=True to adopt the future default and silence this warning.\n",
            "  contingency_synthetic = synthetic.groupby(list(columns), dropna=False).size() / len(\n",
            "/usr/local/lib/python3.10/dist-packages/sdmetrics/column_pairs/statistical/contingency_similarity.py:43: FutureWarning: The default of observed=False is deprecated and will be changed to True in a future version of pandas. Pass observed=False to retain current behavior or observed=True to adopt the future default and silence this warning.\n",
            "  contingency_real = real.groupby(list(columns), dropna=False).size() / len(real)\n",
            "/usr/local/lib/python3.10/dist-packages/sdmetrics/column_pairs/statistical/contingency_similarity.py:44: FutureWarning: The default of observed=False is deprecated and will be changed to True in a future version of pandas. Pass observed=False to retain current behavior or observed=True to adopt the future default and silence this warning.\n",
            "  contingency_synthetic = synthetic.groupby(list(columns), dropna=False).size() / len(\n"
          ]
        },
        {
          "name": "stdout",
          "output_type": "stream",
          "text": [
            "(2/2) Evaluating Column Pair Trends: |████▎     | 991/2278 [00:27<00:24, 52.18it/s]|"
          ]
        },
        {
          "name": "stderr",
          "output_type": "stream",
          "text": [
            "/usr/local/lib/python3.10/dist-packages/sdmetrics/column_pairs/statistical/contingency_similarity.py:43: FutureWarning: The default of observed=False is deprecated and will be changed to True in a future version of pandas. Pass observed=False to retain current behavior or observed=True to adopt the future default and silence this warning.\n",
            "  contingency_real = real.groupby(list(columns), dropna=False).size() / len(real)\n",
            "/usr/local/lib/python3.10/dist-packages/sdmetrics/column_pairs/statistical/contingency_similarity.py:44: FutureWarning: The default of observed=False is deprecated and will be changed to True in a future version of pandas. Pass observed=False to retain current behavior or observed=True to adopt the future default and silence this warning.\n",
            "  contingency_synthetic = synthetic.groupby(list(columns), dropna=False).size() / len(\n",
            "/usr/local/lib/python3.10/dist-packages/sdmetrics/column_pairs/statistical/contingency_similarity.py:43: FutureWarning: The default of observed=False is deprecated and will be changed to True in a future version of pandas. Pass observed=False to retain current behavior or observed=True to adopt the future default and silence this warning.\n",
            "  contingency_real = real.groupby(list(columns), dropna=False).size() / len(real)\n",
            "/usr/local/lib/python3.10/dist-packages/sdmetrics/column_pairs/statistical/contingency_similarity.py:44: FutureWarning: The default of observed=False is deprecated and will be changed to True in a future version of pandas. Pass observed=False to retain current behavior or observed=True to adopt the future default and silence this warning.\n",
            "  contingency_synthetic = synthetic.groupby(list(columns), dropna=False).size() / len(\n"
          ]
        },
        {
          "name": "stdout",
          "output_type": "stream",
          "text": [
            "(2/2) Evaluating Column Pair Trends: |████▌     | 1035/2278 [00:29<00:29, 42.45it/s]|"
          ]
        },
        {
          "name": "stderr",
          "output_type": "stream",
          "text": [
            "/usr/local/lib/python3.10/dist-packages/sdmetrics/column_pairs/statistical/contingency_similarity.py:43: FutureWarning: The default of observed=False is deprecated and will be changed to True in a future version of pandas. Pass observed=False to retain current behavior or observed=True to adopt the future default and silence this warning.\n",
            "  contingency_real = real.groupby(list(columns), dropna=False).size() / len(real)\n",
            "/usr/local/lib/python3.10/dist-packages/sdmetrics/column_pairs/statistical/contingency_similarity.py:44: FutureWarning: The default of observed=False is deprecated and will be changed to True in a future version of pandas. Pass observed=False to retain current behavior or observed=True to adopt the future default and silence this warning.\n",
            "  contingency_synthetic = synthetic.groupby(list(columns), dropna=False).size() / len(\n",
            "/usr/local/lib/python3.10/dist-packages/sdmetrics/column_pairs/statistical/contingency_similarity.py:43: FutureWarning: The default of observed=False is deprecated and will be changed to True in a future version of pandas. Pass observed=False to retain current behavior or observed=True to adopt the future default and silence this warning.\n",
            "  contingency_real = real.groupby(list(columns), dropna=False).size() / len(real)\n",
            "/usr/local/lib/python3.10/dist-packages/sdmetrics/column_pairs/statistical/contingency_similarity.py:44: FutureWarning: The default of observed=False is deprecated and will be changed to True in a future version of pandas. Pass observed=False to retain current behavior or observed=True to adopt the future default and silence this warning.\n",
            "  contingency_synthetic = synthetic.groupby(list(columns), dropna=False).size() / len(\n"
          ]
        },
        {
          "name": "stdout",
          "output_type": "stream",
          "text": [
            "(2/2) Evaluating Column Pair Trends: |████▊     | 1083/2278 [00:30<00:29, 41.16it/s]|"
          ]
        },
        {
          "name": "stderr",
          "output_type": "stream",
          "text": [
            "/usr/local/lib/python3.10/dist-packages/sdmetrics/column_pairs/statistical/contingency_similarity.py:43: FutureWarning: The default of observed=False is deprecated and will be changed to True in a future version of pandas. Pass observed=False to retain current behavior or observed=True to adopt the future default and silence this warning.\n",
            "  contingency_real = real.groupby(list(columns), dropna=False).size() / len(real)\n",
            "/usr/local/lib/python3.10/dist-packages/sdmetrics/column_pairs/statistical/contingency_similarity.py:44: FutureWarning: The default of observed=False is deprecated and will be changed to True in a future version of pandas. Pass observed=False to retain current behavior or observed=True to adopt the future default and silence this warning.\n",
            "  contingency_synthetic = synthetic.groupby(list(columns), dropna=False).size() / len(\n",
            "/usr/local/lib/python3.10/dist-packages/sdmetrics/column_pairs/statistical/contingency_similarity.py:43: FutureWarning: The default of observed=False is deprecated and will be changed to True in a future version of pandas. Pass observed=False to retain current behavior or observed=True to adopt the future default and silence this warning.\n",
            "  contingency_real = real.groupby(list(columns), dropna=False).size() / len(real)\n",
            "/usr/local/lib/python3.10/dist-packages/sdmetrics/column_pairs/statistical/contingency_similarity.py:44: FutureWarning: The default of observed=False is deprecated and will be changed to True in a future version of pandas. Pass observed=False to retain current behavior or observed=True to adopt the future default and silence this warning.\n",
            "  contingency_synthetic = synthetic.groupby(list(columns), dropna=False).size() / len(\n"
          ]
        },
        {
          "name": "stdout",
          "output_type": "stream",
          "text": [
            "(2/2) Evaluating Column Pair Trends: |████▉     | 1133/2278 [00:31<00:29, 38.20it/s]|"
          ]
        },
        {
          "name": "stderr",
          "output_type": "stream",
          "text": [
            "/usr/local/lib/python3.10/dist-packages/sdmetrics/column_pairs/statistical/contingency_similarity.py:43: FutureWarning: The default of observed=False is deprecated and will be changed to True in a future version of pandas. Pass observed=False to retain current behavior or observed=True to adopt the future default and silence this warning.\n",
            "  contingency_real = real.groupby(list(columns), dropna=False).size() / len(real)\n",
            "/usr/local/lib/python3.10/dist-packages/sdmetrics/column_pairs/statistical/contingency_similarity.py:44: FutureWarning: The default of observed=False is deprecated and will be changed to True in a future version of pandas. Pass observed=False to retain current behavior or observed=True to adopt the future default and silence this warning.\n",
            "  contingency_synthetic = synthetic.groupby(list(columns), dropna=False).size() / len(\n",
            "/usr/local/lib/python3.10/dist-packages/pandas/core/dtypes/cast.py:976: RuntimeWarning: invalid value encountered in cast\n",
            "  return ensure_int8(indexer)\n",
            "/usr/local/lib/python3.10/dist-packages/sdmetrics/column_pairs/statistical/contingency_similarity.py:43: FutureWarning: The default of observed=False is deprecated and will be changed to True in a future version of pandas. Pass observed=False to retain current behavior or observed=True to adopt the future default and silence this warning.\n",
            "  contingency_real = real.groupby(list(columns), dropna=False).size() / len(real)\n",
            "/usr/local/lib/python3.10/dist-packages/sdmetrics/column_pairs/statistical/contingency_similarity.py:44: FutureWarning: The default of observed=False is deprecated and will be changed to True in a future version of pandas. Pass observed=False to retain current behavior or observed=True to adopt the future default and silence this warning.\n",
            "  contingency_synthetic = synthetic.groupby(list(columns), dropna=False).size() / len(\n"
          ]
        },
        {
          "name": "stdout",
          "output_type": "stream",
          "text": [
            "(2/2) Evaluating Column Pair Trends: |█████▏    | 1178/2278 [00:32<00:28, 38.77it/s]|"
          ]
        },
        {
          "name": "stderr",
          "output_type": "stream",
          "text": [
            "/usr/local/lib/python3.10/dist-packages/sdmetrics/column_pairs/statistical/contingency_similarity.py:43: FutureWarning: The default of observed=False is deprecated and will be changed to True in a future version of pandas. Pass observed=False to retain current behavior or observed=True to adopt the future default and silence this warning.\n",
            "  contingency_real = real.groupby(list(columns), dropna=False).size() / len(real)\n",
            "/usr/local/lib/python3.10/dist-packages/sdmetrics/column_pairs/statistical/contingency_similarity.py:44: FutureWarning: The default of observed=False is deprecated and will be changed to True in a future version of pandas. Pass observed=False to retain current behavior or observed=True to adopt the future default and silence this warning.\n",
            "  contingency_synthetic = synthetic.groupby(list(columns), dropna=False).size() / len(\n",
            "/usr/local/lib/python3.10/dist-packages/pandas/core/dtypes/cast.py:976: RuntimeWarning: invalid value encountered in cast\n",
            "  return ensure_int8(indexer)\n",
            "/usr/local/lib/python3.10/dist-packages/sdmetrics/column_pairs/statistical/contingency_similarity.py:43: FutureWarning: The default of observed=False is deprecated and will be changed to True in a future version of pandas. Pass observed=False to retain current behavior or observed=True to adopt the future default and silence this warning.\n",
            "  contingency_real = real.groupby(list(columns), dropna=False).size() / len(real)\n",
            "/usr/local/lib/python3.10/dist-packages/sdmetrics/column_pairs/statistical/contingency_similarity.py:44: FutureWarning: The default of observed=False is deprecated and will be changed to True in a future version of pandas. Pass observed=False to retain current behavior or observed=True to adopt the future default and silence this warning.\n",
            "  contingency_synthetic = synthetic.groupby(list(columns), dropna=False).size() / len(\n"
          ]
        },
        {
          "name": "stdout",
          "output_type": "stream",
          "text": [
            "(2/2) Evaluating Column Pair Trends: |█████▍    | 1225/2278 [00:34<00:29, 35.96it/s]|"
          ]
        },
        {
          "name": "stderr",
          "output_type": "stream",
          "text": [
            "/usr/local/lib/python3.10/dist-packages/sdmetrics/column_pairs/statistical/contingency_similarity.py:43: FutureWarning: The default of observed=False is deprecated and will be changed to True in a future version of pandas. Pass observed=False to retain current behavior or observed=True to adopt the future default and silence this warning.\n",
            "  contingency_real = real.groupby(list(columns), dropna=False).size() / len(real)\n",
            "/usr/local/lib/python3.10/dist-packages/sdmetrics/column_pairs/statistical/contingency_similarity.py:44: FutureWarning: The default of observed=False is deprecated and will be changed to True in a future version of pandas. Pass observed=False to retain current behavior or observed=True to adopt the future default and silence this warning.\n",
            "  contingency_synthetic = synthetic.groupby(list(columns), dropna=False).size() / len(\n",
            "/usr/local/lib/python3.10/dist-packages/pandas/core/dtypes/cast.py:976: RuntimeWarning: invalid value encountered in cast\n",
            "  return ensure_int8(indexer)\n",
            "/usr/local/lib/python3.10/dist-packages/sdmetrics/column_pairs/statistical/contingency_similarity.py:43: FutureWarning: The default of observed=False is deprecated and will be changed to True in a future version of pandas. Pass observed=False to retain current behavior or observed=True to adopt the future default and silence this warning.\n",
            "  contingency_real = real.groupby(list(columns), dropna=False).size() / len(real)\n",
            "/usr/local/lib/python3.10/dist-packages/sdmetrics/column_pairs/statistical/contingency_similarity.py:44: FutureWarning: The default of observed=False is deprecated and will be changed to True in a future version of pandas. Pass observed=False to retain current behavior or observed=True to adopt the future default and silence this warning.\n",
            "  contingency_synthetic = synthetic.groupby(list(columns), dropna=False).size() / len(\n"
          ]
        },
        {
          "name": "stdout",
          "output_type": "stream",
          "text": [
            "(2/2) Evaluating Column Pair Trends: |█████▌    | 1268/2278 [00:35<00:29, 33.70it/s]|"
          ]
        },
        {
          "name": "stderr",
          "output_type": "stream",
          "text": [
            "/usr/local/lib/python3.10/dist-packages/sdmetrics/column_pairs/statistical/contingency_similarity.py:43: FutureWarning: The default of observed=False is deprecated and will be changed to True in a future version of pandas. Pass observed=False to retain current behavior or observed=True to adopt the future default and silence this warning.\n",
            "  contingency_real = real.groupby(list(columns), dropna=False).size() / len(real)\n",
            "/usr/local/lib/python3.10/dist-packages/sdmetrics/column_pairs/statistical/contingency_similarity.py:44: FutureWarning: The default of observed=False is deprecated and will be changed to True in a future version of pandas. Pass observed=False to retain current behavior or observed=True to adopt the future default and silence this warning.\n",
            "  contingency_synthetic = synthetic.groupby(list(columns), dropna=False).size() / len(\n",
            "/usr/local/lib/python3.10/dist-packages/pandas/core/dtypes/cast.py:976: RuntimeWarning: invalid value encountered in cast\n",
            "  return ensure_int8(indexer)\n",
            "/usr/local/lib/python3.10/dist-packages/sdmetrics/column_pairs/statistical/contingency_similarity.py:43: FutureWarning: The default of observed=False is deprecated and will be changed to True in a future version of pandas. Pass observed=False to retain current behavior or observed=True to adopt the future default and silence this warning.\n",
            "  contingency_real = real.groupby(list(columns), dropna=False).size() / len(real)\n",
            "/usr/local/lib/python3.10/dist-packages/sdmetrics/column_pairs/statistical/contingency_similarity.py:44: FutureWarning: The default of observed=False is deprecated and will be changed to True in a future version of pandas. Pass observed=False to retain current behavior or observed=True to adopt the future default and silence this warning.\n",
            "  contingency_synthetic = synthetic.groupby(list(columns), dropna=False).size() / len(\n"
          ]
        },
        {
          "name": "stdout",
          "output_type": "stream",
          "text": [
            "(2/2) Evaluating Column Pair Trends: |█████▊    | 1313/2278 [00:37<00:28, 33.67it/s]|"
          ]
        },
        {
          "name": "stderr",
          "output_type": "stream",
          "text": [
            "/usr/local/lib/python3.10/dist-packages/sdmetrics/column_pairs/statistical/contingency_similarity.py:43: FutureWarning: The default of observed=False is deprecated and will be changed to True in a future version of pandas. Pass observed=False to retain current behavior or observed=True to adopt the future default and silence this warning.\n",
            "  contingency_real = real.groupby(list(columns), dropna=False).size() / len(real)\n",
            "/usr/local/lib/python3.10/dist-packages/sdmetrics/column_pairs/statistical/contingency_similarity.py:44: FutureWarning: The default of observed=False is deprecated and will be changed to True in a future version of pandas. Pass observed=False to retain current behavior or observed=True to adopt the future default and silence this warning.\n",
            "  contingency_synthetic = synthetic.groupby(list(columns), dropna=False).size() / len(\n",
            "/usr/local/lib/python3.10/dist-packages/sdmetrics/column_pairs/statistical/contingency_similarity.py:43: FutureWarning: The default of observed=False is deprecated and will be changed to True in a future version of pandas. Pass observed=False to retain current behavior or observed=True to adopt the future default and silence this warning.\n",
            "  contingency_real = real.groupby(list(columns), dropna=False).size() / len(real)\n",
            "/usr/local/lib/python3.10/dist-packages/sdmetrics/column_pairs/statistical/contingency_similarity.py:44: FutureWarning: The default of observed=False is deprecated and will be changed to True in a future version of pandas. Pass observed=False to retain current behavior or observed=True to adopt the future default and silence this warning.\n",
            "  contingency_synthetic = synthetic.groupby(list(columns), dropna=False).size() / len(\n"
          ]
        },
        {
          "name": "stdout",
          "output_type": "stream",
          "text": [
            "(2/2) Evaluating Column Pair Trends: |█████▉    | 1359/2278 [00:38<00:26, 34.96it/s]|"
          ]
        },
        {
          "name": "stderr",
          "output_type": "stream",
          "text": [
            "/usr/local/lib/python3.10/dist-packages/sdmetrics/column_pairs/statistical/contingency_similarity.py:43: FutureWarning: The default of observed=False is deprecated and will be changed to True in a future version of pandas. Pass observed=False to retain current behavior or observed=True to adopt the future default and silence this warning.\n",
            "  contingency_real = real.groupby(list(columns), dropna=False).size() / len(real)\n",
            "/usr/local/lib/python3.10/dist-packages/sdmetrics/column_pairs/statistical/contingency_similarity.py:44: FutureWarning: The default of observed=False is deprecated and will be changed to True in a future version of pandas. Pass observed=False to retain current behavior or observed=True to adopt the future default and silence this warning.\n",
            "  contingency_synthetic = synthetic.groupby(list(columns), dropna=False).size() / len(\n",
            "/usr/local/lib/python3.10/dist-packages/sdmetrics/column_pairs/statistical/contingency_similarity.py:43: FutureWarning: The default of observed=False is deprecated and will be changed to True in a future version of pandas. Pass observed=False to retain current behavior or observed=True to adopt the future default and silence this warning.\n",
            "  contingency_real = real.groupby(list(columns), dropna=False).size() / len(real)\n",
            "/usr/local/lib/python3.10/dist-packages/sdmetrics/column_pairs/statistical/contingency_similarity.py:44: FutureWarning: The default of observed=False is deprecated and will be changed to True in a future version of pandas. Pass observed=False to retain current behavior or observed=True to adopt the future default and silence this warning.\n",
            "  contingency_synthetic = synthetic.groupby(list(columns), dropna=False).size() / len(\n"
          ]
        },
        {
          "name": "stdout",
          "output_type": "stream",
          "text": [
            "(2/2) Evaluating Column Pair Trends: |██████▏   | 1401/2278 [00:40<00:23, 37.49it/s]|"
          ]
        },
        {
          "name": "stderr",
          "output_type": "stream",
          "text": [
            "/usr/local/lib/python3.10/dist-packages/sdmetrics/column_pairs/statistical/contingency_similarity.py:43: FutureWarning: The default of observed=False is deprecated and will be changed to True in a future version of pandas. Pass observed=False to retain current behavior or observed=True to adopt the future default and silence this warning.\n",
            "  contingency_real = real.groupby(list(columns), dropna=False).size() / len(real)\n",
            "/usr/local/lib/python3.10/dist-packages/sdmetrics/column_pairs/statistical/contingency_similarity.py:44: FutureWarning: The default of observed=False is deprecated and will be changed to True in a future version of pandas. Pass observed=False to retain current behavior or observed=True to adopt the future default and silence this warning.\n",
            "  contingency_synthetic = synthetic.groupby(list(columns), dropna=False).size() / len(\n",
            "/usr/local/lib/python3.10/dist-packages/sdmetrics/column_pairs/statistical/contingency_similarity.py:43: FutureWarning: The default of observed=False is deprecated and will be changed to True in a future version of pandas. Pass observed=False to retain current behavior or observed=True to adopt the future default and silence this warning.\n",
            "  contingency_real = real.groupby(list(columns), dropna=False).size() / len(real)\n",
            "/usr/local/lib/python3.10/dist-packages/sdmetrics/column_pairs/statistical/contingency_similarity.py:44: FutureWarning: The default of observed=False is deprecated and will be changed to True in a future version of pandas. Pass observed=False to retain current behavior or observed=True to adopt the future default and silence this warning.\n",
            "  contingency_synthetic = synthetic.groupby(list(columns), dropna=False).size() / len(\n"
          ]
        },
        {
          "name": "stdout",
          "output_type": "stream",
          "text": [
            "(2/2) Evaluating Column Pair Trends: |██████▎   | 1440/2278 [00:41<00:22, 38.05it/s]|"
          ]
        },
        {
          "name": "stderr",
          "output_type": "stream",
          "text": [
            "/usr/local/lib/python3.10/dist-packages/sdmetrics/column_pairs/statistical/contingency_similarity.py:43: FutureWarning: The default of observed=False is deprecated and will be changed to True in a future version of pandas. Pass observed=False to retain current behavior or observed=True to adopt the future default and silence this warning.\n",
            "  contingency_real = real.groupby(list(columns), dropna=False).size() / len(real)\n",
            "/usr/local/lib/python3.10/dist-packages/sdmetrics/column_pairs/statistical/contingency_similarity.py:44: FutureWarning: The default of observed=False is deprecated and will be changed to True in a future version of pandas. Pass observed=False to retain current behavior or observed=True to adopt the future default and silence this warning.\n",
            "  contingency_synthetic = synthetic.groupby(list(columns), dropna=False).size() / len(\n",
            "/usr/local/lib/python3.10/dist-packages/sdmetrics/column_pairs/statistical/contingency_similarity.py:43: FutureWarning: The default of observed=False is deprecated and will be changed to True in a future version of pandas. Pass observed=False to retain current behavior or observed=True to adopt the future default and silence this warning.\n",
            "  contingency_real = real.groupby(list(columns), dropna=False).size() / len(real)\n",
            "/usr/local/lib/python3.10/dist-packages/sdmetrics/column_pairs/statistical/contingency_similarity.py:44: FutureWarning: The default of observed=False is deprecated and will be changed to True in a future version of pandas. Pass observed=False to retain current behavior or observed=True to adopt the future default and silence this warning.\n",
            "  contingency_synthetic = synthetic.groupby(list(columns), dropna=False).size() / len(\n"
          ]
        },
        {
          "name": "stdout",
          "output_type": "stream",
          "text": [
            "(2/2) Evaluating Column Pair Trends: |██████▍   | 1480/2278 [00:42<00:20, 38.26it/s]|"
          ]
        },
        {
          "name": "stderr",
          "output_type": "stream",
          "text": [
            "/usr/local/lib/python3.10/dist-packages/sdmetrics/column_pairs/statistical/contingency_similarity.py:43: FutureWarning: The default of observed=False is deprecated and will be changed to True in a future version of pandas. Pass observed=False to retain current behavior or observed=True to adopt the future default and silence this warning.\n",
            "  contingency_real = real.groupby(list(columns), dropna=False).size() / len(real)\n",
            "/usr/local/lib/python3.10/dist-packages/sdmetrics/column_pairs/statistical/contingency_similarity.py:44: FutureWarning: The default of observed=False is deprecated and will be changed to True in a future version of pandas. Pass observed=False to retain current behavior or observed=True to adopt the future default and silence this warning.\n",
            "  contingency_synthetic = synthetic.groupby(list(columns), dropna=False).size() / len(\n",
            "/usr/local/lib/python3.10/dist-packages/sdmetrics/column_pairs/statistical/contingency_similarity.py:43: FutureWarning: The default of observed=False is deprecated and will be changed to True in a future version of pandas. Pass observed=False to retain current behavior or observed=True to adopt the future default and silence this warning.\n",
            "  contingency_real = real.groupby(list(columns), dropna=False).size() / len(real)\n",
            "/usr/local/lib/python3.10/dist-packages/sdmetrics/column_pairs/statistical/contingency_similarity.py:44: FutureWarning: The default of observed=False is deprecated and will be changed to True in a future version of pandas. Pass observed=False to retain current behavior or observed=True to adopt the future default and silence this warning.\n",
            "  contingency_synthetic = synthetic.groupby(list(columns), dropna=False).size() / len(\n"
          ]
        },
        {
          "name": "stdout",
          "output_type": "stream",
          "text": [
            "(2/2) Evaluating Column Pair Trends: |██████▋   | 1522/2278 [00:43<00:17, 43.75it/s]|"
          ]
        },
        {
          "name": "stderr",
          "output_type": "stream",
          "text": [
            "/usr/local/lib/python3.10/dist-packages/sdmetrics/column_pairs/statistical/contingency_similarity.py:43: FutureWarning: The default of observed=False is deprecated and will be changed to True in a future version of pandas. Pass observed=False to retain current behavior or observed=True to adopt the future default and silence this warning.\n",
            "  contingency_real = real.groupby(list(columns), dropna=False).size() / len(real)\n",
            "/usr/local/lib/python3.10/dist-packages/sdmetrics/column_pairs/statistical/contingency_similarity.py:44: FutureWarning: The default of observed=False is deprecated and will be changed to True in a future version of pandas. Pass observed=False to retain current behavior or observed=True to adopt the future default and silence this warning.\n",
            "  contingency_synthetic = synthetic.groupby(list(columns), dropna=False).size() / len(\n",
            "/usr/local/lib/python3.10/dist-packages/sdmetrics/column_pairs/statistical/contingency_similarity.py:43: FutureWarning: The default of observed=False is deprecated and will be changed to True in a future version of pandas. Pass observed=False to retain current behavior or observed=True to adopt the future default and silence this warning.\n",
            "  contingency_real = real.groupby(list(columns), dropna=False).size() / len(real)\n",
            "/usr/local/lib/python3.10/dist-packages/sdmetrics/column_pairs/statistical/contingency_similarity.py:44: FutureWarning: The default of observed=False is deprecated and will be changed to True in a future version of pandas. Pass observed=False to retain current behavior or observed=True to adopt the future default and silence this warning.\n",
            "  contingency_synthetic = synthetic.groupby(list(columns), dropna=False).size() / len(\n"
          ]
        },
        {
          "name": "stdout",
          "output_type": "stream",
          "text": [
            "(2/2) Evaluating Column Pair Trends: |██████▊   | 1560/2278 [00:43<00:14, 49.95it/s]|"
          ]
        },
        {
          "name": "stderr",
          "output_type": "stream",
          "text": [
            "/usr/local/lib/python3.10/dist-packages/sdmetrics/column_pairs/statistical/contingency_similarity.py:43: FutureWarning: The default of observed=False is deprecated and will be changed to True in a future version of pandas. Pass observed=False to retain current behavior or observed=True to adopt the future default and silence this warning.\n",
            "  contingency_real = real.groupby(list(columns), dropna=False).size() / len(real)\n",
            "/usr/local/lib/python3.10/dist-packages/sdmetrics/column_pairs/statistical/contingency_similarity.py:44: FutureWarning: The default of observed=False is deprecated and will be changed to True in a future version of pandas. Pass observed=False to retain current behavior or observed=True to adopt the future default and silence this warning.\n",
            "  contingency_synthetic = synthetic.groupby(list(columns), dropna=False).size() / len(\n",
            "/usr/local/lib/python3.10/dist-packages/sdmetrics/column_pairs/statistical/contingency_similarity.py:43: FutureWarning: The default of observed=False is deprecated and will be changed to True in a future version of pandas. Pass observed=False to retain current behavior or observed=True to adopt the future default and silence this warning.\n",
            "  contingency_real = real.groupby(list(columns), dropna=False).size() / len(real)\n",
            "/usr/local/lib/python3.10/dist-packages/sdmetrics/column_pairs/statistical/contingency_similarity.py:44: FutureWarning: The default of observed=False is deprecated and will be changed to True in a future version of pandas. Pass observed=False to retain current behavior or observed=True to adopt the future default and silence this warning.\n",
            "  contingency_synthetic = synthetic.groupby(list(columns), dropna=False).size() / len(\n"
          ]
        },
        {
          "name": "stdout",
          "output_type": "stream",
          "text": [
            "(2/2) Evaluating Column Pair Trends: |███████   | 1597/2278 [00:44<00:13, 50.87it/s]|"
          ]
        },
        {
          "name": "stderr",
          "output_type": "stream",
          "text": [
            "/usr/local/lib/python3.10/dist-packages/sdmetrics/column_pairs/statistical/contingency_similarity.py:43: FutureWarning: The default of observed=False is deprecated and will be changed to True in a future version of pandas. Pass observed=False to retain current behavior or observed=True to adopt the future default and silence this warning.\n",
            "  contingency_real = real.groupby(list(columns), dropna=False).size() / len(real)\n",
            "/usr/local/lib/python3.10/dist-packages/sdmetrics/column_pairs/statistical/contingency_similarity.py:44: FutureWarning: The default of observed=False is deprecated and will be changed to True in a future version of pandas. Pass observed=False to retain current behavior or observed=True to adopt the future default and silence this warning.\n",
            "  contingency_synthetic = synthetic.groupby(list(columns), dropna=False).size() / len(\n",
            "/usr/local/lib/python3.10/dist-packages/sdmetrics/column_pairs/statistical/contingency_similarity.py:43: FutureWarning: The default of observed=False is deprecated and will be changed to True in a future version of pandas. Pass observed=False to retain current behavior or observed=True to adopt the future default and silence this warning.\n",
            "  contingency_real = real.groupby(list(columns), dropna=False).size() / len(real)\n",
            "/usr/local/lib/python3.10/dist-packages/sdmetrics/column_pairs/statistical/contingency_similarity.py:44: FutureWarning: The default of observed=False is deprecated and will be changed to True in a future version of pandas. Pass observed=False to retain current behavior or observed=True to adopt the future default and silence this warning.\n",
            "  contingency_synthetic = synthetic.groupby(list(columns), dropna=False).size() / len(\n"
          ]
        },
        {
          "name": "stdout",
          "output_type": "stream",
          "text": [
            "(2/2) Evaluating Column Pair Trends: |███████▏  | 1633/2278 [00:45<00:13, 49.30it/s]|"
          ]
        },
        {
          "name": "stderr",
          "output_type": "stream",
          "text": [
            "/usr/local/lib/python3.10/dist-packages/sdmetrics/column_pairs/statistical/contingency_similarity.py:43: FutureWarning: The default of observed=False is deprecated and will be changed to True in a future version of pandas. Pass observed=False to retain current behavior or observed=True to adopt the future default and silence this warning.\n",
            "  contingency_real = real.groupby(list(columns), dropna=False).size() / len(real)\n",
            "/usr/local/lib/python3.10/dist-packages/sdmetrics/column_pairs/statistical/contingency_similarity.py:44: FutureWarning: The default of observed=False is deprecated and will be changed to True in a future version of pandas. Pass observed=False to retain current behavior or observed=True to adopt the future default and silence this warning.\n",
            "  contingency_synthetic = synthetic.groupby(list(columns), dropna=False).size() / len(\n",
            "/usr/local/lib/python3.10/dist-packages/sdmetrics/column_pairs/statistical/contingency_similarity.py:43: FutureWarning: The default of observed=False is deprecated and will be changed to True in a future version of pandas. Pass observed=False to retain current behavior or observed=True to adopt the future default and silence this warning.\n",
            "  contingency_real = real.groupby(list(columns), dropna=False).size() / len(real)\n",
            "/usr/local/lib/python3.10/dist-packages/sdmetrics/column_pairs/statistical/contingency_similarity.py:44: FutureWarning: The default of observed=False is deprecated and will be changed to True in a future version of pandas. Pass observed=False to retain current behavior or observed=True to adopt the future default and silence this warning.\n",
            "  contingency_synthetic = synthetic.groupby(list(columns), dropna=False).size() / len(\n"
          ]
        },
        {
          "name": "stdout",
          "output_type": "stream",
          "text": [
            "(2/2) Evaluating Column Pair Trends: |███████▎  | 1669/2278 [00:46<00:12, 47.04it/s]|"
          ]
        },
        {
          "name": "stderr",
          "output_type": "stream",
          "text": [
            "/usr/local/lib/python3.10/dist-packages/sdmetrics/column_pairs/statistical/contingency_similarity.py:43: FutureWarning: The default of observed=False is deprecated and will be changed to True in a future version of pandas. Pass observed=False to retain current behavior or observed=True to adopt the future default and silence this warning.\n",
            "  contingency_real = real.groupby(list(columns), dropna=False).size() / len(real)\n",
            "/usr/local/lib/python3.10/dist-packages/sdmetrics/column_pairs/statistical/contingency_similarity.py:44: FutureWarning: The default of observed=False is deprecated and will be changed to True in a future version of pandas. Pass observed=False to retain current behavior or observed=True to adopt the future default and silence this warning.\n",
            "  contingency_synthetic = synthetic.groupby(list(columns), dropna=False).size() / len(\n",
            "/usr/local/lib/python3.10/dist-packages/sdmetrics/column_pairs/statistical/contingency_similarity.py:43: FutureWarning: The default of observed=False is deprecated and will be changed to True in a future version of pandas. Pass observed=False to retain current behavior or observed=True to adopt the future default and silence this warning.\n",
            "  contingency_real = real.groupby(list(columns), dropna=False).size() / len(real)\n",
            "/usr/local/lib/python3.10/dist-packages/sdmetrics/column_pairs/statistical/contingency_similarity.py:44: FutureWarning: The default of observed=False is deprecated and will be changed to True in a future version of pandas. Pass observed=False to retain current behavior or observed=True to adopt the future default and silence this warning.\n",
            "  contingency_synthetic = synthetic.groupby(list(columns), dropna=False).size() / len(\n"
          ]
        },
        {
          "name": "stdout",
          "output_type": "stream",
          "text": [
            "(2/2) Evaluating Column Pair Trends: |███████▍  | 1704/2278 [00:46<00:11, 48.26it/s]|"
          ]
        },
        {
          "name": "stderr",
          "output_type": "stream",
          "text": [
            "/usr/local/lib/python3.10/dist-packages/sdmetrics/column_pairs/statistical/contingency_similarity.py:43: FutureWarning: The default of observed=False is deprecated and will be changed to True in a future version of pandas. Pass observed=False to retain current behavior or observed=True to adopt the future default and silence this warning.\n",
            "  contingency_real = real.groupby(list(columns), dropna=False).size() / len(real)\n",
            "/usr/local/lib/python3.10/dist-packages/sdmetrics/column_pairs/statistical/contingency_similarity.py:44: FutureWarning: The default of observed=False is deprecated and will be changed to True in a future version of pandas. Pass observed=False to retain current behavior or observed=True to adopt the future default and silence this warning.\n",
            "  contingency_synthetic = synthetic.groupby(list(columns), dropna=False).size() / len(\n",
            "/usr/local/lib/python3.10/dist-packages/sdmetrics/column_pairs/statistical/contingency_similarity.py:43: FutureWarning: The default of observed=False is deprecated and will be changed to True in a future version of pandas. Pass observed=False to retain current behavior or observed=True to adopt the future default and silence this warning.\n",
            "  contingency_real = real.groupby(list(columns), dropna=False).size() / len(real)\n",
            "/usr/local/lib/python3.10/dist-packages/sdmetrics/column_pairs/statistical/contingency_similarity.py:44: FutureWarning: The default of observed=False is deprecated and will be changed to True in a future version of pandas. Pass observed=False to retain current behavior or observed=True to adopt the future default and silence this warning.\n",
            "  contingency_synthetic = synthetic.groupby(list(columns), dropna=False).size() / len(\n"
          ]
        },
        {
          "name": "stdout",
          "output_type": "stream",
          "text": [
            "(2/2) Evaluating Column Pair Trends: |███████▌  | 1733/2278 [00:47<00:11, 46.40it/s]|"
          ]
        },
        {
          "name": "stderr",
          "output_type": "stream",
          "text": [
            "/usr/local/lib/python3.10/dist-packages/sdmetrics/column_pairs/statistical/contingency_similarity.py:43: FutureWarning: The default of observed=False is deprecated and will be changed to True in a future version of pandas. Pass observed=False to retain current behavior or observed=True to adopt the future default and silence this warning.\n",
            "  contingency_real = real.groupby(list(columns), dropna=False).size() / len(real)\n",
            "/usr/local/lib/python3.10/dist-packages/sdmetrics/column_pairs/statistical/contingency_similarity.py:44: FutureWarning: The default of observed=False is deprecated and will be changed to True in a future version of pandas. Pass observed=False to retain current behavior or observed=True to adopt the future default and silence this warning.\n",
            "  contingency_synthetic = synthetic.groupby(list(columns), dropna=False).size() / len(\n",
            "/usr/local/lib/python3.10/dist-packages/sdmetrics/column_pairs/statistical/contingency_similarity.py:43: FutureWarning: The default of observed=False is deprecated and will be changed to True in a future version of pandas. Pass observed=False to retain current behavior or observed=True to adopt the future default and silence this warning.\n",
            "  contingency_real = real.groupby(list(columns), dropna=False).size() / len(real)\n",
            "/usr/local/lib/python3.10/dist-packages/sdmetrics/column_pairs/statistical/contingency_similarity.py:44: FutureWarning: The default of observed=False is deprecated and will be changed to True in a future version of pandas. Pass observed=False to retain current behavior or observed=True to adopt the future default and silence this warning.\n",
            "  contingency_synthetic = synthetic.groupby(list(columns), dropna=False).size() / len(\n"
          ]
        },
        {
          "name": "stdout",
          "output_type": "stream",
          "text": [
            "(2/2) Evaluating Column Pair Trends: |███████▊  | 1769/2278 [00:48<00:10, 47.00it/s]|"
          ]
        },
        {
          "name": "stderr",
          "output_type": "stream",
          "text": [
            "/usr/local/lib/python3.10/dist-packages/sdmetrics/column_pairs/statistical/contingency_similarity.py:43: FutureWarning: The default of observed=False is deprecated and will be changed to True in a future version of pandas. Pass observed=False to retain current behavior or observed=True to adopt the future default and silence this warning.\n",
            "  contingency_real = real.groupby(list(columns), dropna=False).size() / len(real)\n",
            "/usr/local/lib/python3.10/dist-packages/sdmetrics/column_pairs/statistical/contingency_similarity.py:44: FutureWarning: The default of observed=False is deprecated and will be changed to True in a future version of pandas. Pass observed=False to retain current behavior or observed=True to adopt the future default and silence this warning.\n",
            "  contingency_synthetic = synthetic.groupby(list(columns), dropna=False).size() / len(\n",
            "/usr/local/lib/python3.10/dist-packages/sdmetrics/column_pairs/statistical/contingency_similarity.py:43: FutureWarning: The default of observed=False is deprecated and will be changed to True in a future version of pandas. Pass observed=False to retain current behavior or observed=True to adopt the future default and silence this warning.\n",
            "  contingency_real = real.groupby(list(columns), dropna=False).size() / len(real)\n",
            "/usr/local/lib/python3.10/dist-packages/sdmetrics/column_pairs/statistical/contingency_similarity.py:44: FutureWarning: The default of observed=False is deprecated and will be changed to True in a future version of pandas. Pass observed=False to retain current behavior or observed=True to adopt the future default and silence this warning.\n",
            "  contingency_synthetic = synthetic.groupby(list(columns), dropna=False).size() / len(\n"
          ]
        },
        {
          "name": "stdout",
          "output_type": "stream",
          "text": [
            "(2/2) Evaluating Column Pair Trends: |███████▉  | 1798/2278 [00:48<00:10, 44.43it/s]|"
          ]
        },
        {
          "name": "stderr",
          "output_type": "stream",
          "text": [
            "/usr/local/lib/python3.10/dist-packages/sdmetrics/column_pairs/statistical/contingency_similarity.py:43: FutureWarning: The default of observed=False is deprecated and will be changed to True in a future version of pandas. Pass observed=False to retain current behavior or observed=True to adopt the future default and silence this warning.\n",
            "  contingency_real = real.groupby(list(columns), dropna=False).size() / len(real)\n",
            "/usr/local/lib/python3.10/dist-packages/sdmetrics/column_pairs/statistical/contingency_similarity.py:44: FutureWarning: The default of observed=False is deprecated and will be changed to True in a future version of pandas. Pass observed=False to retain current behavior or observed=True to adopt the future default and silence this warning.\n",
            "  contingency_synthetic = synthetic.groupby(list(columns), dropna=False).size() / len(\n",
            "/usr/local/lib/python3.10/dist-packages/sdmetrics/column_pairs/statistical/contingency_similarity.py:43: FutureWarning: The default of observed=False is deprecated and will be changed to True in a future version of pandas. Pass observed=False to retain current behavior or observed=True to adopt the future default and silence this warning.\n",
            "  contingency_real = real.groupby(list(columns), dropna=False).size() / len(real)\n",
            "/usr/local/lib/python3.10/dist-packages/sdmetrics/column_pairs/statistical/contingency_similarity.py:44: FutureWarning: The default of observed=False is deprecated and will be changed to True in a future version of pandas. Pass observed=False to retain current behavior or observed=True to adopt the future default and silence this warning.\n",
            "  contingency_synthetic = synthetic.groupby(list(columns), dropna=False).size() / len(\n"
          ]
        },
        {
          "name": "stdout",
          "output_type": "stream",
          "text": [
            "(2/2) Evaluating Column Pair Trends: |████████  | 1830/2278 [00:49<00:09, 45.92it/s]|"
          ]
        },
        {
          "name": "stderr",
          "output_type": "stream",
          "text": [
            "/usr/local/lib/python3.10/dist-packages/sdmetrics/column_pairs/statistical/contingency_similarity.py:43: FutureWarning: The default of observed=False is deprecated and will be changed to True in a future version of pandas. Pass observed=False to retain current behavior or observed=True to adopt the future default and silence this warning.\n",
            "  contingency_real = real.groupby(list(columns), dropna=False).size() / len(real)\n",
            "/usr/local/lib/python3.10/dist-packages/sdmetrics/column_pairs/statistical/contingency_similarity.py:44: FutureWarning: The default of observed=False is deprecated and will be changed to True in a future version of pandas. Pass observed=False to retain current behavior or observed=True to adopt the future default and silence this warning.\n",
            "  contingency_synthetic = synthetic.groupby(list(columns), dropna=False).size() / len(\n",
            "/usr/local/lib/python3.10/dist-packages/sdmetrics/column_pairs/statistical/contingency_similarity.py:43: FutureWarning: The default of observed=False is deprecated and will be changed to True in a future version of pandas. Pass observed=False to retain current behavior or observed=True to adopt the future default and silence this warning.\n",
            "  contingency_real = real.groupby(list(columns), dropna=False).size() / len(real)\n",
            "/usr/local/lib/python3.10/dist-packages/sdmetrics/column_pairs/statistical/contingency_similarity.py:44: FutureWarning: The default of observed=False is deprecated and will be changed to True in a future version of pandas. Pass observed=False to retain current behavior or observed=True to adopt the future default and silence this warning.\n",
            "  contingency_synthetic = synthetic.groupby(list(columns), dropna=False).size() / len(\n"
          ]
        },
        {
          "name": "stdout",
          "output_type": "stream",
          "text": [
            "(2/2) Evaluating Column Pair Trends: |████████▏ | 1857/2278 [00:50<00:10, 42.07it/s]|"
          ]
        },
        {
          "name": "stderr",
          "output_type": "stream",
          "text": [
            "/usr/local/lib/python3.10/dist-packages/sdmetrics/column_pairs/statistical/contingency_similarity.py:43: FutureWarning: The default of observed=False is deprecated and will be changed to True in a future version of pandas. Pass observed=False to retain current behavior or observed=True to adopt the future default and silence this warning.\n",
            "  contingency_real = real.groupby(list(columns), dropna=False).size() / len(real)\n",
            "/usr/local/lib/python3.10/dist-packages/sdmetrics/column_pairs/statistical/contingency_similarity.py:44: FutureWarning: The default of observed=False is deprecated and will be changed to True in a future version of pandas. Pass observed=False to retain current behavior or observed=True to adopt the future default and silence this warning.\n",
            "  contingency_synthetic = synthetic.groupby(list(columns), dropna=False).size() / len(\n",
            "/usr/local/lib/python3.10/dist-packages/sdmetrics/column_pairs/statistical/contingency_similarity.py:43: FutureWarning: The default of observed=False is deprecated and will be changed to True in a future version of pandas. Pass observed=False to retain current behavior or observed=True to adopt the future default and silence this warning.\n",
            "  contingency_real = real.groupby(list(columns), dropna=False).size() / len(real)\n",
            "/usr/local/lib/python3.10/dist-packages/sdmetrics/column_pairs/statistical/contingency_similarity.py:44: FutureWarning: The default of observed=False is deprecated and will be changed to True in a future version of pandas. Pass observed=False to retain current behavior or observed=True to adopt the future default and silence this warning.\n",
            "  contingency_synthetic = synthetic.groupby(list(columns), dropna=False).size() / len(\n"
          ]
        },
        {
          "name": "stdout",
          "output_type": "stream",
          "text": [
            "(2/2) Evaluating Column Pair Trends: |████████▎ | 1882/2278 [00:50<00:09, 40.76it/s]|"
          ]
        },
        {
          "name": "stderr",
          "output_type": "stream",
          "text": [
            "/usr/local/lib/python3.10/dist-packages/sdmetrics/column_pairs/statistical/contingency_similarity.py:43: FutureWarning: The default of observed=False is deprecated and will be changed to True in a future version of pandas. Pass observed=False to retain current behavior or observed=True to adopt the future default and silence this warning.\n",
            "  contingency_real = real.groupby(list(columns), dropna=False).size() / len(real)\n",
            "/usr/local/lib/python3.10/dist-packages/sdmetrics/column_pairs/statistical/contingency_similarity.py:44: FutureWarning: The default of observed=False is deprecated and will be changed to True in a future version of pandas. Pass observed=False to retain current behavior or observed=True to adopt the future default and silence this warning.\n",
            "  contingency_synthetic = synthetic.groupby(list(columns), dropna=False).size() / len(\n",
            "/usr/local/lib/python3.10/dist-packages/sdmetrics/column_pairs/statistical/contingency_similarity.py:43: FutureWarning: The default of observed=False is deprecated and will be changed to True in a future version of pandas. Pass observed=False to retain current behavior or observed=True to adopt the future default and silence this warning.\n",
            "  contingency_real = real.groupby(list(columns), dropna=False).size() / len(real)\n",
            "/usr/local/lib/python3.10/dist-packages/sdmetrics/column_pairs/statistical/contingency_similarity.py:44: FutureWarning: The default of observed=False is deprecated and will be changed to True in a future version of pandas. Pass observed=False to retain current behavior or observed=True to adopt the future default and silence this warning.\n",
            "  contingency_synthetic = synthetic.groupby(list(columns), dropna=False).size() / len(\n"
          ]
        },
        {
          "name": "stdout",
          "output_type": "stream",
          "text": [
            "(2/2) Evaluating Column Pair Trends: |████████▍ | 1912/2278 [00:51<00:09, 39.12it/s]|"
          ]
        },
        {
          "name": "stderr",
          "output_type": "stream",
          "text": [
            "/usr/local/lib/python3.10/dist-packages/sdmetrics/column_pairs/statistical/contingency_similarity.py:43: FutureWarning: The default of observed=False is deprecated and will be changed to True in a future version of pandas. Pass observed=False to retain current behavior or observed=True to adopt the future default and silence this warning.\n",
            "  contingency_real = real.groupby(list(columns), dropna=False).size() / len(real)\n",
            "/usr/local/lib/python3.10/dist-packages/sdmetrics/column_pairs/statistical/contingency_similarity.py:44: FutureWarning: The default of observed=False is deprecated and will be changed to True in a future version of pandas. Pass observed=False to retain current behavior or observed=True to adopt the future default and silence this warning.\n",
            "  contingency_synthetic = synthetic.groupby(list(columns), dropna=False).size() / len(\n",
            "/usr/local/lib/python3.10/dist-packages/sdmetrics/column_pairs/statistical/contingency_similarity.py:43: FutureWarning: The default of observed=False is deprecated and will be changed to True in a future version of pandas. Pass observed=False to retain current behavior or observed=True to adopt the future default and silence this warning.\n",
            "  contingency_real = real.groupby(list(columns), dropna=False).size() / len(real)\n",
            "/usr/local/lib/python3.10/dist-packages/sdmetrics/column_pairs/statistical/contingency_similarity.py:44: FutureWarning: The default of observed=False is deprecated and will be changed to True in a future version of pandas. Pass observed=False to retain current behavior or observed=True to adopt the future default and silence this warning.\n",
            "  contingency_synthetic = synthetic.groupby(list(columns), dropna=False).size() / len(\n"
          ]
        },
        {
          "name": "stdout",
          "output_type": "stream",
          "text": [
            "(2/2) Evaluating Column Pair Trends: |████████▌ | 1937/2278 [00:52<00:08, 39.53it/s]|"
          ]
        },
        {
          "name": "stderr",
          "output_type": "stream",
          "text": [
            "/usr/local/lib/python3.10/dist-packages/sdmetrics/column_pairs/statistical/contingency_similarity.py:43: FutureWarning: The default of observed=False is deprecated and will be changed to True in a future version of pandas. Pass observed=False to retain current behavior or observed=True to adopt the future default and silence this warning.\n",
            "  contingency_real = real.groupby(list(columns), dropna=False).size() / len(real)\n",
            "/usr/local/lib/python3.10/dist-packages/sdmetrics/column_pairs/statistical/contingency_similarity.py:44: FutureWarning: The default of observed=False is deprecated and will be changed to True in a future version of pandas. Pass observed=False to retain current behavior or observed=True to adopt the future default and silence this warning.\n",
            "  contingency_synthetic = synthetic.groupby(list(columns), dropna=False).size() / len(\n",
            "/usr/local/lib/python3.10/dist-packages/sdmetrics/column_pairs/statistical/contingency_similarity.py:43: FutureWarning: The default of observed=False is deprecated and will be changed to True in a future version of pandas. Pass observed=False to retain current behavior or observed=True to adopt the future default and silence this warning.\n",
            "  contingency_real = real.groupby(list(columns), dropna=False).size() / len(real)\n",
            "/usr/local/lib/python3.10/dist-packages/sdmetrics/column_pairs/statistical/contingency_similarity.py:44: FutureWarning: The default of observed=False is deprecated and will be changed to True in a future version of pandas. Pass observed=False to retain current behavior or observed=True to adopt the future default and silence this warning.\n",
            "  contingency_synthetic = synthetic.groupby(list(columns), dropna=False).size() / len(\n"
          ]
        },
        {
          "name": "stdout",
          "output_type": "stream",
          "text": [
            "(2/2) Evaluating Column Pair Trends: |████████▋ | 1965/2278 [00:52<00:06, 47.99it/s]|"
          ]
        },
        {
          "name": "stderr",
          "output_type": "stream",
          "text": [
            "/usr/local/lib/python3.10/dist-packages/sdmetrics/column_pairs/statistical/contingency_similarity.py:43: FutureWarning: The default of observed=False is deprecated and will be changed to True in a future version of pandas. Pass observed=False to retain current behavior or observed=True to adopt the future default and silence this warning.\n",
            "  contingency_real = real.groupby(list(columns), dropna=False).size() / len(real)\n",
            "/usr/local/lib/python3.10/dist-packages/sdmetrics/column_pairs/statistical/contingency_similarity.py:44: FutureWarning: The default of observed=False is deprecated and will be changed to True in a future version of pandas. Pass observed=False to retain current behavior or observed=True to adopt the future default and silence this warning.\n",
            "  contingency_synthetic = synthetic.groupby(list(columns), dropna=False).size() / len(\n",
            "/usr/local/lib/python3.10/dist-packages/sdmetrics/column_pairs/statistical/contingency_similarity.py:43: FutureWarning: The default of observed=False is deprecated and will be changed to True in a future version of pandas. Pass observed=False to retain current behavior or observed=True to adopt the future default and silence this warning.\n",
            "  contingency_real = real.groupby(list(columns), dropna=False).size() / len(real)\n",
            "/usr/local/lib/python3.10/dist-packages/sdmetrics/column_pairs/statistical/contingency_similarity.py:44: FutureWarning: The default of observed=False is deprecated and will be changed to True in a future version of pandas. Pass observed=False to retain current behavior or observed=True to adopt the future default and silence this warning.\n",
            "  contingency_synthetic = synthetic.groupby(list(columns), dropna=False).size() / len(\n"
          ]
        },
        {
          "name": "stdout",
          "output_type": "stream",
          "text": [
            "(2/2) Evaluating Column Pair Trends: |████████▋ | 1979/2278 [00:52<00:06, 49.34it/s]|"
          ]
        },
        {
          "name": "stderr",
          "output_type": "stream",
          "text": [
            "/usr/local/lib/python3.10/dist-packages/sdmetrics/column_pairs/statistical/contingency_similarity.py:43: FutureWarning: The default of observed=False is deprecated and will be changed to True in a future version of pandas. Pass observed=False to retain current behavior or observed=True to adopt the future default and silence this warning.\n",
            "  contingency_real = real.groupby(list(columns), dropna=False).size() / len(real)\n",
            "/usr/local/lib/python3.10/dist-packages/sdmetrics/column_pairs/statistical/contingency_similarity.py:44: FutureWarning: The default of observed=False is deprecated and will be changed to True in a future version of pandas. Pass observed=False to retain current behavior or observed=True to adopt the future default and silence this warning.\n",
            "  contingency_synthetic = synthetic.groupby(list(columns), dropna=False).size() / len(\n",
            "/usr/local/lib/python3.10/dist-packages/sdmetrics/column_pairs/statistical/contingency_similarity.py:43: FutureWarning: The default of observed=False is deprecated and will be changed to True in a future version of pandas. Pass observed=False to retain current behavior or observed=True to adopt the future default and silence this warning.\n",
            "  contingency_real = real.groupby(list(columns), dropna=False).size() / len(real)\n",
            "/usr/local/lib/python3.10/dist-packages/sdmetrics/column_pairs/statistical/contingency_similarity.py:44: FutureWarning: The default of observed=False is deprecated and will be changed to True in a future version of pandas. Pass observed=False to retain current behavior or observed=True to adopt the future default and silence this warning.\n",
            "  contingency_synthetic = synthetic.groupby(list(columns), dropna=False).size() / len(\n"
          ]
        },
        {
          "name": "stdout",
          "output_type": "stream",
          "text": [
            "(2/2) Evaluating Column Pair Trends: |████████▊ | 2004/2278 [00:54<00:11, 24.08it/s]|"
          ]
        },
        {
          "name": "stderr",
          "output_type": "stream",
          "text": [
            "/usr/local/lib/python3.10/dist-packages/sdmetrics/column_pairs/statistical/contingency_similarity.py:43: FutureWarning: The default of observed=False is deprecated and will be changed to True in a future version of pandas. Pass observed=False to retain current behavior or observed=True to adopt the future default and silence this warning.\n",
            "  contingency_real = real.groupby(list(columns), dropna=False).size() / len(real)\n",
            "/usr/local/lib/python3.10/dist-packages/sdmetrics/column_pairs/statistical/contingency_similarity.py:44: FutureWarning: The default of observed=False is deprecated and will be changed to True in a future version of pandas. Pass observed=False to retain current behavior or observed=True to adopt the future default and silence this warning.\n",
            "  contingency_synthetic = synthetic.groupby(list(columns), dropna=False).size() / len(\n",
            "/usr/local/lib/python3.10/dist-packages/sdmetrics/column_pairs/statistical/contingency_similarity.py:43: FutureWarning: The default of observed=False is deprecated and will be changed to True in a future version of pandas. Pass observed=False to retain current behavior or observed=True to adopt the future default and silence this warning.\n",
            "  contingency_real = real.groupby(list(columns), dropna=False).size() / len(real)\n",
            "/usr/local/lib/python3.10/dist-packages/sdmetrics/column_pairs/statistical/contingency_similarity.py:44: FutureWarning: The default of observed=False is deprecated and will be changed to True in a future version of pandas. Pass observed=False to retain current behavior or observed=True to adopt the future default and silence this warning.\n",
            "  contingency_synthetic = synthetic.groupby(list(columns), dropna=False).size() / len(\n"
          ]
        },
        {
          "name": "stdout",
          "output_type": "stream",
          "text": [
            "(2/2) Evaluating Column Pair Trends: |████████▉ | 2029/2278 [00:55<00:09, 26.46it/s]|"
          ]
        },
        {
          "name": "stderr",
          "output_type": "stream",
          "text": [
            "/usr/local/lib/python3.10/dist-packages/sdmetrics/column_pairs/statistical/contingency_similarity.py:43: FutureWarning: The default of observed=False is deprecated and will be changed to True in a future version of pandas. Pass observed=False to retain current behavior or observed=True to adopt the future default and silence this warning.\n",
            "  contingency_real = real.groupby(list(columns), dropna=False).size() / len(real)\n",
            "/usr/local/lib/python3.10/dist-packages/sdmetrics/column_pairs/statistical/contingency_similarity.py:44: FutureWarning: The default of observed=False is deprecated and will be changed to True in a future version of pandas. Pass observed=False to retain current behavior or observed=True to adopt the future default and silence this warning.\n",
            "  contingency_synthetic = synthetic.groupby(list(columns), dropna=False).size() / len(\n",
            "/usr/local/lib/python3.10/dist-packages/sdmetrics/column_pairs/statistical/contingency_similarity.py:43: FutureWarning: The default of observed=False is deprecated and will be changed to True in a future version of pandas. Pass observed=False to retain current behavior or observed=True to adopt the future default and silence this warning.\n",
            "  contingency_real = real.groupby(list(columns), dropna=False).size() / len(real)\n",
            "/usr/local/lib/python3.10/dist-packages/sdmetrics/column_pairs/statistical/contingency_similarity.py:44: FutureWarning: The default of observed=False is deprecated and will be changed to True in a future version of pandas. Pass observed=False to retain current behavior or observed=True to adopt the future default and silence this warning.\n",
            "  contingency_synthetic = synthetic.groupby(list(columns), dropna=False).size() / len(\n",
            "/usr/local/lib/python3.10/dist-packages/pandas/core/dtypes/cast.py:976: RuntimeWarning: invalid value encountered in cast\n",
            "  return ensure_int8(indexer)\n",
            "/usr/local/lib/python3.10/dist-packages/sdmetrics/column_pairs/statistical/contingency_similarity.py:43: FutureWarning: The default of observed=False is deprecated and will be changed to True in a future version of pandas. Pass observed=False to retain current behavior or observed=True to adopt the future default and silence this warning.\n",
            "  contingency_real = real.groupby(list(columns), dropna=False).size() / len(real)\n",
            "/usr/local/lib/python3.10/dist-packages/sdmetrics/column_pairs/statistical/contingency_similarity.py:44: FutureWarning: The default of observed=False is deprecated and will be changed to True in a future version of pandas. Pass observed=False to retain current behavior or observed=True to adopt the future default and silence this warning.\n",
            "  contingency_synthetic = synthetic.groupby(list(columns), dropna=False).size() / len(\n",
            "/usr/local/lib/python3.10/dist-packages/pandas/core/dtypes/cast.py:976: RuntimeWarning: invalid value encountered in cast\n",
            "  return ensure_int8(indexer)\n",
            "/usr/local/lib/python3.10/dist-packages/sdmetrics/column_pairs/statistical/contingency_similarity.py:43: FutureWarning: The default of observed=False is deprecated and will be changed to True in a future version of pandas. Pass observed=False to retain current behavior or observed=True to adopt the future default and silence this warning.\n",
            "  contingency_real = real.groupby(list(columns), dropna=False).size() / len(real)\n",
            "/usr/local/lib/python3.10/dist-packages/sdmetrics/column_pairs/statistical/contingency_similarity.py:44: FutureWarning: The default of observed=False is deprecated and will be changed to True in a future version of pandas. Pass observed=False to retain current behavior or observed=True to adopt the future default and silence this warning.\n",
            "  contingency_synthetic = synthetic.groupby(list(columns), dropna=False).size() / len(\n",
            "/usr/local/lib/python3.10/dist-packages/pandas/core/dtypes/cast.py:976: RuntimeWarning: invalid value encountered in cast\n",
            "  return ensure_int8(indexer)\n",
            "/usr/local/lib/python3.10/dist-packages/sdmetrics/column_pairs/statistical/contingency_similarity.py:43: FutureWarning: The default of observed=False is deprecated and will be changed to True in a future version of pandas. Pass observed=False to retain current behavior or observed=True to adopt the future default and silence this warning.\n",
            "  contingency_real = real.groupby(list(columns), dropna=False).size() / len(real)\n",
            "/usr/local/lib/python3.10/dist-packages/sdmetrics/column_pairs/statistical/contingency_similarity.py:44: FutureWarning: The default of observed=False is deprecated and will be changed to True in a future version of pandas. Pass observed=False to retain current behavior or observed=True to adopt the future default and silence this warning.\n",
            "  contingency_synthetic = synthetic.groupby(list(columns), dropna=False).size() / len(\n",
            "/usr/local/lib/python3.10/dist-packages/pandas/core/dtypes/cast.py:976: RuntimeWarning: invalid value encountered in cast\n",
            "  return ensure_int8(indexer)\n",
            "/usr/local/lib/python3.10/dist-packages/sdmetrics/column_pairs/statistical/contingency_similarity.py:43: FutureWarning: The default of observed=False is deprecated and will be changed to True in a future version of pandas. Pass observed=False to retain current behavior or observed=True to adopt the future default and silence this warning.\n",
            "  contingency_real = real.groupby(list(columns), dropna=False).size() / len(real)\n",
            "/usr/local/lib/python3.10/dist-packages/sdmetrics/column_pairs/statistical/contingency_similarity.py:44: FutureWarning: The default of observed=False is deprecated and will be changed to True in a future version of pandas. Pass observed=False to retain current behavior or observed=True to adopt the future default and silence this warning.\n",
            "  contingency_synthetic = synthetic.groupby(list(columns), dropna=False).size() / len(\n",
            "/usr/local/lib/python3.10/dist-packages/pandas/core/dtypes/cast.py:976: RuntimeWarning: invalid value encountered in cast\n",
            "  return ensure_int8(indexer)\n",
            "/usr/local/lib/python3.10/dist-packages/sdmetrics/column_pairs/statistical/contingency_similarity.py:43: FutureWarning: The default of observed=False is deprecated and will be changed to True in a future version of pandas. Pass observed=False to retain current behavior or observed=True to adopt the future default and silence this warning.\n",
            "  contingency_real = real.groupby(list(columns), dropna=False).size() / len(real)\n",
            "/usr/local/lib/python3.10/dist-packages/sdmetrics/column_pairs/statistical/contingency_similarity.py:44: FutureWarning: The default of observed=False is deprecated and will be changed to True in a future version of pandas. Pass observed=False to retain current behavior or observed=True to adopt the future default and silence this warning.\n",
            "  contingency_synthetic = synthetic.groupby(list(columns), dropna=False).size() / len(\n",
            "/usr/local/lib/python3.10/dist-packages/pandas/core/dtypes/cast.py:976: RuntimeWarning: invalid value encountered in cast\n",
            "  return ensure_int8(indexer)\n",
            "/usr/local/lib/python3.10/dist-packages/sdmetrics/column_pairs/statistical/contingency_similarity.py:43: FutureWarning: The default of observed=False is deprecated and will be changed to True in a future version of pandas. Pass observed=False to retain current behavior or observed=True to adopt the future default and silence this warning.\n",
            "  contingency_real = real.groupby(list(columns), dropna=False).size() / len(real)\n",
            "/usr/local/lib/python3.10/dist-packages/sdmetrics/column_pairs/statistical/contingency_similarity.py:44: FutureWarning: The default of observed=False is deprecated and will be changed to True in a future version of pandas. Pass observed=False to retain current behavior or observed=True to adopt the future default and silence this warning.\n",
            "  contingency_synthetic = synthetic.groupby(list(columns), dropna=False).size() / len(\n"
          ]
        },
        {
          "name": "stdout",
          "output_type": "stream",
          "text": [
            "(2/2) Evaluating Column Pair Trends: |████████▉ | 2037/2278 [00:55<00:07, 31.70it/s]|"
          ]
        },
        {
          "name": "stderr",
          "output_type": "stream",
          "text": [
            "/usr/local/lib/python3.10/dist-packages/pandas/core/dtypes/cast.py:976: RuntimeWarning: invalid value encountered in cast\n",
            "  return ensure_int8(indexer)\n",
            "/usr/local/lib/python3.10/dist-packages/sdmetrics/column_pairs/statistical/contingency_similarity.py:43: FutureWarning: The default of observed=False is deprecated and will be changed to True in a future version of pandas. Pass observed=False to retain current behavior or observed=True to adopt the future default and silence this warning.\n",
            "  contingency_real = real.groupby(list(columns), dropna=False).size() / len(real)\n",
            "/usr/local/lib/python3.10/dist-packages/sdmetrics/column_pairs/statistical/contingency_similarity.py:44: FutureWarning: The default of observed=False is deprecated and will be changed to True in a future version of pandas. Pass observed=False to retain current behavior or observed=True to adopt the future default and silence this warning.\n",
            "  contingency_synthetic = synthetic.groupby(list(columns), dropna=False).size() / len(\n",
            "/usr/local/lib/python3.10/dist-packages/sdmetrics/column_pairs/statistical/contingency_similarity.py:43: FutureWarning: The default of observed=False is deprecated and will be changed to True in a future version of pandas. Pass observed=False to retain current behavior or observed=True to adopt the future default and silence this warning.\n",
            "  contingency_real = real.groupby(list(columns), dropna=False).size() / len(real)\n",
            "/usr/local/lib/python3.10/dist-packages/sdmetrics/column_pairs/statistical/contingency_similarity.py:44: FutureWarning: The default of observed=False is deprecated and will be changed to True in a future version of pandas. Pass observed=False to retain current behavior or observed=True to adopt the future default and silence this warning.\n",
            "  contingency_synthetic = synthetic.groupby(list(columns), dropna=False).size() / len(\n",
            "/usr/local/lib/python3.10/dist-packages/pandas/core/dtypes/cast.py:976: RuntimeWarning: invalid value encountered in cast\n",
            "  return ensure_int8(indexer)\n",
            "/usr/local/lib/python3.10/dist-packages/sdmetrics/column_pairs/statistical/contingency_similarity.py:43: FutureWarning: The default of observed=False is deprecated and will be changed to True in a future version of pandas. Pass observed=False to retain current behavior or observed=True to adopt the future default and silence this warning.\n",
            "  contingency_real = real.groupby(list(columns), dropna=False).size() / len(real)\n",
            "/usr/local/lib/python3.10/dist-packages/sdmetrics/column_pairs/statistical/contingency_similarity.py:44: FutureWarning: The default of observed=False is deprecated and will be changed to True in a future version of pandas. Pass observed=False to retain current behavior or observed=True to adopt the future default and silence this warning.\n",
            "  contingency_synthetic = synthetic.groupby(list(columns), dropna=False).size() / len(\n",
            "/usr/local/lib/python3.10/dist-packages/pandas/core/dtypes/cast.py:976: RuntimeWarning: invalid value encountered in cast\n",
            "  return ensure_int8(indexer)\n",
            "/usr/local/lib/python3.10/dist-packages/sdmetrics/column_pairs/statistical/contingency_similarity.py:43: FutureWarning: The default of observed=False is deprecated and will be changed to True in a future version of pandas. Pass observed=False to retain current behavior or observed=True to adopt the future default and silence this warning.\n",
            "  contingency_real = real.groupby(list(columns), dropna=False).size() / len(real)\n",
            "/usr/local/lib/python3.10/dist-packages/sdmetrics/column_pairs/statistical/contingency_similarity.py:44: FutureWarning: The default of observed=False is deprecated and will be changed to True in a future version of pandas. Pass observed=False to retain current behavior or observed=True to adopt the future default and silence this warning.\n",
            "  contingency_synthetic = synthetic.groupby(list(columns), dropna=False).size() / len(\n",
            "/usr/local/lib/python3.10/dist-packages/pandas/core/dtypes/cast.py:976: RuntimeWarning: invalid value encountered in cast\n",
            "  return ensure_int8(indexer)\n",
            "/usr/local/lib/python3.10/dist-packages/sdmetrics/column_pairs/statistical/contingency_similarity.py:43: FutureWarning: The default of observed=False is deprecated and will be changed to True in a future version of pandas. Pass observed=False to retain current behavior or observed=True to adopt the future default and silence this warning.\n",
            "  contingency_real = real.groupby(list(columns), dropna=False).size() / len(real)\n",
            "/usr/local/lib/python3.10/dist-packages/sdmetrics/column_pairs/statistical/contingency_similarity.py:44: FutureWarning: The default of observed=False is deprecated and will be changed to True in a future version of pandas. Pass observed=False to retain current behavior or observed=True to adopt the future default and silence this warning.\n",
            "  contingency_synthetic = synthetic.groupby(list(columns), dropna=False).size() / len(\n",
            "/usr/local/lib/python3.10/dist-packages/pandas/core/dtypes/cast.py:976: RuntimeWarning: invalid value encountered in cast\n",
            "  return ensure_int8(indexer)\n",
            "/usr/local/lib/python3.10/dist-packages/sdmetrics/column_pairs/statistical/contingency_similarity.py:43: FutureWarning: The default of observed=False is deprecated and will be changed to True in a future version of pandas. Pass observed=False to retain current behavior or observed=True to adopt the future default and silence this warning.\n",
            "  contingency_real = real.groupby(list(columns), dropna=False).size() / len(real)\n",
            "/usr/local/lib/python3.10/dist-packages/sdmetrics/column_pairs/statistical/contingency_similarity.py:44: FutureWarning: The default of observed=False is deprecated and will be changed to True in a future version of pandas. Pass observed=False to retain current behavior or observed=True to adopt the future default and silence this warning.\n",
            "  contingency_synthetic = synthetic.groupby(list(columns), dropna=False).size() / len(\n",
            "/usr/local/lib/python3.10/dist-packages/sdmetrics/column_pairs/statistical/contingency_similarity.py:43: FutureWarning: The default of observed=False is deprecated and will be changed to True in a future version of pandas. Pass observed=False to retain current behavior or observed=True to adopt the future default and silence this warning.\n",
            "  contingency_real = real.groupby(list(columns), dropna=False).size() / len(real)\n",
            "/usr/local/lib/python3.10/dist-packages/sdmetrics/column_pairs/statistical/contingency_similarity.py:44: FutureWarning: The default of observed=False is deprecated and will be changed to True in a future version of pandas. Pass observed=False to retain current behavior or observed=True to adopt the future default and silence this warning.\n",
            "  contingency_synthetic = synthetic.groupby(list(columns), dropna=False).size() / len(\n",
            "/usr/local/lib/python3.10/dist-packages/sdmetrics/column_pairs/statistical/contingency_similarity.py:43: FutureWarning: The default of observed=False is deprecated and will be changed to True in a future version of pandas. Pass observed=False to retain current behavior or observed=True to adopt the future default and silence this warning.\n",
            "  contingency_real = real.groupby(list(columns), dropna=False).size() / len(real)\n",
            "/usr/local/lib/python3.10/dist-packages/sdmetrics/column_pairs/statistical/contingency_similarity.py:44: FutureWarning: The default of observed=False is deprecated and will be changed to True in a future version of pandas. Pass observed=False to retain current behavior or observed=True to adopt the future default and silence this warning.\n",
            "  contingency_synthetic = synthetic.groupby(list(columns), dropna=False).size() / len(\n",
            "/usr/local/lib/python3.10/dist-packages/pandas/core/dtypes/cast.py:976: RuntimeWarning: invalid value encountered in cast\n",
            "  return ensure_int8(indexer)\n"
          ]
        },
        {
          "name": "stdout",
          "output_type": "stream",
          "text": [
            "(2/2) Evaluating Column Pair Trends: |████████▉ | 2047/2278 [00:55<00:06, 36.26it/s]|"
          ]
        },
        {
          "name": "stderr",
          "output_type": "stream",
          "text": [
            "/usr/local/lib/python3.10/dist-packages/sdmetrics/column_pairs/statistical/contingency_similarity.py:43: FutureWarning: The default of observed=False is deprecated and will be changed to True in a future version of pandas. Pass observed=False to retain current behavior or observed=True to adopt the future default and silence this warning.\n",
            "  contingency_real = real.groupby(list(columns), dropna=False).size() / len(real)\n",
            "/usr/local/lib/python3.10/dist-packages/sdmetrics/column_pairs/statistical/contingency_similarity.py:44: FutureWarning: The default of observed=False is deprecated and will be changed to True in a future version of pandas. Pass observed=False to retain current behavior or observed=True to adopt the future default and silence this warning.\n",
            "  contingency_synthetic = synthetic.groupby(list(columns), dropna=False).size() / len(\n",
            "/usr/local/lib/python3.10/dist-packages/pandas/core/dtypes/cast.py:976: RuntimeWarning: invalid value encountered in cast\n",
            "  return ensure_int8(indexer)\n",
            "/usr/local/lib/python3.10/dist-packages/sdmetrics/column_pairs/statistical/contingency_similarity.py:43: FutureWarning: The default of observed=False is deprecated and will be changed to True in a future version of pandas. Pass observed=False to retain current behavior or observed=True to adopt the future default and silence this warning.\n",
            "  contingency_real = real.groupby(list(columns), dropna=False).size() / len(real)\n",
            "/usr/local/lib/python3.10/dist-packages/sdmetrics/column_pairs/statistical/contingency_similarity.py:44: FutureWarning: The default of observed=False is deprecated and will be changed to True in a future version of pandas. Pass observed=False to retain current behavior or observed=True to adopt the future default and silence this warning.\n",
            "  contingency_synthetic = synthetic.groupby(list(columns), dropna=False).size() / len(\n",
            "/usr/local/lib/python3.10/dist-packages/sdmetrics/column_pairs/statistical/contingency_similarity.py:43: FutureWarning: The default of observed=False is deprecated and will be changed to True in a future version of pandas. Pass observed=False to retain current behavior or observed=True to adopt the future default and silence this warning.\n",
            "  contingency_real = real.groupby(list(columns), dropna=False).size() / len(real)\n",
            "/usr/local/lib/python3.10/dist-packages/sdmetrics/column_pairs/statistical/contingency_similarity.py:44: FutureWarning: The default of observed=False is deprecated and will be changed to True in a future version of pandas. Pass observed=False to retain current behavior or observed=True to adopt the future default and silence this warning.\n",
            "  contingency_synthetic = synthetic.groupby(list(columns), dropna=False).size() / len(\n",
            "/usr/local/lib/python3.10/dist-packages/pandas/core/dtypes/cast.py:976: RuntimeWarning: invalid value encountered in cast\n",
            "  return ensure_int8(indexer)\n",
            "/usr/local/lib/python3.10/dist-packages/sdmetrics/column_pairs/statistical/contingency_similarity.py:43: FutureWarning: The default of observed=False is deprecated and will be changed to True in a future version of pandas. Pass observed=False to retain current behavior or observed=True to adopt the future default and silence this warning.\n",
            "  contingency_real = real.groupby(list(columns), dropna=False).size() / len(real)\n",
            "/usr/local/lib/python3.10/dist-packages/sdmetrics/column_pairs/statistical/contingency_similarity.py:44: FutureWarning: The default of observed=False is deprecated and will be changed to True in a future version of pandas. Pass observed=False to retain current behavior or observed=True to adopt the future default and silence this warning.\n",
            "  contingency_synthetic = synthetic.groupby(list(columns), dropna=False).size() / len(\n",
            "/usr/local/lib/python3.10/dist-packages/pandas/core/dtypes/cast.py:976: RuntimeWarning: invalid value encountered in cast\n",
            "  return ensure_int8(indexer)\n",
            "/usr/local/lib/python3.10/dist-packages/sdmetrics/column_pairs/statistical/contingency_similarity.py:43: FutureWarning: The default of observed=False is deprecated and will be changed to True in a future version of pandas. Pass observed=False to retain current behavior or observed=True to adopt the future default and silence this warning.\n",
            "  contingency_real = real.groupby(list(columns), dropna=False).size() / len(real)\n",
            "/usr/local/lib/python3.10/dist-packages/sdmetrics/column_pairs/statistical/contingency_similarity.py:44: FutureWarning: The default of observed=False is deprecated and will be changed to True in a future version of pandas. Pass observed=False to retain current behavior or observed=True to adopt the future default and silence this warning.\n",
            "  contingency_synthetic = synthetic.groupby(list(columns), dropna=False).size() / len(\n",
            "/usr/local/lib/python3.10/dist-packages/pandas/core/dtypes/cast.py:976: RuntimeWarning: invalid value encountered in cast\n",
            "  return ensure_int8(indexer)\n",
            "/usr/local/lib/python3.10/dist-packages/sdmetrics/column_pairs/statistical/contingency_similarity.py:43: FutureWarning: The default of observed=False is deprecated and will be changed to True in a future version of pandas. Pass observed=False to retain current behavior or observed=True to adopt the future default and silence this warning.\n",
            "  contingency_real = real.groupby(list(columns), dropna=False).size() / len(real)\n",
            "/usr/local/lib/python3.10/dist-packages/sdmetrics/column_pairs/statistical/contingency_similarity.py:44: FutureWarning: The default of observed=False is deprecated and will be changed to True in a future version of pandas. Pass observed=False to retain current behavior or observed=True to adopt the future default and silence this warning.\n",
            "  contingency_synthetic = synthetic.groupby(list(columns), dropna=False).size() / len(\n",
            "/usr/local/lib/python3.10/dist-packages/sdmetrics/column_pairs/statistical/contingency_similarity.py:43: FutureWarning: The default of observed=False is deprecated and will be changed to True in a future version of pandas. Pass observed=False to retain current behavior or observed=True to adopt the future default and silence this warning.\n",
            "  contingency_real = real.groupby(list(columns), dropna=False).size() / len(real)\n",
            "/usr/local/lib/python3.10/dist-packages/sdmetrics/column_pairs/statistical/contingency_similarity.py:44: FutureWarning: The default of observed=False is deprecated and will be changed to True in a future version of pandas. Pass observed=False to retain current behavior or observed=True to adopt the future default and silence this warning.\n",
            "  contingency_synthetic = synthetic.groupby(list(columns), dropna=False).size() / len(\n",
            "/usr/local/lib/python3.10/dist-packages/sdmetrics/column_pairs/statistical/contingency_similarity.py:43: FutureWarning: The default of observed=False is deprecated and will be changed to True in a future version of pandas. Pass observed=False to retain current behavior or observed=True to adopt the future default and silence this warning.\n",
            "  contingency_real = real.groupby(list(columns), dropna=False).size() / len(real)\n",
            "/usr/local/lib/python3.10/dist-packages/sdmetrics/column_pairs/statistical/contingency_similarity.py:44: FutureWarning: The default of observed=False is deprecated and will be changed to True in a future version of pandas. Pass observed=False to retain current behavior or observed=True to adopt the future default and silence this warning.\n",
            "  contingency_synthetic = synthetic.groupby(list(columns), dropna=False).size() / len(\n",
            "/usr/local/lib/python3.10/dist-packages/sdmetrics/column_pairs/statistical/contingency_similarity.py:43: FutureWarning: The default of observed=False is deprecated and will be changed to True in a future version of pandas. Pass observed=False to retain current behavior or observed=True to adopt the future default and silence this warning.\n",
            "  contingency_real = real.groupby(list(columns), dropna=False).size() / len(real)\n"
          ]
        },
        {
          "name": "stdout",
          "output_type": "stream",
          "text": [
            "(2/2) Evaluating Column Pair Trends: |█████████ | 2056/2278 [00:55<00:05, 38.63it/s]|"
          ]
        },
        {
          "name": "stderr",
          "output_type": "stream",
          "text": [
            "/usr/local/lib/python3.10/dist-packages/sdmetrics/column_pairs/statistical/contingency_similarity.py:44: FutureWarning: The default of observed=False is deprecated and will be changed to True in a future version of pandas. Pass observed=False to retain current behavior or observed=True to adopt the future default and silence this warning.\n",
            "  contingency_synthetic = synthetic.groupby(list(columns), dropna=False).size() / len(\n",
            "/usr/local/lib/python3.10/dist-packages/sdmetrics/column_pairs/statistical/contingency_similarity.py:43: FutureWarning: The default of observed=False is deprecated and will be changed to True in a future version of pandas. Pass observed=False to retain current behavior or observed=True to adopt the future default and silence this warning.\n",
            "  contingency_real = real.groupby(list(columns), dropna=False).size() / len(real)\n",
            "/usr/local/lib/python3.10/dist-packages/sdmetrics/column_pairs/statistical/contingency_similarity.py:44: FutureWarning: The default of observed=False is deprecated and will be changed to True in a future version of pandas. Pass observed=False to retain current behavior or observed=True to adopt the future default and silence this warning.\n",
            "  contingency_synthetic = synthetic.groupby(list(columns), dropna=False).size() / len(\n",
            "/usr/local/lib/python3.10/dist-packages/sdmetrics/column_pairs/statistical/contingency_similarity.py:43: FutureWarning: The default of observed=False is deprecated and will be changed to True in a future version of pandas. Pass observed=False to retain current behavior or observed=True to adopt the future default and silence this warning.\n",
            "  contingency_real = real.groupby(list(columns), dropna=False).size() / len(real)\n",
            "/usr/local/lib/python3.10/dist-packages/sdmetrics/column_pairs/statistical/contingency_similarity.py:44: FutureWarning: The default of observed=False is deprecated and will be changed to True in a future version of pandas. Pass observed=False to retain current behavior or observed=True to adopt the future default and silence this warning.\n",
            "  contingency_synthetic = synthetic.groupby(list(columns), dropna=False).size() / len(\n",
            "/usr/local/lib/python3.10/dist-packages/sdmetrics/column_pairs/statistical/contingency_similarity.py:43: FutureWarning: The default of observed=False is deprecated and will be changed to True in a future version of pandas. Pass observed=False to retain current behavior or observed=True to adopt the future default and silence this warning.\n",
            "  contingency_real = real.groupby(list(columns), dropna=False).size() / len(real)\n",
            "/usr/local/lib/python3.10/dist-packages/sdmetrics/column_pairs/statistical/contingency_similarity.py:44: FutureWarning: The default of observed=False is deprecated and will be changed to True in a future version of pandas. Pass observed=False to retain current behavior or observed=True to adopt the future default and silence this warning.\n",
            "  contingency_synthetic = synthetic.groupby(list(columns), dropna=False).size() / len(\n",
            "/usr/local/lib/python3.10/dist-packages/sdmetrics/column_pairs/statistical/contingency_similarity.py:43: FutureWarning: The default of observed=False is deprecated and will be changed to True in a future version of pandas. Pass observed=False to retain current behavior or observed=True to adopt the future default and silence this warning.\n",
            "  contingency_real = real.groupby(list(columns), dropna=False).size() / len(real)\n",
            "/usr/local/lib/python3.10/dist-packages/sdmetrics/column_pairs/statistical/contingency_similarity.py:44: FutureWarning: The default of observed=False is deprecated and will be changed to True in a future version of pandas. Pass observed=False to retain current behavior or observed=True to adopt the future default and silence this warning.\n",
            "  contingency_synthetic = synthetic.groupby(list(columns), dropna=False).size() / len(\n",
            "/usr/local/lib/python3.10/dist-packages/sdmetrics/column_pairs/statistical/contingency_similarity.py:43: FutureWarning: The default of observed=False is deprecated and will be changed to True in a future version of pandas. Pass observed=False to retain current behavior or observed=True to adopt the future default and silence this warning.\n",
            "  contingency_real = real.groupby(list(columns), dropna=False).size() / len(real)\n",
            "/usr/local/lib/python3.10/dist-packages/sdmetrics/column_pairs/statistical/contingency_similarity.py:44: FutureWarning: The default of observed=False is deprecated and will be changed to True in a future version of pandas. Pass observed=False to retain current behavior or observed=True to adopt the future default and silence this warning.\n",
            "  contingency_synthetic = synthetic.groupby(list(columns), dropna=False).size() / len(\n",
            "/usr/local/lib/python3.10/dist-packages/sdmetrics/column_pairs/statistical/contingency_similarity.py:43: FutureWarning: The default of observed=False is deprecated and will be changed to True in a future version of pandas. Pass observed=False to retain current behavior or observed=True to adopt the future default and silence this warning.\n",
            "  contingency_real = real.groupby(list(columns), dropna=False).size() / len(real)\n",
            "/usr/local/lib/python3.10/dist-packages/sdmetrics/column_pairs/statistical/contingency_similarity.py:44: FutureWarning: The default of observed=False is deprecated and will be changed to True in a future version of pandas. Pass observed=False to retain current behavior or observed=True to adopt the future default and silence this warning.\n",
            "  contingency_synthetic = synthetic.groupby(list(columns), dropna=False).size() / len(\n",
            "/usr/local/lib/python3.10/dist-packages/sdmetrics/column_pairs/statistical/contingency_similarity.py:43: FutureWarning: The default of observed=False is deprecated and will be changed to True in a future version of pandas. Pass observed=False to retain current behavior or observed=True to adopt the future default and silence this warning.\n",
            "  contingency_real = real.groupby(list(columns), dropna=False).size() / len(real)\n",
            "/usr/local/lib/python3.10/dist-packages/sdmetrics/column_pairs/statistical/contingency_similarity.py:44: FutureWarning: The default of observed=False is deprecated and will be changed to True in a future version of pandas. Pass observed=False to retain current behavior or observed=True to adopt the future default and silence this warning.\n",
            "  contingency_synthetic = synthetic.groupby(list(columns), dropna=False).size() / len(\n",
            "/usr/local/lib/python3.10/dist-packages/sdmetrics/column_pairs/statistical/contingency_similarity.py:43: FutureWarning: The default of observed=False is deprecated and will be changed to True in a future version of pandas. Pass observed=False to retain current behavior or observed=True to adopt the future default and silence this warning.\n",
            "  contingency_real = real.groupby(list(columns), dropna=False).size() / len(real)\n",
            "/usr/local/lib/python3.10/dist-packages/sdmetrics/column_pairs/statistical/contingency_similarity.py:44: FutureWarning: The default of observed=False is deprecated and will be changed to True in a future version of pandas. Pass observed=False to retain current behavior or observed=True to adopt the future default and silence this warning.\n",
            "  contingency_synthetic = synthetic.groupby(list(columns), dropna=False).size() / len(\n"
          ]
        },
        {
          "name": "stdout",
          "output_type": "stream",
          "text": [
            "(2/2) Evaluating Column Pair Trends: |█████████ | 2066/2278 [00:56<00:05, 40.37it/s]|"
          ]
        },
        {
          "name": "stderr",
          "output_type": "stream",
          "text": [
            "/usr/local/lib/python3.10/dist-packages/sdmetrics/column_pairs/statistical/contingency_similarity.py:43: FutureWarning: The default of observed=False is deprecated and will be changed to True in a future version of pandas. Pass observed=False to retain current behavior or observed=True to adopt the future default and silence this warning.\n",
            "  contingency_real = real.groupby(list(columns), dropna=False).size() / len(real)\n",
            "/usr/local/lib/python3.10/dist-packages/sdmetrics/column_pairs/statistical/contingency_similarity.py:44: FutureWarning: The default of observed=False is deprecated and will be changed to True in a future version of pandas. Pass observed=False to retain current behavior or observed=True to adopt the future default and silence this warning.\n",
            "  contingency_synthetic = synthetic.groupby(list(columns), dropna=False).size() / len(\n",
            "/usr/local/lib/python3.10/dist-packages/sdmetrics/column_pairs/statistical/contingency_similarity.py:43: FutureWarning: The default of observed=False is deprecated and will be changed to True in a future version of pandas. Pass observed=False to retain current behavior or observed=True to adopt the future default and silence this warning.\n",
            "  contingency_real = real.groupby(list(columns), dropna=False).size() / len(real)\n",
            "/usr/local/lib/python3.10/dist-packages/sdmetrics/column_pairs/statistical/contingency_similarity.py:44: FutureWarning: The default of observed=False is deprecated and will be changed to True in a future version of pandas. Pass observed=False to retain current behavior or observed=True to adopt the future default and silence this warning.\n",
            "  contingency_synthetic = synthetic.groupby(list(columns), dropna=False).size() / len(\n",
            "/usr/local/lib/python3.10/dist-packages/sdmetrics/column_pairs/statistical/contingency_similarity.py:43: FutureWarning: The default of observed=False is deprecated and will be changed to True in a future version of pandas. Pass observed=False to retain current behavior or observed=True to adopt the future default and silence this warning.\n",
            "  contingency_real = real.groupby(list(columns), dropna=False).size() / len(real)\n",
            "/usr/local/lib/python3.10/dist-packages/sdmetrics/column_pairs/statistical/contingency_similarity.py:44: FutureWarning: The default of observed=False is deprecated and will be changed to True in a future version of pandas. Pass observed=False to retain current behavior or observed=True to adopt the future default and silence this warning.\n",
            "  contingency_synthetic = synthetic.groupby(list(columns), dropna=False).size() / len(\n",
            "/usr/local/lib/python3.10/dist-packages/sdmetrics/column_pairs/statistical/contingency_similarity.py:43: FutureWarning: The default of observed=False is deprecated and will be changed to True in a future version of pandas. Pass observed=False to retain current behavior or observed=True to adopt the future default and silence this warning.\n",
            "  contingency_real = real.groupby(list(columns), dropna=False).size() / len(real)\n",
            "/usr/local/lib/python3.10/dist-packages/sdmetrics/column_pairs/statistical/contingency_similarity.py:44: FutureWarning: The default of observed=False is deprecated and will be changed to True in a future version of pandas. Pass observed=False to retain current behavior or observed=True to adopt the future default and silence this warning.\n",
            "  contingency_synthetic = synthetic.groupby(list(columns), dropna=False).size() / len(\n",
            "/usr/local/lib/python3.10/dist-packages/sdmetrics/column_pairs/statistical/contingency_similarity.py:43: FutureWarning: The default of observed=False is deprecated and will be changed to True in a future version of pandas. Pass observed=False to retain current behavior or observed=True to adopt the future default and silence this warning.\n",
            "  contingency_real = real.groupby(list(columns), dropna=False).size() / len(real)\n",
            "/usr/local/lib/python3.10/dist-packages/sdmetrics/column_pairs/statistical/contingency_similarity.py:44: FutureWarning: The default of observed=False is deprecated and will be changed to True in a future version of pandas. Pass observed=False to retain current behavior or observed=True to adopt the future default and silence this warning.\n",
            "  contingency_synthetic = synthetic.groupby(list(columns), dropna=False).size() / len(\n",
            "/usr/local/lib/python3.10/dist-packages/sdmetrics/column_pairs/statistical/contingency_similarity.py:43: FutureWarning: The default of observed=False is deprecated and will be changed to True in a future version of pandas. Pass observed=False to retain current behavior or observed=True to adopt the future default and silence this warning.\n",
            "  contingency_real = real.groupby(list(columns), dropna=False).size() / len(real)\n",
            "/usr/local/lib/python3.10/dist-packages/sdmetrics/column_pairs/statistical/contingency_similarity.py:44: FutureWarning: The default of observed=False is deprecated and will be changed to True in a future version of pandas. Pass observed=False to retain current behavior or observed=True to adopt the future default and silence this warning.\n",
            "  contingency_synthetic = synthetic.groupby(list(columns), dropna=False).size() / len(\n",
            "/usr/local/lib/python3.10/dist-packages/sdmetrics/column_pairs/statistical/contingency_similarity.py:43: FutureWarning: The default of observed=False is deprecated and will be changed to True in a future version of pandas. Pass observed=False to retain current behavior or observed=True to adopt the future default and silence this warning.\n",
            "  contingency_real = real.groupby(list(columns), dropna=False).size() / len(real)\n",
            "/usr/local/lib/python3.10/dist-packages/sdmetrics/column_pairs/statistical/contingency_similarity.py:44: FutureWarning: The default of observed=False is deprecated and will be changed to True in a future version of pandas. Pass observed=False to retain current behavior or observed=True to adopt the future default and silence this warning.\n",
            "  contingency_synthetic = synthetic.groupby(list(columns), dropna=False).size() / len(\n",
            "/usr/local/lib/python3.10/dist-packages/sdmetrics/column_pairs/statistical/contingency_similarity.py:43: FutureWarning: The default of observed=False is deprecated and will be changed to True in a future version of pandas. Pass observed=False to retain current behavior or observed=True to adopt the future default and silence this warning.\n",
            "  contingency_real = real.groupby(list(columns), dropna=False).size() / len(real)\n",
            "/usr/local/lib/python3.10/dist-packages/sdmetrics/column_pairs/statistical/contingency_similarity.py:44: FutureWarning: The default of observed=False is deprecated and will be changed to True in a future version of pandas. Pass observed=False to retain current behavior or observed=True to adopt the future default and silence this warning.\n",
            "  contingency_synthetic = synthetic.groupby(list(columns), dropna=False).size() / len(\n",
            "/usr/local/lib/python3.10/dist-packages/sdmetrics/column_pairs/statistical/contingency_similarity.py:43: FutureWarning: The default of observed=False is deprecated and will be changed to True in a future version of pandas. Pass observed=False to retain current behavior or observed=True to adopt the future default and silence this warning.\n",
            "  contingency_real = real.groupby(list(columns), dropna=False).size() / len(real)\n",
            "/usr/local/lib/python3.10/dist-packages/sdmetrics/column_pairs/statistical/contingency_similarity.py:44: FutureWarning: The default of observed=False is deprecated and will be changed to True in a future version of pandas. Pass observed=False to retain current behavior or observed=True to adopt the future default and silence this warning.\n",
            "  contingency_synthetic = synthetic.groupby(list(columns), dropna=False).size() / len(\n"
          ]
        },
        {
          "name": "stdout",
          "output_type": "stream",
          "text": [
            "\r(2/2) Evaluating Column Pair Trends: |█████████ | 2071/2278 [00:56<00:05, 40.03it/s]|"
          ]
        },
        {
          "name": "stderr",
          "output_type": "stream",
          "text": [
            "/usr/local/lib/python3.10/dist-packages/sdmetrics/column_pairs/statistical/contingency_similarity.py:43: FutureWarning: The default of observed=False is deprecated and will be changed to True in a future version of pandas. Pass observed=False to retain current behavior or observed=True to adopt the future default and silence this warning.\n",
            "  contingency_real = real.groupby(list(columns), dropna=False).size() / len(real)\n",
            "/usr/local/lib/python3.10/dist-packages/sdmetrics/column_pairs/statistical/contingency_similarity.py:44: FutureWarning: The default of observed=False is deprecated and will be changed to True in a future version of pandas. Pass observed=False to retain current behavior or observed=True to adopt the future default and silence this warning.\n",
            "  contingency_synthetic = synthetic.groupby(list(columns), dropna=False).size() / len(\n"
          ]
        },
        {
          "name": "stdout",
          "output_type": "stream",
          "text": [
            "(2/2) Evaluating Column Pair Trends: |█████████▌| 2183/2278 [00:59<00:02, 40.64it/s]|"
          ]
        },
        {
          "name": "stderr",
          "output_type": "stream",
          "text": [
            "/usr/local/lib/python3.10/dist-packages/sdmetrics/column_pairs/statistical/correlation_similarity.py:103: ConstantInputWarning: An input array is constant; the correlation coefficient is not defined.\n",
            "  correlation_real, _ = correlation_fn(real_data[column1], real_data[column2])\n"
          ]
        },
        {
          "name": "stdout",
          "output_type": "stream",
          "text": [
            "(2/2) Evaluating Column Pair Trends: |██████████| 2278/2278 [01:01<00:00, 36.96it/s]|\n",
            "Column Pair Trends Score: 83.8%\n",
            "\n",
            "Overall Score (Average): 85.76%\n",
            "\n"
          ]
        }
      ],
      "source": [
        "from sdv.evaluation.single_table import evaluate_quality\n",
        "\n",
        "quality_report = evaluate_quality(\n",
        "    real_data,\n",
        "    synthetic_data,\n",
        "    metadata\n",
        ")"
      ]
    },
    {
      "cell_type": "markdown",
      "metadata": {
        "id": "tqbGJ5kjddLi"
      },
      "source": [
        "## 4. Evaluate with the SDMetrics Package\n",
        "\n",
        "Source: https://github.com/sdv-dev/SDMetrics"
      ]
    },
    {
      "cell_type": "code",
      "execution_count": null,
      "metadata": {
        "id": "Bw7qYccWghZI"
      },
      "outputs": [],
      "source": [
        "# Convert metadata to dictionary\n",
        "metadata = metadata.to_dict()"
      ]
    },
    {
      "cell_type": "code",
      "execution_count": null,
      "metadata": {
        "colab": {
          "base_uri": "https://localhost:8080/"
        },
        "id": "a0vCx9xEdb0P",
        "outputId": "30137838-4d18-4899-dd5d-edfb0da8cf11"
      },
      "outputs": [
        {
          "name": "stdout",
          "output_type": "stream",
          "text": [
            "Generating report ...\n",
            "\n",
            "(1/2) Evaluating Column Shapes: |██████████| 68/68 [00:02<00:00, 27.01it/s]|\n",
            "Column Shapes Score: 87.73%\n",
            "\n",
            "(2/2) Evaluating Column Pair Trends: |▎         | 70/2278 [00:00<00:13, 166.20it/s]|"
          ]
        },
        {
          "name": "stderr",
          "output_type": "stream",
          "text": [
            "/usr/local/lib/python3.10/dist-packages/sdmetrics/column_pairs/statistical/contingency_similarity.py:43: FutureWarning: The default of observed=False is deprecated and will be changed to True in a future version of pandas. Pass observed=False to retain current behavior or observed=True to adopt the future default and silence this warning.\n",
            "  contingency_real = real.groupby(list(columns), dropna=False).size() / len(real)\n",
            "/usr/local/lib/python3.10/dist-packages/sdmetrics/column_pairs/statistical/contingency_similarity.py:44: FutureWarning: The default of observed=False is deprecated and will be changed to True in a future version of pandas. Pass observed=False to retain current behavior or observed=True to adopt the future default and silence this warning.\n",
            "  contingency_synthetic = synthetic.groupby(list(columns), dropna=False).size() / len(\n",
            "/usr/local/lib/python3.10/dist-packages/sdmetrics/column_pairs/statistical/contingency_similarity.py:43: FutureWarning: The default of observed=False is deprecated and will be changed to True in a future version of pandas. Pass observed=False to retain current behavior or observed=True to adopt the future default and silence this warning.\n",
            "  contingency_real = real.groupby(list(columns), dropna=False).size() / len(real)\n",
            "/usr/local/lib/python3.10/dist-packages/sdmetrics/column_pairs/statistical/contingency_similarity.py:44: FutureWarning: The default of observed=False is deprecated and will be changed to True in a future version of pandas. Pass observed=False to retain current behavior or observed=True to adopt the future default and silence this warning.\n",
            "  contingency_synthetic = synthetic.groupby(list(columns), dropna=False).size() / len(\n"
          ]
        },
        {
          "name": "stdout",
          "output_type": "stream",
          "text": [
            "\r(2/2) Evaluating Column Pair Trends: |▍         | 100/2278 [00:01<00:47, 46.16it/s]|"
          ]
        },
        {
          "name": "stderr",
          "output_type": "stream",
          "text": [
            "/usr/local/lib/python3.10/dist-packages/sdmetrics/column_pairs/statistical/contingency_similarity.py:43: FutureWarning: The default of observed=False is deprecated and will be changed to True in a future version of pandas. Pass observed=False to retain current behavior or observed=True to adopt the future default and silence this warning.\n",
            "  contingency_real = real.groupby(list(columns), dropna=False).size() / len(real)\n",
            "/usr/local/lib/python3.10/dist-packages/sdmetrics/column_pairs/statistical/contingency_similarity.py:44: FutureWarning: The default of observed=False is deprecated and will be changed to True in a future version of pandas. Pass observed=False to retain current behavior or observed=True to adopt the future default and silence this warning.\n",
            "  contingency_synthetic = synthetic.groupby(list(columns), dropna=False).size() / len(\n",
            "/usr/local/lib/python3.10/dist-packages/sdmetrics/column_pairs/statistical/contingency_similarity.py:43: FutureWarning: The default of observed=False is deprecated and will be changed to True in a future version of pandas. Pass observed=False to retain current behavior or observed=True to adopt the future default and silence this warning.\n",
            "  contingency_real = real.groupby(list(columns), dropna=False).size() / len(real)\n",
            "/usr/local/lib/python3.10/dist-packages/sdmetrics/column_pairs/statistical/contingency_similarity.py:44: FutureWarning: The default of observed=False is deprecated and will be changed to True in a future version of pandas. Pass observed=False to retain current behavior or observed=True to adopt the future default and silence this warning.\n",
            "  contingency_synthetic = synthetic.groupby(list(columns), dropna=False).size() / len(\n"
          ]
        },
        {
          "name": "stdout",
          "output_type": "stream",
          "text": [
            "(2/2) Evaluating Column Pair Trends: |▌         | 136/2278 [00:03<01:12, 29.46it/s]|"
          ]
        },
        {
          "name": "stderr",
          "output_type": "stream",
          "text": [
            "/usr/local/lib/python3.10/dist-packages/sdmetrics/column_pairs/statistical/contingency_similarity.py:43: FutureWarning: The default of observed=False is deprecated and will be changed to True in a future version of pandas. Pass observed=False to retain current behavior or observed=True to adopt the future default and silence this warning.\n",
            "  contingency_real = real.groupby(list(columns), dropna=False).size() / len(real)\n",
            "/usr/local/lib/python3.10/dist-packages/sdmetrics/column_pairs/statistical/contingency_similarity.py:44: FutureWarning: The default of observed=False is deprecated and will be changed to True in a future version of pandas. Pass observed=False to retain current behavior or observed=True to adopt the future default and silence this warning.\n",
            "  contingency_synthetic = synthetic.groupby(list(columns), dropna=False).size() / len(\n",
            "/usr/local/lib/python3.10/dist-packages/sdmetrics/column_pairs/statistical/contingency_similarity.py:43: FutureWarning: The default of observed=False is deprecated and will be changed to True in a future version of pandas. Pass observed=False to retain current behavior or observed=True to adopt the future default and silence this warning.\n",
            "  contingency_real = real.groupby(list(columns), dropna=False).size() / len(real)\n",
            "/usr/local/lib/python3.10/dist-packages/sdmetrics/column_pairs/statistical/contingency_similarity.py:44: FutureWarning: The default of observed=False is deprecated and will be changed to True in a future version of pandas. Pass observed=False to retain current behavior or observed=True to adopt the future default and silence this warning.\n",
            "  contingency_synthetic = synthetic.groupby(list(columns), dropna=False).size() / len(\n",
            "/usr/local/lib/python3.10/dist-packages/sdmetrics/column_pairs/statistical/contingency_similarity.py:43: FutureWarning: The default of observed=False is deprecated and will be changed to True in a future version of pandas. Pass observed=False to retain current behavior or observed=True to adopt the future default and silence this warning.\n",
            "  contingency_real = real.groupby(list(columns), dropna=False).size() / len(real)\n",
            "/usr/local/lib/python3.10/dist-packages/sdmetrics/column_pairs/statistical/contingency_similarity.py:44: FutureWarning: The default of observed=False is deprecated and will be changed to True in a future version of pandas. Pass observed=False to retain current behavior or observed=True to adopt the future default and silence this warning.\n",
            "  contingency_synthetic = synthetic.groupby(list(columns), dropna=False).size() / len(\n",
            "/usr/local/lib/python3.10/dist-packages/sdmetrics/column_pairs/statistical/contingency_similarity.py:43: FutureWarning: The default of observed=False is deprecated and will be changed to True in a future version of pandas. Pass observed=False to retain current behavior or observed=True to adopt the future default and silence this warning.\n",
            "  contingency_real = real.groupby(list(columns), dropna=False).size() / len(real)\n",
            "/usr/local/lib/python3.10/dist-packages/sdmetrics/column_pairs/statistical/contingency_similarity.py:44: FutureWarning: The default of observed=False is deprecated and will be changed to True in a future version of pandas. Pass observed=False to retain current behavior or observed=True to adopt the future default and silence this warning.\n",
            "  contingency_synthetic = synthetic.groupby(list(columns), dropna=False).size() / len(\n",
            "/usr/local/lib/python3.10/dist-packages/sdmetrics/column_pairs/statistical/contingency_similarity.py:43: FutureWarning: The default of observed=False is deprecated and will be changed to True in a future version of pandas. Pass observed=False to retain current behavior or observed=True to adopt the future default and silence this warning.\n",
            "  contingency_real = real.groupby(list(columns), dropna=False).size() / len(real)\n",
            "/usr/local/lib/python3.10/dist-packages/sdmetrics/column_pairs/statistical/contingency_similarity.py:44: FutureWarning: The default of observed=False is deprecated and will be changed to True in a future version of pandas. Pass observed=False to retain current behavior or observed=True to adopt the future default and silence this warning.\n",
            "  contingency_synthetic = synthetic.groupby(list(columns), dropna=False).size() / len(\n",
            "/usr/local/lib/python3.10/dist-packages/sdmetrics/column_pairs/statistical/contingency_similarity.py:43: FutureWarning: The default of observed=False is deprecated and will be changed to True in a future version of pandas. Pass observed=False to retain current behavior or observed=True to adopt the future default and silence this warning.\n",
            "  contingency_real = real.groupby(list(columns), dropna=False).size() / len(real)\n",
            "/usr/local/lib/python3.10/dist-packages/sdmetrics/column_pairs/statistical/contingency_similarity.py:44: FutureWarning: The default of observed=False is deprecated and will be changed to True in a future version of pandas. Pass observed=False to retain current behavior or observed=True to adopt the future default and silence this warning.\n",
            "  contingency_synthetic = synthetic.groupby(list(columns), dropna=False).size() / len(\n"
          ]
        },
        {
          "name": "stdout",
          "output_type": "stream",
          "text": [
            "\r(2/2) Evaluating Column Pair Trends: |▌         | 142/2278 [00:03<01:13, 29.24it/s]|"
          ]
        },
        {
          "name": "stderr",
          "output_type": "stream",
          "text": [
            "/usr/local/lib/python3.10/dist-packages/sdmetrics/column_pairs/statistical/contingency_similarity.py:43: FutureWarning: The default of observed=False is deprecated and will be changed to True in a future version of pandas. Pass observed=False to retain current behavior or observed=True to adopt the future default and silence this warning.\n",
            "  contingency_real = real.groupby(list(columns), dropna=False).size() / len(real)\n",
            "/usr/local/lib/python3.10/dist-packages/sdmetrics/column_pairs/statistical/contingency_similarity.py:44: FutureWarning: The default of observed=False is deprecated and will be changed to True in a future version of pandas. Pass observed=False to retain current behavior or observed=True to adopt the future default and silence this warning.\n",
            "  contingency_synthetic = synthetic.groupby(list(columns), dropna=False).size() / len(\n",
            "/usr/local/lib/python3.10/dist-packages/sdmetrics/column_pairs/statistical/contingency_similarity.py:43: FutureWarning: The default of observed=False is deprecated and will be changed to True in a future version of pandas. Pass observed=False to retain current behavior or observed=True to adopt the future default and silence this warning.\n",
            "  contingency_real = real.groupby(list(columns), dropna=False).size() / len(real)\n",
            "/usr/local/lib/python3.10/dist-packages/sdmetrics/column_pairs/statistical/contingency_similarity.py:44: FutureWarning: The default of observed=False is deprecated and will be changed to True in a future version of pandas. Pass observed=False to retain current behavior or observed=True to adopt the future default and silence this warning.\n",
            "  contingency_synthetic = synthetic.groupby(list(columns), dropna=False).size() / len(\n",
            "/usr/local/lib/python3.10/dist-packages/sdmetrics/column_pairs/statistical/contingency_similarity.py:43: FutureWarning: The default of observed=False is deprecated and will be changed to True in a future version of pandas. Pass observed=False to retain current behavior or observed=True to adopt the future default and silence this warning.\n",
            "  contingency_real = real.groupby(list(columns), dropna=False).size() / len(real)\n",
            "/usr/local/lib/python3.10/dist-packages/sdmetrics/column_pairs/statistical/contingency_similarity.py:44: FutureWarning: The default of observed=False is deprecated and will be changed to True in a future version of pandas. Pass observed=False to retain current behavior or observed=True to adopt the future default and silence this warning.\n",
            "  contingency_synthetic = synthetic.groupby(list(columns), dropna=False).size() / len(\n",
            "/usr/local/lib/python3.10/dist-packages/sdmetrics/column_pairs/statistical/contingency_similarity.py:43: FutureWarning: The default of observed=False is deprecated and will be changed to True in a future version of pandas. Pass observed=False to retain current behavior or observed=True to adopt the future default and silence this warning.\n",
            "  contingency_real = real.groupby(list(columns), dropna=False).size() / len(real)\n",
            "/usr/local/lib/python3.10/dist-packages/sdmetrics/column_pairs/statistical/contingency_similarity.py:44: FutureWarning: The default of observed=False is deprecated and will be changed to True in a future version of pandas. Pass observed=False to retain current behavior or observed=True to adopt the future default and silence this warning.\n",
            "  contingency_synthetic = synthetic.groupby(list(columns), dropna=False).size() / len(\n",
            "/usr/local/lib/python3.10/dist-packages/sdmetrics/column_pairs/statistical/contingency_similarity.py:43: FutureWarning: The default of observed=False is deprecated and will be changed to True in a future version of pandas. Pass observed=False to retain current behavior or observed=True to adopt the future default and silence this warning.\n",
            "  contingency_real = real.groupby(list(columns), dropna=False).size() / len(real)\n",
            "/usr/local/lib/python3.10/dist-packages/sdmetrics/column_pairs/statistical/contingency_similarity.py:44: FutureWarning: The default of observed=False is deprecated and will be changed to True in a future version of pandas. Pass observed=False to retain current behavior or observed=True to adopt the future default and silence this warning.\n",
            "  contingency_synthetic = synthetic.groupby(list(columns), dropna=False).size() / len(\n",
            "/usr/local/lib/python3.10/dist-packages/sdmetrics/column_pairs/statistical/contingency_similarity.py:43: FutureWarning: The default of observed=False is deprecated and will be changed to True in a future version of pandas. Pass observed=False to retain current behavior or observed=True to adopt the future default and silence this warning.\n",
            "  contingency_real = real.groupby(list(columns), dropna=False).size() / len(real)\n",
            "/usr/local/lib/python3.10/dist-packages/sdmetrics/column_pairs/statistical/contingency_similarity.py:44: FutureWarning: The default of observed=False is deprecated and will be changed to True in a future version of pandas. Pass observed=False to retain current behavior or observed=True to adopt the future default and silence this warning.\n",
            "  contingency_synthetic = synthetic.groupby(list(columns), dropna=False).size() / len(\n",
            "/usr/local/lib/python3.10/dist-packages/sdmetrics/column_pairs/statistical/contingency_similarity.py:43: FutureWarning: The default of observed=False is deprecated and will be changed to True in a future version of pandas. Pass observed=False to retain current behavior or observed=True to adopt the future default and silence this warning.\n",
            "  contingency_real = real.groupby(list(columns), dropna=False).size() / len(real)\n",
            "/usr/local/lib/python3.10/dist-packages/sdmetrics/column_pairs/statistical/contingency_similarity.py:44: FutureWarning: The default of observed=False is deprecated and will be changed to True in a future version of pandas. Pass observed=False to retain current behavior or observed=True to adopt the future default and silence this warning.\n",
            "  contingency_synthetic = synthetic.groupby(list(columns), dropna=False).size() / len(\n",
            "/usr/local/lib/python3.10/dist-packages/sdmetrics/column_pairs/statistical/contingency_similarity.py:43: FutureWarning: The default of observed=False is deprecated and will be changed to True in a future version of pandas. Pass observed=False to retain current behavior or observed=True to adopt the future default and silence this warning.\n",
            "  contingency_real = real.groupby(list(columns), dropna=False).size() / len(real)\n"
          ]
        },
        {
          "name": "stdout",
          "output_type": "stream",
          "text": [
            "(2/2) Evaluating Column Pair Trends: |▋         | 152/2278 [00:04<01:05, 32.22it/s]|"
          ]
        },
        {
          "name": "stderr",
          "output_type": "stream",
          "text": [
            "/usr/local/lib/python3.10/dist-packages/sdmetrics/column_pairs/statistical/contingency_similarity.py:44: FutureWarning: The default of observed=False is deprecated and will be changed to True in a future version of pandas. Pass observed=False to retain current behavior or observed=True to adopt the future default and silence this warning.\n",
            "  contingency_synthetic = synthetic.groupby(list(columns), dropna=False).size() / len(\n",
            "/usr/local/lib/python3.10/dist-packages/sdmetrics/column_pairs/statistical/contingency_similarity.py:43: FutureWarning: The default of observed=False is deprecated and will be changed to True in a future version of pandas. Pass observed=False to retain current behavior or observed=True to adopt the future default and silence this warning.\n",
            "  contingency_real = real.groupby(list(columns), dropna=False).size() / len(real)\n",
            "/usr/local/lib/python3.10/dist-packages/sdmetrics/column_pairs/statistical/contingency_similarity.py:44: FutureWarning: The default of observed=False is deprecated and will be changed to True in a future version of pandas. Pass observed=False to retain current behavior or observed=True to adopt the future default and silence this warning.\n",
            "  contingency_synthetic = synthetic.groupby(list(columns), dropna=False).size() / len(\n",
            "/usr/local/lib/python3.10/dist-packages/sdmetrics/column_pairs/statistical/contingency_similarity.py:43: FutureWarning: The default of observed=False is deprecated and will be changed to True in a future version of pandas. Pass observed=False to retain current behavior or observed=True to adopt the future default and silence this warning.\n",
            "  contingency_real = real.groupby(list(columns), dropna=False).size() / len(real)\n",
            "/usr/local/lib/python3.10/dist-packages/sdmetrics/column_pairs/statistical/contingency_similarity.py:44: FutureWarning: The default of observed=False is deprecated and will be changed to True in a future version of pandas. Pass observed=False to retain current behavior or observed=True to adopt the future default and silence this warning.\n",
            "  contingency_synthetic = synthetic.groupby(list(columns), dropna=False).size() / len(\n",
            "/usr/local/lib/python3.10/dist-packages/sdmetrics/column_pairs/statistical/contingency_similarity.py:43: FutureWarning: The default of observed=False is deprecated and will be changed to True in a future version of pandas. Pass observed=False to retain current behavior or observed=True to adopt the future default and silence this warning.\n",
            "  contingency_real = real.groupby(list(columns), dropna=False).size() / len(real)\n",
            "/usr/local/lib/python3.10/dist-packages/sdmetrics/column_pairs/statistical/contingency_similarity.py:44: FutureWarning: The default of observed=False is deprecated and will be changed to True in a future version of pandas. Pass observed=False to retain current behavior or observed=True to adopt the future default and silence this warning.\n",
            "  contingency_synthetic = synthetic.groupby(list(columns), dropna=False).size() / len(\n",
            "/usr/local/lib/python3.10/dist-packages/sdmetrics/column_pairs/statistical/contingency_similarity.py:43: FutureWarning: The default of observed=False is deprecated and will be changed to True in a future version of pandas. Pass observed=False to retain current behavior or observed=True to adopt the future default and silence this warning.\n",
            "  contingency_real = real.groupby(list(columns), dropna=False).size() / len(real)\n",
            "/usr/local/lib/python3.10/dist-packages/sdmetrics/column_pairs/statistical/contingency_similarity.py:44: FutureWarning: The default of observed=False is deprecated and will be changed to True in a future version of pandas. Pass observed=False to retain current behavior or observed=True to adopt the future default and silence this warning.\n",
            "  contingency_synthetic = synthetic.groupby(list(columns), dropna=False).size() / len(\n",
            "/usr/local/lib/python3.10/dist-packages/sdmetrics/column_pairs/statistical/contingency_similarity.py:43: FutureWarning: The default of observed=False is deprecated and will be changed to True in a future version of pandas. Pass observed=False to retain current behavior or observed=True to adopt the future default and silence this warning.\n",
            "  contingency_real = real.groupby(list(columns), dropna=False).size() / len(real)\n",
            "/usr/local/lib/python3.10/dist-packages/sdmetrics/column_pairs/statistical/contingency_similarity.py:44: FutureWarning: The default of observed=False is deprecated and will be changed to True in a future version of pandas. Pass observed=False to retain current behavior or observed=True to adopt the future default and silence this warning.\n",
            "  contingency_synthetic = synthetic.groupby(list(columns), dropna=False).size() / len(\n",
            "/usr/local/lib/python3.10/dist-packages/sdmetrics/column_pairs/statistical/contingency_similarity.py:43: FutureWarning: The default of observed=False is deprecated and will be changed to True in a future version of pandas. Pass observed=False to retain current behavior or observed=True to adopt the future default and silence this warning.\n",
            "  contingency_real = real.groupby(list(columns), dropna=False).size() / len(real)\n",
            "/usr/local/lib/python3.10/dist-packages/sdmetrics/column_pairs/statistical/contingency_similarity.py:44: FutureWarning: The default of observed=False is deprecated and will be changed to True in a future version of pandas. Pass observed=False to retain current behavior or observed=True to adopt the future default and silence this warning.\n",
            "  contingency_synthetic = synthetic.groupby(list(columns), dropna=False).size() / len(\n",
            "/usr/local/lib/python3.10/dist-packages/sdmetrics/column_pairs/statistical/contingency_similarity.py:43: FutureWarning: The default of observed=False is deprecated and will be changed to True in a future version of pandas. Pass observed=False to retain current behavior or observed=True to adopt the future default and silence this warning.\n",
            "  contingency_real = real.groupby(list(columns), dropna=False).size() / len(real)\n",
            "/usr/local/lib/python3.10/dist-packages/sdmetrics/column_pairs/statistical/contingency_similarity.py:44: FutureWarning: The default of observed=False is deprecated and will be changed to True in a future version of pandas. Pass observed=False to retain current behavior or observed=True to adopt the future default and silence this warning.\n",
            "  contingency_synthetic = synthetic.groupby(list(columns), dropna=False).size() / len(\n",
            "/usr/local/lib/python3.10/dist-packages/sdmetrics/column_pairs/statistical/contingency_similarity.py:43: FutureWarning: The default of observed=False is deprecated and will be changed to True in a future version of pandas. Pass observed=False to retain current behavior or observed=True to adopt the future default and silence this warning.\n",
            "  contingency_real = real.groupby(list(columns), dropna=False).size() / len(real)\n",
            "/usr/local/lib/python3.10/dist-packages/sdmetrics/column_pairs/statistical/contingency_similarity.py:44: FutureWarning: The default of observed=False is deprecated and will be changed to True in a future version of pandas. Pass observed=False to retain current behavior or observed=True to adopt the future default and silence this warning.\n",
            "  contingency_synthetic = synthetic.groupby(list(columns), dropna=False).size() / len(\n",
            "/usr/local/lib/python3.10/dist-packages/sdmetrics/column_pairs/statistical/contingency_similarity.py:43: FutureWarning: The default of observed=False is deprecated and will be changed to True in a future version of pandas. Pass observed=False to retain current behavior or observed=True to adopt the future default and silence this warning.\n",
            "  contingency_real = real.groupby(list(columns), dropna=False).size() / len(real)\n",
            "/usr/local/lib/python3.10/dist-packages/sdmetrics/column_pairs/statistical/contingency_similarity.py:44: FutureWarning: The default of observed=False is deprecated and will be changed to True in a future version of pandas. Pass observed=False to retain current behavior or observed=True to adopt the future default and silence this warning.\n",
            "  contingency_synthetic = synthetic.groupby(list(columns), dropna=False).size() / len(\n",
            "/usr/local/lib/python3.10/dist-packages/sdmetrics/column_pairs/statistical/contingency_similarity.py:43: FutureWarning: The default of observed=False is deprecated and will be changed to True in a future version of pandas. Pass observed=False to retain current behavior or observed=True to adopt the future default and silence this warning.\n",
            "  contingency_real = real.groupby(list(columns), dropna=False).size() / len(real)\n"
          ]
        },
        {
          "name": "stdout",
          "output_type": "stream",
          "text": [
            "(2/2) Evaluating Column Pair Trends: |▋         | 163/2278 [00:04<00:56, 37.53it/s]|"
          ]
        },
        {
          "name": "stderr",
          "output_type": "stream",
          "text": [
            "/usr/local/lib/python3.10/dist-packages/sdmetrics/column_pairs/statistical/contingency_similarity.py:44: FutureWarning: The default of observed=False is deprecated and will be changed to True in a future version of pandas. Pass observed=False to retain current behavior or observed=True to adopt the future default and silence this warning.\n",
            "  contingency_synthetic = synthetic.groupby(list(columns), dropna=False).size() / len(\n",
            "/usr/local/lib/python3.10/dist-packages/sdmetrics/column_pairs/statistical/contingency_similarity.py:43: FutureWarning: The default of observed=False is deprecated and will be changed to True in a future version of pandas. Pass observed=False to retain current behavior or observed=True to adopt the future default and silence this warning.\n",
            "  contingency_real = real.groupby(list(columns), dropna=False).size() / len(real)\n",
            "/usr/local/lib/python3.10/dist-packages/sdmetrics/column_pairs/statistical/contingency_similarity.py:44: FutureWarning: The default of observed=False is deprecated and will be changed to True in a future version of pandas. Pass observed=False to retain current behavior or observed=True to adopt the future default and silence this warning.\n",
            "  contingency_synthetic = synthetic.groupby(list(columns), dropna=False).size() / len(\n",
            "/usr/local/lib/python3.10/dist-packages/sdmetrics/column_pairs/statistical/contingency_similarity.py:43: FutureWarning: The default of observed=False is deprecated and will be changed to True in a future version of pandas. Pass observed=False to retain current behavior or observed=True to adopt the future default and silence this warning.\n",
            "  contingency_real = real.groupby(list(columns), dropna=False).size() / len(real)\n",
            "/usr/local/lib/python3.10/dist-packages/sdmetrics/column_pairs/statistical/contingency_similarity.py:44: FutureWarning: The default of observed=False is deprecated and will be changed to True in a future version of pandas. Pass observed=False to retain current behavior or observed=True to adopt the future default and silence this warning.\n",
            "  contingency_synthetic = synthetic.groupby(list(columns), dropna=False).size() / len(\n",
            "/usr/local/lib/python3.10/dist-packages/sdmetrics/column_pairs/statistical/contingency_similarity.py:43: FutureWarning: The default of observed=False is deprecated and will be changed to True in a future version of pandas. Pass observed=False to retain current behavior or observed=True to adopt the future default and silence this warning.\n",
            "  contingency_real = real.groupby(list(columns), dropna=False).size() / len(real)\n",
            "/usr/local/lib/python3.10/dist-packages/sdmetrics/column_pairs/statistical/contingency_similarity.py:44: FutureWarning: The default of observed=False is deprecated and will be changed to True in a future version of pandas. Pass observed=False to retain current behavior or observed=True to adopt the future default and silence this warning.\n",
            "  contingency_synthetic = synthetic.groupby(list(columns), dropna=False).size() / len(\n",
            "/usr/local/lib/python3.10/dist-packages/sdmetrics/column_pairs/statistical/contingency_similarity.py:43: FutureWarning: The default of observed=False is deprecated and will be changed to True in a future version of pandas. Pass observed=False to retain current behavior or observed=True to adopt the future default and silence this warning.\n",
            "  contingency_real = real.groupby(list(columns), dropna=False).size() / len(real)\n",
            "/usr/local/lib/python3.10/dist-packages/sdmetrics/column_pairs/statistical/contingency_similarity.py:44: FutureWarning: The default of observed=False is deprecated and will be changed to True in a future version of pandas. Pass observed=False to retain current behavior or observed=True to adopt the future default and silence this warning.\n",
            "  contingency_synthetic = synthetic.groupby(list(columns), dropna=False).size() / len(\n",
            "/usr/local/lib/python3.10/dist-packages/sdmetrics/column_pairs/statistical/contingency_similarity.py:43: FutureWarning: The default of observed=False is deprecated and will be changed to True in a future version of pandas. Pass observed=False to retain current behavior or observed=True to adopt the future default and silence this warning.\n",
            "  contingency_real = real.groupby(list(columns), dropna=False).size() / len(real)\n",
            "/usr/local/lib/python3.10/dist-packages/sdmetrics/column_pairs/statistical/contingency_similarity.py:44: FutureWarning: The default of observed=False is deprecated and will be changed to True in a future version of pandas. Pass observed=False to retain current behavior or observed=True to adopt the future default and silence this warning.\n",
            "  contingency_synthetic = synthetic.groupby(list(columns), dropna=False).size() / len(\n",
            "/usr/local/lib/python3.10/dist-packages/sdmetrics/column_pairs/statistical/contingency_similarity.py:43: FutureWarning: The default of observed=False is deprecated and will be changed to True in a future version of pandas. Pass observed=False to retain current behavior or observed=True to adopt the future default and silence this warning.\n",
            "  contingency_real = real.groupby(list(columns), dropna=False).size() / len(real)\n",
            "/usr/local/lib/python3.10/dist-packages/sdmetrics/column_pairs/statistical/contingency_similarity.py:44: FutureWarning: The default of observed=False is deprecated and will be changed to True in a future version of pandas. Pass observed=False to retain current behavior or observed=True to adopt the future default and silence this warning.\n",
            "  contingency_synthetic = synthetic.groupby(list(columns), dropna=False).size() / len(\n",
            "/usr/local/lib/python3.10/dist-packages/sdmetrics/column_pairs/statistical/contingency_similarity.py:43: FutureWarning: The default of observed=False is deprecated and will be changed to True in a future version of pandas. Pass observed=False to retain current behavior or observed=True to adopt the future default and silence this warning.\n",
            "  contingency_real = real.groupby(list(columns), dropna=False).size() / len(real)\n",
            "/usr/local/lib/python3.10/dist-packages/sdmetrics/column_pairs/statistical/contingency_similarity.py:44: FutureWarning: The default of observed=False is deprecated and will be changed to True in a future version of pandas. Pass observed=False to retain current behavior or observed=True to adopt the future default and silence this warning.\n",
            "  contingency_synthetic = synthetic.groupby(list(columns), dropna=False).size() / len(\n",
            "/usr/local/lib/python3.10/dist-packages/sdmetrics/column_pairs/statistical/contingency_similarity.py:43: FutureWarning: The default of observed=False is deprecated and will be changed to True in a future version of pandas. Pass observed=False to retain current behavior or observed=True to adopt the future default and silence this warning.\n",
            "  contingency_real = real.groupby(list(columns), dropna=False).size() / len(real)\n",
            "/usr/local/lib/python3.10/dist-packages/sdmetrics/column_pairs/statistical/contingency_similarity.py:44: FutureWarning: The default of observed=False is deprecated and will be changed to True in a future version of pandas. Pass observed=False to retain current behavior or observed=True to adopt the future default and silence this warning.\n",
            "  contingency_synthetic = synthetic.groupby(list(columns), dropna=False).size() / len(\n",
            "/usr/local/lib/python3.10/dist-packages/sdmetrics/column_pairs/statistical/contingency_similarity.py:43: FutureWarning: The default of observed=False is deprecated and will be changed to True in a future version of pandas. Pass observed=False to retain current behavior or observed=True to adopt the future default and silence this warning.\n",
            "  contingency_real = real.groupby(list(columns), dropna=False).size() / len(real)\n",
            "/usr/local/lib/python3.10/dist-packages/sdmetrics/column_pairs/statistical/contingency_similarity.py:44: FutureWarning: The default of observed=False is deprecated and will be changed to True in a future version of pandas. Pass observed=False to retain current behavior or observed=True to adopt the future default and silence this warning.\n",
            "  contingency_synthetic = synthetic.groupby(list(columns), dropna=False).size() / len(\n",
            "/usr/local/lib/python3.10/dist-packages/sdmetrics/column_pairs/statistical/contingency_similarity.py:43: FutureWarning: The default of observed=False is deprecated and will be changed to True in a future version of pandas. Pass observed=False to retain current behavior or observed=True to adopt the future default and silence this warning.\n",
            "  contingency_real = real.groupby(list(columns), dropna=False).size() / len(real)\n",
            "/usr/local/lib/python3.10/dist-packages/sdmetrics/column_pairs/statistical/contingency_similarity.py:44: FutureWarning: The default of observed=False is deprecated and will be changed to True in a future version of pandas. Pass observed=False to retain current behavior or observed=True to adopt the future default and silence this warning.\n",
            "  contingency_synthetic = synthetic.groupby(list(columns), dropna=False).size() / len(\n"
          ]
        },
        {
          "name": "stdout",
          "output_type": "stream",
          "text": [
            "(2/2) Evaluating Column Pair Trends: |▊         | 173/2278 [00:04<00:52, 40.19it/s]|"
          ]
        },
        {
          "name": "stderr",
          "output_type": "stream",
          "text": [
            "/usr/local/lib/python3.10/dist-packages/sdmetrics/column_pairs/statistical/contingency_similarity.py:43: FutureWarning: The default of observed=False is deprecated and will be changed to True in a future version of pandas. Pass observed=False to retain current behavior or observed=True to adopt the future default and silence this warning.\n",
            "  contingency_real = real.groupby(list(columns), dropna=False).size() / len(real)\n",
            "/usr/local/lib/python3.10/dist-packages/sdmetrics/column_pairs/statistical/contingency_similarity.py:44: FutureWarning: The default of observed=False is deprecated and will be changed to True in a future version of pandas. Pass observed=False to retain current behavior or observed=True to adopt the future default and silence this warning.\n",
            "  contingency_synthetic = synthetic.groupby(list(columns), dropna=False).size() / len(\n",
            "/usr/local/lib/python3.10/dist-packages/sdmetrics/column_pairs/statistical/contingency_similarity.py:43: FutureWarning: The default of observed=False is deprecated and will be changed to True in a future version of pandas. Pass observed=False to retain current behavior or observed=True to adopt the future default and silence this warning.\n",
            "  contingency_real = real.groupby(list(columns), dropna=False).size() / len(real)\n",
            "/usr/local/lib/python3.10/dist-packages/sdmetrics/column_pairs/statistical/contingency_similarity.py:44: FutureWarning: The default of observed=False is deprecated and will be changed to True in a future version of pandas. Pass observed=False to retain current behavior or observed=True to adopt the future default and silence this warning.\n",
            "  contingency_synthetic = synthetic.groupby(list(columns), dropna=False).size() / len(\n",
            "/usr/local/lib/python3.10/dist-packages/sdmetrics/column_pairs/statistical/contingency_similarity.py:43: FutureWarning: The default of observed=False is deprecated and will be changed to True in a future version of pandas. Pass observed=False to retain current behavior or observed=True to adopt the future default and silence this warning.\n",
            "  contingency_real = real.groupby(list(columns), dropna=False).size() / len(real)\n",
            "/usr/local/lib/python3.10/dist-packages/sdmetrics/column_pairs/statistical/contingency_similarity.py:44: FutureWarning: The default of observed=False is deprecated and will be changed to True in a future version of pandas. Pass observed=False to retain current behavior or observed=True to adopt the future default and silence this warning.\n",
            "  contingency_synthetic = synthetic.groupby(list(columns), dropna=False).size() / len(\n",
            "/usr/local/lib/python3.10/dist-packages/sdmetrics/column_pairs/statistical/contingency_similarity.py:43: FutureWarning: The default of observed=False is deprecated and will be changed to True in a future version of pandas. Pass observed=False to retain current behavior or observed=True to adopt the future default and silence this warning.\n",
            "  contingency_real = real.groupby(list(columns), dropna=False).size() / len(real)\n",
            "/usr/local/lib/python3.10/dist-packages/sdmetrics/column_pairs/statistical/contingency_similarity.py:44: FutureWarning: The default of observed=False is deprecated and will be changed to True in a future version of pandas. Pass observed=False to retain current behavior or observed=True to adopt the future default and silence this warning.\n",
            "  contingency_synthetic = synthetic.groupby(list(columns), dropna=False).size() / len(\n",
            "/usr/local/lib/python3.10/dist-packages/sdmetrics/column_pairs/statistical/contingency_similarity.py:43: FutureWarning: The default of observed=False is deprecated and will be changed to True in a future version of pandas. Pass observed=False to retain current behavior or observed=True to adopt the future default and silence this warning.\n",
            "  contingency_real = real.groupby(list(columns), dropna=False).size() / len(real)\n",
            "/usr/local/lib/python3.10/dist-packages/sdmetrics/column_pairs/statistical/contingency_similarity.py:44: FutureWarning: The default of observed=False is deprecated and will be changed to True in a future version of pandas. Pass observed=False to retain current behavior or observed=True to adopt the future default and silence this warning.\n",
            "  contingency_synthetic = synthetic.groupby(list(columns), dropna=False).size() / len(\n",
            "/usr/local/lib/python3.10/dist-packages/sdmetrics/column_pairs/statistical/contingency_similarity.py:43: FutureWarning: The default of observed=False is deprecated and will be changed to True in a future version of pandas. Pass observed=False to retain current behavior or observed=True to adopt the future default and silence this warning.\n",
            "  contingency_real = real.groupby(list(columns), dropna=False).size() / len(real)\n",
            "/usr/local/lib/python3.10/dist-packages/sdmetrics/column_pairs/statistical/contingency_similarity.py:44: FutureWarning: The default of observed=False is deprecated and will be changed to True in a future version of pandas. Pass observed=False to retain current behavior or observed=True to adopt the future default and silence this warning.\n",
            "  contingency_synthetic = synthetic.groupby(list(columns), dropna=False).size() / len(\n",
            "/usr/local/lib/python3.10/dist-packages/sdmetrics/column_pairs/statistical/contingency_similarity.py:43: FutureWarning: The default of observed=False is deprecated and will be changed to True in a future version of pandas. Pass observed=False to retain current behavior or observed=True to adopt the future default and silence this warning.\n",
            "  contingency_real = real.groupby(list(columns), dropna=False).size() / len(real)\n",
            "/usr/local/lib/python3.10/dist-packages/sdmetrics/column_pairs/statistical/contingency_similarity.py:44: FutureWarning: The default of observed=False is deprecated and will be changed to True in a future version of pandas. Pass observed=False to retain current behavior or observed=True to adopt the future default and silence this warning.\n",
            "  contingency_synthetic = synthetic.groupby(list(columns), dropna=False).size() / len(\n",
            "/usr/local/lib/python3.10/dist-packages/sdmetrics/column_pairs/statistical/contingency_similarity.py:43: FutureWarning: The default of observed=False is deprecated and will be changed to True in a future version of pandas. Pass observed=False to retain current behavior or observed=True to adopt the future default and silence this warning.\n",
            "  contingency_real = real.groupby(list(columns), dropna=False).size() / len(real)\n"
          ]
        },
        {
          "name": "stdout",
          "output_type": "stream",
          "text": [
            "\r(2/2) Evaluating Column Pair Trends: |▊         | 178/2278 [00:04<00:58, 35.76it/s]|"
          ]
        },
        {
          "name": "stderr",
          "output_type": "stream",
          "text": [
            "/usr/local/lib/python3.10/dist-packages/sdmetrics/column_pairs/statistical/contingency_similarity.py:44: FutureWarning: The default of observed=False is deprecated and will be changed to True in a future version of pandas. Pass observed=False to retain current behavior or observed=True to adopt the future default and silence this warning.\n",
            "  contingency_synthetic = synthetic.groupby(list(columns), dropna=False).size() / len(\n",
            "/usr/local/lib/python3.10/dist-packages/sdmetrics/column_pairs/statistical/contingency_similarity.py:43: FutureWarning: The default of observed=False is deprecated and will be changed to True in a future version of pandas. Pass observed=False to retain current behavior or observed=True to adopt the future default and silence this warning.\n",
            "  contingency_real = real.groupby(list(columns), dropna=False).size() / len(real)\n",
            "/usr/local/lib/python3.10/dist-packages/sdmetrics/column_pairs/statistical/contingency_similarity.py:44: FutureWarning: The default of observed=False is deprecated and will be changed to True in a future version of pandas. Pass observed=False to retain current behavior or observed=True to adopt the future default and silence this warning.\n",
            "  contingency_synthetic = synthetic.groupby(list(columns), dropna=False).size() / len(\n",
            "/usr/local/lib/python3.10/dist-packages/sdmetrics/column_pairs/statistical/contingency_similarity.py:43: FutureWarning: The default of observed=False is deprecated and will be changed to True in a future version of pandas. Pass observed=False to retain current behavior or observed=True to adopt the future default and silence this warning.\n",
            "  contingency_real = real.groupby(list(columns), dropna=False).size() / len(real)\n",
            "/usr/local/lib/python3.10/dist-packages/sdmetrics/column_pairs/statistical/contingency_similarity.py:44: FutureWarning: The default of observed=False is deprecated and will be changed to True in a future version of pandas. Pass observed=False to retain current behavior or observed=True to adopt the future default and silence this warning.\n",
            "  contingency_synthetic = synthetic.groupby(list(columns), dropna=False).size() / len(\n",
            "/usr/local/lib/python3.10/dist-packages/sdmetrics/column_pairs/statistical/contingency_similarity.py:43: FutureWarning: The default of observed=False is deprecated and will be changed to True in a future version of pandas. Pass observed=False to retain current behavior or observed=True to adopt the future default and silence this warning.\n",
            "  contingency_real = real.groupby(list(columns), dropna=False).size() / len(real)\n",
            "/usr/local/lib/python3.10/dist-packages/sdmetrics/column_pairs/statistical/contingency_similarity.py:44: FutureWarning: The default of observed=False is deprecated and will be changed to True in a future version of pandas. Pass observed=False to retain current behavior or observed=True to adopt the future default and silence this warning.\n",
            "  contingency_synthetic = synthetic.groupby(list(columns), dropna=False).size() / len(\n",
            "/usr/local/lib/python3.10/dist-packages/sdmetrics/column_pairs/statistical/contingency_similarity.py:43: FutureWarning: The default of observed=False is deprecated and will be changed to True in a future version of pandas. Pass observed=False to retain current behavior or observed=True to adopt the future default and silence this warning.\n",
            "  contingency_real = real.groupby(list(columns), dropna=False).size() / len(real)\n",
            "/usr/local/lib/python3.10/dist-packages/sdmetrics/column_pairs/statistical/contingency_similarity.py:44: FutureWarning: The default of observed=False is deprecated and will be changed to True in a future version of pandas. Pass observed=False to retain current behavior or observed=True to adopt the future default and silence this warning.\n",
            "  contingency_synthetic = synthetic.groupby(list(columns), dropna=False).size() / len(\n",
            "/usr/local/lib/python3.10/dist-packages/sdmetrics/column_pairs/statistical/contingency_similarity.py:43: FutureWarning: The default of observed=False is deprecated and will be changed to True in a future version of pandas. Pass observed=False to retain current behavior or observed=True to adopt the future default and silence this warning.\n",
            "  contingency_real = real.groupby(list(columns), dropna=False).size() / len(real)\n",
            "/usr/local/lib/python3.10/dist-packages/sdmetrics/column_pairs/statistical/contingency_similarity.py:44: FutureWarning: The default of observed=False is deprecated and will be changed to True in a future version of pandas. Pass observed=False to retain current behavior or observed=True to adopt the future default and silence this warning.\n",
            "  contingency_synthetic = synthetic.groupby(list(columns), dropna=False).size() / len(\n",
            "/usr/local/lib/python3.10/dist-packages/sdmetrics/column_pairs/statistical/contingency_similarity.py:43: FutureWarning: The default of observed=False is deprecated and will be changed to True in a future version of pandas. Pass observed=False to retain current behavior or observed=True to adopt the future default and silence this warning.\n",
            "  contingency_real = real.groupby(list(columns), dropna=False).size() / len(real)\n",
            "/usr/local/lib/python3.10/dist-packages/sdmetrics/column_pairs/statistical/contingency_similarity.py:44: FutureWarning: The default of observed=False is deprecated and will be changed to True in a future version of pandas. Pass observed=False to retain current behavior or observed=True to adopt the future default and silence this warning.\n",
            "  contingency_synthetic = synthetic.groupby(list(columns), dropna=False).size() / len(\n",
            "/usr/local/lib/python3.10/dist-packages/sdmetrics/column_pairs/statistical/contingency_similarity.py:43: FutureWarning: The default of observed=False is deprecated and will be changed to True in a future version of pandas. Pass observed=False to retain current behavior or observed=True to adopt the future default and silence this warning.\n",
            "  contingency_real = real.groupby(list(columns), dropna=False).size() / len(real)\n",
            "/usr/local/lib/python3.10/dist-packages/sdmetrics/column_pairs/statistical/contingency_similarity.py:44: FutureWarning: The default of observed=False is deprecated and will be changed to True in a future version of pandas. Pass observed=False to retain current behavior or observed=True to adopt the future default and silence this warning.\n",
            "  contingency_synthetic = synthetic.groupby(list(columns), dropna=False).size() / len(\n",
            "/usr/local/lib/python3.10/dist-packages/sdmetrics/column_pairs/statistical/contingency_similarity.py:43: FutureWarning: The default of observed=False is deprecated and will be changed to True in a future version of pandas. Pass observed=False to retain current behavior or observed=True to adopt the future default and silence this warning.\n",
            "  contingency_real = real.groupby(list(columns), dropna=False).size() / len(real)\n",
            "/usr/local/lib/python3.10/dist-packages/sdmetrics/column_pairs/statistical/contingency_similarity.py:44: FutureWarning: The default of observed=False is deprecated and will be changed to True in a future version of pandas. Pass observed=False to retain current behavior or observed=True to adopt the future default and silence this warning.\n",
            "  contingency_synthetic = synthetic.groupby(list(columns), dropna=False).size() / len(\n"
          ]
        },
        {
          "name": "stdout",
          "output_type": "stream",
          "text": [
            "(2/2) Evaluating Column Pair Trends: |▊         | 188/2278 [00:05<00:53, 39.18it/s]|"
          ]
        },
        {
          "name": "stderr",
          "output_type": "stream",
          "text": [
            "/usr/local/lib/python3.10/dist-packages/sdmetrics/column_pairs/statistical/contingency_similarity.py:43: FutureWarning: The default of observed=False is deprecated and will be changed to True in a future version of pandas. Pass observed=False to retain current behavior or observed=True to adopt the future default and silence this warning.\n",
            "  contingency_real = real.groupby(list(columns), dropna=False).size() / len(real)\n",
            "/usr/local/lib/python3.10/dist-packages/sdmetrics/column_pairs/statistical/contingency_similarity.py:44: FutureWarning: The default of observed=False is deprecated and will be changed to True in a future version of pandas. Pass observed=False to retain current behavior or observed=True to adopt the future default and silence this warning.\n",
            "  contingency_synthetic = synthetic.groupby(list(columns), dropna=False).size() / len(\n",
            "/usr/local/lib/python3.10/dist-packages/sdmetrics/column_pairs/statistical/contingency_similarity.py:43: FutureWarning: The default of observed=False is deprecated and will be changed to True in a future version of pandas. Pass observed=False to retain current behavior or observed=True to adopt the future default and silence this warning.\n",
            "  contingency_real = real.groupby(list(columns), dropna=False).size() / len(real)\n",
            "/usr/local/lib/python3.10/dist-packages/sdmetrics/column_pairs/statistical/contingency_similarity.py:44: FutureWarning: The default of observed=False is deprecated and will be changed to True in a future version of pandas. Pass observed=False to retain current behavior or observed=True to adopt the future default and silence this warning.\n",
            "  contingency_synthetic = synthetic.groupby(list(columns), dropna=False).size() / len(\n",
            "/usr/local/lib/python3.10/dist-packages/sdmetrics/column_pairs/statistical/contingency_similarity.py:43: FutureWarning: The default of observed=False is deprecated and will be changed to True in a future version of pandas. Pass observed=False to retain current behavior or observed=True to adopt the future default and silence this warning.\n",
            "  contingency_real = real.groupby(list(columns), dropna=False).size() / len(real)\n",
            "/usr/local/lib/python3.10/dist-packages/sdmetrics/column_pairs/statistical/contingency_similarity.py:44: FutureWarning: The default of observed=False is deprecated and will be changed to True in a future version of pandas. Pass observed=False to retain current behavior or observed=True to adopt the future default and silence this warning.\n",
            "  contingency_synthetic = synthetic.groupby(list(columns), dropna=False).size() / len(\n",
            "/usr/local/lib/python3.10/dist-packages/sdmetrics/column_pairs/statistical/contingency_similarity.py:43: FutureWarning: The default of observed=False is deprecated and will be changed to True in a future version of pandas. Pass observed=False to retain current behavior or observed=True to adopt the future default and silence this warning.\n",
            "  contingency_real = real.groupby(list(columns), dropna=False).size() / len(real)\n",
            "/usr/local/lib/python3.10/dist-packages/sdmetrics/column_pairs/statistical/contingency_similarity.py:44: FutureWarning: The default of observed=False is deprecated and will be changed to True in a future version of pandas. Pass observed=False to retain current behavior or observed=True to adopt the future default and silence this warning.\n",
            "  contingency_synthetic = synthetic.groupby(list(columns), dropna=False).size() / len(\n",
            "/usr/local/lib/python3.10/dist-packages/sdmetrics/column_pairs/statistical/contingency_similarity.py:43: FutureWarning: The default of observed=False is deprecated and will be changed to True in a future version of pandas. Pass observed=False to retain current behavior or observed=True to adopt the future default and silence this warning.\n",
            "  contingency_real = real.groupby(list(columns), dropna=False).size() / len(real)\n",
            "/usr/local/lib/python3.10/dist-packages/sdmetrics/column_pairs/statistical/contingency_similarity.py:44: FutureWarning: The default of observed=False is deprecated and will be changed to True in a future version of pandas. Pass observed=False to retain current behavior or observed=True to adopt the future default and silence this warning.\n",
            "  contingency_synthetic = synthetic.groupby(list(columns), dropna=False).size() / len(\n",
            "/usr/local/lib/python3.10/dist-packages/sdmetrics/column_pairs/statistical/contingency_similarity.py:43: FutureWarning: The default of observed=False is deprecated and will be changed to True in a future version of pandas. Pass observed=False to retain current behavior or observed=True to adopt the future default and silence this warning.\n",
            "  contingency_real = real.groupby(list(columns), dropna=False).size() / len(real)\n",
            "/usr/local/lib/python3.10/dist-packages/sdmetrics/column_pairs/statistical/contingency_similarity.py:44: FutureWarning: The default of observed=False is deprecated and will be changed to True in a future version of pandas. Pass observed=False to retain current behavior or observed=True to adopt the future default and silence this warning.\n",
            "  contingency_synthetic = synthetic.groupby(list(columns), dropna=False).size() / len(\n",
            "/usr/local/lib/python3.10/dist-packages/sdmetrics/column_pairs/statistical/contingency_similarity.py:43: FutureWarning: The default of observed=False is deprecated and will be changed to True in a future version of pandas. Pass observed=False to retain current behavior or observed=True to adopt the future default and silence this warning.\n",
            "  contingency_real = real.groupby(list(columns), dropna=False).size() / len(real)\n",
            "/usr/local/lib/python3.10/dist-packages/sdmetrics/column_pairs/statistical/contingency_similarity.py:44: FutureWarning: The default of observed=False is deprecated and will be changed to True in a future version of pandas. Pass observed=False to retain current behavior or observed=True to adopt the future default and silence this warning.\n",
            "  contingency_synthetic = synthetic.groupby(list(columns), dropna=False).size() / len(\n",
            "/usr/local/lib/python3.10/dist-packages/sdmetrics/column_pairs/statistical/contingency_similarity.py:43: FutureWarning: The default of observed=False is deprecated and will be changed to True in a future version of pandas. Pass observed=False to retain current behavior or observed=True to adopt the future default and silence this warning.\n",
            "  contingency_real = real.groupby(list(columns), dropna=False).size() / len(real)\n",
            "/usr/local/lib/python3.10/dist-packages/sdmetrics/column_pairs/statistical/contingency_similarity.py:44: FutureWarning: The default of observed=False is deprecated and will be changed to True in a future version of pandas. Pass observed=False to retain current behavior or observed=True to adopt the future default and silence this warning.\n",
            "  contingency_synthetic = synthetic.groupby(list(columns), dropna=False).size() / len(\n",
            "/usr/local/lib/python3.10/dist-packages/sdmetrics/column_pairs/statistical/contingency_similarity.py:43: FutureWarning: The default of observed=False is deprecated and will be changed to True in a future version of pandas. Pass observed=False to retain current behavior or observed=True to adopt the future default and silence this warning.\n",
            "  contingency_real = real.groupby(list(columns), dropna=False).size() / len(real)\n",
            "/usr/local/lib/python3.10/dist-packages/sdmetrics/column_pairs/statistical/contingency_similarity.py:44: FutureWarning: The default of observed=False is deprecated and will be changed to True in a future version of pandas. Pass observed=False to retain current behavior or observed=True to adopt the future default and silence this warning.\n",
            "  contingency_synthetic = synthetic.groupby(list(columns), dropna=False).size() / len(\n",
            "/usr/local/lib/python3.10/dist-packages/sdmetrics/column_pairs/statistical/contingency_similarity.py:43: FutureWarning: The default of observed=False is deprecated and will be changed to True in a future version of pandas. Pass observed=False to retain current behavior or observed=True to adopt the future default and silence this warning.\n",
            "  contingency_real = real.groupby(list(columns), dropna=False).size() / len(real)\n"
          ]
        },
        {
          "name": "stdout",
          "output_type": "stream",
          "text": [
            "(2/2) Evaluating Column Pair Trends: |▊         | 198/2278 [00:05<00:48, 42.57it/s]|"
          ]
        },
        {
          "name": "stderr",
          "output_type": "stream",
          "text": [
            "/usr/local/lib/python3.10/dist-packages/sdmetrics/column_pairs/statistical/contingency_similarity.py:44: FutureWarning: The default of observed=False is deprecated and will be changed to True in a future version of pandas. Pass observed=False to retain current behavior or observed=True to adopt the future default and silence this warning.\n",
            "  contingency_synthetic = synthetic.groupby(list(columns), dropna=False).size() / len(\n",
            "/usr/local/lib/python3.10/dist-packages/sdmetrics/column_pairs/statistical/contingency_similarity.py:43: FutureWarning: The default of observed=False is deprecated and will be changed to True in a future version of pandas. Pass observed=False to retain current behavior or observed=True to adopt the future default and silence this warning.\n",
            "  contingency_real = real.groupby(list(columns), dropna=False).size() / len(real)\n",
            "/usr/local/lib/python3.10/dist-packages/sdmetrics/column_pairs/statistical/contingency_similarity.py:44: FutureWarning: The default of observed=False is deprecated and will be changed to True in a future version of pandas. Pass observed=False to retain current behavior or observed=True to adopt the future default and silence this warning.\n",
            "  contingency_synthetic = synthetic.groupby(list(columns), dropna=False).size() / len(\n",
            "/usr/local/lib/python3.10/dist-packages/sdmetrics/column_pairs/statistical/contingency_similarity.py:43: FutureWarning: The default of observed=False is deprecated and will be changed to True in a future version of pandas. Pass observed=False to retain current behavior or observed=True to adopt the future default and silence this warning.\n",
            "  contingency_real = real.groupby(list(columns), dropna=False).size() / len(real)\n",
            "/usr/local/lib/python3.10/dist-packages/sdmetrics/column_pairs/statistical/contingency_similarity.py:44: FutureWarning: The default of observed=False is deprecated and will be changed to True in a future version of pandas. Pass observed=False to retain current behavior or observed=True to adopt the future default and silence this warning.\n",
            "  contingency_synthetic = synthetic.groupby(list(columns), dropna=False).size() / len(\n",
            "/usr/local/lib/python3.10/dist-packages/sdmetrics/column_pairs/statistical/contingency_similarity.py:43: FutureWarning: The default of observed=False is deprecated and will be changed to True in a future version of pandas. Pass observed=False to retain current behavior or observed=True to adopt the future default and silence this warning.\n",
            "  contingency_real = real.groupby(list(columns), dropna=False).size() / len(real)\n",
            "/usr/local/lib/python3.10/dist-packages/sdmetrics/column_pairs/statistical/contingency_similarity.py:44: FutureWarning: The default of observed=False is deprecated and will be changed to True in a future version of pandas. Pass observed=False to retain current behavior or observed=True to adopt the future default and silence this warning.\n",
            "  contingency_synthetic = synthetic.groupby(list(columns), dropna=False).size() / len(\n",
            "/usr/local/lib/python3.10/dist-packages/sdmetrics/column_pairs/statistical/contingency_similarity.py:43: FutureWarning: The default of observed=False is deprecated and will be changed to True in a future version of pandas. Pass observed=False to retain current behavior or observed=True to adopt the future default and silence this warning.\n",
            "  contingency_real = real.groupby(list(columns), dropna=False).size() / len(real)\n",
            "/usr/local/lib/python3.10/dist-packages/sdmetrics/column_pairs/statistical/contingency_similarity.py:44: FutureWarning: The default of observed=False is deprecated and will be changed to True in a future version of pandas. Pass observed=False to retain current behavior or observed=True to adopt the future default and silence this warning.\n",
            "  contingency_synthetic = synthetic.groupby(list(columns), dropna=False).size() / len(\n",
            "/usr/local/lib/python3.10/dist-packages/sdmetrics/column_pairs/statistical/contingency_similarity.py:43: FutureWarning: The default of observed=False is deprecated and will be changed to True in a future version of pandas. Pass observed=False to retain current behavior or observed=True to adopt the future default and silence this warning.\n",
            "  contingency_real = real.groupby(list(columns), dropna=False).size() / len(real)\n",
            "/usr/local/lib/python3.10/dist-packages/sdmetrics/column_pairs/statistical/contingency_similarity.py:44: FutureWarning: The default of observed=False is deprecated and will be changed to True in a future version of pandas. Pass observed=False to retain current behavior or observed=True to adopt the future default and silence this warning.\n",
            "  contingency_synthetic = synthetic.groupby(list(columns), dropna=False).size() / len(\n"
          ]
        },
        {
          "name": "stdout",
          "output_type": "stream",
          "text": [
            "(2/2) Evaluating Column Pair Trends: |▉         | 207/2278 [00:05<00:57, 35.95it/s]|"
          ]
        },
        {
          "name": "stderr",
          "output_type": "stream",
          "text": [
            "/usr/local/lib/python3.10/dist-packages/sdmetrics/column_pairs/statistical/contingency_similarity.py:43: FutureWarning: The default of observed=False is deprecated and will be changed to True in a future version of pandas. Pass observed=False to retain current behavior or observed=True to adopt the future default and silence this warning.\n",
            "  contingency_real = real.groupby(list(columns), dropna=False).size() / len(real)\n",
            "/usr/local/lib/python3.10/dist-packages/sdmetrics/column_pairs/statistical/contingency_similarity.py:44: FutureWarning: The default of observed=False is deprecated and will be changed to True in a future version of pandas. Pass observed=False to retain current behavior or observed=True to adopt the future default and silence this warning.\n",
            "  contingency_synthetic = synthetic.groupby(list(columns), dropna=False).size() / len(\n"
          ]
        },
        {
          "name": "stdout",
          "output_type": "stream",
          "text": [
            "(2/2) Evaluating Column Pair Trends: |█         | 243/2278 [00:06<00:51, 39.66it/s]|"
          ]
        },
        {
          "name": "stderr",
          "output_type": "stream",
          "text": [
            "/usr/local/lib/python3.10/dist-packages/sdmetrics/column_pairs/statistical/contingency_similarity.py:43: FutureWarning: The default of observed=False is deprecated and will be changed to True in a future version of pandas. Pass observed=False to retain current behavior or observed=True to adopt the future default and silence this warning.\n",
            "  contingency_real = real.groupby(list(columns), dropna=False).size() / len(real)\n",
            "/usr/local/lib/python3.10/dist-packages/sdmetrics/column_pairs/statistical/contingency_similarity.py:44: FutureWarning: The default of observed=False is deprecated and will be changed to True in a future version of pandas. Pass observed=False to retain current behavior or observed=True to adopt the future default and silence this warning.\n",
            "  contingency_synthetic = synthetic.groupby(list(columns), dropna=False).size() / len(\n",
            "/usr/local/lib/python3.10/dist-packages/sdmetrics/column_pairs/statistical/contingency_similarity.py:43: FutureWarning: The default of observed=False is deprecated and will be changed to True in a future version of pandas. Pass observed=False to retain current behavior or observed=True to adopt the future default and silence this warning.\n",
            "  contingency_real = real.groupby(list(columns), dropna=False).size() / len(real)\n",
            "/usr/local/lib/python3.10/dist-packages/sdmetrics/column_pairs/statistical/contingency_similarity.py:44: FutureWarning: The default of observed=False is deprecated and will be changed to True in a future version of pandas. Pass observed=False to retain current behavior or observed=True to adopt the future default and silence this warning.\n",
            "  contingency_synthetic = synthetic.groupby(list(columns), dropna=False).size() / len(\n"
          ]
        },
        {
          "name": "stdout",
          "output_type": "stream",
          "text": [
            "(2/2) Evaluating Column Pair Trends: |█▏        | 268/2278 [00:07<01:10, 28.42it/s]|"
          ]
        },
        {
          "name": "stderr",
          "output_type": "stream",
          "text": [
            "/usr/local/lib/python3.10/dist-packages/sdmetrics/column_pairs/statistical/contingency_similarity.py:43: FutureWarning: The default of observed=False is deprecated and will be changed to True in a future version of pandas. Pass observed=False to retain current behavior or observed=True to adopt the future default and silence this warning.\n",
            "  contingency_real = real.groupby(list(columns), dropna=False).size() / len(real)\n",
            "/usr/local/lib/python3.10/dist-packages/sdmetrics/column_pairs/statistical/contingency_similarity.py:44: FutureWarning: The default of observed=False is deprecated and will be changed to True in a future version of pandas. Pass observed=False to retain current behavior or observed=True to adopt the future default and silence this warning.\n",
            "  contingency_synthetic = synthetic.groupby(list(columns), dropna=False).size() / len(\n"
          ]
        },
        {
          "name": "stdout",
          "output_type": "stream",
          "text": [
            "(2/2) Evaluating Column Pair Trends: |█▎        | 306/2278 [00:08<00:54, 35.97it/s]|"
          ]
        },
        {
          "name": "stderr",
          "output_type": "stream",
          "text": [
            "/usr/local/lib/python3.10/dist-packages/sdmetrics/column_pairs/statistical/contingency_similarity.py:43: FutureWarning: The default of observed=False is deprecated and will be changed to True in a future version of pandas. Pass observed=False to retain current behavior or observed=True to adopt the future default and silence this warning.\n",
            "  contingency_real = real.groupby(list(columns), dropna=False).size() / len(real)\n",
            "/usr/local/lib/python3.10/dist-packages/sdmetrics/column_pairs/statistical/contingency_similarity.py:44: FutureWarning: The default of observed=False is deprecated and will be changed to True in a future version of pandas. Pass observed=False to retain current behavior or observed=True to adopt the future default and silence this warning.\n",
            "  contingency_synthetic = synthetic.groupby(list(columns), dropna=False).size() / len(\n",
            "/usr/local/lib/python3.10/dist-packages/sdmetrics/column_pairs/statistical/contingency_similarity.py:43: FutureWarning: The default of observed=False is deprecated and will be changed to True in a future version of pandas. Pass observed=False to retain current behavior or observed=True to adopt the future default and silence this warning.\n",
            "  contingency_real = real.groupby(list(columns), dropna=False).size() / len(real)\n",
            "/usr/local/lib/python3.10/dist-packages/sdmetrics/column_pairs/statistical/contingency_similarity.py:44: FutureWarning: The default of observed=False is deprecated and will be changed to True in a future version of pandas. Pass observed=False to retain current behavior or observed=True to adopt the future default and silence this warning.\n",
            "  contingency_synthetic = synthetic.groupby(list(columns), dropna=False).size() / len(\n"
          ]
        },
        {
          "name": "stdout",
          "output_type": "stream",
          "text": [
            "(2/2) Evaluating Column Pair Trends: |█▍        | 329/2278 [00:09<01:28, 21.94it/s]|"
          ]
        },
        {
          "name": "stderr",
          "output_type": "stream",
          "text": [
            "/usr/local/lib/python3.10/dist-packages/sdmetrics/column_pairs/statistical/contingency_similarity.py:43: FutureWarning: The default of observed=False is deprecated and will be changed to True in a future version of pandas. Pass observed=False to retain current behavior or observed=True to adopt the future default and silence this warning.\n",
            "  contingency_real = real.groupby(list(columns), dropna=False).size() / len(real)\n",
            "/usr/local/lib/python3.10/dist-packages/sdmetrics/column_pairs/statistical/contingency_similarity.py:44: FutureWarning: The default of observed=False is deprecated and will be changed to True in a future version of pandas. Pass observed=False to retain current behavior or observed=True to adopt the future default and silence this warning.\n",
            "  contingency_synthetic = synthetic.groupby(list(columns), dropna=False).size() / len(\n"
          ]
        },
        {
          "name": "stdout",
          "output_type": "stream",
          "text": [
            "(2/2) Evaluating Column Pair Trends: |█▌        | 367/2278 [00:11<01:48, 17.58it/s]|"
          ]
        },
        {
          "name": "stderr",
          "output_type": "stream",
          "text": [
            "/usr/local/lib/python3.10/dist-packages/sdmetrics/column_pairs/statistical/contingency_similarity.py:43: FutureWarning: The default of observed=False is deprecated and will be changed to True in a future version of pandas. Pass observed=False to retain current behavior or observed=True to adopt the future default and silence this warning.\n",
            "  contingency_real = real.groupby(list(columns), dropna=False).size() / len(real)\n",
            "/usr/local/lib/python3.10/dist-packages/sdmetrics/column_pairs/statistical/contingency_similarity.py:44: FutureWarning: The default of observed=False is deprecated and will be changed to True in a future version of pandas. Pass observed=False to retain current behavior or observed=True to adopt the future default and silence this warning.\n",
            "  contingency_synthetic = synthetic.groupby(list(columns), dropna=False).size() / len(\n",
            "/usr/local/lib/python3.10/dist-packages/sdmetrics/column_pairs/statistical/contingency_similarity.py:43: FutureWarning: The default of observed=False is deprecated and will be changed to True in a future version of pandas. Pass observed=False to retain current behavior or observed=True to adopt the future default and silence this warning.\n",
            "  contingency_real = real.groupby(list(columns), dropna=False).size() / len(real)\n",
            "/usr/local/lib/python3.10/dist-packages/sdmetrics/column_pairs/statistical/contingency_similarity.py:44: FutureWarning: The default of observed=False is deprecated and will be changed to True in a future version of pandas. Pass observed=False to retain current behavior or observed=True to adopt the future default and silence this warning.\n",
            "  contingency_synthetic = synthetic.groupby(list(columns), dropna=False).size() / len(\n"
          ]
        },
        {
          "name": "stdout",
          "output_type": "stream",
          "text": [
            "(2/2) Evaluating Column Pair Trends: |█▋        | 391/2278 [00:12<01:54, 16.55it/s]|"
          ]
        },
        {
          "name": "stderr",
          "output_type": "stream",
          "text": [
            "/usr/local/lib/python3.10/dist-packages/sdmetrics/column_pairs/statistical/contingency_similarity.py:43: FutureWarning: The default of observed=False is deprecated and will be changed to True in a future version of pandas. Pass observed=False to retain current behavior or observed=True to adopt the future default and silence this warning.\n",
            "  contingency_real = real.groupby(list(columns), dropna=False).size() / len(real)\n",
            "/usr/local/lib/python3.10/dist-packages/sdmetrics/column_pairs/statistical/contingency_similarity.py:44: FutureWarning: The default of observed=False is deprecated and will be changed to True in a future version of pandas. Pass observed=False to retain current behavior or observed=True to adopt the future default and silence this warning.\n",
            "  contingency_synthetic = synthetic.groupby(list(columns), dropna=False).size() / len(\n"
          ]
        },
        {
          "name": "stdout",
          "output_type": "stream",
          "text": [
            "(2/2) Evaluating Column Pair Trends: |█▉        | 428/2278 [00:14<01:48, 17.05it/s]|"
          ]
        },
        {
          "name": "stderr",
          "output_type": "stream",
          "text": [
            "/usr/local/lib/python3.10/dist-packages/sdmetrics/column_pairs/statistical/contingency_similarity.py:43: FutureWarning: The default of observed=False is deprecated and will be changed to True in a future version of pandas. Pass observed=False to retain current behavior or observed=True to adopt the future default and silence this warning.\n",
            "  contingency_real = real.groupby(list(columns), dropna=False).size() / len(real)\n",
            "/usr/local/lib/python3.10/dist-packages/sdmetrics/column_pairs/statistical/contingency_similarity.py:44: FutureWarning: The default of observed=False is deprecated and will be changed to True in a future version of pandas. Pass observed=False to retain current behavior or observed=True to adopt the future default and silence this warning.\n",
            "  contingency_synthetic = synthetic.groupby(list(columns), dropna=False).size() / len(\n",
            "/usr/local/lib/python3.10/dist-packages/sdmetrics/column_pairs/statistical/contingency_similarity.py:43: FutureWarning: The default of observed=False is deprecated and will be changed to True in a future version of pandas. Pass observed=False to retain current behavior or observed=True to adopt the future default and silence this warning.\n",
            "  contingency_real = real.groupby(list(columns), dropna=False).size() / len(real)\n",
            "/usr/local/lib/python3.10/dist-packages/sdmetrics/column_pairs/statistical/contingency_similarity.py:44: FutureWarning: The default of observed=False is deprecated and will be changed to True in a future version of pandas. Pass observed=False to retain current behavior or observed=True to adopt the future default and silence this warning.\n",
            "  contingency_synthetic = synthetic.groupby(list(columns), dropna=False).size() / len(\n"
          ]
        },
        {
          "name": "stdout",
          "output_type": "stream",
          "text": [
            "(2/2) Evaluating Column Pair Trends: |██        | 456/2278 [00:16<00:58, 31.40it/s]|"
          ]
        },
        {
          "name": "stderr",
          "output_type": "stream",
          "text": [
            "/usr/local/lib/python3.10/dist-packages/sdmetrics/column_pairs/statistical/contingency_similarity.py:43: FutureWarning: The default of observed=False is deprecated and will be changed to True in a future version of pandas. Pass observed=False to retain current behavior or observed=True to adopt the future default and silence this warning.\n",
            "  contingency_real = real.groupby(list(columns), dropna=False).size() / len(real)\n",
            "/usr/local/lib/python3.10/dist-packages/sdmetrics/column_pairs/statistical/contingency_similarity.py:44: FutureWarning: The default of observed=False is deprecated and will be changed to True in a future version of pandas. Pass observed=False to retain current behavior or observed=True to adopt the future default and silence this warning.\n",
            "  contingency_synthetic = synthetic.groupby(list(columns), dropna=False).size() / len(\n"
          ]
        },
        {
          "name": "stdout",
          "output_type": "stream",
          "text": [
            "(2/2) Evaluating Column Pair Trends: |██▏       | 493/2278 [00:16<00:37, 47.03it/s]|"
          ]
        },
        {
          "name": "stderr",
          "output_type": "stream",
          "text": [
            "/usr/local/lib/python3.10/dist-packages/sdmetrics/column_pairs/statistical/contingency_similarity.py:43: FutureWarning: The default of observed=False is deprecated and will be changed to True in a future version of pandas. Pass observed=False to retain current behavior or observed=True to adopt the future default and silence this warning.\n",
            "  contingency_real = real.groupby(list(columns), dropna=False).size() / len(real)\n",
            "/usr/local/lib/python3.10/dist-packages/sdmetrics/column_pairs/statistical/contingency_similarity.py:44: FutureWarning: The default of observed=False is deprecated and will be changed to True in a future version of pandas. Pass observed=False to retain current behavior or observed=True to adopt the future default and silence this warning.\n",
            "  contingency_synthetic = synthetic.groupby(list(columns), dropna=False).size() / len(\n",
            "/usr/local/lib/python3.10/dist-packages/sdmetrics/column_pairs/statistical/contingency_similarity.py:43: FutureWarning: The default of observed=False is deprecated and will be changed to True in a future version of pandas. Pass observed=False to retain current behavior or observed=True to adopt the future default and silence this warning.\n",
            "  contingency_real = real.groupby(list(columns), dropna=False).size() / len(real)\n",
            "/usr/local/lib/python3.10/dist-packages/sdmetrics/column_pairs/statistical/contingency_similarity.py:44: FutureWarning: The default of observed=False is deprecated and will be changed to True in a future version of pandas. Pass observed=False to retain current behavior or observed=True to adopt the future default and silence this warning.\n",
            "  contingency_synthetic = synthetic.groupby(list(columns), dropna=False).size() / len(\n"
          ]
        },
        {
          "name": "stdout",
          "output_type": "stream",
          "text": [
            "(2/2) Evaluating Column Pair Trends: |██▎       | 516/2278 [00:17<00:36, 47.87it/s]|"
          ]
        },
        {
          "name": "stderr",
          "output_type": "stream",
          "text": [
            "/usr/local/lib/python3.10/dist-packages/sdmetrics/column_pairs/statistical/contingency_similarity.py:43: FutureWarning: The default of observed=False is deprecated and will be changed to True in a future version of pandas. Pass observed=False to retain current behavior or observed=True to adopt the future default and silence this warning.\n",
            "  contingency_real = real.groupby(list(columns), dropna=False).size() / len(real)\n",
            "/usr/local/lib/python3.10/dist-packages/sdmetrics/column_pairs/statistical/contingency_similarity.py:44: FutureWarning: The default of observed=False is deprecated and will be changed to True in a future version of pandas. Pass observed=False to retain current behavior or observed=True to adopt the future default and silence this warning.\n",
            "  contingency_synthetic = synthetic.groupby(list(columns), dropna=False).size() / len(\n",
            "/usr/local/lib/python3.10/dist-packages/sdmetrics/column_pairs/statistical/contingency_similarity.py:43: FutureWarning: The default of observed=False is deprecated and will be changed to True in a future version of pandas. Pass observed=False to retain current behavior or observed=True to adopt the future default and silence this warning.\n",
            "  contingency_real = real.groupby(list(columns), dropna=False).size() / len(real)\n",
            "/usr/local/lib/python3.10/dist-packages/sdmetrics/column_pairs/statistical/contingency_similarity.py:44: FutureWarning: The default of observed=False is deprecated and will be changed to True in a future version of pandas. Pass observed=False to retain current behavior or observed=True to adopt the future default and silence this warning.\n",
            "  contingency_synthetic = synthetic.groupby(list(columns), dropna=False).size() / len(\n",
            "/usr/local/lib/python3.10/dist-packages/sdmetrics/column_pairs/statistical/contingency_similarity.py:43: FutureWarning: The default of observed=False is deprecated and will be changed to True in a future version of pandas. Pass observed=False to retain current behavior or observed=True to adopt the future default and silence this warning.\n",
            "  contingency_real = real.groupby(list(columns), dropna=False).size() / len(real)\n",
            "/usr/local/lib/python3.10/dist-packages/sdmetrics/column_pairs/statistical/contingency_similarity.py:44: FutureWarning: The default of observed=False is deprecated and will be changed to True in a future version of pandas. Pass observed=False to retain current behavior or observed=True to adopt the future default and silence this warning.\n",
            "  contingency_synthetic = synthetic.groupby(list(columns), dropna=False).size() / len(\n",
            "/usr/local/lib/python3.10/dist-packages/sdmetrics/column_pairs/statistical/contingency_similarity.py:43: FutureWarning: The default of observed=False is deprecated and will be changed to True in a future version of pandas. Pass observed=False to retain current behavior or observed=True to adopt the future default and silence this warning.\n",
            "  contingency_real = real.groupby(list(columns), dropna=False).size() / len(real)\n",
            "/usr/local/lib/python3.10/dist-packages/sdmetrics/column_pairs/statistical/contingency_similarity.py:44: FutureWarning: The default of observed=False is deprecated and will be changed to True in a future version of pandas. Pass observed=False to retain current behavior or observed=True to adopt the future default and silence this warning.\n",
            "  contingency_synthetic = synthetic.groupby(list(columns), dropna=False).size() / len(\n",
            "/usr/local/lib/python3.10/dist-packages/sdmetrics/column_pairs/statistical/contingency_similarity.py:43: FutureWarning: The default of observed=False is deprecated and will be changed to True in a future version of pandas. Pass observed=False to retain current behavior or observed=True to adopt the future default and silence this warning.\n",
            "  contingency_real = real.groupby(list(columns), dropna=False).size() / len(real)\n",
            "/usr/local/lib/python3.10/dist-packages/sdmetrics/column_pairs/statistical/contingency_similarity.py:44: FutureWarning: The default of observed=False is deprecated and will be changed to True in a future version of pandas. Pass observed=False to retain current behavior or observed=True to adopt the future default and silence this warning.\n",
            "  contingency_synthetic = synthetic.groupby(list(columns), dropna=False).size() / len(\n",
            "/usr/local/lib/python3.10/dist-packages/sdmetrics/column_pairs/statistical/contingency_similarity.py:43: FutureWarning: The default of observed=False is deprecated and will be changed to True in a future version of pandas. Pass observed=False to retain current behavior or observed=True to adopt the future default and silence this warning.\n",
            "  contingency_real = real.groupby(list(columns), dropna=False).size() / len(real)\n",
            "/usr/local/lib/python3.10/dist-packages/sdmetrics/column_pairs/statistical/contingency_similarity.py:44: FutureWarning: The default of observed=False is deprecated and will be changed to True in a future version of pandas. Pass observed=False to retain current behavior or observed=True to adopt the future default and silence this warning.\n",
            "  contingency_synthetic = synthetic.groupby(list(columns), dropna=False).size() / len(\n",
            "/usr/local/lib/python3.10/dist-packages/sdmetrics/column_pairs/statistical/contingency_similarity.py:43: FutureWarning: The default of observed=False is deprecated and will be changed to True in a future version of pandas. Pass observed=False to retain current behavior or observed=True to adopt the future default and silence this warning.\n",
            "  contingency_real = real.groupby(list(columns), dropna=False).size() / len(real)\n",
            "/usr/local/lib/python3.10/dist-packages/sdmetrics/column_pairs/statistical/contingency_similarity.py:44: FutureWarning: The default of observed=False is deprecated and will be changed to True in a future version of pandas. Pass observed=False to retain current behavior or observed=True to adopt the future default and silence this warning.\n",
            "  contingency_synthetic = synthetic.groupby(list(columns), dropna=False).size() / len(\n",
            "/usr/local/lib/python3.10/dist-packages/sdmetrics/column_pairs/statistical/contingency_similarity.py:43: FutureWarning: The default of observed=False is deprecated and will be changed to True in a future version of pandas. Pass observed=False to retain current behavior or observed=True to adopt the future default and silence this warning.\n",
            "  contingency_real = real.groupby(list(columns), dropna=False).size() / len(real)\n",
            "/usr/local/lib/python3.10/dist-packages/sdmetrics/column_pairs/statistical/contingency_similarity.py:44: FutureWarning: The default of observed=False is deprecated and will be changed to True in a future version of pandas. Pass observed=False to retain current behavior or observed=True to adopt the future default and silence this warning.\n",
            "  contingency_synthetic = synthetic.groupby(list(columns), dropna=False).size() / len(\n",
            "/usr/local/lib/python3.10/dist-packages/sdmetrics/column_pairs/statistical/contingency_similarity.py:43: FutureWarning: The default of observed=False is deprecated and will be changed to True in a future version of pandas. Pass observed=False to retain current behavior or observed=True to adopt the future default and silence this warning.\n",
            "  contingency_real = real.groupby(list(columns), dropna=False).size() / len(real)\n"
          ]
        },
        {
          "name": "stdout",
          "output_type": "stream",
          "text": [
            "\r(2/2) Evaluating Column Pair Trends: |██▎       | 521/2278 [00:17<00:37, 46.70it/s]|"
          ]
        },
        {
          "name": "stderr",
          "output_type": "stream",
          "text": [
            "/usr/local/lib/python3.10/dist-packages/sdmetrics/column_pairs/statistical/contingency_similarity.py:44: FutureWarning: The default of observed=False is deprecated and will be changed to True in a future version of pandas. Pass observed=False to retain current behavior or observed=True to adopt the future default and silence this warning.\n",
            "  contingency_synthetic = synthetic.groupby(list(columns), dropna=False).size() / len(\n",
            "/usr/local/lib/python3.10/dist-packages/sdmetrics/column_pairs/statistical/contingency_similarity.py:43: FutureWarning: The default of observed=False is deprecated and will be changed to True in a future version of pandas. Pass observed=False to retain current behavior or observed=True to adopt the future default and silence this warning.\n",
            "  contingency_real = real.groupby(list(columns), dropna=False).size() / len(real)\n",
            "/usr/local/lib/python3.10/dist-packages/sdmetrics/column_pairs/statistical/contingency_similarity.py:44: FutureWarning: The default of observed=False is deprecated and will be changed to True in a future version of pandas. Pass observed=False to retain current behavior or observed=True to adopt the future default and silence this warning.\n",
            "  contingency_synthetic = synthetic.groupby(list(columns), dropna=False).size() / len(\n",
            "/usr/local/lib/python3.10/dist-packages/sdmetrics/column_pairs/statistical/contingency_similarity.py:43: FutureWarning: The default of observed=False is deprecated and will be changed to True in a future version of pandas. Pass observed=False to retain current behavior or observed=True to adopt the future default and silence this warning.\n",
            "  contingency_real = real.groupby(list(columns), dropna=False).size() / len(real)\n",
            "/usr/local/lib/python3.10/dist-packages/sdmetrics/column_pairs/statistical/contingency_similarity.py:44: FutureWarning: The default of observed=False is deprecated and will be changed to True in a future version of pandas. Pass observed=False to retain current behavior or observed=True to adopt the future default and silence this warning.\n",
            "  contingency_synthetic = synthetic.groupby(list(columns), dropna=False).size() / len(\n",
            "/usr/local/lib/python3.10/dist-packages/sdmetrics/column_pairs/statistical/contingency_similarity.py:43: FutureWarning: The default of observed=False is deprecated and will be changed to True in a future version of pandas. Pass observed=False to retain current behavior or observed=True to adopt the future default and silence this warning.\n",
            "  contingency_real = real.groupby(list(columns), dropna=False).size() / len(real)\n",
            "/usr/local/lib/python3.10/dist-packages/sdmetrics/column_pairs/statistical/contingency_similarity.py:44: FutureWarning: The default of observed=False is deprecated and will be changed to True in a future version of pandas. Pass observed=False to retain current behavior or observed=True to adopt the future default and silence this warning.\n",
            "  contingency_synthetic = synthetic.groupby(list(columns), dropna=False).size() / len(\n",
            "/usr/local/lib/python3.10/dist-packages/sdmetrics/column_pairs/statistical/contingency_similarity.py:43: FutureWarning: The default of observed=False is deprecated and will be changed to True in a future version of pandas. Pass observed=False to retain current behavior or observed=True to adopt the future default and silence this warning.\n",
            "  contingency_real = real.groupby(list(columns), dropna=False).size() / len(real)\n",
            "/usr/local/lib/python3.10/dist-packages/sdmetrics/column_pairs/statistical/contingency_similarity.py:44: FutureWarning: The default of observed=False is deprecated and will be changed to True in a future version of pandas. Pass observed=False to retain current behavior or observed=True to adopt the future default and silence this warning.\n",
            "  contingency_synthetic = synthetic.groupby(list(columns), dropna=False).size() / len(\n",
            "/usr/local/lib/python3.10/dist-packages/sdmetrics/column_pairs/statistical/contingency_similarity.py:43: FutureWarning: The default of observed=False is deprecated and will be changed to True in a future version of pandas. Pass observed=False to retain current behavior or observed=True to adopt the future default and silence this warning.\n",
            "  contingency_real = real.groupby(list(columns), dropna=False).size() / len(real)\n",
            "/usr/local/lib/python3.10/dist-packages/sdmetrics/column_pairs/statistical/contingency_similarity.py:44: FutureWarning: The default of observed=False is deprecated and will be changed to True in a future version of pandas. Pass observed=False to retain current behavior or observed=True to adopt the future default and silence this warning.\n",
            "  contingency_synthetic = synthetic.groupby(list(columns), dropna=False).size() / len(\n",
            "/usr/local/lib/python3.10/dist-packages/sdmetrics/column_pairs/statistical/contingency_similarity.py:43: FutureWarning: The default of observed=False is deprecated and will be changed to True in a future version of pandas. Pass observed=False to retain current behavior or observed=True to adopt the future default and silence this warning.\n",
            "  contingency_real = real.groupby(list(columns), dropna=False).size() / len(real)\n",
            "/usr/local/lib/python3.10/dist-packages/sdmetrics/column_pairs/statistical/contingency_similarity.py:44: FutureWarning: The default of observed=False is deprecated and will be changed to True in a future version of pandas. Pass observed=False to retain current behavior or observed=True to adopt the future default and silence this warning.\n",
            "  contingency_synthetic = synthetic.groupby(list(columns), dropna=False).size() / len(\n",
            "/usr/local/lib/python3.10/dist-packages/sdmetrics/column_pairs/statistical/contingency_similarity.py:43: FutureWarning: The default of observed=False is deprecated and will be changed to True in a future version of pandas. Pass observed=False to retain current behavior or observed=True to adopt the future default and silence this warning.\n",
            "  contingency_real = real.groupby(list(columns), dropna=False).size() / len(real)\n",
            "/usr/local/lib/python3.10/dist-packages/sdmetrics/column_pairs/statistical/contingency_similarity.py:44: FutureWarning: The default of observed=False is deprecated and will be changed to True in a future version of pandas. Pass observed=False to retain current behavior or observed=True to adopt the future default and silence this warning.\n",
            "  contingency_synthetic = synthetic.groupby(list(columns), dropna=False).size() / len(\n",
            "/usr/local/lib/python3.10/dist-packages/sdmetrics/column_pairs/statistical/contingency_similarity.py:43: FutureWarning: The default of observed=False is deprecated and will be changed to True in a future version of pandas. Pass observed=False to retain current behavior or observed=True to adopt the future default and silence this warning.\n",
            "  contingency_real = real.groupby(list(columns), dropna=False).size() / len(real)\n",
            "/usr/local/lib/python3.10/dist-packages/sdmetrics/column_pairs/statistical/contingency_similarity.py:44: FutureWarning: The default of observed=False is deprecated and will be changed to True in a future version of pandas. Pass observed=False to retain current behavior or observed=True to adopt the future default and silence this warning.\n",
            "  contingency_synthetic = synthetic.groupby(list(columns), dropna=False).size() / len(\n",
            "/usr/local/lib/python3.10/dist-packages/sdmetrics/column_pairs/statistical/contingency_similarity.py:43: FutureWarning: The default of observed=False is deprecated and will be changed to True in a future version of pandas. Pass observed=False to retain current behavior or observed=True to adopt the future default and silence this warning.\n",
            "  contingency_real = real.groupby(list(columns), dropna=False).size() / len(real)\n"
          ]
        },
        {
          "name": "stdout",
          "output_type": "stream",
          "text": [
            "(2/2) Evaluating Column Pair Trends: |██▎       | 531/2278 [00:17<00:37, 46.29it/s]|"
          ]
        },
        {
          "name": "stderr",
          "output_type": "stream",
          "text": [
            "/usr/local/lib/python3.10/dist-packages/sdmetrics/column_pairs/statistical/contingency_similarity.py:44: FutureWarning: The default of observed=False is deprecated and will be changed to True in a future version of pandas. Pass observed=False to retain current behavior or observed=True to adopt the future default and silence this warning.\n",
            "  contingency_synthetic = synthetic.groupby(list(columns), dropna=False).size() / len(\n",
            "/usr/local/lib/python3.10/dist-packages/sdmetrics/column_pairs/statistical/contingency_similarity.py:43: FutureWarning: The default of observed=False is deprecated and will be changed to True in a future version of pandas. Pass observed=False to retain current behavior or observed=True to adopt the future default and silence this warning.\n",
            "  contingency_real = real.groupby(list(columns), dropna=False).size() / len(real)\n",
            "/usr/local/lib/python3.10/dist-packages/sdmetrics/column_pairs/statistical/contingency_similarity.py:44: FutureWarning: The default of observed=False is deprecated and will be changed to True in a future version of pandas. Pass observed=False to retain current behavior or observed=True to adopt the future default and silence this warning.\n",
            "  contingency_synthetic = synthetic.groupby(list(columns), dropna=False).size() / len(\n",
            "/usr/local/lib/python3.10/dist-packages/sdmetrics/column_pairs/statistical/contingency_similarity.py:43: FutureWarning: The default of observed=False is deprecated and will be changed to True in a future version of pandas. Pass observed=False to retain current behavior or observed=True to adopt the future default and silence this warning.\n",
            "  contingency_real = real.groupby(list(columns), dropna=False).size() / len(real)\n",
            "/usr/local/lib/python3.10/dist-packages/sdmetrics/column_pairs/statistical/contingency_similarity.py:44: FutureWarning: The default of observed=False is deprecated and will be changed to True in a future version of pandas. Pass observed=False to retain current behavior or observed=True to adopt the future default and silence this warning.\n",
            "  contingency_synthetic = synthetic.groupby(list(columns), dropna=False).size() / len(\n",
            "/usr/local/lib/python3.10/dist-packages/sdmetrics/column_pairs/statistical/contingency_similarity.py:43: FutureWarning: The default of observed=False is deprecated and will be changed to True in a future version of pandas. Pass observed=False to retain current behavior or observed=True to adopt the future default and silence this warning.\n",
            "  contingency_real = real.groupby(list(columns), dropna=False).size() / len(real)\n",
            "/usr/local/lib/python3.10/dist-packages/sdmetrics/column_pairs/statistical/contingency_similarity.py:44: FutureWarning: The default of observed=False is deprecated and will be changed to True in a future version of pandas. Pass observed=False to retain current behavior or observed=True to adopt the future default and silence this warning.\n",
            "  contingency_synthetic = synthetic.groupby(list(columns), dropna=False).size() / len(\n",
            "/usr/local/lib/python3.10/dist-packages/sdmetrics/column_pairs/statistical/contingency_similarity.py:43: FutureWarning: The default of observed=False is deprecated and will be changed to True in a future version of pandas. Pass observed=False to retain current behavior or observed=True to adopt the future default and silence this warning.\n",
            "  contingency_real = real.groupby(list(columns), dropna=False).size() / len(real)\n",
            "/usr/local/lib/python3.10/dist-packages/sdmetrics/column_pairs/statistical/contingency_similarity.py:44: FutureWarning: The default of observed=False is deprecated and will be changed to True in a future version of pandas. Pass observed=False to retain current behavior or observed=True to adopt the future default and silence this warning.\n",
            "  contingency_synthetic = synthetic.groupby(list(columns), dropna=False).size() / len(\n",
            "/usr/local/lib/python3.10/dist-packages/sdmetrics/column_pairs/statistical/contingency_similarity.py:43: FutureWarning: The default of observed=False is deprecated and will be changed to True in a future version of pandas. Pass observed=False to retain current behavior or observed=True to adopt the future default and silence this warning.\n",
            "  contingency_real = real.groupby(list(columns), dropna=False).size() / len(real)\n",
            "/usr/local/lib/python3.10/dist-packages/sdmetrics/column_pairs/statistical/contingency_similarity.py:44: FutureWarning: The default of observed=False is deprecated and will be changed to True in a future version of pandas. Pass observed=False to retain current behavior or observed=True to adopt the future default and silence this warning.\n",
            "  contingency_synthetic = synthetic.groupby(list(columns), dropna=False).size() / len(\n",
            "/usr/local/lib/python3.10/dist-packages/sdmetrics/column_pairs/statistical/contingency_similarity.py:43: FutureWarning: The default of observed=False is deprecated and will be changed to True in a future version of pandas. Pass observed=False to retain current behavior or observed=True to adopt the future default and silence this warning.\n",
            "  contingency_real = real.groupby(list(columns), dropna=False).size() / len(real)\n",
            "/usr/local/lib/python3.10/dist-packages/sdmetrics/column_pairs/statistical/contingency_similarity.py:44: FutureWarning: The default of observed=False is deprecated and will be changed to True in a future version of pandas. Pass observed=False to retain current behavior or observed=True to adopt the future default and silence this warning.\n",
            "  contingency_synthetic = synthetic.groupby(list(columns), dropna=False).size() / len(\n",
            "/usr/local/lib/python3.10/dist-packages/sdmetrics/column_pairs/statistical/contingency_similarity.py:43: FutureWarning: The default of observed=False is deprecated and will be changed to True in a future version of pandas. Pass observed=False to retain current behavior or observed=True to adopt the future default and silence this warning.\n",
            "  contingency_real = real.groupby(list(columns), dropna=False).size() / len(real)\n",
            "/usr/local/lib/python3.10/dist-packages/sdmetrics/column_pairs/statistical/contingency_similarity.py:44: FutureWarning: The default of observed=False is deprecated and will be changed to True in a future version of pandas. Pass observed=False to retain current behavior or observed=True to adopt the future default and silence this warning.\n",
            "  contingency_synthetic = synthetic.groupby(list(columns), dropna=False).size() / len(\n",
            "/usr/local/lib/python3.10/dist-packages/sdmetrics/column_pairs/statistical/contingency_similarity.py:43: FutureWarning: The default of observed=False is deprecated and will be changed to True in a future version of pandas. Pass observed=False to retain current behavior or observed=True to adopt the future default and silence this warning.\n",
            "  contingency_real = real.groupby(list(columns), dropna=False).size() / len(real)\n",
            "/usr/local/lib/python3.10/dist-packages/sdmetrics/column_pairs/statistical/contingency_similarity.py:44: FutureWarning: The default of observed=False is deprecated and will be changed to True in a future version of pandas. Pass observed=False to retain current behavior or observed=True to adopt the future default and silence this warning.\n",
            "  contingency_synthetic = synthetic.groupby(list(columns), dropna=False).size() / len(\n",
            "/usr/local/lib/python3.10/dist-packages/sdmetrics/column_pairs/statistical/contingency_similarity.py:43: FutureWarning: The default of observed=False is deprecated and will be changed to True in a future version of pandas. Pass observed=False to retain current behavior or observed=True to adopt the future default and silence this warning.\n",
            "  contingency_real = real.groupby(list(columns), dropna=False).size() / len(real)\n",
            "/usr/local/lib/python3.10/dist-packages/sdmetrics/column_pairs/statistical/contingency_similarity.py:44: FutureWarning: The default of observed=False is deprecated and will be changed to True in a future version of pandas. Pass observed=False to retain current behavior or observed=True to adopt the future default and silence this warning.\n",
            "  contingency_synthetic = synthetic.groupby(list(columns), dropna=False).size() / len(\n",
            "/usr/local/lib/python3.10/dist-packages/sdmetrics/column_pairs/statistical/contingency_similarity.py:43: FutureWarning: The default of observed=False is deprecated and will be changed to True in a future version of pandas. Pass observed=False to retain current behavior or observed=True to adopt the future default and silence this warning.\n",
            "  contingency_real = real.groupby(list(columns), dropna=False).size() / len(real)\n"
          ]
        },
        {
          "name": "stdout",
          "output_type": "stream",
          "text": [
            "(2/2) Evaluating Column Pair Trends: |██▎       | 541/2278 [00:17<00:38, 44.77it/s]|"
          ]
        },
        {
          "name": "stderr",
          "output_type": "stream",
          "text": [
            "/usr/local/lib/python3.10/dist-packages/sdmetrics/column_pairs/statistical/contingency_similarity.py:44: FutureWarning: The default of observed=False is deprecated and will be changed to True in a future version of pandas. Pass observed=False to retain current behavior or observed=True to adopt the future default and silence this warning.\n",
            "  contingency_synthetic = synthetic.groupby(list(columns), dropna=False).size() / len(\n",
            "/usr/local/lib/python3.10/dist-packages/sdmetrics/column_pairs/statistical/contingency_similarity.py:43: FutureWarning: The default of observed=False is deprecated and will be changed to True in a future version of pandas. Pass observed=False to retain current behavior or observed=True to adopt the future default and silence this warning.\n",
            "  contingency_real = real.groupby(list(columns), dropna=False).size() / len(real)\n",
            "/usr/local/lib/python3.10/dist-packages/sdmetrics/column_pairs/statistical/contingency_similarity.py:44: FutureWarning: The default of observed=False is deprecated and will be changed to True in a future version of pandas. Pass observed=False to retain current behavior or observed=True to adopt the future default and silence this warning.\n",
            "  contingency_synthetic = synthetic.groupby(list(columns), dropna=False).size() / len(\n",
            "/usr/local/lib/python3.10/dist-packages/sdmetrics/column_pairs/statistical/contingency_similarity.py:43: FutureWarning: The default of observed=False is deprecated and will be changed to True in a future version of pandas. Pass observed=False to retain current behavior or observed=True to adopt the future default and silence this warning.\n",
            "  contingency_real = real.groupby(list(columns), dropna=False).size() / len(real)\n",
            "/usr/local/lib/python3.10/dist-packages/sdmetrics/column_pairs/statistical/contingency_similarity.py:44: FutureWarning: The default of observed=False is deprecated and will be changed to True in a future version of pandas. Pass observed=False to retain current behavior or observed=True to adopt the future default and silence this warning.\n",
            "  contingency_synthetic = synthetic.groupby(list(columns), dropna=False).size() / len(\n",
            "/usr/local/lib/python3.10/dist-packages/sdmetrics/column_pairs/statistical/contingency_similarity.py:43: FutureWarning: The default of observed=False is deprecated and will be changed to True in a future version of pandas. Pass observed=False to retain current behavior or observed=True to adopt the future default and silence this warning.\n",
            "  contingency_real = real.groupby(list(columns), dropna=False).size() / len(real)\n",
            "/usr/local/lib/python3.10/dist-packages/sdmetrics/column_pairs/statistical/contingency_similarity.py:44: FutureWarning: The default of observed=False is deprecated and will be changed to True in a future version of pandas. Pass observed=False to retain current behavior or observed=True to adopt the future default and silence this warning.\n",
            "  contingency_synthetic = synthetic.groupby(list(columns), dropna=False).size() / len(\n",
            "/usr/local/lib/python3.10/dist-packages/sdmetrics/column_pairs/statistical/contingency_similarity.py:43: FutureWarning: The default of observed=False is deprecated and will be changed to True in a future version of pandas. Pass observed=False to retain current behavior or observed=True to adopt the future default and silence this warning.\n",
            "  contingency_real = real.groupby(list(columns), dropna=False).size() / len(real)\n",
            "/usr/local/lib/python3.10/dist-packages/sdmetrics/column_pairs/statistical/contingency_similarity.py:44: FutureWarning: The default of observed=False is deprecated and will be changed to True in a future version of pandas. Pass observed=False to retain current behavior or observed=True to adopt the future default and silence this warning.\n",
            "  contingency_synthetic = synthetic.groupby(list(columns), dropna=False).size() / len(\n",
            "/usr/local/lib/python3.10/dist-packages/sdmetrics/column_pairs/statistical/contingency_similarity.py:43: FutureWarning: The default of observed=False is deprecated and will be changed to True in a future version of pandas. Pass observed=False to retain current behavior or observed=True to adopt the future default and silence this warning.\n",
            "  contingency_real = real.groupby(list(columns), dropna=False).size() / len(real)\n",
            "/usr/local/lib/python3.10/dist-packages/sdmetrics/column_pairs/statistical/contingency_similarity.py:44: FutureWarning: The default of observed=False is deprecated and will be changed to True in a future version of pandas. Pass observed=False to retain current behavior or observed=True to adopt the future default and silence this warning.\n",
            "  contingency_synthetic = synthetic.groupby(list(columns), dropna=False).size() / len(\n",
            "/usr/local/lib/python3.10/dist-packages/sdmetrics/column_pairs/statistical/contingency_similarity.py:43: FutureWarning: The default of observed=False is deprecated and will be changed to True in a future version of pandas. Pass observed=False to retain current behavior or observed=True to adopt the future default and silence this warning.\n",
            "  contingency_real = real.groupby(list(columns), dropna=False).size() / len(real)\n",
            "/usr/local/lib/python3.10/dist-packages/sdmetrics/column_pairs/statistical/contingency_similarity.py:44: FutureWarning: The default of observed=False is deprecated and will be changed to True in a future version of pandas. Pass observed=False to retain current behavior or observed=True to adopt the future default and silence this warning.\n",
            "  contingency_synthetic = synthetic.groupby(list(columns), dropna=False).size() / len(\n",
            "/usr/local/lib/python3.10/dist-packages/sdmetrics/column_pairs/statistical/contingency_similarity.py:43: FutureWarning: The default of observed=False is deprecated and will be changed to True in a future version of pandas. Pass observed=False to retain current behavior or observed=True to adopt the future default and silence this warning.\n",
            "  contingency_real = real.groupby(list(columns), dropna=False).size() / len(real)\n",
            "/usr/local/lib/python3.10/dist-packages/sdmetrics/column_pairs/statistical/contingency_similarity.py:44: FutureWarning: The default of observed=False is deprecated and will be changed to True in a future version of pandas. Pass observed=False to retain current behavior or observed=True to adopt the future default and silence this warning.\n",
            "  contingency_synthetic = synthetic.groupby(list(columns), dropna=False).size() / len(\n"
          ]
        },
        {
          "name": "stdout",
          "output_type": "stream",
          "text": [
            "(2/2) Evaluating Column Pair Trends: |██▍       | 551/2278 [00:18<00:42, 40.29it/s]|"
          ]
        },
        {
          "name": "stderr",
          "output_type": "stream",
          "text": [
            "/usr/local/lib/python3.10/dist-packages/sdmetrics/column_pairs/statistical/contingency_similarity.py:43: FutureWarning: The default of observed=False is deprecated and will be changed to True in a future version of pandas. Pass observed=False to retain current behavior or observed=True to adopt the future default and silence this warning.\n",
            "  contingency_real = real.groupby(list(columns), dropna=False).size() / len(real)\n",
            "/usr/local/lib/python3.10/dist-packages/sdmetrics/column_pairs/statistical/contingency_similarity.py:44: FutureWarning: The default of observed=False is deprecated and will be changed to True in a future version of pandas. Pass observed=False to retain current behavior or observed=True to adopt the future default and silence this warning.\n",
            "  contingency_synthetic = synthetic.groupby(list(columns), dropna=False).size() / len(\n",
            "/usr/local/lib/python3.10/dist-packages/sdmetrics/column_pairs/statistical/contingency_similarity.py:43: FutureWarning: The default of observed=False is deprecated and will be changed to True in a future version of pandas. Pass observed=False to retain current behavior or observed=True to adopt the future default and silence this warning.\n",
            "  contingency_real = real.groupby(list(columns), dropna=False).size() / len(real)\n",
            "/usr/local/lib/python3.10/dist-packages/sdmetrics/column_pairs/statistical/contingency_similarity.py:44: FutureWarning: The default of observed=False is deprecated and will be changed to True in a future version of pandas. Pass observed=False to retain current behavior or observed=True to adopt the future default and silence this warning.\n",
            "  contingency_synthetic = synthetic.groupby(list(columns), dropna=False).size() / len(\n",
            "/usr/local/lib/python3.10/dist-packages/sdmetrics/column_pairs/statistical/contingency_similarity.py:43: FutureWarning: The default of observed=False is deprecated and will be changed to True in a future version of pandas. Pass observed=False to retain current behavior or observed=True to adopt the future default and silence this warning.\n",
            "  contingency_real = real.groupby(list(columns), dropna=False).size() / len(real)\n",
            "/usr/local/lib/python3.10/dist-packages/sdmetrics/column_pairs/statistical/contingency_similarity.py:44: FutureWarning: The default of observed=False is deprecated and will be changed to True in a future version of pandas. Pass observed=False to retain current behavior or observed=True to adopt the future default and silence this warning.\n",
            "  contingency_synthetic = synthetic.groupby(list(columns), dropna=False).size() / len(\n",
            "/usr/local/lib/python3.10/dist-packages/sdmetrics/column_pairs/statistical/contingency_similarity.py:43: FutureWarning: The default of observed=False is deprecated and will be changed to True in a future version of pandas. Pass observed=False to retain current behavior or observed=True to adopt the future default and silence this warning.\n",
            "  contingency_real = real.groupby(list(columns), dropna=False).size() / len(real)\n",
            "/usr/local/lib/python3.10/dist-packages/sdmetrics/column_pairs/statistical/contingency_similarity.py:44: FutureWarning: The default of observed=False is deprecated and will be changed to True in a future version of pandas. Pass observed=False to retain current behavior or observed=True to adopt the future default and silence this warning.\n",
            "  contingency_synthetic = synthetic.groupby(list(columns), dropna=False).size() / len(\n",
            "/usr/local/lib/python3.10/dist-packages/sdmetrics/column_pairs/statistical/contingency_similarity.py:43: FutureWarning: The default of observed=False is deprecated and will be changed to True in a future version of pandas. Pass observed=False to retain current behavior or observed=True to adopt the future default and silence this warning.\n",
            "  contingency_real = real.groupby(list(columns), dropna=False).size() / len(real)\n",
            "/usr/local/lib/python3.10/dist-packages/sdmetrics/column_pairs/statistical/contingency_similarity.py:44: FutureWarning: The default of observed=False is deprecated and will be changed to True in a future version of pandas. Pass observed=False to retain current behavior or observed=True to adopt the future default and silence this warning.\n",
            "  contingency_synthetic = synthetic.groupby(list(columns), dropna=False).size() / len(\n",
            "/usr/local/lib/python3.10/dist-packages/sdmetrics/column_pairs/statistical/contingency_similarity.py:43: FutureWarning: The default of observed=False is deprecated and will be changed to True in a future version of pandas. Pass observed=False to retain current behavior or observed=True to adopt the future default and silence this warning.\n",
            "  contingency_real = real.groupby(list(columns), dropna=False).size() / len(real)\n",
            "/usr/local/lib/python3.10/dist-packages/sdmetrics/column_pairs/statistical/contingency_similarity.py:44: FutureWarning: The default of observed=False is deprecated and will be changed to True in a future version of pandas. Pass observed=False to retain current behavior or observed=True to adopt the future default and silence this warning.\n",
            "  contingency_synthetic = synthetic.groupby(list(columns), dropna=False).size() / len(\n",
            "/usr/local/lib/python3.10/dist-packages/sdmetrics/column_pairs/statistical/contingency_similarity.py:43: FutureWarning: The default of observed=False is deprecated and will be changed to True in a future version of pandas. Pass observed=False to retain current behavior or observed=True to adopt the future default and silence this warning.\n",
            "  contingency_real = real.groupby(list(columns), dropna=False).size() / len(real)\n",
            "/usr/local/lib/python3.10/dist-packages/sdmetrics/column_pairs/statistical/contingency_similarity.py:44: FutureWarning: The default of observed=False is deprecated and will be changed to True in a future version of pandas. Pass observed=False to retain current behavior or observed=True to adopt the future default and silence this warning.\n",
            "  contingency_synthetic = synthetic.groupby(list(columns), dropna=False).size() / len(\n",
            "/usr/local/lib/python3.10/dist-packages/sdmetrics/column_pairs/statistical/contingency_similarity.py:43: FutureWarning: The default of observed=False is deprecated and will be changed to True in a future version of pandas. Pass observed=False to retain current behavior or observed=True to adopt the future default and silence this warning.\n",
            "  contingency_real = real.groupby(list(columns), dropna=False).size() / len(real)\n",
            "/usr/local/lib/python3.10/dist-packages/sdmetrics/column_pairs/statistical/contingency_similarity.py:44: FutureWarning: The default of observed=False is deprecated and will be changed to True in a future version of pandas. Pass observed=False to retain current behavior or observed=True to adopt the future default and silence this warning.\n",
            "  contingency_synthetic = synthetic.groupby(list(columns), dropna=False).size() / len(\n",
            "/usr/local/lib/python3.10/dist-packages/sdmetrics/column_pairs/statistical/contingency_similarity.py:43: FutureWarning: The default of observed=False is deprecated and will be changed to True in a future version of pandas. Pass observed=False to retain current behavior or observed=True to adopt the future default and silence this warning.\n",
            "  contingency_real = real.groupby(list(columns), dropna=False).size() / len(real)\n"
          ]
        },
        {
          "name": "stdout",
          "output_type": "stream",
          "text": [
            "\r(2/2) Evaluating Column Pair Trends: |██▍       | 556/2278 [00:18<00:42, 40.78it/s]|"
          ]
        },
        {
          "name": "stderr",
          "output_type": "stream",
          "text": [
            "/usr/local/lib/python3.10/dist-packages/sdmetrics/column_pairs/statistical/contingency_similarity.py:44: FutureWarning: The default of observed=False is deprecated and will be changed to True in a future version of pandas. Pass observed=False to retain current behavior or observed=True to adopt the future default and silence this warning.\n",
            "  contingency_synthetic = synthetic.groupby(list(columns), dropna=False).size() / len(\n",
            "/usr/local/lib/python3.10/dist-packages/sdmetrics/column_pairs/statistical/contingency_similarity.py:43: FutureWarning: The default of observed=False is deprecated and will be changed to True in a future version of pandas. Pass observed=False to retain current behavior or observed=True to adopt the future default and silence this warning.\n",
            "  contingency_real = real.groupby(list(columns), dropna=False).size() / len(real)\n",
            "/usr/local/lib/python3.10/dist-packages/sdmetrics/column_pairs/statistical/contingency_similarity.py:44: FutureWarning: The default of observed=False is deprecated and will be changed to True in a future version of pandas. Pass observed=False to retain current behavior or observed=True to adopt the future default and silence this warning.\n",
            "  contingency_synthetic = synthetic.groupby(list(columns), dropna=False).size() / len(\n",
            "/usr/local/lib/python3.10/dist-packages/sdmetrics/column_pairs/statistical/contingency_similarity.py:43: FutureWarning: The default of observed=False is deprecated and will be changed to True in a future version of pandas. Pass observed=False to retain current behavior or observed=True to adopt the future default and silence this warning.\n",
            "  contingency_real = real.groupby(list(columns), dropna=False).size() / len(real)\n",
            "/usr/local/lib/python3.10/dist-packages/sdmetrics/column_pairs/statistical/contingency_similarity.py:44: FutureWarning: The default of observed=False is deprecated and will be changed to True in a future version of pandas. Pass observed=False to retain current behavior or observed=True to adopt the future default and silence this warning.\n",
            "  contingency_synthetic = synthetic.groupby(list(columns), dropna=False).size() / len(\n",
            "/usr/local/lib/python3.10/dist-packages/sdmetrics/column_pairs/statistical/contingency_similarity.py:43: FutureWarning: The default of observed=False is deprecated and will be changed to True in a future version of pandas. Pass observed=False to retain current behavior or observed=True to adopt the future default and silence this warning.\n",
            "  contingency_real = real.groupby(list(columns), dropna=False).size() / len(real)\n",
            "/usr/local/lib/python3.10/dist-packages/sdmetrics/column_pairs/statistical/contingency_similarity.py:44: FutureWarning: The default of observed=False is deprecated and will be changed to True in a future version of pandas. Pass observed=False to retain current behavior or observed=True to adopt the future default and silence this warning.\n",
            "  contingency_synthetic = synthetic.groupby(list(columns), dropna=False).size() / len(\n",
            "/usr/local/lib/python3.10/dist-packages/sdmetrics/column_pairs/statistical/contingency_similarity.py:43: FutureWarning: The default of observed=False is deprecated and will be changed to True in a future version of pandas. Pass observed=False to retain current behavior or observed=True to adopt the future default and silence this warning.\n",
            "  contingency_real = real.groupby(list(columns), dropna=False).size() / len(real)\n",
            "/usr/local/lib/python3.10/dist-packages/sdmetrics/column_pairs/statistical/contingency_similarity.py:44: FutureWarning: The default of observed=False is deprecated and will be changed to True in a future version of pandas. Pass observed=False to retain current behavior or observed=True to adopt the future default and silence this warning.\n",
            "  contingency_synthetic = synthetic.groupby(list(columns), dropna=False).size() / len(\n",
            "/usr/local/lib/python3.10/dist-packages/sdmetrics/column_pairs/statistical/contingency_similarity.py:43: FutureWarning: The default of observed=False is deprecated and will be changed to True in a future version of pandas. Pass observed=False to retain current behavior or observed=True to adopt the future default and silence this warning.\n",
            "  contingency_real = real.groupby(list(columns), dropna=False).size() / len(real)\n",
            "/usr/local/lib/python3.10/dist-packages/sdmetrics/column_pairs/statistical/contingency_similarity.py:44: FutureWarning: The default of observed=False is deprecated and will be changed to True in a future version of pandas. Pass observed=False to retain current behavior or observed=True to adopt the future default and silence this warning.\n",
            "  contingency_synthetic = synthetic.groupby(list(columns), dropna=False).size() / len(\n",
            "/usr/local/lib/python3.10/dist-packages/sdmetrics/column_pairs/statistical/contingency_similarity.py:43: FutureWarning: The default of observed=False is deprecated and will be changed to True in a future version of pandas. Pass observed=False to retain current behavior or observed=True to adopt the future default and silence this warning.\n",
            "  contingency_real = real.groupby(list(columns), dropna=False).size() / len(real)\n",
            "/usr/local/lib/python3.10/dist-packages/sdmetrics/column_pairs/statistical/contingency_similarity.py:44: FutureWarning: The default of observed=False is deprecated and will be changed to True in a future version of pandas. Pass observed=False to retain current behavior or observed=True to adopt the future default and silence this warning.\n",
            "  contingency_synthetic = synthetic.groupby(list(columns), dropna=False).size() / len(\n",
            "/usr/local/lib/python3.10/dist-packages/sdmetrics/column_pairs/statistical/contingency_similarity.py:43: FutureWarning: The default of observed=False is deprecated and will be changed to True in a future version of pandas. Pass observed=False to retain current behavior or observed=True to adopt the future default and silence this warning.\n",
            "  contingency_real = real.groupby(list(columns), dropna=False).size() / len(real)\n",
            "/usr/local/lib/python3.10/dist-packages/sdmetrics/column_pairs/statistical/contingency_similarity.py:44: FutureWarning: The default of observed=False is deprecated and will be changed to True in a future version of pandas. Pass observed=False to retain current behavior or observed=True to adopt the future default and silence this warning.\n",
            "  contingency_synthetic = synthetic.groupby(list(columns), dropna=False).size() / len(\n",
            "/usr/local/lib/python3.10/dist-packages/sdmetrics/column_pairs/statistical/contingency_similarity.py:43: FutureWarning: The default of observed=False is deprecated and will be changed to True in a future version of pandas. Pass observed=False to retain current behavior or observed=True to adopt the future default and silence this warning.\n",
            "  contingency_real = real.groupby(list(columns), dropna=False).size() / len(real)\n",
            "/usr/local/lib/python3.10/dist-packages/sdmetrics/column_pairs/statistical/contingency_similarity.py:44: FutureWarning: The default of observed=False is deprecated and will be changed to True in a future version of pandas. Pass observed=False to retain current behavior or observed=True to adopt the future default and silence this warning.\n",
            "  contingency_synthetic = synthetic.groupby(list(columns), dropna=False).size() / len(\n",
            "/usr/local/lib/python3.10/dist-packages/sdmetrics/column_pairs/statistical/contingency_similarity.py:43: FutureWarning: The default of observed=False is deprecated and will be changed to True in a future version of pandas. Pass observed=False to retain current behavior or observed=True to adopt the future default and silence this warning.\n",
            "  contingency_real = real.groupby(list(columns), dropna=False).size() / len(real)\n"
          ]
        },
        {
          "name": "stdout",
          "output_type": "stream",
          "text": [
            "(2/2) Evaluating Column Pair Trends: |██▍       | 566/2278 [00:18<00:41, 41.28it/s]|"
          ]
        },
        {
          "name": "stderr",
          "output_type": "stream",
          "text": [
            "/usr/local/lib/python3.10/dist-packages/sdmetrics/column_pairs/statistical/contingency_similarity.py:44: FutureWarning: The default of observed=False is deprecated and will be changed to True in a future version of pandas. Pass observed=False to retain current behavior or observed=True to adopt the future default and silence this warning.\n",
            "  contingency_synthetic = synthetic.groupby(list(columns), dropna=False).size() / len(\n",
            "/usr/local/lib/python3.10/dist-packages/sdmetrics/column_pairs/statistical/contingency_similarity.py:43: FutureWarning: The default of observed=False is deprecated and will be changed to True in a future version of pandas. Pass observed=False to retain current behavior or observed=True to adopt the future default and silence this warning.\n",
            "  contingency_real = real.groupby(list(columns), dropna=False).size() / len(real)\n",
            "/usr/local/lib/python3.10/dist-packages/sdmetrics/column_pairs/statistical/contingency_similarity.py:44: FutureWarning: The default of observed=False is deprecated and will be changed to True in a future version of pandas. Pass observed=False to retain current behavior or observed=True to adopt the future default and silence this warning.\n",
            "  contingency_synthetic = synthetic.groupby(list(columns), dropna=False).size() / len(\n",
            "/usr/local/lib/python3.10/dist-packages/sdmetrics/column_pairs/statistical/contingency_similarity.py:43: FutureWarning: The default of observed=False is deprecated and will be changed to True in a future version of pandas. Pass observed=False to retain current behavior or observed=True to adopt the future default and silence this warning.\n",
            "  contingency_real = real.groupby(list(columns), dropna=False).size() / len(real)\n",
            "/usr/local/lib/python3.10/dist-packages/sdmetrics/column_pairs/statistical/contingency_similarity.py:44: FutureWarning: The default of observed=False is deprecated and will be changed to True in a future version of pandas. Pass observed=False to retain current behavior or observed=True to adopt the future default and silence this warning.\n",
            "  contingency_synthetic = synthetic.groupby(list(columns), dropna=False).size() / len(\n",
            "/usr/local/lib/python3.10/dist-packages/sdmetrics/column_pairs/statistical/contingency_similarity.py:43: FutureWarning: The default of observed=False is deprecated and will be changed to True in a future version of pandas. Pass observed=False to retain current behavior or observed=True to adopt the future default and silence this warning.\n",
            "  contingency_real = real.groupby(list(columns), dropna=False).size() / len(real)\n",
            "/usr/local/lib/python3.10/dist-packages/sdmetrics/column_pairs/statistical/contingency_similarity.py:44: FutureWarning: The default of observed=False is deprecated and will be changed to True in a future version of pandas. Pass observed=False to retain current behavior or observed=True to adopt the future default and silence this warning.\n",
            "  contingency_synthetic = synthetic.groupby(list(columns), dropna=False).size() / len(\n",
            "/usr/local/lib/python3.10/dist-packages/sdmetrics/column_pairs/statistical/contingency_similarity.py:43: FutureWarning: The default of observed=False is deprecated and will be changed to True in a future version of pandas. Pass observed=False to retain current behavior or observed=True to adopt the future default and silence this warning.\n",
            "  contingency_real = real.groupby(list(columns), dropna=False).size() / len(real)\n",
            "/usr/local/lib/python3.10/dist-packages/sdmetrics/column_pairs/statistical/contingency_similarity.py:44: FutureWarning: The default of observed=False is deprecated and will be changed to True in a future version of pandas. Pass observed=False to retain current behavior or observed=True to adopt the future default and silence this warning.\n",
            "  contingency_synthetic = synthetic.groupby(list(columns), dropna=False).size() / len(\n",
            "/usr/local/lib/python3.10/dist-packages/sdmetrics/column_pairs/statistical/contingency_similarity.py:43: FutureWarning: The default of observed=False is deprecated and will be changed to True in a future version of pandas. Pass observed=False to retain current behavior or observed=True to adopt the future default and silence this warning.\n",
            "  contingency_real = real.groupby(list(columns), dropna=False).size() / len(real)\n",
            "/usr/local/lib/python3.10/dist-packages/sdmetrics/column_pairs/statistical/contingency_similarity.py:44: FutureWarning: The default of observed=False is deprecated and will be changed to True in a future version of pandas. Pass observed=False to retain current behavior or observed=True to adopt the future default and silence this warning.\n",
            "  contingency_synthetic = synthetic.groupby(list(columns), dropna=False).size() / len(\n",
            "/usr/local/lib/python3.10/dist-packages/sdmetrics/column_pairs/statistical/contingency_similarity.py:43: FutureWarning: The default of observed=False is deprecated and will be changed to True in a future version of pandas. Pass observed=False to retain current behavior or observed=True to adopt the future default and silence this warning.\n",
            "  contingency_real = real.groupby(list(columns), dropna=False).size() / len(real)\n",
            "/usr/local/lib/python3.10/dist-packages/sdmetrics/column_pairs/statistical/contingency_similarity.py:44: FutureWarning: The default of observed=False is deprecated and will be changed to True in a future version of pandas. Pass observed=False to retain current behavior or observed=True to adopt the future default and silence this warning.\n",
            "  contingency_synthetic = synthetic.groupby(list(columns), dropna=False).size() / len(\n"
          ]
        },
        {
          "name": "stdout",
          "output_type": "stream",
          "text": [
            "(2/2) Evaluating Column Pair Trends: |██▋       | 609/2278 [00:19<00:33, 49.97it/s]|"
          ]
        },
        {
          "name": "stderr",
          "output_type": "stream",
          "text": [
            "/usr/local/lib/python3.10/dist-packages/sdmetrics/column_pairs/statistical/contingency_similarity.py:43: FutureWarning: The default of observed=False is deprecated and will be changed to True in a future version of pandas. Pass observed=False to retain current behavior or observed=True to adopt the future default and silence this warning.\n",
            "  contingency_real = real.groupby(list(columns), dropna=False).size() / len(real)\n",
            "/usr/local/lib/python3.10/dist-packages/sdmetrics/column_pairs/statistical/contingency_similarity.py:44: FutureWarning: The default of observed=False is deprecated and will be changed to True in a future version of pandas. Pass observed=False to retain current behavior or observed=True to adopt the future default and silence this warning.\n",
            "  contingency_synthetic = synthetic.groupby(list(columns), dropna=False).size() / len(\n",
            "/usr/local/lib/python3.10/dist-packages/sdmetrics/column_pairs/statistical/contingency_similarity.py:43: FutureWarning: The default of observed=False is deprecated and will be changed to True in a future version of pandas. Pass observed=False to retain current behavior or observed=True to adopt the future default and silence this warning.\n",
            "  contingency_real = real.groupby(list(columns), dropna=False).size() / len(real)\n",
            "/usr/local/lib/python3.10/dist-packages/sdmetrics/column_pairs/statistical/contingency_similarity.py:44: FutureWarning: The default of observed=False is deprecated and will be changed to True in a future version of pandas. Pass observed=False to retain current behavior or observed=True to adopt the future default and silence this warning.\n",
            "  contingency_synthetic = synthetic.groupby(list(columns), dropna=False).size() / len(\n"
          ]
        },
        {
          "name": "stdout",
          "output_type": "stream",
          "text": [
            "(2/2) Evaluating Column Pair Trends: |██▉       | 668/2278 [00:20<00:35, 45.30it/s]|"
          ]
        },
        {
          "name": "stderr",
          "output_type": "stream",
          "text": [
            "/usr/local/lib/python3.10/dist-packages/sdmetrics/column_pairs/statistical/contingency_similarity.py:43: FutureWarning: The default of observed=False is deprecated and will be changed to True in a future version of pandas. Pass observed=False to retain current behavior or observed=True to adopt the future default and silence this warning.\n",
            "  contingency_real = real.groupby(list(columns), dropna=False).size() / len(real)\n",
            "/usr/local/lib/python3.10/dist-packages/sdmetrics/column_pairs/statistical/contingency_similarity.py:44: FutureWarning: The default of observed=False is deprecated and will be changed to True in a future version of pandas. Pass observed=False to retain current behavior or observed=True to adopt the future default and silence this warning.\n",
            "  contingency_synthetic = synthetic.groupby(list(columns), dropna=False).size() / len(\n",
            "/usr/local/lib/python3.10/dist-packages/sdmetrics/column_pairs/statistical/contingency_similarity.py:43: FutureWarning: The default of observed=False is deprecated and will be changed to True in a future version of pandas. Pass observed=False to retain current behavior or observed=True to adopt the future default and silence this warning.\n",
            "  contingency_real = real.groupby(list(columns), dropna=False).size() / len(real)\n",
            "/usr/local/lib/python3.10/dist-packages/sdmetrics/column_pairs/statistical/contingency_similarity.py:44: FutureWarning: The default of observed=False is deprecated and will be changed to True in a future version of pandas. Pass observed=False to retain current behavior or observed=True to adopt the future default and silence this warning.\n",
            "  contingency_synthetic = synthetic.groupby(list(columns), dropna=False).size() / len(\n"
          ]
        },
        {
          "name": "stdout",
          "output_type": "stream",
          "text": [
            "(2/2) Evaluating Column Pair Trends: |███▏      | 718/2278 [00:22<01:15, 20.79it/s]|"
          ]
        },
        {
          "name": "stderr",
          "output_type": "stream",
          "text": [
            "/usr/local/lib/python3.10/dist-packages/sdmetrics/column_pairs/statistical/contingency_similarity.py:43: FutureWarning: The default of observed=False is deprecated and will be changed to True in a future version of pandas. Pass observed=False to retain current behavior or observed=True to adopt the future default and silence this warning.\n",
            "  contingency_real = real.groupby(list(columns), dropna=False).size() / len(real)\n",
            "/usr/local/lib/python3.10/dist-packages/sdmetrics/column_pairs/statistical/contingency_similarity.py:44: FutureWarning: The default of observed=False is deprecated and will be changed to True in a future version of pandas. Pass observed=False to retain current behavior or observed=True to adopt the future default and silence this warning.\n",
            "  contingency_synthetic = synthetic.groupby(list(columns), dropna=False).size() / len(\n",
            "/usr/local/lib/python3.10/dist-packages/sdmetrics/column_pairs/statistical/contingency_similarity.py:43: FutureWarning: The default of observed=False is deprecated and will be changed to True in a future version of pandas. Pass observed=False to retain current behavior or observed=True to adopt the future default and silence this warning.\n",
            "  contingency_real = real.groupby(list(columns), dropna=False).size() / len(real)\n",
            "/usr/local/lib/python3.10/dist-packages/sdmetrics/column_pairs/statistical/contingency_similarity.py:44: FutureWarning: The default of observed=False is deprecated and will be changed to True in a future version of pandas. Pass observed=False to retain current behavior or observed=True to adopt the future default and silence this warning.\n",
            "  contingency_synthetic = synthetic.groupby(list(columns), dropna=False).size() / len(\n"
          ]
        },
        {
          "name": "stdout",
          "output_type": "stream",
          "text": [
            "(2/2) Evaluating Column Pair Trends: |███▍      | 775/2278 [00:24<00:37, 40.05it/s]|"
          ]
        },
        {
          "name": "stderr",
          "output_type": "stream",
          "text": [
            "/usr/local/lib/python3.10/dist-packages/sdmetrics/column_pairs/statistical/contingency_similarity.py:43: FutureWarning: The default of observed=False is deprecated and will be changed to True in a future version of pandas. Pass observed=False to retain current behavior or observed=True to adopt the future default and silence this warning.\n",
            "  contingency_real = real.groupby(list(columns), dropna=False).size() / len(real)\n",
            "/usr/local/lib/python3.10/dist-packages/sdmetrics/column_pairs/statistical/contingency_similarity.py:44: FutureWarning: The default of observed=False is deprecated and will be changed to True in a future version of pandas. Pass observed=False to retain current behavior or observed=True to adopt the future default and silence this warning.\n",
            "  contingency_synthetic = synthetic.groupby(list(columns), dropna=False).size() / len(\n",
            "/usr/local/lib/python3.10/dist-packages/sdmetrics/column_pairs/statistical/contingency_similarity.py:43: FutureWarning: The default of observed=False is deprecated and will be changed to True in a future version of pandas. Pass observed=False to retain current behavior or observed=True to adopt the future default and silence this warning.\n",
            "  contingency_real = real.groupby(list(columns), dropna=False).size() / len(real)\n",
            "/usr/local/lib/python3.10/dist-packages/sdmetrics/column_pairs/statistical/contingency_similarity.py:44: FutureWarning: The default of observed=False is deprecated and will be changed to True in a future version of pandas. Pass observed=False to retain current behavior or observed=True to adopt the future default and silence this warning.\n",
            "  contingency_synthetic = synthetic.groupby(list(columns), dropna=False).size() / len(\n"
          ]
        },
        {
          "name": "stdout",
          "output_type": "stream",
          "text": [
            "(2/2) Evaluating Column Pair Trends: |███▋      | 832/2278 [00:25<00:30, 47.36it/s]|"
          ]
        },
        {
          "name": "stderr",
          "output_type": "stream",
          "text": [
            "/usr/local/lib/python3.10/dist-packages/sdmetrics/column_pairs/statistical/contingency_similarity.py:43: FutureWarning: The default of observed=False is deprecated and will be changed to True in a future version of pandas. Pass observed=False to retain current behavior or observed=True to adopt the future default and silence this warning.\n",
            "  contingency_real = real.groupby(list(columns), dropna=False).size() / len(real)\n",
            "/usr/local/lib/python3.10/dist-packages/sdmetrics/column_pairs/statistical/contingency_similarity.py:44: FutureWarning: The default of observed=False is deprecated and will be changed to True in a future version of pandas. Pass observed=False to retain current behavior or observed=True to adopt the future default and silence this warning.\n",
            "  contingency_synthetic = synthetic.groupby(list(columns), dropna=False).size() / len(\n",
            "/usr/local/lib/python3.10/dist-packages/sdmetrics/column_pairs/statistical/contingency_similarity.py:43: FutureWarning: The default of observed=False is deprecated and will be changed to True in a future version of pandas. Pass observed=False to retain current behavior or observed=True to adopt the future default and silence this warning.\n",
            "  contingency_real = real.groupby(list(columns), dropna=False).size() / len(real)\n",
            "/usr/local/lib/python3.10/dist-packages/sdmetrics/column_pairs/statistical/contingency_similarity.py:44: FutureWarning: The default of observed=False is deprecated and will be changed to True in a future version of pandas. Pass observed=False to retain current behavior or observed=True to adopt the future default and silence this warning.\n",
            "  contingency_synthetic = synthetic.groupby(list(columns), dropna=False).size() / len(\n"
          ]
        },
        {
          "name": "stdout",
          "output_type": "stream",
          "text": [
            "(2/2) Evaluating Column Pair Trends: |███▉      | 884/2278 [00:26<00:28, 48.76it/s]|"
          ]
        },
        {
          "name": "stderr",
          "output_type": "stream",
          "text": [
            "/usr/local/lib/python3.10/dist-packages/sdmetrics/column_pairs/statistical/contingency_similarity.py:43: FutureWarning: The default of observed=False is deprecated and will be changed to True in a future version of pandas. Pass observed=False to retain current behavior or observed=True to adopt the future default and silence this warning.\n",
            "  contingency_real = real.groupby(list(columns), dropna=False).size() / len(real)\n",
            "/usr/local/lib/python3.10/dist-packages/sdmetrics/column_pairs/statistical/contingency_similarity.py:44: FutureWarning: The default of observed=False is deprecated and will be changed to True in a future version of pandas. Pass observed=False to retain current behavior or observed=True to adopt the future default and silence this warning.\n",
            "  contingency_synthetic = synthetic.groupby(list(columns), dropna=False).size() / len(\n",
            "/usr/local/lib/python3.10/dist-packages/sdmetrics/column_pairs/statistical/contingency_similarity.py:43: FutureWarning: The default of observed=False is deprecated and will be changed to True in a future version of pandas. Pass observed=False to retain current behavior or observed=True to adopt the future default and silence this warning.\n",
            "  contingency_real = real.groupby(list(columns), dropna=False).size() / len(real)\n",
            "/usr/local/lib/python3.10/dist-packages/sdmetrics/column_pairs/statistical/contingency_similarity.py:44: FutureWarning: The default of observed=False is deprecated and will be changed to True in a future version of pandas. Pass observed=False to retain current behavior or observed=True to adopt the future default and silence this warning.\n",
            "  contingency_synthetic = synthetic.groupby(list(columns), dropna=False).size() / len(\n"
          ]
        },
        {
          "name": "stdout",
          "output_type": "stream",
          "text": [
            "(2/2) Evaluating Column Pair Trends: |████      | 939/2278 [00:27<00:26, 50.20it/s]|"
          ]
        },
        {
          "name": "stderr",
          "output_type": "stream",
          "text": [
            "/usr/local/lib/python3.10/dist-packages/sdmetrics/column_pairs/statistical/contingency_similarity.py:43: FutureWarning: The default of observed=False is deprecated and will be changed to True in a future version of pandas. Pass observed=False to retain current behavior or observed=True to adopt the future default and silence this warning.\n",
            "  contingency_real = real.groupby(list(columns), dropna=False).size() / len(real)\n",
            "/usr/local/lib/python3.10/dist-packages/sdmetrics/column_pairs/statistical/contingency_similarity.py:44: FutureWarning: The default of observed=False is deprecated and will be changed to True in a future version of pandas. Pass observed=False to retain current behavior or observed=True to adopt the future default and silence this warning.\n",
            "  contingency_synthetic = synthetic.groupby(list(columns), dropna=False).size() / len(\n",
            "/usr/local/lib/python3.10/dist-packages/sdmetrics/column_pairs/statistical/contingency_similarity.py:43: FutureWarning: The default of observed=False is deprecated and will be changed to True in a future version of pandas. Pass observed=False to retain current behavior or observed=True to adopt the future default and silence this warning.\n",
            "  contingency_real = real.groupby(list(columns), dropna=False).size() / len(real)\n",
            "/usr/local/lib/python3.10/dist-packages/sdmetrics/column_pairs/statistical/contingency_similarity.py:44: FutureWarning: The default of observed=False is deprecated and will be changed to True in a future version of pandas. Pass observed=False to retain current behavior or observed=True to adopt the future default and silence this warning.\n",
            "  contingency_synthetic = synthetic.groupby(list(columns), dropna=False).size() / len(\n"
          ]
        },
        {
          "name": "stdout",
          "output_type": "stream",
          "text": [
            "(2/2) Evaluating Column Pair Trends: |████▎     | 988/2278 [00:28<00:25, 51.43it/s]|"
          ]
        },
        {
          "name": "stderr",
          "output_type": "stream",
          "text": [
            "/usr/local/lib/python3.10/dist-packages/sdmetrics/column_pairs/statistical/contingency_similarity.py:43: FutureWarning: The default of observed=False is deprecated and will be changed to True in a future version of pandas. Pass observed=False to retain current behavior or observed=True to adopt the future default and silence this warning.\n",
            "  contingency_real = real.groupby(list(columns), dropna=False).size() / len(real)\n",
            "/usr/local/lib/python3.10/dist-packages/sdmetrics/column_pairs/statistical/contingency_similarity.py:44: FutureWarning: The default of observed=False is deprecated and will be changed to True in a future version of pandas. Pass observed=False to retain current behavior or observed=True to adopt the future default and silence this warning.\n",
            "  contingency_synthetic = synthetic.groupby(list(columns), dropna=False).size() / len(\n",
            "/usr/local/lib/python3.10/dist-packages/sdmetrics/column_pairs/statistical/contingency_similarity.py:43: FutureWarning: The default of observed=False is deprecated and will be changed to True in a future version of pandas. Pass observed=False to retain current behavior or observed=True to adopt the future default and silence this warning.\n",
            "  contingency_real = real.groupby(list(columns), dropna=False).size() / len(real)\n",
            "/usr/local/lib/python3.10/dist-packages/sdmetrics/column_pairs/statistical/contingency_similarity.py:44: FutureWarning: The default of observed=False is deprecated and will be changed to True in a future version of pandas. Pass observed=False to retain current behavior or observed=True to adopt the future default and silence this warning.\n",
            "  contingency_synthetic = synthetic.groupby(list(columns), dropna=False).size() / len(\n"
          ]
        },
        {
          "name": "stdout",
          "output_type": "stream",
          "text": [
            "(2/2) Evaluating Column Pair Trends: |████▌     | 1034/2278 [00:29<00:29, 41.94it/s]|"
          ]
        },
        {
          "name": "stderr",
          "output_type": "stream",
          "text": [
            "/usr/local/lib/python3.10/dist-packages/sdmetrics/column_pairs/statistical/contingency_similarity.py:43: FutureWarning: The default of observed=False is deprecated and will be changed to True in a future version of pandas. Pass observed=False to retain current behavior or observed=True to adopt the future default and silence this warning.\n",
            "  contingency_real = real.groupby(list(columns), dropna=False).size() / len(real)\n",
            "/usr/local/lib/python3.10/dist-packages/sdmetrics/column_pairs/statistical/contingency_similarity.py:44: FutureWarning: The default of observed=False is deprecated and will be changed to True in a future version of pandas. Pass observed=False to retain current behavior or observed=True to adopt the future default and silence this warning.\n",
            "  contingency_synthetic = synthetic.groupby(list(columns), dropna=False).size() / len(\n",
            "/usr/local/lib/python3.10/dist-packages/sdmetrics/column_pairs/statistical/contingency_similarity.py:43: FutureWarning: The default of observed=False is deprecated and will be changed to True in a future version of pandas. Pass observed=False to retain current behavior or observed=True to adopt the future default and silence this warning.\n",
            "  contingency_real = real.groupby(list(columns), dropna=False).size() / len(real)\n",
            "/usr/local/lib/python3.10/dist-packages/sdmetrics/column_pairs/statistical/contingency_similarity.py:44: FutureWarning: The default of observed=False is deprecated and will be changed to True in a future version of pandas. Pass observed=False to retain current behavior or observed=True to adopt the future default and silence this warning.\n",
            "  contingency_synthetic = synthetic.groupby(list(columns), dropna=False).size() / len(\n"
          ]
        },
        {
          "name": "stdout",
          "output_type": "stream",
          "text": [
            "(2/2) Evaluating Column Pair Trends: |████▊     | 1083/2278 [00:30<00:29, 40.07it/s]|"
          ]
        },
        {
          "name": "stderr",
          "output_type": "stream",
          "text": [
            "/usr/local/lib/python3.10/dist-packages/sdmetrics/column_pairs/statistical/contingency_similarity.py:43: FutureWarning: The default of observed=False is deprecated and will be changed to True in a future version of pandas. Pass observed=False to retain current behavior or observed=True to adopt the future default and silence this warning.\n",
            "  contingency_real = real.groupby(list(columns), dropna=False).size() / len(real)\n",
            "/usr/local/lib/python3.10/dist-packages/sdmetrics/column_pairs/statistical/contingency_similarity.py:44: FutureWarning: The default of observed=False is deprecated and will be changed to True in a future version of pandas. Pass observed=False to retain current behavior or observed=True to adopt the future default and silence this warning.\n",
            "  contingency_synthetic = synthetic.groupby(list(columns), dropna=False).size() / len(\n",
            "/usr/local/lib/python3.10/dist-packages/sdmetrics/column_pairs/statistical/contingency_similarity.py:43: FutureWarning: The default of observed=False is deprecated and will be changed to True in a future version of pandas. Pass observed=False to retain current behavior or observed=True to adopt the future default and silence this warning.\n",
            "  contingency_real = real.groupby(list(columns), dropna=False).size() / len(real)\n",
            "/usr/local/lib/python3.10/dist-packages/sdmetrics/column_pairs/statistical/contingency_similarity.py:44: FutureWarning: The default of observed=False is deprecated and will be changed to True in a future version of pandas. Pass observed=False to retain current behavior or observed=True to adopt the future default and silence this warning.\n",
            "  contingency_synthetic = synthetic.groupby(list(columns), dropna=False).size() / len(\n"
          ]
        },
        {
          "name": "stdout",
          "output_type": "stream",
          "text": [
            "(2/2) Evaluating Column Pair Trends: |████▉     | 1131/2278 [00:32<00:30, 37.51it/s]|"
          ]
        },
        {
          "name": "stderr",
          "output_type": "stream",
          "text": [
            "/usr/local/lib/python3.10/dist-packages/sdmetrics/column_pairs/statistical/contingency_similarity.py:43: FutureWarning: The default of observed=False is deprecated and will be changed to True in a future version of pandas. Pass observed=False to retain current behavior or observed=True to adopt the future default and silence this warning.\n",
            "  contingency_real = real.groupby(list(columns), dropna=False).size() / len(real)\n",
            "/usr/local/lib/python3.10/dist-packages/sdmetrics/column_pairs/statistical/contingency_similarity.py:44: FutureWarning: The default of observed=False is deprecated and will be changed to True in a future version of pandas. Pass observed=False to retain current behavior or observed=True to adopt the future default and silence this warning.\n",
            "  contingency_synthetic = synthetic.groupby(list(columns), dropna=False).size() / len(\n",
            "/usr/local/lib/python3.10/dist-packages/pandas/core/dtypes/cast.py:976: RuntimeWarning: invalid value encountered in cast\n",
            "  return ensure_int8(indexer)\n",
            "/usr/local/lib/python3.10/dist-packages/sdmetrics/column_pairs/statistical/contingency_similarity.py:43: FutureWarning: The default of observed=False is deprecated and will be changed to True in a future version of pandas. Pass observed=False to retain current behavior or observed=True to adopt the future default and silence this warning.\n",
            "  contingency_real = real.groupby(list(columns), dropna=False).size() / len(real)\n",
            "/usr/local/lib/python3.10/dist-packages/sdmetrics/column_pairs/statistical/contingency_similarity.py:44: FutureWarning: The default of observed=False is deprecated and will be changed to True in a future version of pandas. Pass observed=False to retain current behavior or observed=True to adopt the future default and silence this warning.\n",
            "  contingency_synthetic = synthetic.groupby(list(columns), dropna=False).size() / len(\n"
          ]
        },
        {
          "name": "stdout",
          "output_type": "stream",
          "text": [
            "(2/2) Evaluating Column Pair Trends: |█████▏    | 1179/2278 [00:33<00:29, 37.86it/s]|"
          ]
        },
        {
          "name": "stderr",
          "output_type": "stream",
          "text": [
            "/usr/local/lib/python3.10/dist-packages/sdmetrics/column_pairs/statistical/contingency_similarity.py:43: FutureWarning: The default of observed=False is deprecated and will be changed to True in a future version of pandas. Pass observed=False to retain current behavior or observed=True to adopt the future default and silence this warning.\n",
            "  contingency_real = real.groupby(list(columns), dropna=False).size() / len(real)\n",
            "/usr/local/lib/python3.10/dist-packages/sdmetrics/column_pairs/statistical/contingency_similarity.py:44: FutureWarning: The default of observed=False is deprecated and will be changed to True in a future version of pandas. Pass observed=False to retain current behavior or observed=True to adopt the future default and silence this warning.\n",
            "  contingency_synthetic = synthetic.groupby(list(columns), dropna=False).size() / len(\n",
            "/usr/local/lib/python3.10/dist-packages/pandas/core/dtypes/cast.py:976: RuntimeWarning: invalid value encountered in cast\n",
            "  return ensure_int8(indexer)\n",
            "/usr/local/lib/python3.10/dist-packages/sdmetrics/column_pairs/statistical/contingency_similarity.py:43: FutureWarning: The default of observed=False is deprecated and will be changed to True in a future version of pandas. Pass observed=False to retain current behavior or observed=True to adopt the future default and silence this warning.\n",
            "  contingency_real = real.groupby(list(columns), dropna=False).size() / len(real)\n",
            "/usr/local/lib/python3.10/dist-packages/sdmetrics/column_pairs/statistical/contingency_similarity.py:44: FutureWarning: The default of observed=False is deprecated and will be changed to True in a future version of pandas. Pass observed=False to retain current behavior or observed=True to adopt the future default and silence this warning.\n",
            "  contingency_synthetic = synthetic.groupby(list(columns), dropna=False).size() / len(\n"
          ]
        },
        {
          "name": "stdout",
          "output_type": "stream",
          "text": [
            "(2/2) Evaluating Column Pair Trends: |█████▎    | 1223/2278 [00:34<00:29, 36.06it/s]|"
          ]
        },
        {
          "name": "stderr",
          "output_type": "stream",
          "text": [
            "/usr/local/lib/python3.10/dist-packages/sdmetrics/column_pairs/statistical/contingency_similarity.py:43: FutureWarning: The default of observed=False is deprecated and will be changed to True in a future version of pandas. Pass observed=False to retain current behavior or observed=True to adopt the future default and silence this warning.\n",
            "  contingency_real = real.groupby(list(columns), dropna=False).size() / len(real)\n",
            "/usr/local/lib/python3.10/dist-packages/sdmetrics/column_pairs/statistical/contingency_similarity.py:44: FutureWarning: The default of observed=False is deprecated and will be changed to True in a future version of pandas. Pass observed=False to retain current behavior or observed=True to adopt the future default and silence this warning.\n",
            "  contingency_synthetic = synthetic.groupby(list(columns), dropna=False).size() / len(\n",
            "/usr/local/lib/python3.10/dist-packages/pandas/core/dtypes/cast.py:976: RuntimeWarning: invalid value encountered in cast\n",
            "  return ensure_int8(indexer)\n",
            "/usr/local/lib/python3.10/dist-packages/sdmetrics/column_pairs/statistical/contingency_similarity.py:43: FutureWarning: The default of observed=False is deprecated and will be changed to True in a future version of pandas. Pass observed=False to retain current behavior or observed=True to adopt the future default and silence this warning.\n",
            "  contingency_real = real.groupby(list(columns), dropna=False).size() / len(real)\n",
            "/usr/local/lib/python3.10/dist-packages/sdmetrics/column_pairs/statistical/contingency_similarity.py:44: FutureWarning: The default of observed=False is deprecated and will be changed to True in a future version of pandas. Pass observed=False to retain current behavior or observed=True to adopt the future default and silence this warning.\n",
            "  contingency_synthetic = synthetic.groupby(list(columns), dropna=False).size() / len(\n"
          ]
        },
        {
          "name": "stdout",
          "output_type": "stream",
          "text": [
            "(2/2) Evaluating Column Pair Trends: |█████▌    | 1271/2278 [00:36<00:30, 33.09it/s]|"
          ]
        },
        {
          "name": "stderr",
          "output_type": "stream",
          "text": [
            "/usr/local/lib/python3.10/dist-packages/sdmetrics/column_pairs/statistical/contingency_similarity.py:43: FutureWarning: The default of observed=False is deprecated and will be changed to True in a future version of pandas. Pass observed=False to retain current behavior or observed=True to adopt the future default and silence this warning.\n",
            "  contingency_real = real.groupby(list(columns), dropna=False).size() / len(real)\n",
            "/usr/local/lib/python3.10/dist-packages/sdmetrics/column_pairs/statistical/contingency_similarity.py:44: FutureWarning: The default of observed=False is deprecated and will be changed to True in a future version of pandas. Pass observed=False to retain current behavior or observed=True to adopt the future default and silence this warning.\n",
            "  contingency_synthetic = synthetic.groupby(list(columns), dropna=False).size() / len(\n",
            "/usr/local/lib/python3.10/dist-packages/pandas/core/dtypes/cast.py:976: RuntimeWarning: invalid value encountered in cast\n",
            "  return ensure_int8(indexer)\n",
            "/usr/local/lib/python3.10/dist-packages/sdmetrics/column_pairs/statistical/contingency_similarity.py:43: FutureWarning: The default of observed=False is deprecated and will be changed to True in a future version of pandas. Pass observed=False to retain current behavior or observed=True to adopt the future default and silence this warning.\n",
            "  contingency_real = real.groupby(list(columns), dropna=False).size() / len(real)\n",
            "/usr/local/lib/python3.10/dist-packages/sdmetrics/column_pairs/statistical/contingency_similarity.py:44: FutureWarning: The default of observed=False is deprecated and will be changed to True in a future version of pandas. Pass observed=False to retain current behavior or observed=True to adopt the future default and silence this warning.\n",
            "  contingency_synthetic = synthetic.groupby(list(columns), dropna=False).size() / len(\n"
          ]
        },
        {
          "name": "stdout",
          "output_type": "stream",
          "text": [
            "(2/2) Evaluating Column Pair Trends: |█████▊    | 1313/2278 [00:37<00:29, 33.01it/s]|"
          ]
        },
        {
          "name": "stderr",
          "output_type": "stream",
          "text": [
            "/usr/local/lib/python3.10/dist-packages/sdmetrics/column_pairs/statistical/contingency_similarity.py:43: FutureWarning: The default of observed=False is deprecated and will be changed to True in a future version of pandas. Pass observed=False to retain current behavior or observed=True to adopt the future default and silence this warning.\n",
            "  contingency_real = real.groupby(list(columns), dropna=False).size() / len(real)\n",
            "/usr/local/lib/python3.10/dist-packages/sdmetrics/column_pairs/statistical/contingency_similarity.py:44: FutureWarning: The default of observed=False is deprecated and will be changed to True in a future version of pandas. Pass observed=False to retain current behavior or observed=True to adopt the future default and silence this warning.\n",
            "  contingency_synthetic = synthetic.groupby(list(columns), dropna=False).size() / len(\n",
            "/usr/local/lib/python3.10/dist-packages/sdmetrics/column_pairs/statistical/contingency_similarity.py:43: FutureWarning: The default of observed=False is deprecated and will be changed to True in a future version of pandas. Pass observed=False to retain current behavior or observed=True to adopt the future default and silence this warning.\n",
            "  contingency_real = real.groupby(list(columns), dropna=False).size() / len(real)\n",
            "/usr/local/lib/python3.10/dist-packages/sdmetrics/column_pairs/statistical/contingency_similarity.py:44: FutureWarning: The default of observed=False is deprecated and will be changed to True in a future version of pandas. Pass observed=False to retain current behavior or observed=True to adopt the future default and silence this warning.\n",
            "  contingency_synthetic = synthetic.groupby(list(columns), dropna=False).size() / len(\n"
          ]
        },
        {
          "name": "stdout",
          "output_type": "stream",
          "text": [
            "(2/2) Evaluating Column Pair Trends: |█████▉    | 1357/2278 [00:39<00:24, 37.53it/s]|"
          ]
        },
        {
          "name": "stderr",
          "output_type": "stream",
          "text": [
            "/usr/local/lib/python3.10/dist-packages/sdmetrics/column_pairs/statistical/contingency_similarity.py:43: FutureWarning: The default of observed=False is deprecated and will be changed to True in a future version of pandas. Pass observed=False to retain current behavior or observed=True to adopt the future default and silence this warning.\n",
            "  contingency_real = real.groupby(list(columns), dropna=False).size() / len(real)\n",
            "/usr/local/lib/python3.10/dist-packages/sdmetrics/column_pairs/statistical/contingency_similarity.py:44: FutureWarning: The default of observed=False is deprecated and will be changed to True in a future version of pandas. Pass observed=False to retain current behavior or observed=True to adopt the future default and silence this warning.\n",
            "  contingency_synthetic = synthetic.groupby(list(columns), dropna=False).size() / len(\n",
            "/usr/local/lib/python3.10/dist-packages/sdmetrics/column_pairs/statistical/contingency_similarity.py:43: FutureWarning: The default of observed=False is deprecated and will be changed to True in a future version of pandas. Pass observed=False to retain current behavior or observed=True to adopt the future default and silence this warning.\n",
            "  contingency_real = real.groupby(list(columns), dropna=False).size() / len(real)\n",
            "/usr/local/lib/python3.10/dist-packages/sdmetrics/column_pairs/statistical/contingency_similarity.py:44: FutureWarning: The default of observed=False is deprecated and will be changed to True in a future version of pandas. Pass observed=False to retain current behavior or observed=True to adopt the future default and silence this warning.\n",
            "  contingency_synthetic = synthetic.groupby(list(columns), dropna=False).size() / len(\n"
          ]
        },
        {
          "name": "stdout",
          "output_type": "stream",
          "text": [
            "(2/2) Evaluating Column Pair Trends: |██████▏   | 1397/2278 [00:40<00:25, 33.94it/s]|"
          ]
        },
        {
          "name": "stderr",
          "output_type": "stream",
          "text": [
            "/usr/local/lib/python3.10/dist-packages/sdmetrics/column_pairs/statistical/contingency_similarity.py:43: FutureWarning: The default of observed=False is deprecated and will be changed to True in a future version of pandas. Pass observed=False to retain current behavior or observed=True to adopt the future default and silence this warning.\n",
            "  contingency_real = real.groupby(list(columns), dropna=False).size() / len(real)\n",
            "/usr/local/lib/python3.10/dist-packages/sdmetrics/column_pairs/statistical/contingency_similarity.py:44: FutureWarning: The default of observed=False is deprecated and will be changed to True in a future version of pandas. Pass observed=False to retain current behavior or observed=True to adopt the future default and silence this warning.\n",
            "  contingency_synthetic = synthetic.groupby(list(columns), dropna=False).size() / len(\n",
            "/usr/local/lib/python3.10/dist-packages/sdmetrics/column_pairs/statistical/contingency_similarity.py:43: FutureWarning: The default of observed=False is deprecated and will be changed to True in a future version of pandas. Pass observed=False to retain current behavior or observed=True to adopt the future default and silence this warning.\n",
            "  contingency_real = real.groupby(list(columns), dropna=False).size() / len(real)\n",
            "/usr/local/lib/python3.10/dist-packages/sdmetrics/column_pairs/statistical/contingency_similarity.py:44: FutureWarning: The default of observed=False is deprecated and will be changed to True in a future version of pandas. Pass observed=False to retain current behavior or observed=True to adopt the future default and silence this warning.\n",
            "  contingency_synthetic = synthetic.groupby(list(columns), dropna=False).size() / len(\n"
          ]
        },
        {
          "name": "stdout",
          "output_type": "stream",
          "text": [
            "(2/2) Evaluating Column Pair Trends: |██████▎   | 1441/2278 [00:41<00:21, 39.07it/s]|"
          ]
        },
        {
          "name": "stderr",
          "output_type": "stream",
          "text": [
            "/usr/local/lib/python3.10/dist-packages/sdmetrics/column_pairs/statistical/contingency_similarity.py:43: FutureWarning: The default of observed=False is deprecated and will be changed to True in a future version of pandas. Pass observed=False to retain current behavior or observed=True to adopt the future default and silence this warning.\n",
            "  contingency_real = real.groupby(list(columns), dropna=False).size() / len(real)\n",
            "/usr/local/lib/python3.10/dist-packages/sdmetrics/column_pairs/statistical/contingency_similarity.py:44: FutureWarning: The default of observed=False is deprecated and will be changed to True in a future version of pandas. Pass observed=False to retain current behavior or observed=True to adopt the future default and silence this warning.\n",
            "  contingency_synthetic = synthetic.groupby(list(columns), dropna=False).size() / len(\n",
            "/usr/local/lib/python3.10/dist-packages/sdmetrics/column_pairs/statistical/contingency_similarity.py:43: FutureWarning: The default of observed=False is deprecated and will be changed to True in a future version of pandas. Pass observed=False to retain current behavior or observed=True to adopt the future default and silence this warning.\n",
            "  contingency_real = real.groupby(list(columns), dropna=False).size() / len(real)\n",
            "/usr/local/lib/python3.10/dist-packages/sdmetrics/column_pairs/statistical/contingency_similarity.py:44: FutureWarning: The default of observed=False is deprecated and will be changed to True in a future version of pandas. Pass observed=False to retain current behavior or observed=True to adopt the future default and silence this warning.\n",
            "  contingency_synthetic = synthetic.groupby(list(columns), dropna=False).size() / len(\n"
          ]
        },
        {
          "name": "stdout",
          "output_type": "stream",
          "text": [
            "(2/2) Evaluating Column Pair Trends: |██████▌   | 1482/2278 [00:42<00:20, 39.57it/s]|"
          ]
        },
        {
          "name": "stderr",
          "output_type": "stream",
          "text": [
            "/usr/local/lib/python3.10/dist-packages/sdmetrics/column_pairs/statistical/contingency_similarity.py:43: FutureWarning: The default of observed=False is deprecated and will be changed to True in a future version of pandas. Pass observed=False to retain current behavior or observed=True to adopt the future default and silence this warning.\n",
            "  contingency_real = real.groupby(list(columns), dropna=False).size() / len(real)\n",
            "/usr/local/lib/python3.10/dist-packages/sdmetrics/column_pairs/statistical/contingency_similarity.py:44: FutureWarning: The default of observed=False is deprecated and will be changed to True in a future version of pandas. Pass observed=False to retain current behavior or observed=True to adopt the future default and silence this warning.\n",
            "  contingency_synthetic = synthetic.groupby(list(columns), dropna=False).size() / len(\n",
            "/usr/local/lib/python3.10/dist-packages/sdmetrics/column_pairs/statistical/contingency_similarity.py:43: FutureWarning: The default of observed=False is deprecated and will be changed to True in a future version of pandas. Pass observed=False to retain current behavior or observed=True to adopt the future default and silence this warning.\n",
            "  contingency_real = real.groupby(list(columns), dropna=False).size() / len(real)\n",
            "/usr/local/lib/python3.10/dist-packages/sdmetrics/column_pairs/statistical/contingency_similarity.py:44: FutureWarning: The default of observed=False is deprecated and will be changed to True in a future version of pandas. Pass observed=False to retain current behavior or observed=True to adopt the future default and silence this warning.\n",
            "  contingency_synthetic = synthetic.groupby(list(columns), dropna=False).size() / len(\n"
          ]
        },
        {
          "name": "stdout",
          "output_type": "stream",
          "text": [
            "(2/2) Evaluating Column Pair Trends: |██████▋   | 1524/2278 [00:43<00:16, 44.50it/s]|"
          ]
        },
        {
          "name": "stderr",
          "output_type": "stream",
          "text": [
            "/usr/local/lib/python3.10/dist-packages/sdmetrics/column_pairs/statistical/contingency_similarity.py:43: FutureWarning: The default of observed=False is deprecated and will be changed to True in a future version of pandas. Pass observed=False to retain current behavior or observed=True to adopt the future default and silence this warning.\n",
            "  contingency_real = real.groupby(list(columns), dropna=False).size() / len(real)\n",
            "/usr/local/lib/python3.10/dist-packages/sdmetrics/column_pairs/statistical/contingency_similarity.py:44: FutureWarning: The default of observed=False is deprecated and will be changed to True in a future version of pandas. Pass observed=False to retain current behavior or observed=True to adopt the future default and silence this warning.\n",
            "  contingency_synthetic = synthetic.groupby(list(columns), dropna=False).size() / len(\n",
            "/usr/local/lib/python3.10/dist-packages/sdmetrics/column_pairs/statistical/contingency_similarity.py:43: FutureWarning: The default of observed=False is deprecated and will be changed to True in a future version of pandas. Pass observed=False to retain current behavior or observed=True to adopt the future default and silence this warning.\n",
            "  contingency_real = real.groupby(list(columns), dropna=False).size() / len(real)\n",
            "/usr/local/lib/python3.10/dist-packages/sdmetrics/column_pairs/statistical/contingency_similarity.py:44: FutureWarning: The default of observed=False is deprecated and will be changed to True in a future version of pandas. Pass observed=False to retain current behavior or observed=True to adopt the future default and silence this warning.\n",
            "  contingency_synthetic = synthetic.groupby(list(columns), dropna=False).size() / len(\n"
          ]
        },
        {
          "name": "stdout",
          "output_type": "stream",
          "text": [
            "(2/2) Evaluating Column Pair Trends: |██████▊   | 1561/2278 [00:44<00:14, 49.27it/s]|"
          ]
        },
        {
          "name": "stderr",
          "output_type": "stream",
          "text": [
            "/usr/local/lib/python3.10/dist-packages/sdmetrics/column_pairs/statistical/contingency_similarity.py:43: FutureWarning: The default of observed=False is deprecated and will be changed to True in a future version of pandas. Pass observed=False to retain current behavior or observed=True to adopt the future default and silence this warning.\n",
            "  contingency_real = real.groupby(list(columns), dropna=False).size() / len(real)\n",
            "/usr/local/lib/python3.10/dist-packages/sdmetrics/column_pairs/statistical/contingency_similarity.py:44: FutureWarning: The default of observed=False is deprecated and will be changed to True in a future version of pandas. Pass observed=False to retain current behavior or observed=True to adopt the future default and silence this warning.\n",
            "  contingency_synthetic = synthetic.groupby(list(columns), dropna=False).size() / len(\n",
            "/usr/local/lib/python3.10/dist-packages/sdmetrics/column_pairs/statistical/contingency_similarity.py:43: FutureWarning: The default of observed=False is deprecated and will be changed to True in a future version of pandas. Pass observed=False to retain current behavior or observed=True to adopt the future default and silence this warning.\n",
            "  contingency_real = real.groupby(list(columns), dropna=False).size() / len(real)\n",
            "/usr/local/lib/python3.10/dist-packages/sdmetrics/column_pairs/statistical/contingency_similarity.py:44: FutureWarning: The default of observed=False is deprecated and will be changed to True in a future version of pandas. Pass observed=False to retain current behavior or observed=True to adopt the future default and silence this warning.\n",
            "  contingency_synthetic = synthetic.groupby(list(columns), dropna=False).size() / len(\n"
          ]
        },
        {
          "name": "stdout",
          "output_type": "stream",
          "text": [
            "(2/2) Evaluating Column Pair Trends: |███████   | 1598/2278 [00:45<00:13, 50.43it/s]|"
          ]
        },
        {
          "name": "stderr",
          "output_type": "stream",
          "text": [
            "/usr/local/lib/python3.10/dist-packages/sdmetrics/column_pairs/statistical/contingency_similarity.py:43: FutureWarning: The default of observed=False is deprecated and will be changed to True in a future version of pandas. Pass observed=False to retain current behavior or observed=True to adopt the future default and silence this warning.\n",
            "  contingency_real = real.groupby(list(columns), dropna=False).size() / len(real)\n",
            "/usr/local/lib/python3.10/dist-packages/sdmetrics/column_pairs/statistical/contingency_similarity.py:44: FutureWarning: The default of observed=False is deprecated and will be changed to True in a future version of pandas. Pass observed=False to retain current behavior or observed=True to adopt the future default and silence this warning.\n",
            "  contingency_synthetic = synthetic.groupby(list(columns), dropna=False).size() / len(\n",
            "/usr/local/lib/python3.10/dist-packages/sdmetrics/column_pairs/statistical/contingency_similarity.py:43: FutureWarning: The default of observed=False is deprecated and will be changed to True in a future version of pandas. Pass observed=False to retain current behavior or observed=True to adopt the future default and silence this warning.\n",
            "  contingency_real = real.groupby(list(columns), dropna=False).size() / len(real)\n",
            "/usr/local/lib/python3.10/dist-packages/sdmetrics/column_pairs/statistical/contingency_similarity.py:44: FutureWarning: The default of observed=False is deprecated and will be changed to True in a future version of pandas. Pass observed=False to retain current behavior or observed=True to adopt the future default and silence this warning.\n",
            "  contingency_synthetic = synthetic.groupby(list(columns), dropna=False).size() / len(\n"
          ]
        },
        {
          "name": "stdout",
          "output_type": "stream",
          "text": [
            "(2/2) Evaluating Column Pair Trends: |███████▏  | 1635/2278 [00:45<00:12, 49.68it/s]|"
          ]
        },
        {
          "name": "stderr",
          "output_type": "stream",
          "text": [
            "/usr/local/lib/python3.10/dist-packages/sdmetrics/column_pairs/statistical/contingency_similarity.py:43: FutureWarning: The default of observed=False is deprecated and will be changed to True in a future version of pandas. Pass observed=False to retain current behavior or observed=True to adopt the future default and silence this warning.\n",
            "  contingency_real = real.groupby(list(columns), dropna=False).size() / len(real)\n",
            "/usr/local/lib/python3.10/dist-packages/sdmetrics/column_pairs/statistical/contingency_similarity.py:44: FutureWarning: The default of observed=False is deprecated and will be changed to True in a future version of pandas. Pass observed=False to retain current behavior or observed=True to adopt the future default and silence this warning.\n",
            "  contingency_synthetic = synthetic.groupby(list(columns), dropna=False).size() / len(\n",
            "/usr/local/lib/python3.10/dist-packages/sdmetrics/column_pairs/statistical/contingency_similarity.py:43: FutureWarning: The default of observed=False is deprecated and will be changed to True in a future version of pandas. Pass observed=False to retain current behavior or observed=True to adopt the future default and silence this warning.\n",
            "  contingency_real = real.groupby(list(columns), dropna=False).size() / len(real)\n",
            "/usr/local/lib/python3.10/dist-packages/sdmetrics/column_pairs/statistical/contingency_similarity.py:44: FutureWarning: The default of observed=False is deprecated and will be changed to True in a future version of pandas. Pass observed=False to retain current behavior or observed=True to adopt the future default and silence this warning.\n",
            "  contingency_synthetic = synthetic.groupby(list(columns), dropna=False).size() / len(\n"
          ]
        },
        {
          "name": "stdout",
          "output_type": "stream",
          "text": [
            "(2/2) Evaluating Column Pair Trends: |███████▎  | 1666/2278 [00:46<00:12, 48.89it/s]|"
          ]
        },
        {
          "name": "stderr",
          "output_type": "stream",
          "text": [
            "/usr/local/lib/python3.10/dist-packages/sdmetrics/column_pairs/statistical/contingency_similarity.py:43: FutureWarning: The default of observed=False is deprecated and will be changed to True in a future version of pandas. Pass observed=False to retain current behavior or observed=True to adopt the future default and silence this warning.\n",
            "  contingency_real = real.groupby(list(columns), dropna=False).size() / len(real)\n",
            "/usr/local/lib/python3.10/dist-packages/sdmetrics/column_pairs/statistical/contingency_similarity.py:44: FutureWarning: The default of observed=False is deprecated and will be changed to True in a future version of pandas. Pass observed=False to retain current behavior or observed=True to adopt the future default and silence this warning.\n",
            "  contingency_synthetic = synthetic.groupby(list(columns), dropna=False).size() / len(\n",
            "/usr/local/lib/python3.10/dist-packages/sdmetrics/column_pairs/statistical/contingency_similarity.py:43: FutureWarning: The default of observed=False is deprecated and will be changed to True in a future version of pandas. Pass observed=False to retain current behavior or observed=True to adopt the future default and silence this warning.\n",
            "  contingency_real = real.groupby(list(columns), dropna=False).size() / len(real)\n",
            "/usr/local/lib/python3.10/dist-packages/sdmetrics/column_pairs/statistical/contingency_similarity.py:44: FutureWarning: The default of observed=False is deprecated and will be changed to True in a future version of pandas. Pass observed=False to retain current behavior or observed=True to adopt the future default and silence this warning.\n",
            "  contingency_synthetic = synthetic.groupby(list(columns), dropna=False).size() / len(\n"
          ]
        },
        {
          "name": "stdout",
          "output_type": "stream",
          "text": [
            "(2/2) Evaluating Column Pair Trends: |███████▍  | 1703/2278 [00:47<00:11, 49.57it/s]|"
          ]
        },
        {
          "name": "stderr",
          "output_type": "stream",
          "text": [
            "/usr/local/lib/python3.10/dist-packages/sdmetrics/column_pairs/statistical/contingency_similarity.py:43: FutureWarning: The default of observed=False is deprecated and will be changed to True in a future version of pandas. Pass observed=False to retain current behavior or observed=True to adopt the future default and silence this warning.\n",
            "  contingency_real = real.groupby(list(columns), dropna=False).size() / len(real)\n",
            "/usr/local/lib/python3.10/dist-packages/sdmetrics/column_pairs/statistical/contingency_similarity.py:44: FutureWarning: The default of observed=False is deprecated and will be changed to True in a future version of pandas. Pass observed=False to retain current behavior or observed=True to adopt the future default and silence this warning.\n",
            "  contingency_synthetic = synthetic.groupby(list(columns), dropna=False).size() / len(\n",
            "/usr/local/lib/python3.10/dist-packages/sdmetrics/column_pairs/statistical/contingency_similarity.py:43: FutureWarning: The default of observed=False is deprecated and will be changed to True in a future version of pandas. Pass observed=False to retain current behavior or observed=True to adopt the future default and silence this warning.\n",
            "  contingency_real = real.groupby(list(columns), dropna=False).size() / len(real)\n",
            "/usr/local/lib/python3.10/dist-packages/sdmetrics/column_pairs/statistical/contingency_similarity.py:44: FutureWarning: The default of observed=False is deprecated and will be changed to True in a future version of pandas. Pass observed=False to retain current behavior or observed=True to adopt the future default and silence this warning.\n",
            "  contingency_synthetic = synthetic.groupby(list(columns), dropna=False).size() / len(\n"
          ]
        },
        {
          "name": "stdout",
          "output_type": "stream",
          "text": [
            "(2/2) Evaluating Column Pair Trends: |███████▌  | 1732/2278 [00:47<00:11, 47.13it/s]|"
          ]
        },
        {
          "name": "stderr",
          "output_type": "stream",
          "text": [
            "/usr/local/lib/python3.10/dist-packages/sdmetrics/column_pairs/statistical/contingency_similarity.py:43: FutureWarning: The default of observed=False is deprecated and will be changed to True in a future version of pandas. Pass observed=False to retain current behavior or observed=True to adopt the future default and silence this warning.\n",
            "  contingency_real = real.groupby(list(columns), dropna=False).size() / len(real)\n",
            "/usr/local/lib/python3.10/dist-packages/sdmetrics/column_pairs/statistical/contingency_similarity.py:44: FutureWarning: The default of observed=False is deprecated and will be changed to True in a future version of pandas. Pass observed=False to retain current behavior or observed=True to adopt the future default and silence this warning.\n",
            "  contingency_synthetic = synthetic.groupby(list(columns), dropna=False).size() / len(\n",
            "/usr/local/lib/python3.10/dist-packages/sdmetrics/column_pairs/statistical/contingency_similarity.py:43: FutureWarning: The default of observed=False is deprecated and will be changed to True in a future version of pandas. Pass observed=False to retain current behavior or observed=True to adopt the future default and silence this warning.\n",
            "  contingency_real = real.groupby(list(columns), dropna=False).size() / len(real)\n",
            "/usr/local/lib/python3.10/dist-packages/sdmetrics/column_pairs/statistical/contingency_similarity.py:44: FutureWarning: The default of observed=False is deprecated and will be changed to True in a future version of pandas. Pass observed=False to retain current behavior or observed=True to adopt the future default and silence this warning.\n",
            "  contingency_synthetic = synthetic.groupby(list(columns), dropna=False).size() / len(\n"
          ]
        },
        {
          "name": "stdout",
          "output_type": "stream",
          "text": [
            "(2/2) Evaluating Column Pair Trends: |███████▊  | 1768/2278 [00:48<00:10, 48.04it/s]|"
          ]
        },
        {
          "name": "stderr",
          "output_type": "stream",
          "text": [
            "/usr/local/lib/python3.10/dist-packages/sdmetrics/column_pairs/statistical/contingency_similarity.py:43: FutureWarning: The default of observed=False is deprecated and will be changed to True in a future version of pandas. Pass observed=False to retain current behavior or observed=True to adopt the future default and silence this warning.\n",
            "  contingency_real = real.groupby(list(columns), dropna=False).size() / len(real)\n",
            "/usr/local/lib/python3.10/dist-packages/sdmetrics/column_pairs/statistical/contingency_similarity.py:44: FutureWarning: The default of observed=False is deprecated and will be changed to True in a future version of pandas. Pass observed=False to retain current behavior or observed=True to adopt the future default and silence this warning.\n",
            "  contingency_synthetic = synthetic.groupby(list(columns), dropna=False).size() / len(\n",
            "/usr/local/lib/python3.10/dist-packages/sdmetrics/column_pairs/statistical/contingency_similarity.py:43: FutureWarning: The default of observed=False is deprecated and will be changed to True in a future version of pandas. Pass observed=False to retain current behavior or observed=True to adopt the future default and silence this warning.\n",
            "  contingency_real = real.groupby(list(columns), dropna=False).size() / len(real)\n",
            "/usr/local/lib/python3.10/dist-packages/sdmetrics/column_pairs/statistical/contingency_similarity.py:44: FutureWarning: The default of observed=False is deprecated and will be changed to True in a future version of pandas. Pass observed=False to retain current behavior or observed=True to adopt the future default and silence this warning.\n",
            "  contingency_synthetic = synthetic.groupby(list(columns), dropna=False).size() / len(\n"
          ]
        },
        {
          "name": "stdout",
          "output_type": "stream",
          "text": [
            "(2/2) Evaluating Column Pair Trends: |███████▉  | 1797/2278 [00:49<00:13, 35.66it/s]|"
          ]
        },
        {
          "name": "stderr",
          "output_type": "stream",
          "text": [
            "/usr/local/lib/python3.10/dist-packages/sdmetrics/column_pairs/statistical/contingency_similarity.py:43: FutureWarning: The default of observed=False is deprecated and will be changed to True in a future version of pandas. Pass observed=False to retain current behavior or observed=True to adopt the future default and silence this warning.\n",
            "  contingency_real = real.groupby(list(columns), dropna=False).size() / len(real)\n",
            "/usr/local/lib/python3.10/dist-packages/sdmetrics/column_pairs/statistical/contingency_similarity.py:44: FutureWarning: The default of observed=False is deprecated and will be changed to True in a future version of pandas. Pass observed=False to retain current behavior or observed=True to adopt the future default and silence this warning.\n",
            "  contingency_synthetic = synthetic.groupby(list(columns), dropna=False).size() / len(\n",
            "/usr/local/lib/python3.10/dist-packages/sdmetrics/column_pairs/statistical/contingency_similarity.py:43: FutureWarning: The default of observed=False is deprecated and will be changed to True in a future version of pandas. Pass observed=False to retain current behavior or observed=True to adopt the future default and silence this warning.\n",
            "  contingency_real = real.groupby(list(columns), dropna=False).size() / len(real)\n",
            "/usr/local/lib/python3.10/dist-packages/sdmetrics/column_pairs/statistical/contingency_similarity.py:44: FutureWarning: The default of observed=False is deprecated and will be changed to True in a future version of pandas. Pass observed=False to retain current behavior or observed=True to adopt the future default and silence this warning.\n",
            "  contingency_synthetic = synthetic.groupby(list(columns), dropna=False).size() / len(\n"
          ]
        },
        {
          "name": "stdout",
          "output_type": "stream",
          "text": [
            "(2/2) Evaluating Column Pair Trends: |████████  | 1826/2278 [00:50<00:10, 42.49it/s]|"
          ]
        },
        {
          "name": "stderr",
          "output_type": "stream",
          "text": [
            "/usr/local/lib/python3.10/dist-packages/sdmetrics/column_pairs/statistical/contingency_similarity.py:43: FutureWarning: The default of observed=False is deprecated and will be changed to True in a future version of pandas. Pass observed=False to retain current behavior or observed=True to adopt the future default and silence this warning.\n",
            "  contingency_real = real.groupby(list(columns), dropna=False).size() / len(real)\n",
            "/usr/local/lib/python3.10/dist-packages/sdmetrics/column_pairs/statistical/contingency_similarity.py:44: FutureWarning: The default of observed=False is deprecated and will be changed to True in a future version of pandas. Pass observed=False to retain current behavior or observed=True to adopt the future default and silence this warning.\n",
            "  contingency_synthetic = synthetic.groupby(list(columns), dropna=False).size() / len(\n",
            "/usr/local/lib/python3.10/dist-packages/sdmetrics/column_pairs/statistical/contingency_similarity.py:43: FutureWarning: The default of observed=False is deprecated and will be changed to True in a future version of pandas. Pass observed=False to retain current behavior or observed=True to adopt the future default and silence this warning.\n",
            "  contingency_real = real.groupby(list(columns), dropna=False).size() / len(real)\n",
            "/usr/local/lib/python3.10/dist-packages/sdmetrics/column_pairs/statistical/contingency_similarity.py:44: FutureWarning: The default of observed=False is deprecated and will be changed to True in a future version of pandas. Pass observed=False to retain current behavior or observed=True to adopt the future default and silence this warning.\n",
            "  contingency_synthetic = synthetic.groupby(list(columns), dropna=False).size() / len(\n"
          ]
        },
        {
          "name": "stdout",
          "output_type": "stream",
          "text": [
            "(2/2) Evaluating Column Pair Trends: |████████▏ | 1855/2278 [00:50<00:09, 43.76it/s]|"
          ]
        },
        {
          "name": "stderr",
          "output_type": "stream",
          "text": [
            "/usr/local/lib/python3.10/dist-packages/sdmetrics/column_pairs/statistical/contingency_similarity.py:43: FutureWarning: The default of observed=False is deprecated and will be changed to True in a future version of pandas. Pass observed=False to retain current behavior or observed=True to adopt the future default and silence this warning.\n",
            "  contingency_real = real.groupby(list(columns), dropna=False).size() / len(real)\n",
            "/usr/local/lib/python3.10/dist-packages/sdmetrics/column_pairs/statistical/contingency_similarity.py:44: FutureWarning: The default of observed=False is deprecated and will be changed to True in a future version of pandas. Pass observed=False to retain current behavior or observed=True to adopt the future default and silence this warning.\n",
            "  contingency_synthetic = synthetic.groupby(list(columns), dropna=False).size() / len(\n",
            "/usr/local/lib/python3.10/dist-packages/sdmetrics/column_pairs/statistical/contingency_similarity.py:43: FutureWarning: The default of observed=False is deprecated and will be changed to True in a future version of pandas. Pass observed=False to retain current behavior or observed=True to adopt the future default and silence this warning.\n",
            "  contingency_real = real.groupby(list(columns), dropna=False).size() / len(real)\n",
            "/usr/local/lib/python3.10/dist-packages/sdmetrics/column_pairs/statistical/contingency_similarity.py:44: FutureWarning: The default of observed=False is deprecated and will be changed to True in a future version of pandas. Pass observed=False to retain current behavior or observed=True to adopt the future default and silence this warning.\n",
            "  contingency_synthetic = synthetic.groupby(list(columns), dropna=False).size() / len(\n"
          ]
        },
        {
          "name": "stdout",
          "output_type": "stream",
          "text": [
            "(2/2) Evaluating Column Pair Trends: |████████▎ | 1885/2278 [00:51<00:09, 41.11it/s]|"
          ]
        },
        {
          "name": "stderr",
          "output_type": "stream",
          "text": [
            "/usr/local/lib/python3.10/dist-packages/sdmetrics/column_pairs/statistical/contingency_similarity.py:43: FutureWarning: The default of observed=False is deprecated and will be changed to True in a future version of pandas. Pass observed=False to retain current behavior or observed=True to adopt the future default and silence this warning.\n",
            "  contingency_real = real.groupby(list(columns), dropna=False).size() / len(real)\n",
            "/usr/local/lib/python3.10/dist-packages/sdmetrics/column_pairs/statistical/contingency_similarity.py:44: FutureWarning: The default of observed=False is deprecated and will be changed to True in a future version of pandas. Pass observed=False to retain current behavior or observed=True to adopt the future default and silence this warning.\n",
            "  contingency_synthetic = synthetic.groupby(list(columns), dropna=False).size() / len(\n",
            "/usr/local/lib/python3.10/dist-packages/sdmetrics/column_pairs/statistical/contingency_similarity.py:43: FutureWarning: The default of observed=False is deprecated and will be changed to True in a future version of pandas. Pass observed=False to retain current behavior or observed=True to adopt the future default and silence this warning.\n",
            "  contingency_real = real.groupby(list(columns), dropna=False).size() / len(real)\n",
            "/usr/local/lib/python3.10/dist-packages/sdmetrics/column_pairs/statistical/contingency_similarity.py:44: FutureWarning: The default of observed=False is deprecated and will be changed to True in a future version of pandas. Pass observed=False to retain current behavior or observed=True to adopt the future default and silence this warning.\n",
            "  contingency_synthetic = synthetic.groupby(list(columns), dropna=False).size() / len(\n"
          ]
        },
        {
          "name": "stdout",
          "output_type": "stream",
          "text": [
            "(2/2) Evaluating Column Pair Trends: |████████▍ | 1910/2278 [00:52<00:08, 41.00it/s]|"
          ]
        },
        {
          "name": "stderr",
          "output_type": "stream",
          "text": [
            "/usr/local/lib/python3.10/dist-packages/sdmetrics/column_pairs/statistical/contingency_similarity.py:43: FutureWarning: The default of observed=False is deprecated and will be changed to True in a future version of pandas. Pass observed=False to retain current behavior or observed=True to adopt the future default and silence this warning.\n",
            "  contingency_real = real.groupby(list(columns), dropna=False).size() / len(real)\n",
            "/usr/local/lib/python3.10/dist-packages/sdmetrics/column_pairs/statistical/contingency_similarity.py:44: FutureWarning: The default of observed=False is deprecated and will be changed to True in a future version of pandas. Pass observed=False to retain current behavior or observed=True to adopt the future default and silence this warning.\n",
            "  contingency_synthetic = synthetic.groupby(list(columns), dropna=False).size() / len(\n",
            "/usr/local/lib/python3.10/dist-packages/sdmetrics/column_pairs/statistical/contingency_similarity.py:43: FutureWarning: The default of observed=False is deprecated and will be changed to True in a future version of pandas. Pass observed=False to retain current behavior or observed=True to adopt the future default and silence this warning.\n",
            "  contingency_real = real.groupby(list(columns), dropna=False).size() / len(real)\n",
            "/usr/local/lib/python3.10/dist-packages/sdmetrics/column_pairs/statistical/contingency_similarity.py:44: FutureWarning: The default of observed=False is deprecated and will be changed to True in a future version of pandas. Pass observed=False to retain current behavior or observed=True to adopt the future default and silence this warning.\n",
            "  contingency_synthetic = synthetic.groupby(list(columns), dropna=False).size() / len(\n"
          ]
        },
        {
          "name": "stdout",
          "output_type": "stream",
          "text": [
            "(2/2) Evaluating Column Pair Trends: |████████▍ | 1935/2278 [00:52<00:08, 41.44it/s]|"
          ]
        },
        {
          "name": "stderr",
          "output_type": "stream",
          "text": [
            "/usr/local/lib/python3.10/dist-packages/sdmetrics/column_pairs/statistical/contingency_similarity.py:43: FutureWarning: The default of observed=False is deprecated and will be changed to True in a future version of pandas. Pass observed=False to retain current behavior or observed=True to adopt the future default and silence this warning.\n",
            "  contingency_real = real.groupby(list(columns), dropna=False).size() / len(real)\n",
            "/usr/local/lib/python3.10/dist-packages/sdmetrics/column_pairs/statistical/contingency_similarity.py:44: FutureWarning: The default of observed=False is deprecated and will be changed to True in a future version of pandas. Pass observed=False to retain current behavior or observed=True to adopt the future default and silence this warning.\n",
            "  contingency_synthetic = synthetic.groupby(list(columns), dropna=False).size() / len(\n",
            "/usr/local/lib/python3.10/dist-packages/sdmetrics/column_pairs/statistical/contingency_similarity.py:43: FutureWarning: The default of observed=False is deprecated and will be changed to True in a future version of pandas. Pass observed=False to retain current behavior or observed=True to adopt the future default and silence this warning.\n",
            "  contingency_real = real.groupby(list(columns), dropna=False).size() / len(real)\n",
            "/usr/local/lib/python3.10/dist-packages/sdmetrics/column_pairs/statistical/contingency_similarity.py:44: FutureWarning: The default of observed=False is deprecated and will be changed to True in a future version of pandas. Pass observed=False to retain current behavior or observed=True to adopt the future default and silence this warning.\n",
            "  contingency_synthetic = synthetic.groupby(list(columns), dropna=False).size() / len(\n"
          ]
        },
        {
          "name": "stdout",
          "output_type": "stream",
          "text": [
            "(2/2) Evaluating Column Pair Trends: |████████▌ | 1961/2278 [00:53<00:07, 44.04it/s]|"
          ]
        },
        {
          "name": "stderr",
          "output_type": "stream",
          "text": [
            "/usr/local/lib/python3.10/dist-packages/sdmetrics/column_pairs/statistical/contingency_similarity.py:43: FutureWarning: The default of observed=False is deprecated and will be changed to True in a future version of pandas. Pass observed=False to retain current behavior or observed=True to adopt the future default and silence this warning.\n",
            "  contingency_real = real.groupby(list(columns), dropna=False).size() / len(real)\n",
            "/usr/local/lib/python3.10/dist-packages/sdmetrics/column_pairs/statistical/contingency_similarity.py:44: FutureWarning: The default of observed=False is deprecated and will be changed to True in a future version of pandas. Pass observed=False to retain current behavior or observed=True to adopt the future default and silence this warning.\n",
            "  contingency_synthetic = synthetic.groupby(list(columns), dropna=False).size() / len(\n",
            "/usr/local/lib/python3.10/dist-packages/sdmetrics/column_pairs/statistical/contingency_similarity.py:43: FutureWarning: The default of observed=False is deprecated and will be changed to True in a future version of pandas. Pass observed=False to retain current behavior or observed=True to adopt the future default and silence this warning.\n",
            "  contingency_real = real.groupby(list(columns), dropna=False).size() / len(real)\n",
            "/usr/local/lib/python3.10/dist-packages/sdmetrics/column_pairs/statistical/contingency_similarity.py:44: FutureWarning: The default of observed=False is deprecated and will be changed to True in a future version of pandas. Pass observed=False to retain current behavior or observed=True to adopt the future default and silence this warning.\n",
            "  contingency_synthetic = synthetic.groupby(list(columns), dropna=False).size() / len(\n"
          ]
        },
        {
          "name": "stdout",
          "output_type": "stream",
          "text": [
            "(2/2) Evaluating Column Pair Trends: |████████▋ | 1982/2278 [00:53<00:07, 39.95it/s]|"
          ]
        },
        {
          "name": "stderr",
          "output_type": "stream",
          "text": [
            "/usr/local/lib/python3.10/dist-packages/sdmetrics/column_pairs/statistical/contingency_similarity.py:43: FutureWarning: The default of observed=False is deprecated and will be changed to True in a future version of pandas. Pass observed=False to retain current behavior or observed=True to adopt the future default and silence this warning.\n",
            "  contingency_real = real.groupby(list(columns), dropna=False).size() / len(real)\n",
            "/usr/local/lib/python3.10/dist-packages/sdmetrics/column_pairs/statistical/contingency_similarity.py:44: FutureWarning: The default of observed=False is deprecated and will be changed to True in a future version of pandas. Pass observed=False to retain current behavior or observed=True to adopt the future default and silence this warning.\n",
            "  contingency_synthetic = synthetic.groupby(list(columns), dropna=False).size() / len(\n",
            "/usr/local/lib/python3.10/dist-packages/sdmetrics/column_pairs/statistical/contingency_similarity.py:43: FutureWarning: The default of observed=False is deprecated and will be changed to True in a future version of pandas. Pass observed=False to retain current behavior or observed=True to adopt the future default and silence this warning.\n",
            "  contingency_real = real.groupby(list(columns), dropna=False).size() / len(real)\n",
            "/usr/local/lib/python3.10/dist-packages/sdmetrics/column_pairs/statistical/contingency_similarity.py:44: FutureWarning: The default of observed=False is deprecated and will be changed to True in a future version of pandas. Pass observed=False to retain current behavior or observed=True to adopt the future default and silence this warning.\n",
            "  contingency_synthetic = synthetic.groupby(list(columns), dropna=False).size() / len(\n"
          ]
        },
        {
          "name": "stdout",
          "output_type": "stream",
          "text": [
            "(2/2) Evaluating Column Pair Trends: |████████▊ | 2005/2278 [00:54<00:11, 23.84it/s]|"
          ]
        },
        {
          "name": "stderr",
          "output_type": "stream",
          "text": [
            "/usr/local/lib/python3.10/dist-packages/sdmetrics/column_pairs/statistical/contingency_similarity.py:43: FutureWarning: The default of observed=False is deprecated and will be changed to True in a future version of pandas. Pass observed=False to retain current behavior or observed=True to adopt the future default and silence this warning.\n",
            "  contingency_real = real.groupby(list(columns), dropna=False).size() / len(real)\n",
            "/usr/local/lib/python3.10/dist-packages/sdmetrics/column_pairs/statistical/contingency_similarity.py:44: FutureWarning: The default of observed=False is deprecated and will be changed to True in a future version of pandas. Pass observed=False to retain current behavior or observed=True to adopt the future default and silence this warning.\n",
            "  contingency_synthetic = synthetic.groupby(list(columns), dropna=False).size() / len(\n",
            "/usr/local/lib/python3.10/dist-packages/sdmetrics/column_pairs/statistical/contingency_similarity.py:43: FutureWarning: The default of observed=False is deprecated and will be changed to True in a future version of pandas. Pass observed=False to retain current behavior or observed=True to adopt the future default and silence this warning.\n",
            "  contingency_real = real.groupby(list(columns), dropna=False).size() / len(real)\n",
            "/usr/local/lib/python3.10/dist-packages/sdmetrics/column_pairs/statistical/contingency_similarity.py:44: FutureWarning: The default of observed=False is deprecated and will be changed to True in a future version of pandas. Pass observed=False to retain current behavior or observed=True to adopt the future default and silence this warning.\n",
            "  contingency_synthetic = synthetic.groupby(list(columns), dropna=False).size() / len(\n"
          ]
        },
        {
          "name": "stdout",
          "output_type": "stream",
          "text": [
            "(2/2) Evaluating Column Pair Trends: |████████▉ | 2030/2278 [00:55<00:08, 28.16it/s]|"
          ]
        },
        {
          "name": "stderr",
          "output_type": "stream",
          "text": [
            "/usr/local/lib/python3.10/dist-packages/sdmetrics/column_pairs/statistical/contingency_similarity.py:43: FutureWarning: The default of observed=False is deprecated and will be changed to True in a future version of pandas. Pass observed=False to retain current behavior or observed=True to adopt the future default and silence this warning.\n",
            "  contingency_real = real.groupby(list(columns), dropna=False).size() / len(real)\n",
            "/usr/local/lib/python3.10/dist-packages/sdmetrics/column_pairs/statistical/contingency_similarity.py:44: FutureWarning: The default of observed=False is deprecated and will be changed to True in a future version of pandas. Pass observed=False to retain current behavior or observed=True to adopt the future default and silence this warning.\n",
            "  contingency_synthetic = synthetic.groupby(list(columns), dropna=False).size() / len(\n",
            "/usr/local/lib/python3.10/dist-packages/sdmetrics/column_pairs/statistical/contingency_similarity.py:43: FutureWarning: The default of observed=False is deprecated and will be changed to True in a future version of pandas. Pass observed=False to retain current behavior or observed=True to adopt the future default and silence this warning.\n",
            "  contingency_real = real.groupby(list(columns), dropna=False).size() / len(real)\n",
            "/usr/local/lib/python3.10/dist-packages/sdmetrics/column_pairs/statistical/contingency_similarity.py:44: FutureWarning: The default of observed=False is deprecated and will be changed to True in a future version of pandas. Pass observed=False to retain current behavior or observed=True to adopt the future default and silence this warning.\n",
            "  contingency_synthetic = synthetic.groupby(list(columns), dropna=False).size() / len(\n",
            "/usr/local/lib/python3.10/dist-packages/pandas/core/dtypes/cast.py:976: RuntimeWarning: invalid value encountered in cast\n",
            "  return ensure_int8(indexer)\n",
            "/usr/local/lib/python3.10/dist-packages/sdmetrics/column_pairs/statistical/contingency_similarity.py:43: FutureWarning: The default of observed=False is deprecated and will be changed to True in a future version of pandas. Pass observed=False to retain current behavior or observed=True to adopt the future default and silence this warning.\n",
            "  contingency_real = real.groupby(list(columns), dropna=False).size() / len(real)\n",
            "/usr/local/lib/python3.10/dist-packages/sdmetrics/column_pairs/statistical/contingency_similarity.py:44: FutureWarning: The default of observed=False is deprecated and will be changed to True in a future version of pandas. Pass observed=False to retain current behavior or observed=True to adopt the future default and silence this warning.\n",
            "  contingency_synthetic = synthetic.groupby(list(columns), dropna=False).size() / len(\n",
            "/usr/local/lib/python3.10/dist-packages/pandas/core/dtypes/cast.py:976: RuntimeWarning: invalid value encountered in cast\n",
            "  return ensure_int8(indexer)\n",
            "/usr/local/lib/python3.10/dist-packages/sdmetrics/column_pairs/statistical/contingency_similarity.py:43: FutureWarning: The default of observed=False is deprecated and will be changed to True in a future version of pandas. Pass observed=False to retain current behavior or observed=True to adopt the future default and silence this warning.\n",
            "  contingency_real = real.groupby(list(columns), dropna=False).size() / len(real)\n",
            "/usr/local/lib/python3.10/dist-packages/sdmetrics/column_pairs/statistical/contingency_similarity.py:44: FutureWarning: The default of observed=False is deprecated and will be changed to True in a future version of pandas. Pass observed=False to retain current behavior or observed=True to adopt the future default and silence this warning.\n",
            "  contingency_synthetic = synthetic.groupby(list(columns), dropna=False).size() / len(\n",
            "/usr/local/lib/python3.10/dist-packages/pandas/core/dtypes/cast.py:976: RuntimeWarning: invalid value encountered in cast\n",
            "  return ensure_int8(indexer)\n",
            "/usr/local/lib/python3.10/dist-packages/sdmetrics/column_pairs/statistical/contingency_similarity.py:43: FutureWarning: The default of observed=False is deprecated and will be changed to True in a future version of pandas. Pass observed=False to retain current behavior or observed=True to adopt the future default and silence this warning.\n",
            "  contingency_real = real.groupby(list(columns), dropna=False).size() / len(real)\n",
            "/usr/local/lib/python3.10/dist-packages/sdmetrics/column_pairs/statistical/contingency_similarity.py:44: FutureWarning: The default of observed=False is deprecated and will be changed to True in a future version of pandas. Pass observed=False to retain current behavior or observed=True to adopt the future default and silence this warning.\n",
            "  contingency_synthetic = synthetic.groupby(list(columns), dropna=False).size() / len(\n",
            "/usr/local/lib/python3.10/dist-packages/pandas/core/dtypes/cast.py:976: RuntimeWarning: invalid value encountered in cast\n",
            "  return ensure_int8(indexer)\n",
            "/usr/local/lib/python3.10/dist-packages/sdmetrics/column_pairs/statistical/contingency_similarity.py:43: FutureWarning: The default of observed=False is deprecated and will be changed to True in a future version of pandas. Pass observed=False to retain current behavior or observed=True to adopt the future default and silence this warning.\n",
            "  contingency_real = real.groupby(list(columns), dropna=False).size() / len(real)\n",
            "/usr/local/lib/python3.10/dist-packages/sdmetrics/column_pairs/statistical/contingency_similarity.py:44: FutureWarning: The default of observed=False is deprecated and will be changed to True in a future version of pandas. Pass observed=False to retain current behavior or observed=True to adopt the future default and silence this warning.\n",
            "  contingency_synthetic = synthetic.groupby(list(columns), dropna=False).size() / len(\n",
            "/usr/local/lib/python3.10/dist-packages/pandas/core/dtypes/cast.py:976: RuntimeWarning: invalid value encountered in cast\n",
            "  return ensure_int8(indexer)\n",
            "/usr/local/lib/python3.10/dist-packages/sdmetrics/column_pairs/statistical/contingency_similarity.py:43: FutureWarning: The default of observed=False is deprecated and will be changed to True in a future version of pandas. Pass observed=False to retain current behavior or observed=True to adopt the future default and silence this warning.\n",
            "  contingency_real = real.groupby(list(columns), dropna=False).size() / len(real)\n",
            "/usr/local/lib/python3.10/dist-packages/sdmetrics/column_pairs/statistical/contingency_similarity.py:44: FutureWarning: The default of observed=False is deprecated and will be changed to True in a future version of pandas. Pass observed=False to retain current behavior or observed=True to adopt the future default and silence this warning.\n",
            "  contingency_synthetic = synthetic.groupby(list(columns), dropna=False).size() / len(\n",
            "/usr/local/lib/python3.10/dist-packages/pandas/core/dtypes/cast.py:976: RuntimeWarning: invalid value encountered in cast\n",
            "  return ensure_int8(indexer)\n",
            "/usr/local/lib/python3.10/dist-packages/sdmetrics/column_pairs/statistical/contingency_similarity.py:43: FutureWarning: The default of observed=False is deprecated and will be changed to True in a future version of pandas. Pass observed=False to retain current behavior or observed=True to adopt the future default and silence this warning.\n",
            "  contingency_real = real.groupby(list(columns), dropna=False).size() / len(real)\n",
            "/usr/local/lib/python3.10/dist-packages/sdmetrics/column_pairs/statistical/contingency_similarity.py:44: FutureWarning: The default of observed=False is deprecated and will be changed to True in a future version of pandas. Pass observed=False to retain current behavior or observed=True to adopt the future default and silence this warning.\n",
            "  contingency_synthetic = synthetic.groupby(list(columns), dropna=False).size() / len(\n"
          ]
        },
        {
          "name": "stdout",
          "output_type": "stream",
          "text": [
            "(2/2) Evaluating Column Pair Trends: |████████▉ | 2038/2278 [00:55<00:07, 32.96it/s]|"
          ]
        },
        {
          "name": "stderr",
          "output_type": "stream",
          "text": [
            "/usr/local/lib/python3.10/dist-packages/pandas/core/dtypes/cast.py:976: RuntimeWarning: invalid value encountered in cast\n",
            "  return ensure_int8(indexer)\n",
            "/usr/local/lib/python3.10/dist-packages/sdmetrics/column_pairs/statistical/contingency_similarity.py:43: FutureWarning: The default of observed=False is deprecated and will be changed to True in a future version of pandas. Pass observed=False to retain current behavior or observed=True to adopt the future default and silence this warning.\n",
            "  contingency_real = real.groupby(list(columns), dropna=False).size() / len(real)\n",
            "/usr/local/lib/python3.10/dist-packages/sdmetrics/column_pairs/statistical/contingency_similarity.py:44: FutureWarning: The default of observed=False is deprecated and will be changed to True in a future version of pandas. Pass observed=False to retain current behavior or observed=True to adopt the future default and silence this warning.\n",
            "  contingency_synthetic = synthetic.groupby(list(columns), dropna=False).size() / len(\n",
            "/usr/local/lib/python3.10/dist-packages/sdmetrics/column_pairs/statistical/contingency_similarity.py:43: FutureWarning: The default of observed=False is deprecated and will be changed to True in a future version of pandas. Pass observed=False to retain current behavior or observed=True to adopt the future default and silence this warning.\n",
            "  contingency_real = real.groupby(list(columns), dropna=False).size() / len(real)\n",
            "/usr/local/lib/python3.10/dist-packages/sdmetrics/column_pairs/statistical/contingency_similarity.py:44: FutureWarning: The default of observed=False is deprecated and will be changed to True in a future version of pandas. Pass observed=False to retain current behavior or observed=True to adopt the future default and silence this warning.\n",
            "  contingency_synthetic = synthetic.groupby(list(columns), dropna=False).size() / len(\n",
            "/usr/local/lib/python3.10/dist-packages/pandas/core/dtypes/cast.py:976: RuntimeWarning: invalid value encountered in cast\n",
            "  return ensure_int8(indexer)\n",
            "/usr/local/lib/python3.10/dist-packages/sdmetrics/column_pairs/statistical/contingency_similarity.py:43: FutureWarning: The default of observed=False is deprecated and will be changed to True in a future version of pandas. Pass observed=False to retain current behavior or observed=True to adopt the future default and silence this warning.\n",
            "  contingency_real = real.groupby(list(columns), dropna=False).size() / len(real)\n",
            "/usr/local/lib/python3.10/dist-packages/sdmetrics/column_pairs/statistical/contingency_similarity.py:44: FutureWarning: The default of observed=False is deprecated and will be changed to True in a future version of pandas. Pass observed=False to retain current behavior or observed=True to adopt the future default and silence this warning.\n",
            "  contingency_synthetic = synthetic.groupby(list(columns), dropna=False).size() / len(\n",
            "/usr/local/lib/python3.10/dist-packages/pandas/core/dtypes/cast.py:976: RuntimeWarning: invalid value encountered in cast\n",
            "  return ensure_int8(indexer)\n",
            "/usr/local/lib/python3.10/dist-packages/sdmetrics/column_pairs/statistical/contingency_similarity.py:43: FutureWarning: The default of observed=False is deprecated and will be changed to True in a future version of pandas. Pass observed=False to retain current behavior or observed=True to adopt the future default and silence this warning.\n",
            "  contingency_real = real.groupby(list(columns), dropna=False).size() / len(real)\n",
            "/usr/local/lib/python3.10/dist-packages/sdmetrics/column_pairs/statistical/contingency_similarity.py:44: FutureWarning: The default of observed=False is deprecated and will be changed to True in a future version of pandas. Pass observed=False to retain current behavior or observed=True to adopt the future default and silence this warning.\n",
            "  contingency_synthetic = synthetic.groupby(list(columns), dropna=False).size() / len(\n",
            "/usr/local/lib/python3.10/dist-packages/pandas/core/dtypes/cast.py:976: RuntimeWarning: invalid value encountered in cast\n",
            "  return ensure_int8(indexer)\n",
            "/usr/local/lib/python3.10/dist-packages/sdmetrics/column_pairs/statistical/contingency_similarity.py:43: FutureWarning: The default of observed=False is deprecated and will be changed to True in a future version of pandas. Pass observed=False to retain current behavior or observed=True to adopt the future default and silence this warning.\n",
            "  contingency_real = real.groupby(list(columns), dropna=False).size() / len(real)\n",
            "/usr/local/lib/python3.10/dist-packages/sdmetrics/column_pairs/statistical/contingency_similarity.py:44: FutureWarning: The default of observed=False is deprecated and will be changed to True in a future version of pandas. Pass observed=False to retain current behavior or observed=True to adopt the future default and silence this warning.\n",
            "  contingency_synthetic = synthetic.groupby(list(columns), dropna=False).size() / len(\n",
            "/usr/local/lib/python3.10/dist-packages/pandas/core/dtypes/cast.py:976: RuntimeWarning: invalid value encountered in cast\n",
            "  return ensure_int8(indexer)\n",
            "/usr/local/lib/python3.10/dist-packages/sdmetrics/column_pairs/statistical/contingency_similarity.py:43: FutureWarning: The default of observed=False is deprecated and will be changed to True in a future version of pandas. Pass observed=False to retain current behavior or observed=True to adopt the future default and silence this warning.\n",
            "  contingency_real = real.groupby(list(columns), dropna=False).size() / len(real)\n",
            "/usr/local/lib/python3.10/dist-packages/sdmetrics/column_pairs/statistical/contingency_similarity.py:44: FutureWarning: The default of observed=False is deprecated and will be changed to True in a future version of pandas. Pass observed=False to retain current behavior or observed=True to adopt the future default and silence this warning.\n",
            "  contingency_synthetic = synthetic.groupby(list(columns), dropna=False).size() / len(\n",
            "/usr/local/lib/python3.10/dist-packages/sdmetrics/column_pairs/statistical/contingency_similarity.py:43: FutureWarning: The default of observed=False is deprecated and will be changed to True in a future version of pandas. Pass observed=False to retain current behavior or observed=True to adopt the future default and silence this warning.\n",
            "  contingency_real = real.groupby(list(columns), dropna=False).size() / len(real)\n",
            "/usr/local/lib/python3.10/dist-packages/sdmetrics/column_pairs/statistical/contingency_similarity.py:44: FutureWarning: The default of observed=False is deprecated and will be changed to True in a future version of pandas. Pass observed=False to retain current behavior or observed=True to adopt the future default and silence this warning.\n",
            "  contingency_synthetic = synthetic.groupby(list(columns), dropna=False).size() / len(\n",
            "/usr/local/lib/python3.10/dist-packages/sdmetrics/column_pairs/statistical/contingency_similarity.py:43: FutureWarning: The default of observed=False is deprecated and will be changed to True in a future version of pandas. Pass observed=False to retain current behavior or observed=True to adopt the future default and silence this warning.\n",
            "  contingency_real = real.groupby(list(columns), dropna=False).size() / len(real)\n",
            "/usr/local/lib/python3.10/dist-packages/sdmetrics/column_pairs/statistical/contingency_similarity.py:44: FutureWarning: The default of observed=False is deprecated and will be changed to True in a future version of pandas. Pass observed=False to retain current behavior or observed=True to adopt the future default and silence this warning.\n",
            "  contingency_synthetic = synthetic.groupby(list(columns), dropna=False).size() / len(\n",
            "/usr/local/lib/python3.10/dist-packages/pandas/core/dtypes/cast.py:976: RuntimeWarning: invalid value encountered in cast\n",
            "  return ensure_int8(indexer)\n"
          ]
        },
        {
          "name": "stdout",
          "output_type": "stream",
          "text": [
            "(2/2) Evaluating Column Pair Trends: |████████▉ | 2047/2278 [00:56<00:06, 36.47it/s]|"
          ]
        },
        {
          "name": "stderr",
          "output_type": "stream",
          "text": [
            "/usr/local/lib/python3.10/dist-packages/sdmetrics/column_pairs/statistical/contingency_similarity.py:43: FutureWarning: The default of observed=False is deprecated and will be changed to True in a future version of pandas. Pass observed=False to retain current behavior or observed=True to adopt the future default and silence this warning.\n",
            "  contingency_real = real.groupby(list(columns), dropna=False).size() / len(real)\n",
            "/usr/local/lib/python3.10/dist-packages/sdmetrics/column_pairs/statistical/contingency_similarity.py:44: FutureWarning: The default of observed=False is deprecated and will be changed to True in a future version of pandas. Pass observed=False to retain current behavior or observed=True to adopt the future default and silence this warning.\n",
            "  contingency_synthetic = synthetic.groupby(list(columns), dropna=False).size() / len(\n",
            "/usr/local/lib/python3.10/dist-packages/pandas/core/dtypes/cast.py:976: RuntimeWarning: invalid value encountered in cast\n",
            "  return ensure_int8(indexer)\n",
            "/usr/local/lib/python3.10/dist-packages/sdmetrics/column_pairs/statistical/contingency_similarity.py:43: FutureWarning: The default of observed=False is deprecated and will be changed to True in a future version of pandas. Pass observed=False to retain current behavior or observed=True to adopt the future default and silence this warning.\n",
            "  contingency_real = real.groupby(list(columns), dropna=False).size() / len(real)\n",
            "/usr/local/lib/python3.10/dist-packages/sdmetrics/column_pairs/statistical/contingency_similarity.py:44: FutureWarning: The default of observed=False is deprecated and will be changed to True in a future version of pandas. Pass observed=False to retain current behavior or observed=True to adopt the future default and silence this warning.\n",
            "  contingency_synthetic = synthetic.groupby(list(columns), dropna=False).size() / len(\n",
            "/usr/local/lib/python3.10/dist-packages/sdmetrics/column_pairs/statistical/contingency_similarity.py:43: FutureWarning: The default of observed=False is deprecated and will be changed to True in a future version of pandas. Pass observed=False to retain current behavior or observed=True to adopt the future default and silence this warning.\n",
            "  contingency_real = real.groupby(list(columns), dropna=False).size() / len(real)\n",
            "/usr/local/lib/python3.10/dist-packages/sdmetrics/column_pairs/statistical/contingency_similarity.py:44: FutureWarning: The default of observed=False is deprecated and will be changed to True in a future version of pandas. Pass observed=False to retain current behavior or observed=True to adopt the future default and silence this warning.\n",
            "  contingency_synthetic = synthetic.groupby(list(columns), dropna=False).size() / len(\n",
            "/usr/local/lib/python3.10/dist-packages/pandas/core/dtypes/cast.py:976: RuntimeWarning: invalid value encountered in cast\n",
            "  return ensure_int8(indexer)\n",
            "/usr/local/lib/python3.10/dist-packages/sdmetrics/column_pairs/statistical/contingency_similarity.py:43: FutureWarning: The default of observed=False is deprecated and will be changed to True in a future version of pandas. Pass observed=False to retain current behavior or observed=True to adopt the future default and silence this warning.\n",
            "  contingency_real = real.groupby(list(columns), dropna=False).size() / len(real)\n",
            "/usr/local/lib/python3.10/dist-packages/sdmetrics/column_pairs/statistical/contingency_similarity.py:44: FutureWarning: The default of observed=False is deprecated and will be changed to True in a future version of pandas. Pass observed=False to retain current behavior or observed=True to adopt the future default and silence this warning.\n",
            "  contingency_synthetic = synthetic.groupby(list(columns), dropna=False).size() / len(\n",
            "/usr/local/lib/python3.10/dist-packages/pandas/core/dtypes/cast.py:976: RuntimeWarning: invalid value encountered in cast\n",
            "  return ensure_int8(indexer)\n",
            "/usr/local/lib/python3.10/dist-packages/sdmetrics/column_pairs/statistical/contingency_similarity.py:43: FutureWarning: The default of observed=False is deprecated and will be changed to True in a future version of pandas. Pass observed=False to retain current behavior or observed=True to adopt the future default and silence this warning.\n",
            "  contingency_real = real.groupby(list(columns), dropna=False).size() / len(real)\n",
            "/usr/local/lib/python3.10/dist-packages/sdmetrics/column_pairs/statistical/contingency_similarity.py:44: FutureWarning: The default of observed=False is deprecated and will be changed to True in a future version of pandas. Pass observed=False to retain current behavior or observed=True to adopt the future default and silence this warning.\n",
            "  contingency_synthetic = synthetic.groupby(list(columns), dropna=False).size() / len(\n",
            "/usr/local/lib/python3.10/dist-packages/pandas/core/dtypes/cast.py:976: RuntimeWarning: invalid value encountered in cast\n",
            "  return ensure_int8(indexer)\n",
            "/usr/local/lib/python3.10/dist-packages/sdmetrics/column_pairs/statistical/contingency_similarity.py:43: FutureWarning: The default of observed=False is deprecated and will be changed to True in a future version of pandas. Pass observed=False to retain current behavior or observed=True to adopt the future default and silence this warning.\n",
            "  contingency_real = real.groupby(list(columns), dropna=False).size() / len(real)\n",
            "/usr/local/lib/python3.10/dist-packages/sdmetrics/column_pairs/statistical/contingency_similarity.py:44: FutureWarning: The default of observed=False is deprecated and will be changed to True in a future version of pandas. Pass observed=False to retain current behavior or observed=True to adopt the future default and silence this warning.\n",
            "  contingency_synthetic = synthetic.groupby(list(columns), dropna=False).size() / len(\n",
            "/usr/local/lib/python3.10/dist-packages/sdmetrics/column_pairs/statistical/contingency_similarity.py:43: FutureWarning: The default of observed=False is deprecated and will be changed to True in a future version of pandas. Pass observed=False to retain current behavior or observed=True to adopt the future default and silence this warning.\n",
            "  contingency_real = real.groupby(list(columns), dropna=False).size() / len(real)\n",
            "/usr/local/lib/python3.10/dist-packages/sdmetrics/column_pairs/statistical/contingency_similarity.py:44: FutureWarning: The default of observed=False is deprecated and will be changed to True in a future version of pandas. Pass observed=False to retain current behavior or observed=True to adopt the future default and silence this warning.\n",
            "  contingency_synthetic = synthetic.groupby(list(columns), dropna=False).size() / len(\n",
            "/usr/local/lib/python3.10/dist-packages/sdmetrics/column_pairs/statistical/contingency_similarity.py:43: FutureWarning: The default of observed=False is deprecated and will be changed to True in a future version of pandas. Pass observed=False to retain current behavior or observed=True to adopt the future default and silence this warning.\n",
            "  contingency_real = real.groupby(list(columns), dropna=False).size() / len(real)\n",
            "/usr/local/lib/python3.10/dist-packages/sdmetrics/column_pairs/statistical/contingency_similarity.py:44: FutureWarning: The default of observed=False is deprecated and will be changed to True in a future version of pandas. Pass observed=False to retain current behavior or observed=True to adopt the future default and silence this warning.\n",
            "  contingency_synthetic = synthetic.groupby(list(columns), dropna=False).size() / len(\n",
            "/usr/local/lib/python3.10/dist-packages/sdmetrics/column_pairs/statistical/contingency_similarity.py:43: FutureWarning: The default of observed=False is deprecated and will be changed to True in a future version of pandas. Pass observed=False to retain current behavior or observed=True to adopt the future default and silence this warning.\n",
            "  contingency_real = real.groupby(list(columns), dropna=False).size() / len(real)\n"
          ]
        },
        {
          "name": "stdout",
          "output_type": "stream",
          "text": [
            "(2/2) Evaluating Column Pair Trends: |█████████ | 2057/2278 [00:56<00:05, 39.89it/s]|"
          ]
        },
        {
          "name": "stderr",
          "output_type": "stream",
          "text": [
            "/usr/local/lib/python3.10/dist-packages/sdmetrics/column_pairs/statistical/contingency_similarity.py:44: FutureWarning: The default of observed=False is deprecated and will be changed to True in a future version of pandas. Pass observed=False to retain current behavior or observed=True to adopt the future default and silence this warning.\n",
            "  contingency_synthetic = synthetic.groupby(list(columns), dropna=False).size() / len(\n",
            "/usr/local/lib/python3.10/dist-packages/sdmetrics/column_pairs/statistical/contingency_similarity.py:43: FutureWarning: The default of observed=False is deprecated and will be changed to True in a future version of pandas. Pass observed=False to retain current behavior or observed=True to adopt the future default and silence this warning.\n",
            "  contingency_real = real.groupby(list(columns), dropna=False).size() / len(real)\n",
            "/usr/local/lib/python3.10/dist-packages/sdmetrics/column_pairs/statistical/contingency_similarity.py:44: FutureWarning: The default of observed=False is deprecated and will be changed to True in a future version of pandas. Pass observed=False to retain current behavior or observed=True to adopt the future default and silence this warning.\n",
            "  contingency_synthetic = synthetic.groupby(list(columns), dropna=False).size() / len(\n",
            "/usr/local/lib/python3.10/dist-packages/sdmetrics/column_pairs/statistical/contingency_similarity.py:43: FutureWarning: The default of observed=False is deprecated and will be changed to True in a future version of pandas. Pass observed=False to retain current behavior or observed=True to adopt the future default and silence this warning.\n",
            "  contingency_real = real.groupby(list(columns), dropna=False).size() / len(real)\n",
            "/usr/local/lib/python3.10/dist-packages/sdmetrics/column_pairs/statistical/contingency_similarity.py:44: FutureWarning: The default of observed=False is deprecated and will be changed to True in a future version of pandas. Pass observed=False to retain current behavior or observed=True to adopt the future default and silence this warning.\n",
            "  contingency_synthetic = synthetic.groupby(list(columns), dropna=False).size() / len(\n",
            "/usr/local/lib/python3.10/dist-packages/sdmetrics/column_pairs/statistical/contingency_similarity.py:43: FutureWarning: The default of observed=False is deprecated and will be changed to True in a future version of pandas. Pass observed=False to retain current behavior or observed=True to adopt the future default and silence this warning.\n",
            "  contingency_real = real.groupby(list(columns), dropna=False).size() / len(real)\n",
            "/usr/local/lib/python3.10/dist-packages/sdmetrics/column_pairs/statistical/contingency_similarity.py:44: FutureWarning: The default of observed=False is deprecated and will be changed to True in a future version of pandas. Pass observed=False to retain current behavior or observed=True to adopt the future default and silence this warning.\n",
            "  contingency_synthetic = synthetic.groupby(list(columns), dropna=False).size() / len(\n",
            "/usr/local/lib/python3.10/dist-packages/sdmetrics/column_pairs/statistical/contingency_similarity.py:43: FutureWarning: The default of observed=False is deprecated and will be changed to True in a future version of pandas. Pass observed=False to retain current behavior or observed=True to adopt the future default and silence this warning.\n",
            "  contingency_real = real.groupby(list(columns), dropna=False).size() / len(real)\n",
            "/usr/local/lib/python3.10/dist-packages/sdmetrics/column_pairs/statistical/contingency_similarity.py:44: FutureWarning: The default of observed=False is deprecated and will be changed to True in a future version of pandas. Pass observed=False to retain current behavior or observed=True to adopt the future default and silence this warning.\n",
            "  contingency_synthetic = synthetic.groupby(list(columns), dropna=False).size() / len(\n",
            "/usr/local/lib/python3.10/dist-packages/sdmetrics/column_pairs/statistical/contingency_similarity.py:43: FutureWarning: The default of observed=False is deprecated and will be changed to True in a future version of pandas. Pass observed=False to retain current behavior or observed=True to adopt the future default and silence this warning.\n",
            "  contingency_real = real.groupby(list(columns), dropna=False).size() / len(real)\n",
            "/usr/local/lib/python3.10/dist-packages/sdmetrics/column_pairs/statistical/contingency_similarity.py:44: FutureWarning: The default of observed=False is deprecated and will be changed to True in a future version of pandas. Pass observed=False to retain current behavior or observed=True to adopt the future default and silence this warning.\n",
            "  contingency_synthetic = synthetic.groupby(list(columns), dropna=False).size() / len(\n",
            "/usr/local/lib/python3.10/dist-packages/sdmetrics/column_pairs/statistical/contingency_similarity.py:43: FutureWarning: The default of observed=False is deprecated and will be changed to True in a future version of pandas. Pass observed=False to retain current behavior or observed=True to adopt the future default and silence this warning.\n",
            "  contingency_real = real.groupby(list(columns), dropna=False).size() / len(real)\n",
            "/usr/local/lib/python3.10/dist-packages/sdmetrics/column_pairs/statistical/contingency_similarity.py:44: FutureWarning: The default of observed=False is deprecated and will be changed to True in a future version of pandas. Pass observed=False to retain current behavior or observed=True to adopt the future default and silence this warning.\n",
            "  contingency_synthetic = synthetic.groupby(list(columns), dropna=False).size() / len(\n",
            "/usr/local/lib/python3.10/dist-packages/sdmetrics/column_pairs/statistical/contingency_similarity.py:43: FutureWarning: The default of observed=False is deprecated and will be changed to True in a future version of pandas. Pass observed=False to retain current behavior or observed=True to adopt the future default and silence this warning.\n",
            "  contingency_real = real.groupby(list(columns), dropna=False).size() / len(real)\n",
            "/usr/local/lib/python3.10/dist-packages/sdmetrics/column_pairs/statistical/contingency_similarity.py:44: FutureWarning: The default of observed=False is deprecated and will be changed to True in a future version of pandas. Pass observed=False to retain current behavior or observed=True to adopt the future default and silence this warning.\n",
            "  contingency_synthetic = synthetic.groupby(list(columns), dropna=False).size() / len(\n",
            "/usr/local/lib/python3.10/dist-packages/sdmetrics/column_pairs/statistical/contingency_similarity.py:43: FutureWarning: The default of observed=False is deprecated and will be changed to True in a future version of pandas. Pass observed=False to retain current behavior or observed=True to adopt the future default and silence this warning.\n",
            "  contingency_real = real.groupby(list(columns), dropna=False).size() / len(real)\n",
            "/usr/local/lib/python3.10/dist-packages/sdmetrics/column_pairs/statistical/contingency_similarity.py:44: FutureWarning: The default of observed=False is deprecated and will be changed to True in a future version of pandas. Pass observed=False to retain current behavior or observed=True to adopt the future default and silence this warning.\n",
            "  contingency_synthetic = synthetic.groupby(list(columns), dropna=False).size() / len(\n",
            "/usr/local/lib/python3.10/dist-packages/sdmetrics/column_pairs/statistical/contingency_similarity.py:43: FutureWarning: The default of observed=False is deprecated and will be changed to True in a future version of pandas. Pass observed=False to retain current behavior or observed=True to adopt the future default and silence this warning.\n",
            "  contingency_real = real.groupby(list(columns), dropna=False).size() / len(real)\n"
          ]
        },
        {
          "name": "stdout",
          "output_type": "stream",
          "text": [
            "(2/2) Evaluating Column Pair Trends: |█████████ | 2067/2278 [00:56<00:05, 41.83it/s]|"
          ]
        },
        {
          "name": "stderr",
          "output_type": "stream",
          "text": [
            "/usr/local/lib/python3.10/dist-packages/sdmetrics/column_pairs/statistical/contingency_similarity.py:44: FutureWarning: The default of observed=False is deprecated and will be changed to True in a future version of pandas. Pass observed=False to retain current behavior or observed=True to adopt the future default and silence this warning.\n",
            "  contingency_synthetic = synthetic.groupby(list(columns), dropna=False).size() / len(\n",
            "/usr/local/lib/python3.10/dist-packages/sdmetrics/column_pairs/statistical/contingency_similarity.py:43: FutureWarning: The default of observed=False is deprecated and will be changed to True in a future version of pandas. Pass observed=False to retain current behavior or observed=True to adopt the future default and silence this warning.\n",
            "  contingency_real = real.groupby(list(columns), dropna=False).size() / len(real)\n",
            "/usr/local/lib/python3.10/dist-packages/sdmetrics/column_pairs/statistical/contingency_similarity.py:44: FutureWarning: The default of observed=False is deprecated and will be changed to True in a future version of pandas. Pass observed=False to retain current behavior or observed=True to adopt the future default and silence this warning.\n",
            "  contingency_synthetic = synthetic.groupby(list(columns), dropna=False).size() / len(\n",
            "/usr/local/lib/python3.10/dist-packages/sdmetrics/column_pairs/statistical/contingency_similarity.py:43: FutureWarning: The default of observed=False is deprecated and will be changed to True in a future version of pandas. Pass observed=False to retain current behavior or observed=True to adopt the future default and silence this warning.\n",
            "  contingency_real = real.groupby(list(columns), dropna=False).size() / len(real)\n",
            "/usr/local/lib/python3.10/dist-packages/sdmetrics/column_pairs/statistical/contingency_similarity.py:44: FutureWarning: The default of observed=False is deprecated and will be changed to True in a future version of pandas. Pass observed=False to retain current behavior or observed=True to adopt the future default and silence this warning.\n",
            "  contingency_synthetic = synthetic.groupby(list(columns), dropna=False).size() / len(\n",
            "/usr/local/lib/python3.10/dist-packages/sdmetrics/column_pairs/statistical/contingency_similarity.py:43: FutureWarning: The default of observed=False is deprecated and will be changed to True in a future version of pandas. Pass observed=False to retain current behavior or observed=True to adopt the future default and silence this warning.\n",
            "  contingency_real = real.groupby(list(columns), dropna=False).size() / len(real)\n",
            "/usr/local/lib/python3.10/dist-packages/sdmetrics/column_pairs/statistical/contingency_similarity.py:44: FutureWarning: The default of observed=False is deprecated and will be changed to True in a future version of pandas. Pass observed=False to retain current behavior or observed=True to adopt the future default and silence this warning.\n",
            "  contingency_synthetic = synthetic.groupby(list(columns), dropna=False).size() / len(\n",
            "/usr/local/lib/python3.10/dist-packages/sdmetrics/column_pairs/statistical/contingency_similarity.py:43: FutureWarning: The default of observed=False is deprecated and will be changed to True in a future version of pandas. Pass observed=False to retain current behavior or observed=True to adopt the future default and silence this warning.\n",
            "  contingency_real = real.groupby(list(columns), dropna=False).size() / len(real)\n",
            "/usr/local/lib/python3.10/dist-packages/sdmetrics/column_pairs/statistical/contingency_similarity.py:44: FutureWarning: The default of observed=False is deprecated and will be changed to True in a future version of pandas. Pass observed=False to retain current behavior or observed=True to adopt the future default and silence this warning.\n",
            "  contingency_synthetic = synthetic.groupby(list(columns), dropna=False).size() / len(\n",
            "/usr/local/lib/python3.10/dist-packages/sdmetrics/column_pairs/statistical/contingency_similarity.py:43: FutureWarning: The default of observed=False is deprecated and will be changed to True in a future version of pandas. Pass observed=False to retain current behavior or observed=True to adopt the future default and silence this warning.\n",
            "  contingency_real = real.groupby(list(columns), dropna=False).size() / len(real)\n",
            "/usr/local/lib/python3.10/dist-packages/sdmetrics/column_pairs/statistical/contingency_similarity.py:44: FutureWarning: The default of observed=False is deprecated and will be changed to True in a future version of pandas. Pass observed=False to retain current behavior or observed=True to adopt the future default and silence this warning.\n",
            "  contingency_synthetic = synthetic.groupby(list(columns), dropna=False).size() / len(\n",
            "/usr/local/lib/python3.10/dist-packages/sdmetrics/column_pairs/statistical/contingency_similarity.py:43: FutureWarning: The default of observed=False is deprecated and will be changed to True in a future version of pandas. Pass observed=False to retain current behavior or observed=True to adopt the future default and silence this warning.\n",
            "  contingency_real = real.groupby(list(columns), dropna=False).size() / len(real)\n",
            "/usr/local/lib/python3.10/dist-packages/sdmetrics/column_pairs/statistical/contingency_similarity.py:44: FutureWarning: The default of observed=False is deprecated and will be changed to True in a future version of pandas. Pass observed=False to retain current behavior or observed=True to adopt the future default and silence this warning.\n",
            "  contingency_synthetic = synthetic.groupby(list(columns), dropna=False).size() / len(\n",
            "/usr/local/lib/python3.10/dist-packages/sdmetrics/column_pairs/statistical/contingency_similarity.py:43: FutureWarning: The default of observed=False is deprecated and will be changed to True in a future version of pandas. Pass observed=False to retain current behavior or observed=True to adopt the future default and silence this warning.\n",
            "  contingency_real = real.groupby(list(columns), dropna=False).size() / len(real)\n",
            "/usr/local/lib/python3.10/dist-packages/sdmetrics/column_pairs/statistical/contingency_similarity.py:44: FutureWarning: The default of observed=False is deprecated and will be changed to True in a future version of pandas. Pass observed=False to retain current behavior or observed=True to adopt the future default and silence this warning.\n",
            "  contingency_synthetic = synthetic.groupby(list(columns), dropna=False).size() / len(\n",
            "/usr/local/lib/python3.10/dist-packages/sdmetrics/column_pairs/statistical/contingency_similarity.py:43: FutureWarning: The default of observed=False is deprecated and will be changed to True in a future version of pandas. Pass observed=False to retain current behavior or observed=True to adopt the future default and silence this warning.\n",
            "  contingency_real = real.groupby(list(columns), dropna=False).size() / len(real)\n",
            "/usr/local/lib/python3.10/dist-packages/sdmetrics/column_pairs/statistical/contingency_similarity.py:44: FutureWarning: The default of observed=False is deprecated and will be changed to True in a future version of pandas. Pass observed=False to retain current behavior or observed=True to adopt the future default and silence this warning.\n",
            "  contingency_synthetic = synthetic.groupby(list(columns), dropna=False).size() / len(\n",
            "/usr/local/lib/python3.10/dist-packages/sdmetrics/column_pairs/statistical/contingency_similarity.py:43: FutureWarning: The default of observed=False is deprecated and will be changed to True in a future version of pandas. Pass observed=False to retain current behavior or observed=True to adopt the future default and silence this warning.\n",
            "  contingency_real = real.groupby(list(columns), dropna=False).size() / len(real)\n"
          ]
        },
        {
          "name": "stdout",
          "output_type": "stream",
          "text": [
            "\r(2/2) Evaluating Column Pair Trends: |█████████ | 2072/2278 [00:56<00:04, 42.06it/s]|"
          ]
        },
        {
          "name": "stderr",
          "output_type": "stream",
          "text": [
            "/usr/local/lib/python3.10/dist-packages/sdmetrics/column_pairs/statistical/contingency_similarity.py:44: FutureWarning: The default of observed=False is deprecated and will be changed to True in a future version of pandas. Pass observed=False to retain current behavior or observed=True to adopt the future default and silence this warning.\n",
            "  contingency_synthetic = synthetic.groupby(list(columns), dropna=False).size() / len(\n"
          ]
        },
        {
          "name": "stdout",
          "output_type": "stream",
          "text": [
            "(2/2) Evaluating Column Pair Trends: |█████████▌| 2185/2278 [00:59<00:02, 43.23it/s]|"
          ]
        },
        {
          "name": "stderr",
          "output_type": "stream",
          "text": [
            "/usr/local/lib/python3.10/dist-packages/sdmetrics/column_pairs/statistical/correlation_similarity.py:103: ConstantInputWarning: An input array is constant; the correlation coefficient is not defined.\n",
            "  correlation_real, _ = correlation_fn(real_data[column1], real_data[column2])\n"
          ]
        },
        {
          "name": "stdout",
          "output_type": "stream",
          "text": [
            "(2/2) Evaluating Column Pair Trends: |██████████| 2278/2278 [01:02<00:00, 36.45it/s]|\n",
            "Column Pair Trends Score: 83.8%\n",
            "\n",
            "Overall Score (Average): 85.76%\n",
            "\n"
          ]
        }
      ],
      "source": [
        "#from sdmetrics import load_demo\n",
        "from sdmetrics.reports.single_table import QualityReport\n",
        "\n",
        "#real_data, synthetic_data, metadata = load_demo(modality='single_table')\n",
        "\n",
        "my_report = QualityReport()\n",
        "my_report.generate(real_data, synthetic_data, metadata)"
      ]
    },
    {
      "cell_type": "code",
      "execution_count": null,
      "metadata": {
        "colab": {
          "base_uri": "https://localhost:8080/",
          "height": 937
        },
        "id": "aXY6b--Gd72J",
        "outputId": "3c7b0cfd-e42f-40bc-97e8-7038b8e7b053"
      },
      "outputs": [
        {
          "data": {
            "text/html": [
              "<html>\n",
              "<head><meta charset=\"utf-8\" /></head>\n",
              "<body>\n",
              "    <div>            <script src=\"https://cdnjs.cloudflare.com/ajax/libs/mathjax/2.7.5/MathJax.js?config=TeX-AMS-MML_SVG\"></script><script type=\"text/javascript\">if (window.MathJax && window.MathJax.Hub && window.MathJax.Hub.Config) {window.MathJax.Hub.Config({SVG: {font: \"STIX-Web\"}});}</script>                <script type=\"text/javascript\">window.PlotlyConfig = {MathJaxConfig: 'local'};</script>\n",
              "        <script charset=\"utf-8\" src=\"https://cdn.plot.ly/plotly-2.35.2.min.js\"></script>                <div id=\"c18e6540-0503-4699-9120-36b25bed80e1\" class=\"plotly-graph-div\" style=\"height:900px; width:900px;\"></div>            <script type=\"text/javascript\">                                    window.PLOTLYENV=window.PLOTLYENV || {};                                    if (document.getElementById(\"c18e6540-0503-4699-9120-36b25bed80e1\")) {                    Plotly.newPlot(                        \"c18e6540-0503-4699-9120-36b25bed80e1\",                        [{\"coloraxis\":\"coloraxis\",\"hovertemplate\":\"\\u003cb\\u003eColumn Pair\\u003c\\u002fb\\u003e\\u003cbr\\u003e(%{x},%{y})\\u003cbr\\u003e\\u003cbr\\u003eSimilarity: %{z}\\u003cextra\\u003e\\u003c\\u002fextra\\u003e\",\"x\":[\"sid_type\",\"first_coop_code\",\"first_dist_code\",\"first_hs_code\",\"first_dist_name\",\"first_hs_name\",\"first_hs_alt\",\"first_hs_urbanicity\",\"chrt_ninth\",\"male\",\"race_ethnicity\",\"frpl_ever_in_hs\",\"sped_ever_in_hs\",\"lep_ever_in_hs\",\"gifted_ever_in_hs\",\"ever_alt_sch_in_hs\",\"scale_score_6_math\",\"scale_score_6_read\",\"scale_score_8_math\",\"scale_score_8_read\",\"pct_absent_in_hs\",\"pct_excused_in_hs\",\"avg_gpa_hs\",\"scale_score_11_eng\",\"scale_score_11_math\",\"scale_score_11_read\",\"scale_score_11_comp\",\"collegeready_ever_in_hs\",\"careerready_ever_in_hs\",\"ap_ever_take_class\",\"last_acadyr_observed\",\"transferout\",\"dropout\",\"still_enrolled\",\"ontime_grad\",\"chrt_grad\",\"hs_diploma\",\"enroll_yr1_any\",\"enroll_yr1_2yr\",\"enroll_yr1_4yr\",\"enroll_yr2_any\",\"ihe_code_yr1\",\"ihe_name_yr1\",\"ihe_barrons_rank_2013\",\"ihe_degrees_awarded_predominant\",\"ihe_degrees_awarded_highest\",\"ihe_act_25th_pctl_cumulative\",\"ihe_act_75th_pctl_cumulative\",\"ihe_act_midpoint_cumulative\",\"ihe_ihe_size\",\"ihe_part_time_share\",\"ihe_avg_net_price_pub\",\"ihe_avg_net_price_priv\",\"ihe_pell_grant_rate\",\"ihe_retention_4_yr_full_time\",\"ihe_retention_lt_4_yr_full_time\",\"ihe_retention_4_yr_part_time\",\"ihe_retention_lt_4_yr_part_time\",\"ihe_federal_loan_rate\",\"ihe_share_25_older\",\"ihe_med_debt_completers_all\",\"ihe_med_debt_completers_pmts\",\"ihe_ihe_repay_3_yr_all\",\"ihe_rate_4_yr\",\"ihe_rate_lt_4_yr\",\"ihe_med_earn_10_yrs_after\",\"ihe_pct_earn_gt_25k_6_yrs_after\"],\"y\":[\"sid_type\",\"first_coop_code\",\"first_dist_code\",\"first_hs_code\",\"first_dist_name\",\"first_hs_name\",\"first_hs_alt\",\"first_hs_urbanicity\",\"chrt_ninth\",\"male\",\"race_ethnicity\",\"frpl_ever_in_hs\",\"sped_ever_in_hs\",\"lep_ever_in_hs\",\"gifted_ever_in_hs\",\"ever_alt_sch_in_hs\",\"scale_score_6_math\",\"scale_score_6_read\",\"scale_score_8_math\",\"scale_score_8_read\",\"pct_absent_in_hs\",\"pct_excused_in_hs\",\"avg_gpa_hs\",\"scale_score_11_eng\",\"scale_score_11_math\",\"scale_score_11_read\",\"scale_score_11_comp\",\"collegeready_ever_in_hs\",\"careerready_ever_in_hs\",\"ap_ever_take_class\",\"last_acadyr_observed\",\"transferout\",\"dropout\",\"still_enrolled\",\"ontime_grad\",\"chrt_grad\",\"hs_diploma\",\"enroll_yr1_any\",\"enroll_yr1_2yr\",\"enroll_yr1_4yr\",\"enroll_yr2_any\",\"ihe_code_yr1\",\"ihe_name_yr1\",\"ihe_barrons_rank_2013\",\"ihe_degrees_awarded_predominant\",\"ihe_degrees_awarded_highest\",\"ihe_act_25th_pctl_cumulative\",\"ihe_act_75th_pctl_cumulative\",\"ihe_act_midpoint_cumulative\",\"ihe_ihe_size\",\"ihe_part_time_share\",\"ihe_avg_net_price_pub\",\"ihe_avg_net_price_priv\",\"ihe_pell_grant_rate\",\"ihe_retention_4_yr_full_time\",\"ihe_retention_lt_4_yr_full_time\",\"ihe_retention_4_yr_part_time\",\"ihe_retention_lt_4_yr_part_time\",\"ihe_federal_loan_rate\",\"ihe_share_25_older\",\"ihe_med_debt_completers_all\",\"ihe_med_debt_completers_pmts\",\"ihe_ihe_repay_3_yr_all\",\"ihe_rate_4_yr\",\"ihe_rate_lt_4_yr\",\"ihe_med_earn_10_yrs_after\",\"ihe_pct_earn_gt_25k_6_yrs_after\"],\"z\":[[1.0,0.96,0.874,0.871,0.988,0.979,1.0,0.951,1.0,0.996,0.999,0.999,0.999,1.0,0.999,0.999,0.906,0.917,0.856,0.714,0.543,0.609,0.932,0.926,0.696,0.913,0.884,0.999,0.999,0.999,0.997,1.0,0.997,1.0,1.0,0.998,1.0,0.997,0.998,0.999,0.997,0.629,0.995,0.999,0.372,0.79,0.787,0.936,0.911,0.858,0.837,0.843,0.991,0.912,0.815,0.955,0.903,0.963,0.962,0.844,0.904,0.863,0.847,0.953,0.948,0.859,0.879],[0.96,1.0,0.473,0.478,0.431,0.43,0.948,0.552,0.96,0.96,0.896,0.912,0.956,0.952,0.955,0.946,0.886,0.895,0.824,0.703,0.542,0.608,0.915,0.896,0.685,0.894,0.863,0.954,0.956,0.939,0.953,0.956,0.951,0.958,0.959,0.951,0.96,0.948,0.938,0.936,0.953,0.605,0.783,0.907,0.359,0.785,0.753,0.885,0.867,0.796,0.776,0.79,0.943,0.833,0.772,0.881,0.858,0.895,0.861,0.797,0.832,0.812,0.789,0.89,0.881,0.813,0.798],[0.874,0.473,1.0,0.963,0.505,0.507,0.873,0.549,0.874,0.874,0.866,0.865,0.874,0.872,0.874,0.872,0.996,0.989,0.995,0.994,1.0,0.988,0.999,0.993,0.992,0.993,0.994,0.873,0.87,0.849,0.873,0.873,0.874,0.874,0.874,0.873,0.874,0.874,0.871,0.867,0.874,null,0.727,0.84,0.347,0.72,0.985,0.991,0.997,0.989,0.999,0.996,0.99,1.0,0.985,0.962,0.999,0.911,0.982,0.988,0.991,0.991,0.998,0.992,0.965,0.988,0.985],[0.871,0.478,0.963,1.0,0.422,0.418,0.87,0.546,0.869,0.87,0.854,0.862,0.868,0.869,0.869,0.869,0.993,0.985,0.993,0.992,0.999,0.997,0.997,0.993,0.993,0.993,0.994,0.871,0.864,0.841,0.868,0.867,0.871,0.871,0.869,0.868,0.869,0.869,0.863,0.868,0.869,null,0.725,0.84,0.349,0.71,0.98,0.999,0.994,0.995,1.0,0.99,0.983,0.997,0.991,0.984,0.997,0.919,0.979,0.991,0.992,0.992,0.997,1.0,0.955,0.993,0.99],[0.988,0.431,0.505,0.422,1.0,0.199,0.946,0.218,0.97,0.975,0.851,0.887,0.973,0.976,0.949,0.89,0.88,0.893,0.796,0.685,0.542,0.608,0.887,0.867,0.67,0.864,0.842,0.964,0.965,0.885,0.947,0.972,0.955,0.986,0.949,0.936,0.955,0.936,0.925,0.919,0.947,0.604,0.745,0.897,0.35,0.78,0.759,0.881,0.868,0.775,0.762,0.782,0.959,0.809,0.775,0.877,0.861,0.883,0.835,0.778,0.817,0.794,0.772,0.883,0.866,0.805,0.78],[0.979,0.43,0.507,0.418,0.199,1.0,0.901,0.152,0.95,0.958,0.84,0.846,0.958,0.968,0.923,0.857,0.862,0.875,0.761,0.667,0.541,0.607,0.857,0.83,0.65,0.836,0.805,0.941,0.958,0.875,0.919,0.961,0.943,0.977,0.929,0.907,0.934,0.901,0.897,0.889,0.92,0.586,0.717,0.879,0.339,0.756,0.743,0.859,0.844,0.756,0.742,0.763,0.949,0.788,0.76,0.87,0.842,0.876,0.812,0.755,0.79,0.768,0.749,0.86,0.861,0.779,0.761],[1.0,0.948,0.873,0.87,0.946,0.901,1.0,0.93,0.994,0.995,0.976,0.989,0.997,0.996,0.991,0.936,0.903,0.914,0.819,0.688,0.541,0.607,0.929,0.892,0.672,0.887,0.852,0.986,0.996,0.986,0.981,0.991,0.982,0.999,0.967,0.966,0.973,0.968,0.97,0.969,0.968,0.615,0.974,0.984,0.372,0.778,0.78,0.925,0.9,0.842,0.824,0.832,0.989,0.89,0.808,0.955,0.892,0.957,0.947,0.829,0.886,0.848,0.833,0.938,0.946,0.841,0.866],[0.951,0.552,0.549,0.546,0.218,0.152,0.93,1.0,0.95,0.949,0.885,0.923,0.951,0.942,0.948,0.926,0.877,0.885,0.824,0.706,0.542,0.606,0.908,0.895,0.688,0.898,0.865,0.949,0.947,0.94,0.945,0.951,0.943,0.95,0.948,0.943,0.948,0.945,0.939,0.937,0.947,0.601,0.846,0.926,0.362,0.78,0.747,0.883,0.863,0.814,0.799,0.798,0.94,0.852,0.769,0.899,0.858,0.907,0.901,0.811,0.857,0.83,0.815,0.898,0.891,0.822,0.826],[1.0,0.96,0.874,0.869,0.97,0.95,0.994,0.95,1.0,0.996,0.993,0.995,0.998,0.999,0.998,0.967,0.629,0.64,0.849,0.708,0.543,0.609,0.932,0.918,0.69,0.905,0.878,0.872,0.963,0.995,0.725,0.998,0.986,0.998,0.988,0.794,0.988,0.983,0.987,0.984,0.899,0.625,0.985,0.994,0.372,0.79,0.784,0.933,0.908,0.855,0.833,0.841,0.99,0.91,0.812,0.955,0.9,0.961,0.957,0.842,0.899,0.86,0.845,0.95,0.948,0.854,0.877],[0.996,0.96,0.874,0.87,0.975,0.958,0.995,0.949,0.996,1.0,0.996,0.996,0.973,0.996,0.991,0.989,0.906,0.915,0.852,0.71,0.543,0.609,0.929,0.907,0.681,0.895,0.87,0.984,0.993,0.976,0.99,0.996,0.988,0.996,0.981,0.974,0.983,0.967,0.977,0.968,0.973,0.603,0.965,0.975,0.363,0.79,0.768,0.917,0.891,0.833,0.813,0.821,0.983,0.883,0.796,0.95,0.886,0.952,0.933,0.818,0.875,0.84,0.822,0.93,0.941,0.831,0.853],[0.999,0.896,0.866,0.854,0.851,0.84,0.976,0.885,0.993,0.996,1.0,0.95,0.994,0.977,0.977,0.972,0.903,0.916,0.828,0.695,0.543,0.609,0.927,0.896,0.679,0.891,0.859,0.983,0.991,0.978,0.984,0.997,0.979,0.999,0.973,0.968,0.978,0.969,0.969,0.97,0.972,0.615,0.965,0.985,0.372,0.786,0.78,0.929,0.903,0.844,0.824,0.833,0.988,0.891,0.808,0.955,0.896,0.954,0.948,0.831,0.886,0.851,0.835,0.942,0.943,0.843,0.866],[0.999,0.912,0.865,0.862,0.887,0.846,0.989,0.923,0.995,0.996,0.95,1.0,0.966,0.993,0.939,0.952,0.904,0.912,0.828,0.704,0.542,0.608,0.923,0.884,0.668,0.875,0.85,0.949,0.998,0.947,0.97,0.987,0.964,0.999,0.953,0.94,0.958,0.922,0.948,0.925,0.94,0.572,0.9,0.938,0.335,0.779,0.745,0.878,0.856,0.806,0.787,0.796,0.98,0.854,0.772,0.953,0.858,0.954,0.878,0.794,0.825,0.805,0.797,0.891,0.943,0.803,0.812],[0.999,0.956,0.874,0.868,0.973,0.958,0.997,0.951,0.998,0.973,0.994,0.966,1.0,0.999,0.975,0.986,0.903,0.915,0.84,0.71,0.543,0.609,0.93,0.892,0.684,0.894,0.847,0.977,0.996,0.975,0.994,0.995,0.991,0.999,0.984,0.98,0.986,0.966,0.982,0.971,0.979,0.605,0.96,0.973,0.367,0.776,0.771,0.916,0.895,0.835,0.813,0.825,0.987,0.878,0.8,0.955,0.883,0.957,0.934,0.82,0.872,0.839,0.825,0.926,0.946,0.829,0.856],[1.0,0.952,0.872,0.869,0.976,0.968,0.996,0.942,0.999,0.996,0.977,0.993,0.999,1.0,0.998,0.998,0.905,0.917,0.846,0.707,0.543,0.609,0.931,0.92,0.694,0.909,0.879,0.997,0.998,0.995,0.995,0.999,0.997,1.0,0.995,0.994,0.995,0.993,0.996,0.994,0.993,0.626,0.99,0.996,0.372,0.788,0.785,0.934,0.909,0.855,0.835,0.84,0.991,0.908,0.815,0.955,0.901,0.961,0.96,0.843,0.903,0.862,0.845,0.95,0.948,0.855,0.876],[0.999,0.955,0.874,0.869,0.949,0.923,0.991,0.948,0.998,0.991,0.977,0.939,0.975,0.998,1.0,0.981,0.901,0.91,0.771,0.666,0.543,0.609,0.907,0.888,0.671,0.871,0.862,0.955,0.993,0.943,0.974,0.99,0.974,0.999,0.967,0.955,0.969,0.938,0.961,0.937,0.956,0.586,0.93,0.948,0.34,0.79,0.752,0.888,0.864,0.818,0.799,0.811,0.979,0.869,0.779,0.955,0.871,0.96,0.899,0.806,0.848,0.824,0.806,0.907,0.946,0.815,0.827],[0.999,0.946,0.872,0.869,0.89,0.857,0.936,0.926,0.967,0.989,0.972,0.952,0.986,0.998,0.981,1.0,0.89,0.911,0.829,0.696,0.542,0.608,0.927,0.87,0.658,0.869,0.835,0.958,0.99,0.969,0.962,0.996,0.955,0.998,0.942,0.925,0.953,0.933,0.939,0.932,0.936,0.591,0.943,0.962,0.357,0.776,0.762,0.905,0.884,0.818,0.8,0.812,0.985,0.859,0.788,0.955,0.873,0.951,0.914,0.807,0.85,0.823,0.809,0.913,0.941,0.813,0.838],[0.906,0.886,0.996,0.993,0.88,0.862,0.903,0.877,0.629,0.906,0.903,0.904,0.903,0.905,0.901,0.89,1.0,0.996,0.906,0.94,0.96,0.981,0.95,0.923,0.928,0.932,0.921,0.798,0.881,0.901,0.669,0.905,0.902,0.905,0.892,0.671,0.894,0.896,0.894,0.894,0.813,null,0.891,0.899,0.346,0.745,0.97,0.957,0.955,0.972,0.972,0.932,0.989,0.973,0.967,0.97,0.999,0.973,0.981,0.958,0.97,0.965,0.959,0.967,0.969,0.953,0.961],[0.917,0.895,0.989,0.985,0.893,0.875,0.914,0.885,0.64,0.915,0.916,0.912,0.915,0.917,0.91,0.911,0.996,1.0,0.925,0.945,0.963,0.984,0.951,0.924,0.935,0.939,0.925,0.812,0.893,0.916,0.678,0.916,0.915,0.917,0.912,0.683,0.913,0.91,0.912,0.909,0.822,null,0.904,0.913,0.353,0.755,0.98,0.977,0.979,0.981,0.972,0.945,0.993,0.982,0.977,0.972,0.994,0.986,0.982,0.967,0.97,0.974,0.967,0.975,0.966,0.961,0.965],[0.856,0.824,0.995,0.993,0.796,0.761,0.819,0.824,0.849,0.852,0.828,0.828,0.84,0.846,0.771,0.829,0.906,0.925,1.0,0.923,1.0,0.972,0.93,0.895,0.885,0.905,0.889,0.807,0.849,0.803,0.815,0.836,0.824,0.855,0.792,0.793,0.795,0.777,0.794,0.767,0.788,null,0.777,0.804,0.33,0.666,0.938,0.937,0.939,0.957,0.948,0.887,0.977,0.955,0.952,0.973,0.988,0.981,0.973,0.938,0.949,0.948,0.931,0.943,0.973,0.93,0.931],[0.714,0.703,0.994,0.992,0.685,0.667,0.688,0.706,0.708,0.71,0.695,0.704,0.71,0.707,0.666,0.696,0.94,0.945,0.923,1.0,0.992,0.985,0.975,0.949,0.957,0.954,0.95,0.686,0.71,0.68,0.683,0.698,0.69,0.713,0.673,0.673,0.676,0.668,0.675,0.661,0.671,null,0.667,0.68,0.326,0.575,0.958,0.963,0.957,0.972,0.972,0.905,0.982,0.977,0.972,0.973,0.996,0.994,0.978,0.961,0.965,0.963,0.96,0.968,0.978,0.952,0.955],[0.543,0.542,1.0,0.999,0.542,0.541,0.541,0.542,0.543,0.543,0.543,0.542,0.543,0.543,0.543,0.542,0.96,0.963,1.0,0.992,1.0,0.85,0.977,0.987,0.982,0.99,0.987,0.543,0.543,0.543,0.542,0.543,0.542,0.543,0.542,0.542,0.542,0.542,0.542,0.542,0.542,null,0.542,0.543,0.272,0.433,0.983,0.98,0.982,0.974,0.997,0.944,0.984,0.985,0.987,0.993,0.998,0.975,0.985,0.982,0.973,0.971,0.969,0.985,0.986,0.969,0.964],[0.609,0.608,0.988,0.997,0.608,0.607,0.607,0.606,0.609,0.609,0.609,0.608,0.609,0.609,0.609,0.608,0.981,0.984,0.972,0.985,0.85,1.0,0.982,0.976,0.979,0.977,0.973,0.609,0.609,0.609,0.609,0.609,0.608,0.609,0.608,0.608,0.608,0.608,0.608,0.608,0.608,null,0.608,0.609,0.287,0.496,0.981,0.977,0.977,0.979,0.995,0.964,0.996,0.99,0.984,0.997,0.997,0.988,0.993,0.987,0.979,0.982,0.978,0.982,0.99,0.978,0.974],[0.932,0.915,0.999,0.997,0.887,0.857,0.929,0.908,0.932,0.929,0.927,0.923,0.93,0.931,0.907,0.927,0.95,0.951,0.93,0.975,0.977,0.982,1.0,0.935,0.945,0.939,0.927,0.902,0.927,0.893,0.89,0.922,0.902,0.931,0.883,0.851,0.885,0.82,0.852,0.796,0.816,null,0.841,0.878,0.316,0.727,0.956,0.959,0.956,0.97,0.959,0.872,0.999,0.971,0.97,0.954,0.989,0.99,0.966,0.952,0.945,0.949,0.943,0.968,0.963,0.939,0.94],[0.926,0.896,0.993,0.993,0.867,0.83,0.892,0.895,0.918,0.907,0.896,0.884,0.892,0.92,0.888,0.87,0.923,0.924,0.895,0.949,0.987,0.976,0.935,1.0,0.995,0.992,0.995,0.847,0.918,0.853,0.765,0.842,0.807,0.925,0.714,0.711,0.716,0.711,0.709,0.701,0.708,null,0.749,0.836,0.271,0.662,0.925,0.934,0.927,0.952,0.951,0.851,0.962,0.955,0.949,0.97,1.0,0.999,0.965,0.937,0.942,0.941,0.927,0.94,0.963,0.924,0.925],[0.696,0.685,0.992,0.993,0.67,0.65,0.672,0.688,0.69,0.681,0.679,0.668,0.684,0.694,0.671,0.658,0.928,0.935,0.885,0.957,0.982,0.979,0.945,0.995,1.0,0.994,0.988,0.648,0.687,0.654,0.566,0.628,0.605,0.696,0.543,0.536,0.54,0.537,0.534,0.525,0.533,null,0.603,0.642,0.237,0.527,0.933,0.941,0.935,0.962,0.966,0.871,0.977,0.966,0.952,0.989,0.992,0.998,0.979,0.955,0.961,0.955,0.946,0.943,0.981,0.941,0.94],[0.913,0.894,0.993,0.993,0.864,0.836,0.887,0.898,0.905,0.895,0.891,0.875,0.894,0.909,0.871,0.869,0.932,0.939,0.905,0.954,0.99,0.977,0.939,0.992,0.994,1.0,0.994,0.831,0.9,0.836,0.774,0.844,0.818,0.912,0.724,0.722,0.726,0.721,0.724,0.724,0.726,null,0.745,0.82,0.296,0.646,0.933,0.941,0.934,0.957,0.958,0.869,0.977,0.962,0.952,0.982,0.996,0.998,0.972,0.943,0.95,0.946,0.935,0.944,0.968,0.931,0.935],[0.884,0.863,0.994,0.994,0.842,0.805,0.852,0.865,0.878,0.87,0.859,0.85,0.847,0.879,0.862,0.835,0.921,0.925,0.889,0.95,0.987,0.973,0.927,0.995,0.988,0.994,1.0,0.826,0.877,0.83,0.741,0.808,0.769,0.884,0.693,0.688,0.695,0.669,0.688,0.67,0.683,null,0.75,0.815,0.255,0.663,0.918,0.925,0.911,0.947,0.947,0.848,0.967,0.949,0.939,0.972,0.996,1.0,0.968,0.934,0.942,0.942,0.922,0.93,0.965,0.919,0.921],[0.999,0.954,0.873,0.871,0.964,0.941,0.986,0.949,0.872,0.984,0.983,0.949,0.977,0.997,0.955,0.958,0.798,0.812,0.807,0.686,0.543,0.609,0.902,0.847,0.648,0.831,0.826,1.0,0.971,0.937,0.848,0.975,0.956,0.999,0.937,0.847,0.937,0.911,0.924,0.915,0.901,0.573,0.911,0.933,0.329,0.787,0.742,0.876,0.852,0.8,0.785,0.797,0.978,0.85,0.768,0.95,0.861,0.957,0.868,0.792,0.827,0.81,0.789,0.894,0.942,0.797,0.807],[0.999,0.956,0.87,0.864,0.965,0.958,0.996,0.947,0.963,0.993,0.991,0.998,0.996,0.998,0.993,0.99,0.881,0.893,0.849,0.71,0.543,0.609,0.927,0.918,0.687,0.9,0.877,0.971,1.0,0.992,0.959,0.995,0.989,0.999,0.987,0.964,0.987,0.985,0.986,0.985,0.979,0.623,0.983,0.993,0.369,0.79,0.784,0.933,0.909,0.852,0.831,0.838,0.99,0.906,0.811,0.955,0.9,0.962,0.954,0.838,0.899,0.857,0.84,0.95,0.946,0.854,0.871],[0.999,0.939,0.849,0.841,0.885,0.875,0.986,0.94,0.995,0.976,0.978,0.947,0.975,0.995,0.943,0.969,0.901,0.916,0.803,0.68,0.543,0.609,0.893,0.853,0.654,0.836,0.83,0.937,0.992,1.0,0.952,0.975,0.958,0.998,0.938,0.92,0.942,0.905,0.928,0.908,0.922,0.566,0.894,0.922,0.322,0.783,0.736,0.868,0.847,0.791,0.778,0.788,0.975,0.835,0.758,0.952,0.855,0.956,0.86,0.787,0.809,0.799,0.78,0.884,0.942,0.781,0.791],[0.997,0.953,0.873,0.868,0.947,0.919,0.981,0.945,0.725,0.99,0.984,0.97,0.994,0.995,0.974,0.962,0.669,0.678,0.815,0.683,0.542,0.609,0.89,0.765,0.566,0.774,0.741,0.848,0.959,0.952,1.0,0.916,0.894,0.993,0.807,0.596,0.814,0.788,0.796,0.791,0.742,0.569,0.888,0.934,0.347,0.728,0.75,0.887,0.868,0.786,0.768,0.776,0.979,0.82,0.778,0.942,0.854,0.93,0.878,0.765,0.816,0.786,0.782,0.892,0.928,0.782,0.802],[1.0,0.956,0.873,0.867,0.972,0.961,0.991,0.951,0.998,0.996,0.997,0.987,0.995,0.999,0.99,0.996,0.905,0.916,0.836,0.698,0.543,0.609,0.922,0.842,0.628,0.844,0.808,0.975,0.995,0.975,0.916,1.0,0.977,1.0,0.897,0.873,0.895,0.872,0.878,0.875,0.876,0.595,0.944,0.966,0.364,0.758,0.767,0.91,0.887,0.818,0.797,0.806,0.985,0.86,0.796,0.953,0.876,0.944,0.92,0.8,0.856,0.82,0.812,0.92,0.939,0.816,0.842],[0.997,0.951,0.874,0.871,0.955,0.943,0.982,0.943,0.986,0.988,0.979,0.964,0.991,0.997,0.974,0.955,0.902,0.915,0.824,0.69,0.542,0.608,0.902,0.807,0.605,0.818,0.769,0.956,0.989,0.958,0.894,0.977,1.0,0.996,0.832,0.769,0.827,0.766,0.783,0.772,0.777,0.567,0.905,0.941,0.349,0.735,0.747,0.883,0.864,0.783,0.762,0.772,0.976,0.816,0.775,0.938,0.85,0.926,0.874,0.762,0.813,0.782,0.779,0.888,0.925,0.776,0.797],[1.0,0.958,0.874,0.871,0.986,0.977,0.999,0.95,0.998,0.996,0.999,0.999,0.999,1.0,0.999,0.998,0.905,0.917,0.855,0.713,0.543,0.609,0.931,0.925,0.696,0.912,0.884,0.999,0.999,0.998,0.993,1.0,0.996,1.0,0.996,0.995,0.996,0.995,0.997,0.996,0.994,0.628,0.993,0.998,0.372,0.789,0.787,0.936,0.91,0.856,0.836,0.842,0.991,0.91,0.815,0.955,0.902,0.962,0.962,0.844,0.904,0.862,0.846,0.952,0.948,0.858,0.878],[1.0,0.959,0.874,0.869,0.949,0.929,0.967,0.948,0.988,0.981,0.973,0.953,0.984,0.995,0.967,0.942,0.892,0.912,0.792,0.673,0.542,0.608,0.883,0.714,0.543,0.724,0.693,0.937,0.987,0.938,0.807,0.897,0.832,0.996,1.0,0.63,0.762,0.644,0.672,0.648,0.66,0.53,0.865,0.912,0.327,0.718,0.727,0.852,0.835,0.738,0.721,0.729,0.97,0.759,0.755,0.926,0.822,0.911,0.813,0.713,0.757,0.734,0.74,0.853,0.913,0.732,0.743],[0.998,0.951,0.873,0.868,0.936,0.907,0.966,0.943,0.794,0.974,0.968,0.94,0.98,0.994,0.955,0.925,0.671,0.683,0.793,0.673,0.542,0.608,0.851,0.711,0.536,0.722,0.688,0.847,0.964,0.92,0.596,0.873,0.769,0.995,0.63,1.0,0.634,0.631,0.636,0.634,0.601,0.532,0.8,0.881,0.321,0.67,0.725,0.852,0.833,0.739,0.72,0.728,0.97,0.755,0.754,0.925,0.823,0.91,0.813,0.712,0.756,0.733,0.741,0.853,0.912,0.734,0.74],[1.0,0.96,0.874,0.869,0.955,0.934,0.973,0.948,0.988,0.983,0.978,0.958,0.986,0.995,0.969,0.953,0.894,0.913,0.795,0.676,0.542,0.608,0.885,0.716,0.54,0.726,0.695,0.937,0.987,0.942,0.814,0.895,0.827,0.996,0.762,0.634,1.0,0.636,0.663,0.641,0.653,0.534,0.868,0.915,0.33,0.717,0.729,0.855,0.838,0.743,0.723,0.732,0.971,0.763,0.756,0.928,0.824,0.91,0.818,0.717,0.761,0.737,0.743,0.856,0.913,0.738,0.746],[0.997,0.948,0.874,0.869,0.936,0.901,0.968,0.945,0.983,0.967,0.969,0.922,0.966,0.993,0.938,0.933,0.896,0.91,0.777,0.668,0.542,0.608,0.82,0.711,0.537,0.721,0.669,0.911,0.985,0.905,0.788,0.872,0.766,0.995,0.644,0.631,0.636,1.0,0.613,0.616,0.615,0.388,0.726,0.813,0.165,0.651,0.637,0.701,0.696,0.526,0.54,0.556,0.934,0.523,0.653,0.852,0.702,0.831,0.551,0.514,0.538,0.528,0.541,0.702,0.834,0.531,0.515],[0.998,0.938,0.871,0.863,0.925,0.897,0.97,0.939,0.987,0.977,0.969,0.948,0.982,0.996,0.961,0.939,0.894,0.912,0.794,0.675,0.542,0.608,0.852,0.709,0.534,0.724,0.688,0.924,0.986,0.928,0.796,0.878,0.783,0.997,0.672,0.636,0.663,0.613,1.0,0.608,0.643,0.534,0.68,0.877,0.231,0.635,0.694,0.796,0.783,0.711,0.695,0.674,0.956,0.73,0.718,0.793,0.777,0.778,0.784,0.697,0.738,0.715,0.738,0.8,0.779,0.699,0.735],[0.999,0.936,0.867,0.868,0.919,0.889,0.969,0.937,0.984,0.968,0.97,0.925,0.971,0.994,0.937,0.932,0.894,0.909,0.767,0.661,0.542,0.608,0.796,0.701,0.525,0.724,0.67,0.915,0.985,0.908,0.791,0.875,0.772,0.996,0.648,0.634,0.641,0.616,0.608,1.0,0.643,0.475,0.634,0.773,0.203,0.61,0.614,0.657,0.655,0.64,0.64,0.675,0.926,0.683,0.621,0.879,0.67,0.851,0.673,0.633,0.629,0.65,0.632,0.655,0.859,0.597,0.648],[0.997,0.953,0.874,0.869,0.947,0.92,0.968,0.947,0.899,0.973,0.972,0.94,0.979,0.993,0.956,0.936,0.813,0.822,0.788,0.671,0.542,0.608,0.816,0.708,0.533,0.726,0.683,0.901,0.979,0.922,0.742,0.876,0.777,0.994,0.66,0.601,0.653,0.615,0.643,0.643,1.0,0.535,0.798,0.879,0.32,0.665,0.729,0.844,0.826,0.732,0.718,0.735,0.969,0.758,0.752,0.927,0.824,0.912,0.808,0.717,0.76,0.734,0.73,0.855,0.911,0.73,0.744],[0.629,0.605,null,null,0.604,0.586,0.615,0.601,0.625,0.603,0.615,0.572,0.605,0.626,0.586,0.591,null,null,null,null,null,null,null,null,null,null,null,0.573,0.623,0.566,0.569,0.595,0.567,0.628,0.53,0.532,0.534,0.388,0.534,0.475,0.535,1.0,0.375,0.486,0.026,0.416,null,null,null,null,null,null,null,null,null,null,null,null,null,null,null,null,null,null,null,null,null],[0.995,0.783,0.727,0.725,0.745,0.717,0.974,0.846,0.985,0.965,0.965,0.9,0.96,0.99,0.93,0.943,0.891,0.904,0.777,0.667,0.542,0.608,0.841,0.749,0.603,0.745,0.75,0.911,0.983,0.894,0.888,0.944,0.905,0.993,0.865,0.8,0.868,0.726,0.68,0.634,0.798,0.375,1.0,0.632,0.082,0.604,0.592,0.604,0.606,0.414,0.417,0.478,0.899,0.425,0.579,0.769,0.625,0.765,0.424,0.413,0.425,0.42,0.412,0.584,0.761,0.417,0.415],[0.999,0.907,0.84,0.84,0.897,0.879,0.984,0.926,0.994,0.975,0.985,0.938,0.973,0.996,0.948,0.962,0.899,0.913,0.804,0.68,0.543,0.609,0.878,0.836,0.642,0.82,0.815,0.933,0.993,0.922,0.934,0.966,0.941,0.998,0.912,0.881,0.915,0.813,0.877,0.773,0.879,0.486,0.632,1.0,0.187,0.65,0.601,0.628,0.628,0.605,0.603,0.66,0.926,0.668,0.6,0.928,0.651,0.912,0.65,0.607,0.608,0.622,0.585,0.615,0.913,0.553,0.622],[0.372,0.359,0.347,0.349,0.35,0.339,0.372,0.362,0.372,0.363,0.372,0.335,0.367,0.372,0.34,0.357,0.346,0.353,0.33,0.326,0.272,0.287,0.316,0.271,0.237,0.296,0.255,0.329,0.369,0.322,0.347,0.364,0.349,0.372,0.327,0.321,0.33,0.165,0.231,0.203,0.32,0.026,0.082,0.187,1.0,0.044,0.149,0.187,0.184,0.136,0.125,0.133,0.339,0.174,0.162,0.288,0.192,0.265,0.159,0.104,0.118,0.125,0.116,0.194,0.27,0.112,0.143],[0.79,0.785,0.72,0.71,0.78,0.756,0.778,0.78,0.79,0.79,0.786,0.779,0.776,0.788,0.79,0.776,0.745,0.755,0.666,0.575,0.433,0.496,0.727,0.662,0.527,0.646,0.663,0.787,0.79,0.783,0.728,0.758,0.735,0.789,0.718,0.67,0.717,0.651,0.635,0.61,0.665,0.416,0.604,0.65,0.044,1.0,0.545,0.563,0.566,0.462,0.471,0.525,0.784,0.473,0.54,0.714,0.585,0.707,0.472,0.455,0.476,0.466,0.462,0.56,0.705,0.475,0.468],[0.787,0.753,0.985,0.98,0.759,0.743,0.78,0.747,0.784,0.768,0.78,0.745,0.771,0.785,0.752,0.762,0.97,0.98,0.938,0.958,0.983,0.981,0.956,0.925,0.933,0.933,0.918,0.742,0.784,0.736,0.75,0.767,0.747,0.787,0.727,0.725,0.729,0.637,0.694,0.614,0.729,null,0.592,0.601,0.149,0.545,1.0,0.959,0.963,0.962,0.877,0.664,0.965,0.913,0.953,null,0.981,null,0.894,0.843,0.919,0.921,0.753,0.936,null,0.767,0.824],[0.936,0.885,0.991,0.999,0.881,0.859,0.925,0.883,0.933,0.917,0.929,0.878,0.916,0.934,0.888,0.905,0.957,0.977,0.937,0.963,0.98,0.977,0.959,0.934,0.941,0.941,0.925,0.876,0.933,0.868,0.887,0.91,0.883,0.936,0.852,0.852,0.855,0.701,0.796,0.657,0.844,null,0.604,0.628,0.187,0.563,0.959,1.0,0.953,0.939,0.901,0.696,0.952,0.901,0.951,null,1.0,null,0.868,0.853,0.901,0.895,0.778,0.938,null,0.788,0.841],[0.911,0.867,0.997,0.994,0.868,0.844,0.9,0.863,0.908,0.891,0.903,0.856,0.895,0.909,0.864,0.884,0.955,0.979,0.939,0.957,0.982,0.977,0.956,0.927,0.935,0.934,0.911,0.852,0.909,0.847,0.868,0.887,0.864,0.91,0.835,0.833,0.838,0.696,0.783,0.655,0.826,null,0.606,0.628,0.184,0.566,0.963,0.953,1.0,0.958,0.883,0.672,0.97,0.896,0.953,null,0.996,null,0.886,0.857,0.921,0.925,0.754,0.93,null,0.766,0.824],[0.858,0.796,0.989,0.995,0.775,0.756,0.842,0.814,0.855,0.833,0.844,0.806,0.835,0.855,0.818,0.818,0.972,0.981,0.957,0.972,0.974,0.979,0.97,0.952,0.962,0.957,0.947,0.8,0.852,0.791,0.786,0.818,0.783,0.856,0.738,0.739,0.743,0.526,0.711,0.64,0.732,null,0.414,0.605,0.136,0.462,0.962,0.939,0.958,1.0,0.949,0.834,0.915,0.997,0.952,0.853,0.943,0.885,0.99,0.996,0.996,0.995,0.993,0.953,0.774,0.999,1.0],[0.837,0.776,0.999,1.0,0.762,0.742,0.824,0.799,0.833,0.813,0.824,0.787,0.813,0.835,0.799,0.8,0.972,0.972,0.948,0.972,0.997,0.995,0.959,0.951,0.966,0.958,0.947,0.785,0.831,0.778,0.768,0.797,0.762,0.836,0.721,0.72,0.723,0.54,0.695,0.64,0.718,null,0.417,0.603,0.125,0.471,0.877,0.901,0.883,0.949,1.0,0.845,0.914,0.99,0.945,0.941,0.891,0.91,0.975,0.992,0.939,0.939,0.987,0.896,0.911,0.982,0.969],[0.843,0.79,0.996,0.99,0.782,0.763,0.832,0.798,0.841,0.821,0.833,0.796,0.825,0.84,0.811,0.812,0.932,0.945,0.887,0.905,0.944,0.964,0.872,0.851,0.871,0.869,0.848,0.797,0.838,0.788,0.776,0.806,0.772,0.842,0.729,0.728,0.732,0.556,0.674,0.675,0.735,null,0.478,0.66,0.133,0.525,0.664,0.696,0.672,0.834,0.845,1.0,null,0.809,0.703,0.901,0.963,0.908,0.989,0.855,0.959,0.96,0.855,0.694,0.923,0.858,0.89],[0.991,0.943,0.99,0.983,0.959,0.949,0.989,0.94,0.99,0.983,0.988,0.98,0.987,0.991,0.979,0.985,0.989,0.993,0.977,0.982,0.984,0.996,0.999,0.962,0.977,0.977,0.967,0.978,0.99,0.975,0.979,0.985,0.976,0.991,0.97,0.97,0.971,0.934,0.956,0.926,0.969,null,0.899,0.926,0.339,0.784,0.965,0.952,0.97,0.915,0.914,null,1.0,0.819,0.957,0.529,0.876,null,0.892,0.958,0.746,0.729,0.975,0.995,0.481,0.904,0.853],[0.912,0.833,1.0,0.997,0.809,0.788,0.89,0.852,0.91,0.883,0.891,0.854,0.878,0.908,0.869,0.859,0.973,0.982,0.955,0.977,0.985,0.99,0.971,0.955,0.966,0.962,0.949,0.85,0.906,0.835,0.82,0.86,0.816,0.91,0.759,0.755,0.763,0.523,0.73,0.683,0.758,null,0.425,0.668,0.174,0.473,0.913,0.901,0.896,0.997,0.99,0.809,0.819,1.0,0.941,0.975,0.962,0.957,0.995,0.986,0.997,0.994,0.983,0.948,0.989,0.981,0.995],[0.815,0.772,0.985,0.991,0.775,0.76,0.808,0.769,0.812,0.796,0.808,0.772,0.8,0.815,0.779,0.788,0.967,0.977,0.952,0.972,0.987,0.984,0.97,0.949,0.952,0.952,0.939,0.768,0.811,0.758,0.778,0.796,0.775,0.815,0.755,0.754,0.756,0.653,0.718,0.621,0.752,null,0.579,0.6,0.162,0.54,0.953,0.951,0.953,0.952,0.945,0.703,0.957,0.941,1.0,null,0.97,null,0.879,0.87,0.92,0.925,0.802,0.985,null,0.832,0.882],[0.955,0.881,0.962,0.984,0.877,0.87,0.955,0.899,0.955,0.95,0.955,0.953,0.955,0.955,0.955,0.955,0.97,0.972,0.973,0.973,0.993,0.997,0.954,0.97,0.989,0.982,0.972,0.95,0.955,0.952,0.942,0.953,0.938,0.955,0.926,0.925,0.928,0.852,0.793,0.879,0.927,null,0.769,0.928,0.288,0.714,null,null,null,0.853,0.941,0.901,0.529,0.975,null,1.0,null,0.997,0.906,0.949,0.873,0.869,0.936,null,0.962,0.991,0.882],[0.903,0.858,0.999,0.997,0.861,0.842,0.892,0.858,0.9,0.886,0.896,0.858,0.883,0.901,0.871,0.873,0.999,0.994,0.988,0.996,0.998,0.997,0.989,1.0,0.992,0.996,0.996,0.861,0.9,0.855,0.854,0.876,0.85,0.902,0.822,0.823,0.824,0.702,0.777,0.67,0.824,null,0.625,0.651,0.192,0.585,0.981,1.0,0.996,0.943,0.891,0.963,0.876,0.962,0.97,null,1.0,null,0.864,0.965,0.956,0.965,0.997,0.971,null,0.997,0.994],[0.963,0.895,0.911,0.919,0.883,0.876,0.957,0.907,0.961,0.952,0.954,0.954,0.957,0.961,0.96,0.951,0.973,0.986,0.981,0.994,0.975,0.988,0.99,0.999,0.998,0.998,1.0,0.957,0.962,0.956,0.93,0.944,0.926,0.962,0.911,0.91,0.91,0.831,0.778,0.851,0.912,null,0.765,0.912,0.265,0.707,null,null,null,0.885,0.91,0.908,null,0.957,null,0.997,null,1.0,0.998,0.839,0.952,0.945,0.988,null,0.987,0.889,0.948],[0.962,0.861,0.982,0.979,0.835,0.812,0.947,0.901,0.957,0.933,0.948,0.878,0.934,0.96,0.899,0.914,0.981,0.982,0.973,0.978,0.985,0.993,0.966,0.965,0.979,0.972,0.968,0.868,0.954,0.86,0.878,0.92,0.874,0.962,0.813,0.813,0.818,0.551,0.784,0.673,0.808,null,0.424,0.65,0.159,0.472,0.894,0.868,0.886,0.99,0.975,0.989,0.892,0.995,0.879,0.906,0.864,0.998,1.0,0.999,0.995,0.995,0.998,0.891,0.966,0.993,0.985],[0.844,0.797,0.988,0.991,0.778,0.755,0.829,0.811,0.842,0.818,0.831,0.794,0.82,0.843,0.806,0.807,0.958,0.967,0.938,0.961,0.982,0.987,0.952,0.937,0.955,0.943,0.934,0.792,0.838,0.787,0.765,0.8,0.762,0.844,0.713,0.712,0.717,0.514,0.697,0.633,0.717,null,0.413,0.607,0.104,0.455,0.843,0.853,0.857,0.996,0.992,0.855,0.958,0.986,0.87,0.949,0.965,0.839,0.999,1.0,0.993,0.993,1.0,0.86,0.827,0.996,0.999],[0.904,0.832,0.991,0.992,0.817,0.79,0.886,0.857,0.899,0.875,0.886,0.825,0.872,0.903,0.848,0.85,0.97,0.97,0.949,0.965,0.973,0.979,0.945,0.942,0.961,0.95,0.942,0.827,0.899,0.809,0.816,0.856,0.813,0.904,0.757,0.756,0.761,0.538,0.738,0.629,0.76,null,0.425,0.608,0.118,0.476,0.919,0.901,0.921,0.996,0.939,0.959,0.746,0.997,0.92,0.873,0.956,0.952,0.995,0.993,1.0,1.0,0.998,0.924,0.939,0.999,0.996],[0.863,0.812,0.991,0.992,0.794,0.768,0.848,0.83,0.86,0.84,0.851,0.805,0.839,0.862,0.824,0.823,0.965,0.974,0.948,0.963,0.971,0.982,0.949,0.941,0.955,0.946,0.942,0.81,0.857,0.799,0.786,0.82,0.782,0.862,0.734,0.733,0.737,0.528,0.715,0.65,0.734,null,0.42,0.622,0.125,0.466,0.921,0.895,0.925,0.995,0.939,0.96,0.729,0.994,0.925,0.869,0.965,0.945,0.995,0.993,1.0,1.0,0.997,0.928,0.938,0.999,0.996],[0.847,0.789,0.998,0.997,0.772,0.749,0.833,0.815,0.845,0.822,0.835,0.797,0.825,0.845,0.806,0.809,0.959,0.967,0.931,0.96,0.969,0.978,0.943,0.927,0.946,0.935,0.922,0.789,0.84,0.78,0.782,0.812,0.779,0.846,0.74,0.741,0.743,0.541,0.738,0.632,0.73,null,0.412,0.585,0.116,0.462,0.753,0.778,0.754,0.993,0.987,0.855,0.975,0.983,0.802,0.936,0.997,0.988,0.998,1.0,0.998,0.997,1.0,0.785,0.881,0.999,1.0],[0.953,0.89,0.992,1.0,0.883,0.86,0.938,0.898,0.95,0.93,0.942,0.891,0.926,0.95,0.907,0.913,0.967,0.975,0.943,0.968,0.985,0.982,0.968,0.94,0.943,0.944,0.93,0.894,0.95,0.884,0.892,0.92,0.888,0.952,0.853,0.853,0.856,0.702,0.8,0.655,0.855,null,0.584,0.615,0.194,0.56,0.936,0.938,0.93,0.953,0.896,0.694,0.995,0.948,0.985,null,0.971,null,0.891,0.86,0.924,0.928,0.785,1.0,null,0.787,0.844],[0.948,0.881,0.965,0.955,0.866,0.861,0.946,0.891,0.948,0.941,0.943,0.943,0.946,0.948,0.946,0.941,0.969,0.966,0.973,0.978,0.986,0.99,0.963,0.963,0.981,0.968,0.965,0.942,0.946,0.942,0.928,0.939,0.925,0.948,0.913,0.912,0.913,0.834,0.779,0.859,0.911,null,0.761,0.913,0.27,0.705,null,null,null,0.774,0.911,0.923,0.481,0.989,null,0.962,null,0.987,0.966,0.827,0.939,0.938,0.881,null,1.0,0.88,0.989],[0.859,0.813,0.988,0.993,0.805,0.779,0.841,0.822,0.854,0.831,0.843,0.803,0.829,0.855,0.815,0.813,0.953,0.961,0.93,0.952,0.969,0.978,0.939,0.924,0.941,0.931,0.919,0.797,0.854,0.781,0.782,0.816,0.776,0.858,0.732,0.734,0.738,0.531,0.699,0.597,0.73,null,0.417,0.553,0.112,0.475,0.767,0.788,0.766,0.999,0.982,0.858,0.904,0.981,0.832,0.991,0.997,0.889,0.993,0.996,0.999,0.999,0.999,0.787,0.88,1.0,0.998],[0.879,0.798,0.985,0.99,0.78,0.761,0.866,0.826,0.877,0.853,0.866,0.812,0.856,0.876,0.827,0.838,0.961,0.965,0.931,0.955,0.964,0.974,0.94,0.925,0.94,0.935,0.921,0.807,0.871,0.791,0.802,0.842,0.797,0.878,0.743,0.74,0.746,0.515,0.735,0.648,0.744,null,0.415,0.622,0.143,0.468,0.824,0.841,0.824,1.0,0.969,0.89,0.853,0.995,0.882,0.882,0.994,0.948,0.985,0.999,0.996,0.996,1.0,0.844,0.989,0.998,1.0]],\"type\":\"heatmap\",\"xaxis\":\"x\",\"yaxis\":\"y\"},{\"coloraxis\":\"coloraxis2\",\"customdata\":[[1.0,0.913,-0.008,-0.036,-0.057,-0.042,0.043,-0.067,-0.079,-0.031,-0.022,-0.028,-0.034,0.035,0.02,0.021,0.007,-0.006,0.006,0.005,-0.03,-0.006,-0.018,0.002,0.064,-0.021,-0.002,0.006,0.006,0.016,-0.016,-0.087,0.016,0.013],[0.913,1.0,-0.003,-0.033,-0.056,-0.042,0.046,-0.055,-0.082,-0.032,-0.022,-0.028,-0.035,0.042,0.022,0.022,0.012,0.0,0.007,0.011,-0.036,0.002,-0.016,0.006,0.052,-0.019,-0.002,0.006,0.006,0.021,-0.013,-0.088,0.016,0.016],[-0.008,-0.003,1.0,0.659,0.238,0.227,-0.074,-0.031,0.172,0.224,0.218,0.199,0.224,0.049,0.027,0.024,0.047,-0.065,0.017,0.025,-0.068,0.04,0.014,0.036,0.015,0.015,-0.047,0.044,0.033,0.08,0.039,-0.004,0.068,0.07],[-0.036,-0.033,0.659,1.0,0.196,0.205,-0.055,-0.009,0.156,0.177,0.168,0.167,0.178,0.019,0.017,0.021,0.018,-0.05,-0.005,0.01,-0.035,0.014,0.001,0.006,-0.002,0.013,-0.038,0.015,0.022,0.051,0.015,-0.011,0.033,0.025],[-0.057,-0.056,0.238,0.196,1.0,0.532,-0.149,-0.071,0.374,0.394,0.418,0.354,0.412,0.022,0.025,0.029,0.058,-0.124,0.009,-0.008,-0.09,0.044,0.025,-0.004,0.008,0.048,-0.105,0.071,0.07,0.119,0.032,0.012,0.111,0.091],[-0.042,-0.042,0.227,0.205,0.532,1.0,-0.118,-0.041,0.402,0.449,0.421,0.398,0.451,0.023,0.037,0.028,0.062,-0.14,0.008,0.001,-0.094,0.046,0.014,0.001,0.013,0.053,-0.118,0.08,0.077,0.128,0.043,0.014,0.104,0.09],[0.043,0.046,-0.074,-0.055,-0.149,-0.118,1.0,0.71,-0.316,-0.152,-0.155,-0.13,-0.149,-0.015,-0.019,-0.018,-0.021,0.07,0.009,0.01,0.061,-0.029,-0.01,-0.009,-0.012,-0.019,0.062,-0.036,-0.033,-0.067,-0.024,-0.023,-0.068,-0.051],[-0.067,-0.055,-0.031,-0.009,-0.071,-0.041,0.71,1.0,-0.181,-0.084,-0.096,-0.069,-0.083,-0.006,-0.004,-0.0,-0.022,0.05,-0.011,0.009,0.036,-0.012,0.016,-0.004,-0.005,-0.024,0.046,-0.025,-0.03,-0.035,-0.006,0.003,-0.048,-0.035],[-0.079,-0.082,0.172,0.156,0.374,0.402,-0.316,-0.181,1.0,0.465,0.45,0.407,0.45,0.035,0.044,0.037,0.065,-0.201,-0.001,0.004,-0.116,0.05,0.009,0.009,0.011,0.065,-0.163,0.095,0.104,0.16,0.054,0.026,0.143,0.103],[-0.031,-0.032,0.224,0.177,0.394,0.449,-0.152,-0.084,0.465,1.0,0.756,0.82,0.918,0.077,0.1,0.083,0.135,-0.234,0.077,0.004,-0.185,0.102,0.012,0.017,0.033,0.106,-0.225,0.169,0.166,0.243,0.089,0.024,0.236,0.207],[-0.022,-0.022,0.218,0.168,0.418,0.421,-0.155,-0.096,0.45,0.756,1.0,0.692,0.836,0.097,0.119,0.103,0.162,-0.237,0.111,0.031,-0.208,0.114,0.019,0.013,0.03,0.116,-0.243,0.19,0.179,0.264,0.097,0.021,0.261,0.233],[-0.028,-0.028,0.199,0.167,0.354,0.398,-0.13,-0.069,0.407,0.82,0.692,1.0,0.893,0.075,0.093,0.078,0.132,-0.224,0.09,0.013,-0.177,0.092,0.013,0.007,0.025,0.11,-0.214,0.164,0.156,0.229,0.081,0.012,0.222,0.203],[-0.034,-0.035,0.224,0.178,0.412,0.451,-0.149,-0.083,0.45,0.918,0.836,0.893,1.0,0.085,0.103,0.075,0.144,-0.241,0.099,0.007,-0.193,0.102,0.004,0.016,0.03,0.118,-0.241,0.183,0.183,0.256,0.088,0.022,0.252,0.225],[0.035,0.042,0.049,0.019,0.022,0.023,-0.015,-0.006,0.035,0.077,0.097,0.075,0.085,1.0,0.852,0.903,0.245,-0.174,0.128,0.269,-0.45,0.716,null,-0.063,null,-0.281,-0.154,-0.166,-0.17,0.329,0.738,null,0.354,0.374],[0.02,0.022,0.027,0.017,0.025,0.037,-0.019,-0.004,0.044,0.1,0.119,0.093,0.103,0.852,1.0,0.88,0.338,-0.177,0.162,0.33,-0.527,0.742,null,-0.016,null,-0.294,-0.209,-0.109,-0.097,0.342,0.758,null,0.397,0.393],[0.021,0.022,0.024,0.021,0.029,0.028,-0.018,-0.0,0.037,0.083,0.103,0.078,0.075,0.903,0.88,1.0,0.329,-0.16,0.148,0.345,-0.464,0.76,null,-0.044,null,-0.272,-0.197,-0.13,-0.138,0.315,0.748,null,0.379,0.383],[0.007,0.012,0.047,0.018,0.058,0.062,-0.021,-0.022,0.065,0.135,0.162,0.132,0.144,0.245,0.338,0.329,1.0,-0.181,0.482,-0.076,-0.558,0.501,-0.152,0.384,-0.076,0.08,-0.455,0.35,0.332,0.433,0.216,-0.219,0.545,0.615],[-0.006,0.0,-0.065,-0.05,-0.124,-0.14,0.07,0.05,-0.201,-0.234,-0.237,-0.224,-0.241,-0.174,-0.177,-0.16,-0.181,1.0,-0.463,-0.011,0.393,-0.079,-0.041,0.079,-0.026,-0.512,0.868,-0.57,-0.571,-0.766,-0.249,-0.083,-0.715,-0.572],[0.006,0.007,0.017,-0.005,0.009,0.008,0.009,-0.011,-0.001,0.077,0.111,0.09,0.099,0.128,0.162,0.148,0.482,-0.463,1.0,null,-0.349,0.138,-0.34,0.086,-0.189,0.498,-0.576,0.596,0.599,0.522,0.072,-0.208,0.591,0.645],[0.005,0.011,0.025,0.01,-0.008,0.001,0.01,0.009,0.004,0.004,0.031,0.013,0.007,0.269,0.33,0.345,-0.076,-0.011,null,1.0,-0.28,0.269,-0.057,-0.078,null,0.101,-0.051,0.28,0.247,0.164,0.309,0.038,0.19,0.167],[-0.03,-0.036,-0.068,-0.035,-0.09,-0.094,0.061,0.036,-0.116,-0.185,-0.208,-0.177,-0.193,-0.45,-0.527,-0.464,-0.558,0.393,-0.349,-0.28,1.0,-0.552,-0.05,-0.151,-0.013,0.044,0.581,-0.395,-0.39,-0.706,-0.52,-0.054,-0.734,-0.75],[-0.006,0.002,0.04,0.014,0.044,0.046,-0.029,-0.012,0.05,0.102,0.114,0.092,0.102,0.716,0.742,0.76,0.501,-0.079,0.138,0.269,-0.552,1.0,null,0.275,null,-0.364,-0.196,-0.099,-0.109,0.318,0.795,null,0.409,0.401],[-0.018,-0.016,0.014,0.001,0.025,0.014,-0.01,0.016,0.009,0.012,0.019,0.013,0.004,null,null,null,-0.152,-0.041,-0.34,-0.057,-0.05,null,1.0,null,0.607,-0.111,0.012,-0.065,-0.057,0.042,null,0.693,0.019,-0.087],[0.002,0.006,0.036,0.006,-0.004,0.001,-0.009,-0.004,0.009,0.017,0.013,0.007,0.016,-0.063,-0.016,-0.044,0.384,0.079,0.086,-0.078,-0.151,0.275,null,1.0,null,-0.145,0.029,0.059,0.041,0.05,0.078,null,0.089,0.176],[0.064,0.052,0.015,-0.002,0.008,0.013,-0.012,-0.005,0.011,0.033,0.03,0.025,0.03,null,null,null,-0.076,-0.026,-0.189,null,-0.013,null,0.607,null,1.0,-0.018,-0.016,0.0,0.014,0.094,null,0.34,0.118,-0.014],[-0.021,-0.019,0.015,0.013,0.048,0.053,-0.019,-0.024,0.065,0.106,0.116,0.11,0.118,-0.281,-0.294,-0.272,0.08,-0.512,0.498,0.101,0.044,-0.364,-0.111,-0.145,-0.018,1.0,-0.487,0.778,0.778,0.402,-0.308,-0.061,0.426,0.397],[-0.002,-0.002,-0.047,-0.038,-0.105,-0.118,0.062,0.046,-0.163,-0.225,-0.243,-0.214,-0.241,-0.154,-0.209,-0.197,-0.455,0.868,-0.576,-0.051,0.581,-0.196,0.012,0.029,-0.016,-0.487,1.0,-0.664,-0.665,-0.851,-0.243,0.008,-0.824,-0.707],[0.006,0.006,0.044,0.015,0.071,0.08,-0.036,-0.025,0.095,0.169,0.19,0.164,0.183,-0.166,-0.109,-0.13,0.35,-0.57,0.596,0.28,-0.395,-0.099,-0.065,0.059,0.0,0.778,-0.664,1.0,1.0,0.621,-0.16,-0.022,0.679,0.619],[0.006,0.006,0.033,0.022,0.07,0.077,-0.033,-0.03,0.104,0.166,0.179,0.156,0.183,-0.17,-0.097,-0.138,0.332,-0.571,0.599,0.247,-0.39,-0.109,-0.057,0.041,0.014,0.778,-0.665,1.0,1.0,0.618,-0.168,-0.02,0.683,0.618],[0.016,0.021,0.08,0.051,0.119,0.128,-0.067,-0.035,0.16,0.243,0.264,0.229,0.256,0.329,0.342,0.315,0.433,-0.766,0.522,0.164,-0.706,0.318,0.042,0.05,0.094,0.402,-0.851,0.621,0.618,1.0,0.39,0.124,0.922,0.851],[-0.016,-0.013,0.039,0.015,0.032,0.043,-0.024,-0.006,0.054,0.089,0.097,0.081,0.088,0.738,0.758,0.748,0.216,-0.249,0.072,0.309,-0.52,0.795,null,0.078,null,-0.308,-0.243,-0.16,-0.168,0.39,1.0,null,0.409,0.384],[-0.087,-0.088,-0.004,-0.011,0.012,0.014,-0.023,0.003,0.026,0.024,0.021,0.012,0.022,null,null,null,-0.219,-0.083,-0.208,0.038,-0.054,null,0.693,null,0.34,-0.061,0.008,-0.022,-0.02,0.124,null,1.0,0.081,0.028],[0.016,0.016,0.068,0.033,0.111,0.104,-0.068,-0.048,0.143,0.236,0.261,0.222,0.252,0.354,0.397,0.379,0.545,-0.715,0.591,0.19,-0.734,0.409,0.019,0.089,0.118,0.426,-0.824,0.679,0.683,0.922,0.409,0.081,1.0,0.919],[0.013,0.016,0.07,0.025,0.091,0.09,-0.051,-0.035,0.103,0.207,0.233,0.203,0.225,0.374,0.393,0.383,0.615,-0.572,0.645,0.167,-0.75,0.401,-0.087,0.176,-0.014,0.397,-0.707,0.619,0.618,0.851,0.384,0.028,0.919,1.0]],\"hovertemplate\":\"\\u003cb\\u003eCorrelation\\u003c\\u002fb\\u003e\\u003cbr\\u003e(%{x},%{y})\\u003cbr\\u003e\\u003cbr\\u003eSynthetic: %{z}\\u003cbr\\u003e(vs. Real: %{customdata})\\u003cextra\\u003e\\u003c\\u002fextra\\u003e\",\"x\":[\"first_dist_code\",\"first_hs_code\",\"scale_score_6_math\",\"scale_score_6_read\",\"scale_score_8_math\",\"scale_score_8_read\",\"pct_absent_in_hs\",\"pct_excused_in_hs\",\"avg_gpa_hs\",\"scale_score_11_eng\",\"scale_score_11_math\",\"scale_score_11_read\",\"scale_score_11_comp\",\"ihe_act_25th_pctl_cumulative\",\"ihe_act_75th_pctl_cumulative\",\"ihe_act_midpoint_cumulative\",\"ihe_ihe_size\",\"ihe_part_time_share\",\"ihe_avg_net_price_pub\",\"ihe_avg_net_price_priv\",\"ihe_pell_grant_rate\",\"ihe_retention_4_yr_full_time\",\"ihe_retention_lt_4_yr_full_time\",\"ihe_retention_4_yr_part_time\",\"ihe_retention_lt_4_yr_part_time\",\"ihe_federal_loan_rate\",\"ihe_share_25_older\",\"ihe_med_debt_completers_all\",\"ihe_med_debt_completers_pmts\",\"ihe_ihe_repay_3_yr_all\",\"ihe_rate_4_yr\",\"ihe_rate_lt_4_yr\",\"ihe_med_earn_10_yrs_after\",\"ihe_pct_earn_gt_25k_6_yrs_after\"],\"y\":[\"first_dist_code\",\"first_hs_code\",\"scale_score_6_math\",\"scale_score_6_read\",\"scale_score_8_math\",\"scale_score_8_read\",\"pct_absent_in_hs\",\"pct_excused_in_hs\",\"avg_gpa_hs\",\"scale_score_11_eng\",\"scale_score_11_math\",\"scale_score_11_read\",\"scale_score_11_comp\",\"ihe_act_25th_pctl_cumulative\",\"ihe_act_75th_pctl_cumulative\",\"ihe_act_midpoint_cumulative\",\"ihe_ihe_size\",\"ihe_part_time_share\",\"ihe_avg_net_price_pub\",\"ihe_avg_net_price_priv\",\"ihe_pell_grant_rate\",\"ihe_retention_4_yr_full_time\",\"ihe_retention_lt_4_yr_full_time\",\"ihe_retention_4_yr_part_time\",\"ihe_retention_lt_4_yr_part_time\",\"ihe_federal_loan_rate\",\"ihe_share_25_older\",\"ihe_med_debt_completers_all\",\"ihe_med_debt_completers_pmts\",\"ihe_ihe_repay_3_yr_all\",\"ihe_rate_4_yr\",\"ihe_rate_lt_4_yr\",\"ihe_med_earn_10_yrs_after\",\"ihe_pct_earn_gt_25k_6_yrs_after\"],\"z\":[[1.0,0.986,-0.016,-0.058,-0.066,-0.054,0.043,-0.042,-0.08,-0.045,-0.038,-0.043,-0.046,0.064,0.003,0.015,-0.015,-0.007,0.014,0.024,-0.031,-0.036,0.058,0.004,0.242,-0.056,0.021,-0.011,-0.011,0.013,-0.031,-0.157,-0.007,-0.017],[0.986,1.0,-0.017,-0.062,-0.07,-0.058,0.045,-0.048,-0.088,-0.045,-0.036,-0.043,-0.046,0.083,0.023,0.034,0.001,0.001,0.028,0.045,-0.042,-0.015,0.017,0.012,0.214,-0.061,0.017,-0.01,-0.01,0.015,-0.012,-0.178,0.001,-0.005],[-0.016,-0.017,1.0,0.667,0.425,0.348,-0.153,-0.069,0.273,0.378,0.361,0.335,0.381,0.11,0.114,0.114,0.103,-0.12,0.153,0.047,-0.121,0.106,0.074,0.034,0.069,0.053,-0.131,0.104,0.104,0.161,0.104,0.059,0.163,0.149],[-0.058,-0.062,0.667,1.0,0.347,0.315,-0.13,-0.04,0.254,0.33,0.297,0.29,0.327,0.058,0.063,0.062,0.056,-0.107,0.106,-0.003,-0.072,0.06,0.056,0.018,0.026,0.05,-0.104,0.074,0.074,0.118,0.064,0.058,0.111,0.094],[-0.066,-0.07,0.425,0.347,1.0,0.687,-0.148,-0.128,0.514,0.605,0.648,0.545,0.635,0.146,0.151,0.151,0.145,-0.228,0.235,0.038,-0.18,0.14,0.079,0.02,0.045,0.101,-0.228,0.173,0.173,0.257,0.146,0.067,0.252,0.229],[-0.054,-0.058,0.348,0.315,0.687,1.0,-0.103,-0.07,0.452,0.551,0.507,0.49,0.552,0.108,0.112,0.114,0.117,-0.195,0.198,0.037,-0.141,0.103,0.068,0.008,0.026,0.096,-0.196,0.15,0.15,0.207,0.107,0.057,0.2,0.181],[0.043,0.045,-0.153,-0.13,-0.148,-0.103,1.0,0.409,-0.27,-0.125,-0.12,-0.109,-0.123,-0.05,-0.059,-0.054,-0.073,0.077,-0.104,-0.021,0.091,-0.055,-0.023,-0.014,-0.061,-0.049,0.097,-0.091,-0.091,-0.128,-0.054,-0.051,-0.131,-0.123],[-0.042,-0.048,-0.069,-0.04,-0.128,-0.07,0.409,1.0,-0.218,-0.131,-0.139,-0.115,-0.136,-0.044,-0.05,-0.047,-0.064,0.059,-0.082,0.001,0.055,-0.044,0.022,-0.011,-0.029,-0.038,0.071,-0.067,-0.067,-0.079,-0.042,0.024,-0.093,-0.086],[-0.08,-0.088,0.273,0.254,0.514,0.452,-0.27,-0.218,1.0,0.596,0.559,0.529,0.596,0.123,0.126,0.125,0.125,-0.282,0.255,0.006,-0.175,0.11,0.1,-0.013,0.03,0.133,-0.26,0.205,0.205,0.274,0.119,0.099,0.265,0.224],[-0.045,-0.045,0.378,0.33,0.605,0.551,-0.125,-0.131,0.596,1.0,0.766,0.836,0.929,0.226,0.231,0.229,0.23,-0.332,0.375,0.08,-0.276,0.204,0.072,0.017,0.035,0.176,-0.351,0.285,0.285,0.389,0.208,0.097,0.387,0.356],[-0.038,-0.036,0.361,0.297,0.648,0.507,-0.12,-0.139,0.559,0.766,1.0,0.704,0.86,0.23,0.237,0.234,0.238,-0.305,0.368,0.077,-0.275,0.211,0.04,0.029,0.026,0.158,-0.332,0.268,0.268,0.372,0.21,0.06,0.379,0.354],[-0.043,-0.043,0.335,0.29,0.545,0.49,-0.109,-0.115,0.529,0.836,0.704,1.0,0.904,0.209,0.211,0.21,0.217,-0.308,0.352,0.059,-0.253,0.188,0.049,0.014,0.021,0.166,-0.328,0.265,0.265,0.359,0.192,0.075,0.36,0.333],[-0.046,-0.046,0.381,0.327,0.635,0.552,-0.123,-0.136,0.596,0.929,0.86,0.904,1.0,0.249,0.254,0.252,0.251,-0.347,0.403,0.073,-0.295,0.225,0.06,0.024,0.031,0.183,-0.372,0.3,0.3,0.412,0.229,0.091,0.414,0.383],[0.064,0.083,0.11,0.058,0.146,0.108,-0.05,-0.044,0.123,0.226,0.23,0.209,0.249,1.0,0.934,0.977,0.322,-0.419,0.8,0.338,-0.623,0.81,null,-0.1,null,-0.493,-0.467,-0.328,-0.328,0.822,0.865,null,0.821,0.725],[0.003,0.023,0.114,0.063,0.151,0.112,-0.059,-0.05,0.126,0.231,0.237,0.211,0.254,0.934,1.0,0.975,0.459,-0.376,0.769,0.426,-0.725,0.84,null,-0.016,null,-0.558,-0.504,-0.307,-0.307,0.785,0.882,null,0.821,0.711],[0.015,0.034,0.114,0.062,0.151,0.114,-0.054,-0.047,0.125,0.229,0.234,0.21,0.252,0.977,0.975,1.0,0.414,-0.394,0.805,0.405,-0.673,0.854,null,-0.053,null,-0.5,-0.482,-0.288,-0.288,0.807,0.888,null,0.846,0.735],[-0.015,0.001,0.103,0.056,0.145,0.117,-0.073,-0.064,0.125,0.23,0.238,0.217,0.251,0.322,0.459,0.414,1.0,-0.282,0.814,0.094,-0.564,0.597,-0.445,0.499,-0.306,0.06,-0.463,0.341,0.341,0.448,0.311,-0.672,0.547,0.616],[-0.007,0.001,-0.12,-0.107,-0.228,-0.195,0.077,0.059,-0.282,-0.332,-0.305,-0.308,-0.347,-0.419,-0.376,-0.394,-0.282,1.0,-0.773,0.161,0.414,-0.19,-0.16,0.296,0.153,-0.561,0.883,-0.692,-0.692,-0.793,-0.457,-0.26,-0.751,-0.633],[0.014,0.028,0.153,0.106,0.235,0.198,-0.104,-0.082,0.255,0.375,0.368,0.352,0.403,0.8,0.769,0.805,0.814,-0.773,1.0,null,-0.731,0.732,-0.538,0.161,-0.373,0.519,-0.866,0.679,0.679,0.813,0.683,-0.361,0.876,0.865],[0.024,0.045,0.047,-0.003,0.038,0.037,-0.021,0.001,0.006,0.08,0.077,0.059,0.073,0.338,0.426,0.405,0.094,0.161,null,1.0,-0.642,0.183,-1.0,-0.327,null,0.318,0.034,0.788,0.788,0.214,0.319,-1.0,0.382,0.461],[-0.031,-0.042,-0.121,-0.072,-0.18,-0.141,0.091,0.055,-0.175,-0.276,-0.275,-0.253,-0.295,-0.623,-0.725,-0.673,-0.564,0.414,-0.731,-0.642,1.0,-0.67,-0.099,-0.227,0.072,0.054,0.553,-0.402,-0.402,-0.672,-0.625,-0.076,-0.697,-0.739],[-0.036,-0.015,0.106,0.06,0.14,0.103,-0.055,-0.044,0.11,0.204,0.211,0.188,0.225,0.81,0.84,0.854,0.597,-0.19,0.732,0.183,-0.67,1.0,null,0.335,null,-0.606,-0.456,-0.259,-0.259,0.714,0.826,null,0.745,0.638],[0.058,0.017,0.074,0.056,0.079,0.068,-0.023,0.022,0.1,0.072,0.04,0.049,0.06,null,null,null,-0.445,-0.16,-0.538,-1.0,-0.099,null,1.0,null,0.601,-0.298,0.115,-0.319,-0.319,0.171,null,0.616,0.001,-0.322],[0.004,0.012,0.034,0.018,0.02,0.008,-0.014,-0.011,-0.013,0.017,0.029,0.014,0.024,-0.1,-0.016,-0.053,0.499,0.296,0.161,-0.327,-0.227,0.335,null,1.0,null,-0.416,0.1,-0.029,-0.029,0.056,0.137,null,0.095,0.188],[0.242,0.214,0.069,0.026,0.045,0.026,-0.061,-0.029,0.03,0.035,0.026,0.021,0.031,null,null,null,-0.306,0.153,-0.373,null,0.072,null,0.601,null,1.0,-0.021,0.306,-0.096,-0.096,0.071,null,0.366,0.341,-0.117],[-0.056,-0.061,0.053,0.05,0.101,0.096,-0.049,-0.038,0.133,0.176,0.158,0.166,0.183,-0.493,-0.558,-0.5,0.06,-0.561,0.519,0.318,0.054,-0.606,-0.298,-0.416,-0.021,1.0,-0.485,0.788,0.788,0.398,-0.527,-0.128,0.412,0.367],[0.021,0.017,-0.131,-0.104,-0.228,-0.196,0.097,0.071,-0.26,-0.351,-0.332,-0.328,-0.372,-0.467,-0.504,-0.482,-0.463,0.883,-0.866,0.034,0.553,-0.456,0.115,0.1,0.306,-0.485,1.0,-0.678,-0.678,-0.851,-0.524,0.354,-0.816,-0.709],[-0.011,-0.01,0.104,0.074,0.173,0.15,-0.091,-0.067,0.205,0.285,0.268,0.265,0.3,-0.328,-0.307,-0.288,0.341,-0.692,0.679,0.788,-0.402,-0.259,-0.319,-0.029,-0.096,0.788,-0.678,1.0,1.0,0.625,-0.311,-0.144,0.681,0.611],[-0.011,-0.01,0.104,0.074,0.173,0.15,-0.091,-0.067,0.205,0.285,0.268,0.265,0.3,-0.328,-0.307,-0.288,0.341,-0.692,0.679,0.788,-0.402,-0.259,-0.319,-0.029,-0.096,0.788,-0.678,1.0,1.0,0.625,-0.311,-0.144,0.681,0.611],[0.013,0.015,0.161,0.118,0.257,0.207,-0.128,-0.079,0.274,0.389,0.372,0.359,0.412,0.822,0.785,0.807,0.448,-0.793,0.813,0.214,-0.672,0.714,0.171,0.056,0.071,0.398,-0.851,0.625,0.625,1.0,0.821,0.361,0.92,0.852],[-0.031,-0.012,0.104,0.064,0.146,0.107,-0.054,-0.042,0.119,0.208,0.21,0.192,0.229,0.865,0.882,0.888,0.311,-0.457,0.683,0.319,-0.625,0.826,null,0.137,null,-0.527,-0.524,-0.311,-0.311,0.821,1.0,null,0.835,0.696],[-0.157,-0.178,0.059,0.058,0.067,0.057,-0.051,0.024,0.099,0.097,0.06,0.075,0.091,null,null,null,-0.672,-0.26,-0.361,-1.0,-0.076,null,0.616,null,0.366,-0.128,0.354,-0.144,-0.144,0.361,null,1.0,0.321,0.049],[-0.007,0.001,0.163,0.111,0.252,0.2,-0.131,-0.093,0.265,0.387,0.379,0.36,0.414,0.821,0.821,0.846,0.547,-0.751,0.876,0.382,-0.697,0.745,0.001,0.095,0.341,0.412,-0.816,0.681,0.681,0.92,0.835,0.321,1.0,0.923],[-0.017,-0.005,0.149,0.094,0.229,0.181,-0.123,-0.086,0.224,0.356,0.354,0.333,0.383,0.725,0.711,0.735,0.616,-0.633,0.865,0.461,-0.739,0.638,-0.322,0.188,-0.117,0.367,-0.709,0.611,0.611,0.852,0.696,0.049,0.923,1.0]],\"type\":\"heatmap\",\"xaxis\":\"x2\",\"yaxis\":\"y2\"},{\"coloraxis\":\"coloraxis2\",\"customdata\":[[1.0,0.986,-0.016,-0.058,-0.066,-0.054,0.043,-0.042,-0.08,-0.045,-0.038,-0.043,-0.046,0.064,0.003,0.015,-0.015,-0.007,0.014,0.024,-0.031,-0.036,0.058,0.004,0.242,-0.056,0.021,-0.011,-0.011,0.013,-0.031,-0.157,-0.007,-0.017],[0.986,1.0,-0.017,-0.062,-0.07,-0.058,0.045,-0.048,-0.088,-0.045,-0.036,-0.043,-0.046,0.083,0.023,0.034,0.001,0.001,0.028,0.045,-0.042,-0.015,0.017,0.012,0.214,-0.061,0.017,-0.01,-0.01,0.015,-0.012,-0.178,0.001,-0.005],[-0.016,-0.017,1.0,0.667,0.425,0.348,-0.153,-0.069,0.273,0.378,0.361,0.335,0.381,0.11,0.114,0.114,0.103,-0.12,0.153,0.047,-0.121,0.106,0.074,0.034,0.069,0.053,-0.131,0.104,0.104,0.161,0.104,0.059,0.163,0.149],[-0.058,-0.062,0.667,1.0,0.347,0.315,-0.13,-0.04,0.254,0.33,0.297,0.29,0.327,0.058,0.063,0.062,0.056,-0.107,0.106,-0.003,-0.072,0.06,0.056,0.018,0.026,0.05,-0.104,0.074,0.074,0.118,0.064,0.058,0.111,0.094],[-0.066,-0.07,0.425,0.347,1.0,0.687,-0.148,-0.128,0.514,0.605,0.648,0.545,0.635,0.146,0.151,0.151,0.145,-0.228,0.235,0.038,-0.18,0.14,0.079,0.02,0.045,0.101,-0.228,0.173,0.173,0.257,0.146,0.067,0.252,0.229],[-0.054,-0.058,0.348,0.315,0.687,1.0,-0.103,-0.07,0.452,0.551,0.507,0.49,0.552,0.108,0.112,0.114,0.117,-0.195,0.198,0.037,-0.141,0.103,0.068,0.008,0.026,0.096,-0.196,0.15,0.15,0.207,0.107,0.057,0.2,0.181],[0.043,0.045,-0.153,-0.13,-0.148,-0.103,1.0,0.409,-0.27,-0.125,-0.12,-0.109,-0.123,-0.05,-0.059,-0.054,-0.073,0.077,-0.104,-0.021,0.091,-0.055,-0.023,-0.014,-0.061,-0.049,0.097,-0.091,-0.091,-0.128,-0.054,-0.051,-0.131,-0.123],[-0.042,-0.048,-0.069,-0.04,-0.128,-0.07,0.409,1.0,-0.218,-0.131,-0.139,-0.115,-0.136,-0.044,-0.05,-0.047,-0.064,0.059,-0.082,0.001,0.055,-0.044,0.022,-0.011,-0.029,-0.038,0.071,-0.067,-0.067,-0.079,-0.042,0.024,-0.093,-0.086],[-0.08,-0.088,0.273,0.254,0.514,0.452,-0.27,-0.218,1.0,0.596,0.559,0.529,0.596,0.123,0.126,0.125,0.125,-0.282,0.255,0.006,-0.175,0.11,0.1,-0.013,0.03,0.133,-0.26,0.205,0.205,0.274,0.119,0.099,0.265,0.224],[-0.045,-0.045,0.378,0.33,0.605,0.551,-0.125,-0.131,0.596,1.0,0.766,0.836,0.929,0.226,0.231,0.229,0.23,-0.332,0.375,0.08,-0.276,0.204,0.072,0.017,0.035,0.176,-0.351,0.285,0.285,0.389,0.208,0.097,0.387,0.356],[-0.038,-0.036,0.361,0.297,0.648,0.507,-0.12,-0.139,0.559,0.766,1.0,0.704,0.86,0.23,0.237,0.234,0.238,-0.305,0.368,0.077,-0.275,0.211,0.04,0.029,0.026,0.158,-0.332,0.268,0.268,0.372,0.21,0.06,0.379,0.354],[-0.043,-0.043,0.335,0.29,0.545,0.49,-0.109,-0.115,0.529,0.836,0.704,1.0,0.904,0.209,0.211,0.21,0.217,-0.308,0.352,0.059,-0.253,0.188,0.049,0.014,0.021,0.166,-0.328,0.265,0.265,0.359,0.192,0.075,0.36,0.333],[-0.046,-0.046,0.381,0.327,0.635,0.552,-0.123,-0.136,0.596,0.929,0.86,0.904,1.0,0.249,0.254,0.252,0.251,-0.347,0.403,0.073,-0.295,0.225,0.06,0.024,0.031,0.183,-0.372,0.3,0.3,0.412,0.229,0.091,0.414,0.383],[0.064,0.083,0.11,0.058,0.146,0.108,-0.05,-0.044,0.123,0.226,0.23,0.209,0.249,1.0,0.934,0.977,0.322,-0.419,0.8,0.338,-0.623,0.81,null,-0.1,null,-0.493,-0.467,-0.328,-0.328,0.822,0.865,null,0.821,0.725],[0.003,0.023,0.114,0.063,0.151,0.112,-0.059,-0.05,0.126,0.231,0.237,0.211,0.254,0.934,1.0,0.975,0.459,-0.376,0.769,0.426,-0.725,0.84,null,-0.016,null,-0.558,-0.504,-0.307,-0.307,0.785,0.882,null,0.821,0.711],[0.015,0.034,0.114,0.062,0.151,0.114,-0.054,-0.047,0.125,0.229,0.234,0.21,0.252,0.977,0.975,1.0,0.414,-0.394,0.805,0.405,-0.673,0.854,null,-0.053,null,-0.5,-0.482,-0.288,-0.288,0.807,0.888,null,0.846,0.735],[-0.015,0.001,0.103,0.056,0.145,0.117,-0.073,-0.064,0.125,0.23,0.238,0.217,0.251,0.322,0.459,0.414,1.0,-0.282,0.814,0.094,-0.564,0.597,-0.445,0.499,-0.306,0.06,-0.463,0.341,0.341,0.448,0.311,-0.672,0.547,0.616],[-0.007,0.001,-0.12,-0.107,-0.228,-0.195,0.077,0.059,-0.282,-0.332,-0.305,-0.308,-0.347,-0.419,-0.376,-0.394,-0.282,1.0,-0.773,0.161,0.414,-0.19,-0.16,0.296,0.153,-0.561,0.883,-0.692,-0.692,-0.793,-0.457,-0.26,-0.751,-0.633],[0.014,0.028,0.153,0.106,0.235,0.198,-0.104,-0.082,0.255,0.375,0.368,0.352,0.403,0.8,0.769,0.805,0.814,-0.773,1.0,null,-0.731,0.732,-0.538,0.161,-0.373,0.519,-0.866,0.679,0.679,0.813,0.683,-0.361,0.876,0.865],[0.024,0.045,0.047,-0.003,0.038,0.037,-0.021,0.001,0.006,0.08,0.077,0.059,0.073,0.338,0.426,0.405,0.094,0.161,null,1.0,-0.642,0.183,-1.0,-0.327,null,0.318,0.034,0.788,0.788,0.214,0.319,-1.0,0.382,0.461],[-0.031,-0.042,-0.121,-0.072,-0.18,-0.141,0.091,0.055,-0.175,-0.276,-0.275,-0.253,-0.295,-0.623,-0.725,-0.673,-0.564,0.414,-0.731,-0.642,1.0,-0.67,-0.099,-0.227,0.072,0.054,0.553,-0.402,-0.402,-0.672,-0.625,-0.076,-0.697,-0.739],[-0.036,-0.015,0.106,0.06,0.14,0.103,-0.055,-0.044,0.11,0.204,0.211,0.188,0.225,0.81,0.84,0.854,0.597,-0.19,0.732,0.183,-0.67,1.0,null,0.335,null,-0.606,-0.456,-0.259,-0.259,0.714,0.826,null,0.745,0.638],[0.058,0.017,0.074,0.056,0.079,0.068,-0.023,0.022,0.1,0.072,0.04,0.049,0.06,null,null,null,-0.445,-0.16,-0.538,-1.0,-0.099,null,1.0,null,0.601,-0.298,0.115,-0.319,-0.319,0.171,null,0.616,0.001,-0.322],[0.004,0.012,0.034,0.018,0.02,0.008,-0.014,-0.011,-0.013,0.017,0.029,0.014,0.024,-0.1,-0.016,-0.053,0.499,0.296,0.161,-0.327,-0.227,0.335,null,1.0,null,-0.416,0.1,-0.029,-0.029,0.056,0.137,null,0.095,0.188],[0.242,0.214,0.069,0.026,0.045,0.026,-0.061,-0.029,0.03,0.035,0.026,0.021,0.031,null,null,null,-0.306,0.153,-0.373,null,0.072,null,0.601,null,1.0,-0.021,0.306,-0.096,-0.096,0.071,null,0.366,0.341,-0.117],[-0.056,-0.061,0.053,0.05,0.101,0.096,-0.049,-0.038,0.133,0.176,0.158,0.166,0.183,-0.493,-0.558,-0.5,0.06,-0.561,0.519,0.318,0.054,-0.606,-0.298,-0.416,-0.021,1.0,-0.485,0.788,0.788,0.398,-0.527,-0.128,0.412,0.367],[0.021,0.017,-0.131,-0.104,-0.228,-0.196,0.097,0.071,-0.26,-0.351,-0.332,-0.328,-0.372,-0.467,-0.504,-0.482,-0.463,0.883,-0.866,0.034,0.553,-0.456,0.115,0.1,0.306,-0.485,1.0,-0.678,-0.678,-0.851,-0.524,0.354,-0.816,-0.709],[-0.011,-0.01,0.104,0.074,0.173,0.15,-0.091,-0.067,0.205,0.285,0.268,0.265,0.3,-0.328,-0.307,-0.288,0.341,-0.692,0.679,0.788,-0.402,-0.259,-0.319,-0.029,-0.096,0.788,-0.678,1.0,1.0,0.625,-0.311,-0.144,0.681,0.611],[-0.011,-0.01,0.104,0.074,0.173,0.15,-0.091,-0.067,0.205,0.285,0.268,0.265,0.3,-0.328,-0.307,-0.288,0.341,-0.692,0.679,0.788,-0.402,-0.259,-0.319,-0.029,-0.096,0.788,-0.678,1.0,1.0,0.625,-0.311,-0.144,0.681,0.611],[0.013,0.015,0.161,0.118,0.257,0.207,-0.128,-0.079,0.274,0.389,0.372,0.359,0.412,0.822,0.785,0.807,0.448,-0.793,0.813,0.214,-0.672,0.714,0.171,0.056,0.071,0.398,-0.851,0.625,0.625,1.0,0.821,0.361,0.92,0.852],[-0.031,-0.012,0.104,0.064,0.146,0.107,-0.054,-0.042,0.119,0.208,0.21,0.192,0.229,0.865,0.882,0.888,0.311,-0.457,0.683,0.319,-0.625,0.826,null,0.137,null,-0.527,-0.524,-0.311,-0.311,0.821,1.0,null,0.835,0.696],[-0.157,-0.178,0.059,0.058,0.067,0.057,-0.051,0.024,0.099,0.097,0.06,0.075,0.091,null,null,null,-0.672,-0.26,-0.361,-1.0,-0.076,null,0.616,null,0.366,-0.128,0.354,-0.144,-0.144,0.361,null,1.0,0.321,0.049],[-0.007,0.001,0.163,0.111,0.252,0.2,-0.131,-0.093,0.265,0.387,0.379,0.36,0.414,0.821,0.821,0.846,0.547,-0.751,0.876,0.382,-0.697,0.745,0.001,0.095,0.341,0.412,-0.816,0.681,0.681,0.92,0.835,0.321,1.0,0.923],[-0.017,-0.005,0.149,0.094,0.229,0.181,-0.123,-0.086,0.224,0.356,0.354,0.333,0.383,0.725,0.711,0.735,0.616,-0.633,0.865,0.461,-0.739,0.638,-0.322,0.188,-0.117,0.367,-0.709,0.611,0.611,0.852,0.696,0.049,0.923,1.0]],\"hovertemplate\":\"\\u003cb\\u003eCorrelation\\u003c\\u002fb\\u003e\\u003cbr\\u003e(%{x},%{y})\\u003cbr\\u003e\\u003cbr\\u003eSynthetic: %{z}\\u003cbr\\u003e(vs. Real: %{customdata})\\u003cextra\\u003e\\u003c\\u002fextra\\u003e\",\"x\":[\"first_dist_code\",\"first_hs_code\",\"scale_score_6_math\",\"scale_score_6_read\",\"scale_score_8_math\",\"scale_score_8_read\",\"pct_absent_in_hs\",\"pct_excused_in_hs\",\"avg_gpa_hs\",\"scale_score_11_eng\",\"scale_score_11_math\",\"scale_score_11_read\",\"scale_score_11_comp\",\"ihe_act_25th_pctl_cumulative\",\"ihe_act_75th_pctl_cumulative\",\"ihe_act_midpoint_cumulative\",\"ihe_ihe_size\",\"ihe_part_time_share\",\"ihe_avg_net_price_pub\",\"ihe_avg_net_price_priv\",\"ihe_pell_grant_rate\",\"ihe_retention_4_yr_full_time\",\"ihe_retention_lt_4_yr_full_time\",\"ihe_retention_4_yr_part_time\",\"ihe_retention_lt_4_yr_part_time\",\"ihe_federal_loan_rate\",\"ihe_share_25_older\",\"ihe_med_debt_completers_all\",\"ihe_med_debt_completers_pmts\",\"ihe_ihe_repay_3_yr_all\",\"ihe_rate_4_yr\",\"ihe_rate_lt_4_yr\",\"ihe_med_earn_10_yrs_after\",\"ihe_pct_earn_gt_25k_6_yrs_after\"],\"y\":[\"first_dist_code\",\"first_hs_code\",\"scale_score_6_math\",\"scale_score_6_read\",\"scale_score_8_math\",\"scale_score_8_read\",\"pct_absent_in_hs\",\"pct_excused_in_hs\",\"avg_gpa_hs\",\"scale_score_11_eng\",\"scale_score_11_math\",\"scale_score_11_read\",\"scale_score_11_comp\",\"ihe_act_25th_pctl_cumulative\",\"ihe_act_75th_pctl_cumulative\",\"ihe_act_midpoint_cumulative\",\"ihe_ihe_size\",\"ihe_part_time_share\",\"ihe_avg_net_price_pub\",\"ihe_avg_net_price_priv\",\"ihe_pell_grant_rate\",\"ihe_retention_4_yr_full_time\",\"ihe_retention_lt_4_yr_full_time\",\"ihe_retention_4_yr_part_time\",\"ihe_retention_lt_4_yr_part_time\",\"ihe_federal_loan_rate\",\"ihe_share_25_older\",\"ihe_med_debt_completers_all\",\"ihe_med_debt_completers_pmts\",\"ihe_ihe_repay_3_yr_all\",\"ihe_rate_4_yr\",\"ihe_rate_lt_4_yr\",\"ihe_med_earn_10_yrs_after\",\"ihe_pct_earn_gt_25k_6_yrs_after\"],\"z\":[[1.0,0.913,-0.008,-0.036,-0.057,-0.042,0.043,-0.067,-0.079,-0.031,-0.022,-0.028,-0.034,0.035,0.02,0.021,0.007,-0.006,0.006,0.005,-0.03,-0.006,-0.018,0.002,0.064,-0.021,-0.002,0.006,0.006,0.016,-0.016,-0.087,0.016,0.013],[0.913,1.0,-0.003,-0.033,-0.056,-0.042,0.046,-0.055,-0.082,-0.032,-0.022,-0.028,-0.035,0.042,0.022,0.022,0.012,0.0,0.007,0.011,-0.036,0.002,-0.016,0.006,0.052,-0.019,-0.002,0.006,0.006,0.021,-0.013,-0.088,0.016,0.016],[-0.008,-0.003,1.0,0.659,0.238,0.227,-0.074,-0.031,0.172,0.224,0.218,0.199,0.224,0.049,0.027,0.024,0.047,-0.065,0.017,0.025,-0.068,0.04,0.014,0.036,0.015,0.015,-0.047,0.044,0.033,0.08,0.039,-0.004,0.068,0.07],[-0.036,-0.033,0.659,1.0,0.196,0.205,-0.055,-0.009,0.156,0.177,0.168,0.167,0.178,0.019,0.017,0.021,0.018,-0.05,-0.005,0.01,-0.035,0.014,0.001,0.006,-0.002,0.013,-0.038,0.015,0.022,0.051,0.015,-0.011,0.033,0.025],[-0.057,-0.056,0.238,0.196,1.0,0.532,-0.149,-0.071,0.374,0.394,0.418,0.354,0.412,0.022,0.025,0.029,0.058,-0.124,0.009,-0.008,-0.09,0.044,0.025,-0.004,0.008,0.048,-0.105,0.071,0.07,0.119,0.032,0.012,0.111,0.091],[-0.042,-0.042,0.227,0.205,0.532,1.0,-0.118,-0.041,0.402,0.449,0.421,0.398,0.451,0.023,0.037,0.028,0.062,-0.14,0.008,0.001,-0.094,0.046,0.014,0.001,0.013,0.053,-0.118,0.08,0.077,0.128,0.043,0.014,0.104,0.09],[0.043,0.046,-0.074,-0.055,-0.149,-0.118,1.0,0.71,-0.316,-0.152,-0.155,-0.13,-0.149,-0.015,-0.019,-0.018,-0.021,0.07,0.009,0.01,0.061,-0.029,-0.01,-0.009,-0.012,-0.019,0.062,-0.036,-0.033,-0.067,-0.024,-0.023,-0.068,-0.051],[-0.067,-0.055,-0.031,-0.009,-0.071,-0.041,0.71,1.0,-0.181,-0.084,-0.096,-0.069,-0.083,-0.006,-0.004,-0.0,-0.022,0.05,-0.011,0.009,0.036,-0.012,0.016,-0.004,-0.005,-0.024,0.046,-0.025,-0.03,-0.035,-0.006,0.003,-0.048,-0.035],[-0.079,-0.082,0.172,0.156,0.374,0.402,-0.316,-0.181,1.0,0.465,0.45,0.407,0.45,0.035,0.044,0.037,0.065,-0.201,-0.001,0.004,-0.116,0.05,0.009,0.009,0.011,0.065,-0.163,0.095,0.104,0.16,0.054,0.026,0.143,0.103],[-0.031,-0.032,0.224,0.177,0.394,0.449,-0.152,-0.084,0.465,1.0,0.756,0.82,0.918,0.077,0.1,0.083,0.135,-0.234,0.077,0.004,-0.185,0.102,0.012,0.017,0.033,0.106,-0.225,0.169,0.166,0.243,0.089,0.024,0.236,0.207],[-0.022,-0.022,0.218,0.168,0.418,0.421,-0.155,-0.096,0.45,0.756,1.0,0.692,0.836,0.097,0.119,0.103,0.162,-0.237,0.111,0.031,-0.208,0.114,0.019,0.013,0.03,0.116,-0.243,0.19,0.179,0.264,0.097,0.021,0.261,0.233],[-0.028,-0.028,0.199,0.167,0.354,0.398,-0.13,-0.069,0.407,0.82,0.692,1.0,0.893,0.075,0.093,0.078,0.132,-0.224,0.09,0.013,-0.177,0.092,0.013,0.007,0.025,0.11,-0.214,0.164,0.156,0.229,0.081,0.012,0.222,0.203],[-0.034,-0.035,0.224,0.178,0.412,0.451,-0.149,-0.083,0.45,0.918,0.836,0.893,1.0,0.085,0.103,0.075,0.144,-0.241,0.099,0.007,-0.193,0.102,0.004,0.016,0.03,0.118,-0.241,0.183,0.183,0.256,0.088,0.022,0.252,0.225],[0.035,0.042,0.049,0.019,0.022,0.023,-0.015,-0.006,0.035,0.077,0.097,0.075,0.085,1.0,0.852,0.903,0.245,-0.174,0.128,0.269,-0.45,0.716,null,-0.063,null,-0.281,-0.154,-0.166,-0.17,0.329,0.738,null,0.354,0.374],[0.02,0.022,0.027,0.017,0.025,0.037,-0.019,-0.004,0.044,0.1,0.119,0.093,0.103,0.852,1.0,0.88,0.338,-0.177,0.162,0.33,-0.527,0.742,null,-0.016,null,-0.294,-0.209,-0.109,-0.097,0.342,0.758,null,0.397,0.393],[0.021,0.022,0.024,0.021,0.029,0.028,-0.018,-0.0,0.037,0.083,0.103,0.078,0.075,0.903,0.88,1.0,0.329,-0.16,0.148,0.345,-0.464,0.76,null,-0.044,null,-0.272,-0.197,-0.13,-0.138,0.315,0.748,null,0.379,0.383],[0.007,0.012,0.047,0.018,0.058,0.062,-0.021,-0.022,0.065,0.135,0.162,0.132,0.144,0.245,0.338,0.329,1.0,-0.181,0.482,-0.076,-0.558,0.501,-0.152,0.384,-0.076,0.08,-0.455,0.35,0.332,0.433,0.216,-0.219,0.545,0.615],[-0.006,0.0,-0.065,-0.05,-0.124,-0.14,0.07,0.05,-0.201,-0.234,-0.237,-0.224,-0.241,-0.174,-0.177,-0.16,-0.181,1.0,-0.463,-0.011,0.393,-0.079,-0.041,0.079,-0.026,-0.512,0.868,-0.57,-0.571,-0.766,-0.249,-0.083,-0.715,-0.572],[0.006,0.007,0.017,-0.005,0.009,0.008,0.009,-0.011,-0.001,0.077,0.111,0.09,0.099,0.128,0.162,0.148,0.482,-0.463,1.0,null,-0.349,0.138,-0.34,0.086,-0.189,0.498,-0.576,0.596,0.599,0.522,0.072,-0.208,0.591,0.645],[0.005,0.011,0.025,0.01,-0.008,0.001,0.01,0.009,0.004,0.004,0.031,0.013,0.007,0.269,0.33,0.345,-0.076,-0.011,null,1.0,-0.28,0.269,-0.057,-0.078,null,0.101,-0.051,0.28,0.247,0.164,0.309,0.038,0.19,0.167],[-0.03,-0.036,-0.068,-0.035,-0.09,-0.094,0.061,0.036,-0.116,-0.185,-0.208,-0.177,-0.193,-0.45,-0.527,-0.464,-0.558,0.393,-0.349,-0.28,1.0,-0.552,-0.05,-0.151,-0.013,0.044,0.581,-0.395,-0.39,-0.706,-0.52,-0.054,-0.734,-0.75],[-0.006,0.002,0.04,0.014,0.044,0.046,-0.029,-0.012,0.05,0.102,0.114,0.092,0.102,0.716,0.742,0.76,0.501,-0.079,0.138,0.269,-0.552,1.0,null,0.275,null,-0.364,-0.196,-0.099,-0.109,0.318,0.795,null,0.409,0.401],[-0.018,-0.016,0.014,0.001,0.025,0.014,-0.01,0.016,0.009,0.012,0.019,0.013,0.004,null,null,null,-0.152,-0.041,-0.34,-0.057,-0.05,null,1.0,null,0.607,-0.111,0.012,-0.065,-0.057,0.042,null,0.693,0.019,-0.087],[0.002,0.006,0.036,0.006,-0.004,0.001,-0.009,-0.004,0.009,0.017,0.013,0.007,0.016,-0.063,-0.016,-0.044,0.384,0.079,0.086,-0.078,-0.151,0.275,null,1.0,null,-0.145,0.029,0.059,0.041,0.05,0.078,null,0.089,0.176],[0.064,0.052,0.015,-0.002,0.008,0.013,-0.012,-0.005,0.011,0.033,0.03,0.025,0.03,null,null,null,-0.076,-0.026,-0.189,null,-0.013,null,0.607,null,1.0,-0.018,-0.016,0.0,0.014,0.094,null,0.34,0.118,-0.014],[-0.021,-0.019,0.015,0.013,0.048,0.053,-0.019,-0.024,0.065,0.106,0.116,0.11,0.118,-0.281,-0.294,-0.272,0.08,-0.512,0.498,0.101,0.044,-0.364,-0.111,-0.145,-0.018,1.0,-0.487,0.778,0.778,0.402,-0.308,-0.061,0.426,0.397],[-0.002,-0.002,-0.047,-0.038,-0.105,-0.118,0.062,0.046,-0.163,-0.225,-0.243,-0.214,-0.241,-0.154,-0.209,-0.197,-0.455,0.868,-0.576,-0.051,0.581,-0.196,0.012,0.029,-0.016,-0.487,1.0,-0.664,-0.665,-0.851,-0.243,0.008,-0.824,-0.707],[0.006,0.006,0.044,0.015,0.071,0.08,-0.036,-0.025,0.095,0.169,0.19,0.164,0.183,-0.166,-0.109,-0.13,0.35,-0.57,0.596,0.28,-0.395,-0.099,-0.065,0.059,0.0,0.778,-0.664,1.0,1.0,0.621,-0.16,-0.022,0.679,0.619],[0.006,0.006,0.033,0.022,0.07,0.077,-0.033,-0.03,0.104,0.166,0.179,0.156,0.183,-0.17,-0.097,-0.138,0.332,-0.571,0.599,0.247,-0.39,-0.109,-0.057,0.041,0.014,0.778,-0.665,1.0,1.0,0.618,-0.168,-0.02,0.683,0.618],[0.016,0.021,0.08,0.051,0.119,0.128,-0.067,-0.035,0.16,0.243,0.264,0.229,0.256,0.329,0.342,0.315,0.433,-0.766,0.522,0.164,-0.706,0.318,0.042,0.05,0.094,0.402,-0.851,0.621,0.618,1.0,0.39,0.124,0.922,0.851],[-0.016,-0.013,0.039,0.015,0.032,0.043,-0.024,-0.006,0.054,0.089,0.097,0.081,0.088,0.738,0.758,0.748,0.216,-0.249,0.072,0.309,-0.52,0.795,null,0.078,null,-0.308,-0.243,-0.16,-0.168,0.39,1.0,null,0.409,0.384],[-0.087,-0.088,-0.004,-0.011,0.012,0.014,-0.023,0.003,0.026,0.024,0.021,0.012,0.022,null,null,null,-0.219,-0.083,-0.208,0.038,-0.054,null,0.693,null,0.34,-0.061,0.008,-0.022,-0.02,0.124,null,1.0,0.081,0.028],[0.016,0.016,0.068,0.033,0.111,0.104,-0.068,-0.048,0.143,0.236,0.261,0.222,0.252,0.354,0.397,0.379,0.545,-0.715,0.591,0.19,-0.734,0.409,0.019,0.089,0.118,0.426,-0.824,0.679,0.683,0.922,0.409,0.081,1.0,0.919],[0.013,0.016,0.07,0.025,0.091,0.09,-0.051,-0.035,0.103,0.207,0.233,0.203,0.225,0.374,0.393,0.383,0.615,-0.572,0.645,0.167,-0.75,0.401,-0.087,0.176,-0.014,0.397,-0.707,0.619,0.618,0.851,0.384,0.028,0.919,1.0]],\"type\":\"heatmap\",\"xaxis\":\"x3\",\"yaxis\":\"y3\"}],                        {\"template\":{\"data\":{\"histogram2dcontour\":[{\"type\":\"histogram2dcontour\",\"colorbar\":{\"outlinewidth\":0,\"ticks\":\"\"},\"colorscale\":[[0.0,\"#0d0887\"],[0.1111111111111111,\"#46039f\"],[0.2222222222222222,\"#7201a8\"],[0.3333333333333333,\"#9c179e\"],[0.4444444444444444,\"#bd3786\"],[0.5555555555555556,\"#d8576b\"],[0.6666666666666666,\"#ed7953\"],[0.7777777777777778,\"#fb9f3a\"],[0.8888888888888888,\"#fdca26\"],[1.0,\"#f0f921\"]]}],\"choropleth\":[{\"type\":\"choropleth\",\"colorbar\":{\"outlinewidth\":0,\"ticks\":\"\"}}],\"histogram2d\":[{\"type\":\"histogram2d\",\"colorbar\":{\"outlinewidth\":0,\"ticks\":\"\"},\"colorscale\":[[0.0,\"#0d0887\"],[0.1111111111111111,\"#46039f\"],[0.2222222222222222,\"#7201a8\"],[0.3333333333333333,\"#9c179e\"],[0.4444444444444444,\"#bd3786\"],[0.5555555555555556,\"#d8576b\"],[0.6666666666666666,\"#ed7953\"],[0.7777777777777778,\"#fb9f3a\"],[0.8888888888888888,\"#fdca26\"],[1.0,\"#f0f921\"]]}],\"heatmap\":[{\"type\":\"heatmap\",\"colorbar\":{\"outlinewidth\":0,\"ticks\":\"\"},\"colorscale\":[[0.0,\"#0d0887\"],[0.1111111111111111,\"#46039f\"],[0.2222222222222222,\"#7201a8\"],[0.3333333333333333,\"#9c179e\"],[0.4444444444444444,\"#bd3786\"],[0.5555555555555556,\"#d8576b\"],[0.6666666666666666,\"#ed7953\"],[0.7777777777777778,\"#fb9f3a\"],[0.8888888888888888,\"#fdca26\"],[1.0,\"#f0f921\"]]}],\"heatmapgl\":[{\"type\":\"heatmapgl\",\"colorbar\":{\"outlinewidth\":0,\"ticks\":\"\"},\"colorscale\":[[0.0,\"#0d0887\"],[0.1111111111111111,\"#46039f\"],[0.2222222222222222,\"#7201a8\"],[0.3333333333333333,\"#9c179e\"],[0.4444444444444444,\"#bd3786\"],[0.5555555555555556,\"#d8576b\"],[0.6666666666666666,\"#ed7953\"],[0.7777777777777778,\"#fb9f3a\"],[0.8888888888888888,\"#fdca26\"],[1.0,\"#f0f921\"]]}],\"contourcarpet\":[{\"type\":\"contourcarpet\",\"colorbar\":{\"outlinewidth\":0,\"ticks\":\"\"}}],\"contour\":[{\"type\":\"contour\",\"colorbar\":{\"outlinewidth\":0,\"ticks\":\"\"},\"colorscale\":[[0.0,\"#0d0887\"],[0.1111111111111111,\"#46039f\"],[0.2222222222222222,\"#7201a8\"],[0.3333333333333333,\"#9c179e\"],[0.4444444444444444,\"#bd3786\"],[0.5555555555555556,\"#d8576b\"],[0.6666666666666666,\"#ed7953\"],[0.7777777777777778,\"#fb9f3a\"],[0.8888888888888888,\"#fdca26\"],[1.0,\"#f0f921\"]]}],\"surface\":[{\"type\":\"surface\",\"colorbar\":{\"outlinewidth\":0,\"ticks\":\"\"},\"colorscale\":[[0.0,\"#0d0887\"],[0.1111111111111111,\"#46039f\"],[0.2222222222222222,\"#7201a8\"],[0.3333333333333333,\"#9c179e\"],[0.4444444444444444,\"#bd3786\"],[0.5555555555555556,\"#d8576b\"],[0.6666666666666666,\"#ed7953\"],[0.7777777777777778,\"#fb9f3a\"],[0.8888888888888888,\"#fdca26\"],[1.0,\"#f0f921\"]]}],\"mesh3d\":[{\"type\":\"mesh3d\",\"colorbar\":{\"outlinewidth\":0,\"ticks\":\"\"}}],\"scatter\":[{\"fillpattern\":{\"fillmode\":\"overlay\",\"size\":10,\"solidity\":0.2},\"type\":\"scatter\"}],\"parcoords\":[{\"type\":\"parcoords\",\"line\":{\"colorbar\":{\"outlinewidth\":0,\"ticks\":\"\"}}}],\"scatterpolargl\":[{\"type\":\"scatterpolargl\",\"marker\":{\"colorbar\":{\"outlinewidth\":0,\"ticks\":\"\"}}}],\"bar\":[{\"error_x\":{\"color\":\"#2a3f5f\"},\"error_y\":{\"color\":\"#2a3f5f\"},\"marker\":{\"line\":{\"color\":\"#E5ECF6\",\"width\":0.5},\"pattern\":{\"fillmode\":\"overlay\",\"size\":10,\"solidity\":0.2}},\"type\":\"bar\"}],\"scattergeo\":[{\"type\":\"scattergeo\",\"marker\":{\"colorbar\":{\"outlinewidth\":0,\"ticks\":\"\"}}}],\"scatterpolar\":[{\"type\":\"scatterpolar\",\"marker\":{\"colorbar\":{\"outlinewidth\":0,\"ticks\":\"\"}}}],\"histogram\":[{\"marker\":{\"pattern\":{\"fillmode\":\"overlay\",\"size\":10,\"solidity\":0.2}},\"type\":\"histogram\"}],\"scattergl\":[{\"type\":\"scattergl\",\"marker\":{\"colorbar\":{\"outlinewidth\":0,\"ticks\":\"\"}}}],\"scatter3d\":[{\"type\":\"scatter3d\",\"line\":{\"colorbar\":{\"outlinewidth\":0,\"ticks\":\"\"}},\"marker\":{\"colorbar\":{\"outlinewidth\":0,\"ticks\":\"\"}}}],\"scattermapbox\":[{\"type\":\"scattermapbox\",\"marker\":{\"colorbar\":{\"outlinewidth\":0,\"ticks\":\"\"}}}],\"scatterternary\":[{\"type\":\"scatterternary\",\"marker\":{\"colorbar\":{\"outlinewidth\":0,\"ticks\":\"\"}}}],\"scattercarpet\":[{\"type\":\"scattercarpet\",\"marker\":{\"colorbar\":{\"outlinewidth\":0,\"ticks\":\"\"}}}],\"carpet\":[{\"aaxis\":{\"endlinecolor\":\"#2a3f5f\",\"gridcolor\":\"white\",\"linecolor\":\"white\",\"minorgridcolor\":\"white\",\"startlinecolor\":\"#2a3f5f\"},\"baxis\":{\"endlinecolor\":\"#2a3f5f\",\"gridcolor\":\"white\",\"linecolor\":\"white\",\"minorgridcolor\":\"white\",\"startlinecolor\":\"#2a3f5f\"},\"type\":\"carpet\"}],\"table\":[{\"cells\":{\"fill\":{\"color\":\"#EBF0F8\"},\"line\":{\"color\":\"white\"}},\"header\":{\"fill\":{\"color\":\"#C8D4E3\"},\"line\":{\"color\":\"white\"}},\"type\":\"table\"}],\"barpolar\":[{\"marker\":{\"line\":{\"color\":\"#E5ECF6\",\"width\":0.5},\"pattern\":{\"fillmode\":\"overlay\",\"size\":10,\"solidity\":0.2}},\"type\":\"barpolar\"}],\"pie\":[{\"automargin\":true,\"type\":\"pie\"}]},\"layout\":{\"autotypenumbers\":\"strict\",\"colorway\":[\"#636efa\",\"#EF553B\",\"#00cc96\",\"#ab63fa\",\"#FFA15A\",\"#19d3f3\",\"#FF6692\",\"#B6E880\",\"#FF97FF\",\"#FECB52\"],\"font\":{\"color\":\"#2a3f5f\"},\"hovermode\":\"closest\",\"hoverlabel\":{\"align\":\"left\"},\"paper_bgcolor\":\"white\",\"plot_bgcolor\":\"#E5ECF6\",\"polar\":{\"bgcolor\":\"#E5ECF6\",\"angularaxis\":{\"gridcolor\":\"white\",\"linecolor\":\"white\",\"ticks\":\"\"},\"radialaxis\":{\"gridcolor\":\"white\",\"linecolor\":\"white\",\"ticks\":\"\"}},\"ternary\":{\"bgcolor\":\"#E5ECF6\",\"aaxis\":{\"gridcolor\":\"white\",\"linecolor\":\"white\",\"ticks\":\"\"},\"baxis\":{\"gridcolor\":\"white\",\"linecolor\":\"white\",\"ticks\":\"\"},\"caxis\":{\"gridcolor\":\"white\",\"linecolor\":\"white\",\"ticks\":\"\"}},\"coloraxis\":{\"colorbar\":{\"outlinewidth\":0,\"ticks\":\"\"}},\"colorscale\":{\"sequential\":[[0.0,\"#0d0887\"],[0.1111111111111111,\"#46039f\"],[0.2222222222222222,\"#7201a8\"],[0.3333333333333333,\"#9c179e\"],[0.4444444444444444,\"#bd3786\"],[0.5555555555555556,\"#d8576b\"],[0.6666666666666666,\"#ed7953\"],[0.7777777777777778,\"#fb9f3a\"],[0.8888888888888888,\"#fdca26\"],[1.0,\"#f0f921\"]],\"sequentialminus\":[[0.0,\"#0d0887\"],[0.1111111111111111,\"#46039f\"],[0.2222222222222222,\"#7201a8\"],[0.3333333333333333,\"#9c179e\"],[0.4444444444444444,\"#bd3786\"],[0.5555555555555556,\"#d8576b\"],[0.6666666666666666,\"#ed7953\"],[0.7777777777777778,\"#fb9f3a\"],[0.8888888888888888,\"#fdca26\"],[1.0,\"#f0f921\"]],\"diverging\":[[0,\"#8e0152\"],[0.1,\"#c51b7d\"],[0.2,\"#de77ae\"],[0.3,\"#f1b6da\"],[0.4,\"#fde0ef\"],[0.5,\"#f7f7f7\"],[0.6,\"#e6f5d0\"],[0.7,\"#b8e186\"],[0.8,\"#7fbc41\"],[0.9,\"#4d9221\"],[1,\"#276419\"]]},\"xaxis\":{\"gridcolor\":\"white\",\"linecolor\":\"white\",\"ticks\":\"\",\"title\":{\"standoff\":15},\"zerolinecolor\":\"white\",\"automargin\":true,\"zerolinewidth\":2},\"yaxis\":{\"gridcolor\":\"white\",\"linecolor\":\"white\",\"ticks\":\"\",\"title\":{\"standoff\":15},\"zerolinecolor\":\"white\",\"automargin\":true,\"zerolinewidth\":2},\"scene\":{\"xaxis\":{\"backgroundcolor\":\"#E5ECF6\",\"gridcolor\":\"white\",\"linecolor\":\"white\",\"showbackground\":true,\"ticks\":\"\",\"zerolinecolor\":\"white\",\"gridwidth\":2},\"yaxis\":{\"backgroundcolor\":\"#E5ECF6\",\"gridcolor\":\"white\",\"linecolor\":\"white\",\"showbackground\":true,\"ticks\":\"\",\"zerolinecolor\":\"white\",\"gridwidth\":2},\"zaxis\":{\"backgroundcolor\":\"#E5ECF6\",\"gridcolor\":\"white\",\"linecolor\":\"white\",\"showbackground\":true,\"ticks\":\"\",\"zerolinecolor\":\"white\",\"gridwidth\":2}},\"shapedefaults\":{\"line\":{\"color\":\"#2a3f5f\"}},\"annotationdefaults\":{\"arrowcolor\":\"#2a3f5f\",\"arrowhead\":0,\"arrowwidth\":1},\"geo\":{\"bgcolor\":\"white\",\"landcolor\":\"#E5ECF6\",\"subunitcolor\":\"white\",\"showland\":true,\"showlakes\":true,\"lakecolor\":\"white\"},\"title\":{\"x\":0.05},\"mapbox\":{\"style\":\"light\"}}},\"xaxis\":{\"anchor\":\"y\",\"domain\":[0.26,0.74],\"tickangle\":45},\"yaxis\":{\"anchor\":\"x\",\"domain\":[0.625,1.0],\"autorange\":\"reversed\"},\"xaxis2\":{\"anchor\":\"y2\",\"domain\":[0.0,0.45],\"tickangle\":45},\"yaxis2\":{\"anchor\":\"x2\",\"domain\":[0.0,0.375],\"autorange\":\"reversed\"},\"xaxis3\":{\"anchor\":\"y3\",\"domain\":[0.55,1.0],\"tickangle\":45,\"matches\":\"x2\"},\"yaxis3\":{\"anchor\":\"x3\",\"domain\":[0.0,0.375],\"visible\":false,\"matches\":\"y2\",\"autorange\":\"reversed\"},\"annotations\":[{\"font\":{\"size\":16},\"showarrow\":false,\"text\":\"Real vs. Synthetic Similarity\",\"x\":0.5,\"xanchor\":\"center\",\"xref\":\"paper\",\"y\":1.0,\"yanchor\":\"bottom\",\"yref\":\"paper\"},{\"font\":{\"size\":16},\"showarrow\":false,\"text\":\"Numerical Correlation (Real Data)\",\"x\":0.225,\"xanchor\":\"center\",\"xref\":\"paper\",\"y\":0.375,\"yanchor\":\"bottom\",\"yref\":\"paper\"},{\"font\":{\"size\":16},\"showarrow\":false,\"text\":\"Numerical Correlation (Synthetic Data)\",\"x\":0.775,\"xanchor\":\"center\",\"xref\":\"paper\",\"y\":0.375,\"yanchor\":\"bottom\",\"yref\":\"paper\"}],\"title\":{\"text\":\"Data Quality: Column Pair Trends (Average Score=0.84)\"},\"coloraxis\":{\"colorbar\":{\"len\":0.5,\"x\":0.8,\"y\":0.8},\"cmin\":0,\"cmax\":1,\"colorscale\":[[0.0,\"#FF0000\"],[0.5,\"#F16141\"],[1.0,\"#36B37E\"]]},\"coloraxis2\":{\"colorbar\":{\"len\":0.5,\"y\":0.2},\"cmin\":-1,\"cmax\":1,\"colorscale\":[[0.0,\"#03AFF1\"],[0.5,\"#000036\"],[1.0,\"#01E0C9\"]]},\"font\":{\"size\":18},\"height\":900,\"width\":900},                        {\"responsive\": true}                    ).then(function(){\n",
              "                            \n",
              "var gd = document.getElementById('c18e6540-0503-4699-9120-36b25bed80e1');\n",
              "var x = new MutationObserver(function (mutations, observer) {{\n",
              "        var display = window.getComputedStyle(gd).display;\n",
              "        if (!display || display === 'none') {{\n",
              "            console.log([gd, 'removed!']);\n",
              "            Plotly.purge(gd);\n",
              "            observer.disconnect();\n",
              "        }}\n",
              "}});\n",
              "\n",
              "// Listen for the removal of the full notebook cells\n",
              "var notebookContainer = gd.closest('#notebook-container');\n",
              "if (notebookContainer) {{\n",
              "    x.observe(notebookContainer, {childList: true});\n",
              "}}\n",
              "\n",
              "// Listen for the clearing of the current output cell\n",
              "var outputEl = gd.closest('.output');\n",
              "if (outputEl) {{\n",
              "    x.observe(outputEl, {childList: true});\n",
              "}}\n",
              "\n",
              "                        })                };                            </script>        </div>\n",
              "</body>\n",
              "</html>"
            ]
          },
          "metadata": {},
          "output_type": "display_data"
        }
      ],
      "source": [
        "my_report.get_visualization(property_name='Column Pair Trends')"
      ]
    },
    {
      "cell_type": "markdown",
      "metadata": {
        "id": "VygJ42-BbMMd"
      },
      "source": [
        "# Creating a CTGAN synthesizer\n",
        "\n",
        "An SDV **synthesizer** is an object that you can use to create synthetic data. It learns patterns from the real data and replicates them to generate synthetic data.\n",
        "\n",
        "This does not work on categorical data."
      ]
    },
    {
      "cell_type": "code",
      "execution_count": null,
      "metadata": {
        "colab": {
          "base_uri": "https://localhost:8080/",
          "height": 365
        },
        "id": "1FcppGr4b76a",
        "outputId": "40fb0ba5-6df4-4a20-e97c-b7f5f98cdc94"
      },
      "outputs": [
        {
          "ename": "AttributeError",
          "evalue": "'dict' object has no attribute 'validate'",
          "output_type": "error",
          "traceback": [
            "\u001b[0;31m---------------------------------------------------------------------------\u001b[0m",
            "\u001b[0;31mAttributeError\u001b[0m                            Traceback (most recent call last)",
            "\u001b[0;32m<ipython-input-40-03b65733223c>\u001b[0m in \u001b[0;36m<cell line: 3>\u001b[0;34m()\u001b[0m\n\u001b[1;32m      1\u001b[0m \u001b[0;32mfrom\u001b[0m \u001b[0msdv\u001b[0m\u001b[0;34m.\u001b[0m\u001b[0msingle_table\u001b[0m \u001b[0;32mimport\u001b[0m \u001b[0mCTGANSynthesizer\u001b[0m\u001b[0;34m\u001b[0m\u001b[0;34m\u001b[0m\u001b[0m\n\u001b[1;32m      2\u001b[0m \u001b[0;34m\u001b[0m\u001b[0m\n\u001b[0;32m----> 3\u001b[0;31m \u001b[0msynthesizer\u001b[0m \u001b[0;34m=\u001b[0m \u001b[0mCTGANSynthesizer\u001b[0m\u001b[0;34m(\u001b[0m\u001b[0mmetadata\u001b[0m\u001b[0;34m)\u001b[0m\u001b[0;34m\u001b[0m\u001b[0;34m\u001b[0m\u001b[0m\n\u001b[0m\u001b[1;32m      4\u001b[0m \u001b[0msynthesizer\u001b[0m\u001b[0;34m.\u001b[0m\u001b[0mfit\u001b[0m\u001b[0;34m(\u001b[0m\u001b[0mreal_data\u001b[0m\u001b[0;34m)\u001b[0m\u001b[0;34m\u001b[0m\u001b[0;34m\u001b[0m\u001b[0m\n",
            "\u001b[0;32m/usr/local/lib/python3.10/dist-packages/sdv/single_table/ctgan.py\u001b[0m in \u001b[0;36m__init__\u001b[0;34m(self, metadata, enforce_min_max_values, enforce_rounding, locales, embedding_dim, generator_dim, discriminator_dim, generator_lr, generator_decay, discriminator_lr, discriminator_decay, batch_size, discriminator_steps, log_frequency, verbose, epochs, pac, cuda)\u001b[0m\n\u001b[1;32m    173\u001b[0m         \u001b[0mcuda\u001b[0m\u001b[0;34m=\u001b[0m\u001b[0;32mTrue\u001b[0m\u001b[0;34m,\u001b[0m\u001b[0;34m\u001b[0m\u001b[0;34m\u001b[0m\u001b[0m\n\u001b[1;32m    174\u001b[0m     ):\n\u001b[0;32m--> 175\u001b[0;31m         super().__init__(\n\u001b[0m\u001b[1;32m    176\u001b[0m             \u001b[0mmetadata\u001b[0m\u001b[0;34m=\u001b[0m\u001b[0mmetadata\u001b[0m\u001b[0;34m,\u001b[0m\u001b[0;34m\u001b[0m\u001b[0;34m\u001b[0m\u001b[0m\n\u001b[1;32m    177\u001b[0m             \u001b[0menforce_min_max_values\u001b[0m\u001b[0;34m=\u001b[0m\u001b[0menforce_min_max_values\u001b[0m\u001b[0;34m,\u001b[0m\u001b[0;34m\u001b[0m\u001b[0;34m\u001b[0m\u001b[0m\n",
            "\u001b[0;32m/usr/local/lib/python3.10/dist-packages/sdv/single_table/base.py\u001b[0m in \u001b[0;36m__init__\u001b[0;34m(self, metadata, enforce_min_max_values, enforce_rounding, locales)\u001b[0m\n\u001b[1;32m    105\u001b[0m         \u001b[0mself\u001b[0m\u001b[0;34m.\u001b[0m\u001b[0m_validate_inputs\u001b[0m\u001b[0;34m(\u001b[0m\u001b[0menforce_min_max_values\u001b[0m\u001b[0;34m,\u001b[0m \u001b[0menforce_rounding\u001b[0m\u001b[0;34m)\u001b[0m\u001b[0;34m\u001b[0m\u001b[0;34m\u001b[0m\u001b[0m\n\u001b[1;32m    106\u001b[0m         \u001b[0mself\u001b[0m\u001b[0;34m.\u001b[0m\u001b[0mmetadata\u001b[0m \u001b[0;34m=\u001b[0m \u001b[0mmetadata\u001b[0m\u001b[0;34m\u001b[0m\u001b[0;34m\u001b[0m\u001b[0m\n\u001b[0;32m--> 107\u001b[0;31m         \u001b[0mself\u001b[0m\u001b[0;34m.\u001b[0m\u001b[0mmetadata\u001b[0m\u001b[0;34m.\u001b[0m\u001b[0mvalidate\u001b[0m\u001b[0;34m(\u001b[0m\u001b[0;34m)\u001b[0m\u001b[0;34m\u001b[0m\u001b[0;34m\u001b[0m\u001b[0m\n\u001b[0m\u001b[1;32m    108\u001b[0m         \u001b[0mself\u001b[0m\u001b[0;34m.\u001b[0m\u001b[0m_check_metadata_updated\u001b[0m\u001b[0;34m(\u001b[0m\u001b[0;34m)\u001b[0m\u001b[0;34m\u001b[0m\u001b[0;34m\u001b[0m\u001b[0m\n\u001b[1;32m    109\u001b[0m         \u001b[0mself\u001b[0m\u001b[0;34m.\u001b[0m\u001b[0menforce_min_max_values\u001b[0m \u001b[0;34m=\u001b[0m \u001b[0menforce_min_max_values\u001b[0m\u001b[0;34m\u001b[0m\u001b[0;34m\u001b[0m\u001b[0m\n",
            "\u001b[0;31mAttributeError\u001b[0m: 'dict' object has no attribute 'validate'"
          ]
        }
      ],
      "source": [
        "# from sdv.single_table import CTGANSynthesizer\n",
        "\n",
        "# synthesizer = CTGANSynthesizer(metadata)\n",
        "# synthesizer.fit(real_data)"
      ]
    },
    {
      "cell_type": "markdown",
      "metadata": {
        "id": "8jnRBd-RLXUW"
      },
      "source": [
        "# Classification\n",
        " Create a subset from the synthetic data for students who enroll at any college or university (enroll_yr1_any).  Then perform a classification on enroll_yr2_any retention."
      ]
    },
    {
      "cell_type": "code",
      "execution_count": null,
      "metadata": {
        "id": "MYWzzgVrLJm9"
      },
      "outputs": [],
      "source": [
        "# prompt: Create a subset of synthetic_data where enroll_yr1_any  = 1\n",
        "\n",
        "subset_synthetic_data = synthetic_data[synthetic_data['enroll_yr1_any'] == 1]\n"
      ]
    },
    {
      "cell_type": "code",
      "execution_count": null,
      "metadata": {
        "colab": {
          "base_uri": "https://localhost:8080/",
          "height": 617
        },
        "id": "pfZX5Vg-RFqN",
        "outputId": "bea5700a-a345-4059-ad44-ab462f99e1bf"
      },
      "outputs": [
        {
          "data": {
            "application/vnd.google.colaboratory.intrinsic+json": {
              "type": "dataframe",
              "variable_name": "subset_synthetic_data"
            },
            "text/html": [
              "\n",
              "  <div id=\"df-60a4fd49-a5fa-4f9b-9ecc-e8e8363e51c5\" class=\"colab-df-container\">\n",
              "    <div>\n",
              "<style scoped>\n",
              "    .dataframe tbody tr th:only-of-type {\n",
              "        vertical-align: middle;\n",
              "    }\n",
              "\n",
              "    .dataframe tbody tr th {\n",
              "        vertical-align: top;\n",
              "    }\n",
              "\n",
              "    .dataframe thead th {\n",
              "        text-align: right;\n",
              "    }\n",
              "</style>\n",
              "<table border=\"1\" class=\"dataframe\">\n",
              "  <thead>\n",
              "    <tr style=\"text-align: right;\">\n",
              "      <th></th>\n",
              "      <th>sid</th>\n",
              "      <th>sid_type</th>\n",
              "      <th>first_coop_code</th>\n",
              "      <th>first_dist_code</th>\n",
              "      <th>first_hs_code</th>\n",
              "      <th>first_dist_name</th>\n",
              "      <th>first_hs_name</th>\n",
              "      <th>first_hs_alt</th>\n",
              "      <th>first_hs_urbanicity</th>\n",
              "      <th>chrt_ninth</th>\n",
              "      <th>...</th>\n",
              "      <th>ihe_retention_lt_4_yr_part_time</th>\n",
              "      <th>ihe_federal_loan_rate</th>\n",
              "      <th>ihe_share_25_older</th>\n",
              "      <th>ihe_med_debt_completers_all</th>\n",
              "      <th>ihe_med_debt_completers_pmts</th>\n",
              "      <th>ihe_ihe_repay_3_yr_all</th>\n",
              "      <th>ihe_rate_4_yr</th>\n",
              "      <th>ihe_rate_lt_4_yr</th>\n",
              "      <th>ihe_med_earn_10_yrs_after</th>\n",
              "      <th>ihe_pct_earn_gt_25k_6_yrs_after</th>\n",
              "    </tr>\n",
              "  </thead>\n",
              "  <tbody>\n",
              "    <tr>\n",
              "      <th>3</th>\n",
              "      <td>715371482</td>\n",
              "      <td>Fake record</td>\n",
              "      <td>Jeffco</td>\n",
              "      <td>604</td>\n",
              "      <td>9446</td>\n",
              "      <td>Snowy Hill</td>\n",
              "      <td>Adams</td>\n",
              "      <td>0</td>\n",
              "      <td>Town: Distant</td>\n",
              "      <td>2009</td>\n",
              "      <td>...</td>\n",
              "      <td>NaN</td>\n",
              "      <td>0.3773</td>\n",
              "      <td>0.3224</td>\n",
              "      <td>NaN</td>\n",
              "      <td>167.289651</td>\n",
              "      <td>0.623997</td>\n",
              "      <td>NaN</td>\n",
              "      <td>0.248147</td>\n",
              "      <td>NaN</td>\n",
              "      <td>NaN</td>\n",
              "    </tr>\n",
              "    <tr>\n",
              "      <th>4</th>\n",
              "      <td>498394514</td>\n",
              "      <td>Fake record</td>\n",
              "      <td>Jeffco</td>\n",
              "      <td>527</td>\n",
              "      <td>7528</td>\n",
              "      <td>Barton</td>\n",
              "      <td>Cold Springs</td>\n",
              "      <td>0</td>\n",
              "      <td>NaN</td>\n",
              "      <td>2010</td>\n",
              "      <td>...</td>\n",
              "      <td>NaN</td>\n",
              "      <td>0.6175</td>\n",
              "      <td>0.1737</td>\n",
              "      <td>NaN</td>\n",
              "      <td>277.917234</td>\n",
              "      <td>0.731175</td>\n",
              "      <td>NaN</td>\n",
              "      <td>NaN</td>\n",
              "      <td>NaN</td>\n",
              "      <td>0.580336</td>\n",
              "    </tr>\n",
              "    <tr>\n",
              "      <th>5</th>\n",
              "      <td>405500760</td>\n",
              "      <td>Fake record</td>\n",
              "      <td>SESC</td>\n",
              "      <td>506</td>\n",
              "      <td>6875</td>\n",
              "      <td>Caspian</td>\n",
              "      <td>Humphrey</td>\n",
              "      <td>0</td>\n",
              "      <td>Rural: Distant</td>\n",
              "      <td>2009</td>\n",
              "      <td>...</td>\n",
              "      <td>NaN</td>\n",
              "      <td>NaN</td>\n",
              "      <td>NaN</td>\n",
              "      <td>24092.3</td>\n",
              "      <td>NaN</td>\n",
              "      <td>NaN</td>\n",
              "      <td>0.405821</td>\n",
              "      <td>NaN</td>\n",
              "      <td>NaN</td>\n",
              "      <td>NaN</td>\n",
              "    </tr>\n",
              "    <tr>\n",
              "      <th>7</th>\n",
              "      <td>117772551</td>\n",
              "      <td>Fake record</td>\n",
              "      <td>KVEC</td>\n",
              "      <td>586</td>\n",
              "      <td>9190</td>\n",
              "      <td>Snowy Hill</td>\n",
              "      <td>Eleanor</td>\n",
              "      <td>0</td>\n",
              "      <td>Suburb: Small</td>\n",
              "      <td>2010</td>\n",
              "      <td>...</td>\n",
              "      <td>NaN</td>\n",
              "      <td>0.5464</td>\n",
              "      <td>0.2358</td>\n",
              "      <td>19503.6</td>\n",
              "      <td>216.530415</td>\n",
              "      <td>0.725473</td>\n",
              "      <td>0.446269</td>\n",
              "      <td>NaN</td>\n",
              "      <td>34538.0</td>\n",
              "      <td>NaN</td>\n",
              "    </tr>\n",
              "    <tr>\n",
              "      <th>8</th>\n",
              "      <td>731098366</td>\n",
              "      <td>Fake record</td>\n",
              "      <td>OVEC</td>\n",
              "      <td>268</td>\n",
              "      <td>2805</td>\n",
              "      <td>Summerfield</td>\n",
              "      <td>Lindgren</td>\n",
              "      <td>0</td>\n",
              "      <td>Rural: Fringe</td>\n",
              "      <td>2009</td>\n",
              "      <td>...</td>\n",
              "      <td>NaN</td>\n",
              "      <td>NaN</td>\n",
              "      <td>NaN</td>\n",
              "      <td>NaN</td>\n",
              "      <td>208.421101</td>\n",
              "      <td>0.631644</td>\n",
              "      <td>NaN</td>\n",
              "      <td>NaN</td>\n",
              "      <td>NaN</td>\n",
              "      <td>NaN</td>\n",
              "    </tr>\n",
              "    <tr>\n",
              "      <th>...</th>\n",
              "      <td>...</td>\n",
              "      <td>...</td>\n",
              "      <td>...</td>\n",
              "      <td>...</td>\n",
              "      <td>...</td>\n",
              "      <td>...</td>\n",
              "      <td>...</td>\n",
              "      <td>...</td>\n",
              "      <td>...</td>\n",
              "      <td>...</td>\n",
              "      <td>...</td>\n",
              "      <td>...</td>\n",
              "      <td>...</td>\n",
              "      <td>...</td>\n",
              "      <td>...</td>\n",
              "      <td>...</td>\n",
              "      <td>...</td>\n",
              "      <td>...</td>\n",
              "      <td>...</td>\n",
              "      <td>...</td>\n",
              "      <td>...</td>\n",
              "    </tr>\n",
              "    <tr>\n",
              "      <th>111967</th>\n",
              "      <td>363596149</td>\n",
              "      <td>Fake record</td>\n",
              "      <td>NKCES</td>\n",
              "      <td>562</td>\n",
              "      <td>7932</td>\n",
              "      <td>Foster</td>\n",
              "      <td>Davidson</td>\n",
              "      <td>0</td>\n",
              "      <td>City: Large</td>\n",
              "      <td>2009</td>\n",
              "      <td>...</td>\n",
              "      <td>NaN</td>\n",
              "      <td>NaN</td>\n",
              "      <td>0.2335</td>\n",
              "      <td>19085.6</td>\n",
              "      <td>NaN</td>\n",
              "      <td>NaN</td>\n",
              "      <td>NaN</td>\n",
              "      <td>NaN</td>\n",
              "      <td>34149.0</td>\n",
              "      <td>0.590797</td>\n",
              "    </tr>\n",
              "    <tr>\n",
              "      <th>111972</th>\n",
              "      <td>483296375</td>\n",
              "      <td>Fake record</td>\n",
              "      <td>KVEC</td>\n",
              "      <td>527</td>\n",
              "      <td>8170</td>\n",
              "      <td>Adolphus</td>\n",
              "      <td>Cilian</td>\n",
              "      <td>0</td>\n",
              "      <td>Town: Remote</td>\n",
              "      <td>2009</td>\n",
              "      <td>...</td>\n",
              "      <td>NaN</td>\n",
              "      <td>NaN</td>\n",
              "      <td>NaN</td>\n",
              "      <td>NaN</td>\n",
              "      <td>NaN</td>\n",
              "      <td>NaN</td>\n",
              "      <td>NaN</td>\n",
              "      <td>NaN</td>\n",
              "      <td>NaN</td>\n",
              "      <td>0.452447</td>\n",
              "    </tr>\n",
              "    <tr>\n",
              "      <th>111978</th>\n",
              "      <td>613778207</td>\n",
              "      <td>Fake record</td>\n",
              "      <td>NKCES</td>\n",
              "      <td>314</td>\n",
              "      <td>5507</td>\n",
              "      <td>Elmwood</td>\n",
              "      <td>Graham</td>\n",
              "      <td>0</td>\n",
              "      <td>Town: Distant</td>\n",
              "      <td>2009</td>\n",
              "      <td>...</td>\n",
              "      <td>NaN</td>\n",
              "      <td>NaN</td>\n",
              "      <td>NaN</td>\n",
              "      <td>NaN</td>\n",
              "      <td>NaN</td>\n",
              "      <td>NaN</td>\n",
              "      <td>NaN</td>\n",
              "      <td>NaN</td>\n",
              "      <td>34955.0</td>\n",
              "      <td>0.611423</td>\n",
              "    </tr>\n",
              "    <tr>\n",
              "      <th>111980</th>\n",
              "      <td>44552044</td>\n",
              "      <td>Fake record</td>\n",
              "      <td>KEDC</td>\n",
              "      <td>392</td>\n",
              "      <td>4913</td>\n",
              "      <td>Lark Valley</td>\n",
              "      <td>Wellington</td>\n",
              "      <td>0</td>\n",
              "      <td>Suburb: Large</td>\n",
              "      <td>2009</td>\n",
              "      <td>...</td>\n",
              "      <td>NaN</td>\n",
              "      <td>0.4605</td>\n",
              "      <td>NaN</td>\n",
              "      <td>NaN</td>\n",
              "      <td>222.791918</td>\n",
              "      <td>NaN</td>\n",
              "      <td>NaN</td>\n",
              "      <td>NaN</td>\n",
              "      <td>NaN</td>\n",
              "      <td>NaN</td>\n",
              "    </tr>\n",
              "    <tr>\n",
              "      <th>111990</th>\n",
              "      <td>144696166</td>\n",
              "      <td>Fake record</td>\n",
              "      <td>KVEC</td>\n",
              "      <td>500</td>\n",
              "      <td>7645</td>\n",
              "      <td>Quigley</td>\n",
              "      <td>Gilbert</td>\n",
              "      <td>0</td>\n",
              "      <td>Suburb: Large</td>\n",
              "      <td>2010</td>\n",
              "      <td>...</td>\n",
              "      <td>NaN</td>\n",
              "      <td>0.5171</td>\n",
              "      <td>0.1947</td>\n",
              "      <td>NaN</td>\n",
              "      <td>NaN</td>\n",
              "      <td>NaN</td>\n",
              "      <td>NaN</td>\n",
              "      <td>NaN</td>\n",
              "      <td>NaN</td>\n",
              "      <td>0.593763</td>\n",
              "    </tr>\n",
              "  </tbody>\n",
              "</table>\n",
              "<p>44618 rows × 68 columns</p>\n",
              "</div>\n",
              "    <div class=\"colab-df-buttons\">\n",
              "\n",
              "  <div class=\"colab-df-container\">\n",
              "    <button class=\"colab-df-convert\" onclick=\"convertToInteractive('df-60a4fd49-a5fa-4f9b-9ecc-e8e8363e51c5')\"\n",
              "            title=\"Convert this dataframe to an interactive table.\"\n",
              "            style=\"display:none;\">\n",
              "\n",
              "  <svg xmlns=\"http://www.w3.org/2000/svg\" height=\"24px\" viewBox=\"0 -960 960 960\">\n",
              "    <path d=\"M120-120v-720h720v720H120Zm60-500h600v-160H180v160Zm220 220h160v-160H400v160Zm0 220h160v-160H400v160ZM180-400h160v-160H180v160Zm440 0h160v-160H620v160ZM180-180h160v-160H180v160Zm440 0h160v-160H620v160Z\"/>\n",
              "  </svg>\n",
              "    </button>\n",
              "\n",
              "  <style>\n",
              "    .colab-df-container {\n",
              "      display:flex;\n",
              "      gap: 12px;\n",
              "    }\n",
              "\n",
              "    .colab-df-convert {\n",
              "      background-color: #E8F0FE;\n",
              "      border: none;\n",
              "      border-radius: 50%;\n",
              "      cursor: pointer;\n",
              "      display: none;\n",
              "      fill: #1967D2;\n",
              "      height: 32px;\n",
              "      padding: 0 0 0 0;\n",
              "      width: 32px;\n",
              "    }\n",
              "\n",
              "    .colab-df-convert:hover {\n",
              "      background-color: #E2EBFA;\n",
              "      box-shadow: 0px 1px 2px rgba(60, 64, 67, 0.3), 0px 1px 3px 1px rgba(60, 64, 67, 0.15);\n",
              "      fill: #174EA6;\n",
              "    }\n",
              "\n",
              "    .colab-df-buttons div {\n",
              "      margin-bottom: 4px;\n",
              "    }\n",
              "\n",
              "    [theme=dark] .colab-df-convert {\n",
              "      background-color: #3B4455;\n",
              "      fill: #D2E3FC;\n",
              "    }\n",
              "\n",
              "    [theme=dark] .colab-df-convert:hover {\n",
              "      background-color: #434B5C;\n",
              "      box-shadow: 0px 1px 3px 1px rgba(0, 0, 0, 0.15);\n",
              "      filter: drop-shadow(0px 1px 2px rgba(0, 0, 0, 0.3));\n",
              "      fill: #FFFFFF;\n",
              "    }\n",
              "  </style>\n",
              "\n",
              "    <script>\n",
              "      const buttonEl =\n",
              "        document.querySelector('#df-60a4fd49-a5fa-4f9b-9ecc-e8e8363e51c5 button.colab-df-convert');\n",
              "      buttonEl.style.display =\n",
              "        google.colab.kernel.accessAllowed ? 'block' : 'none';\n",
              "\n",
              "      async function convertToInteractive(key) {\n",
              "        const element = document.querySelector('#df-60a4fd49-a5fa-4f9b-9ecc-e8e8363e51c5');\n",
              "        const dataTable =\n",
              "          await google.colab.kernel.invokeFunction('convertToInteractive',\n",
              "                                                    [key], {});\n",
              "        if (!dataTable) return;\n",
              "\n",
              "        const docLinkHtml = 'Like what you see? Visit the ' +\n",
              "          '<a target=\"_blank\" href=https://colab.research.google.com/notebooks/data_table.ipynb>data table notebook</a>'\n",
              "          + ' to learn more about interactive tables.';\n",
              "        element.innerHTML = '';\n",
              "        dataTable['output_type'] = 'display_data';\n",
              "        await google.colab.output.renderOutput(dataTable, element);\n",
              "        const docLink = document.createElement('div');\n",
              "        docLink.innerHTML = docLinkHtml;\n",
              "        element.appendChild(docLink);\n",
              "      }\n",
              "    </script>\n",
              "  </div>\n",
              "\n",
              "\n",
              "<div id=\"df-b68803d3-9f4e-44da-86f3-e30ee852e0b0\">\n",
              "  <button class=\"colab-df-quickchart\" onclick=\"quickchart('df-b68803d3-9f4e-44da-86f3-e30ee852e0b0')\"\n",
              "            title=\"Suggest charts\"\n",
              "            style=\"display:none;\">\n",
              "\n",
              "<svg xmlns=\"http://www.w3.org/2000/svg\" height=\"24px\"viewBox=\"0 0 24 24\"\n",
              "     width=\"24px\">\n",
              "    <g>\n",
              "        <path d=\"M19 3H5c-1.1 0-2 .9-2 2v14c0 1.1.9 2 2 2h14c1.1 0 2-.9 2-2V5c0-1.1-.9-2-2-2zM9 17H7v-7h2v7zm4 0h-2V7h2v10zm4 0h-2v-4h2v4z\"/>\n",
              "    </g>\n",
              "</svg>\n",
              "  </button>\n",
              "\n",
              "<style>\n",
              "  .colab-df-quickchart {\n",
              "      --bg-color: #E8F0FE;\n",
              "      --fill-color: #1967D2;\n",
              "      --hover-bg-color: #E2EBFA;\n",
              "      --hover-fill-color: #174EA6;\n",
              "      --disabled-fill-color: #AAA;\n",
              "      --disabled-bg-color: #DDD;\n",
              "  }\n",
              "\n",
              "  [theme=dark] .colab-df-quickchart {\n",
              "      --bg-color: #3B4455;\n",
              "      --fill-color: #D2E3FC;\n",
              "      --hover-bg-color: #434B5C;\n",
              "      --hover-fill-color: #FFFFFF;\n",
              "      --disabled-bg-color: #3B4455;\n",
              "      --disabled-fill-color: #666;\n",
              "  }\n",
              "\n",
              "  .colab-df-quickchart {\n",
              "    background-color: var(--bg-color);\n",
              "    border: none;\n",
              "    border-radius: 50%;\n",
              "    cursor: pointer;\n",
              "    display: none;\n",
              "    fill: var(--fill-color);\n",
              "    height: 32px;\n",
              "    padding: 0;\n",
              "    width: 32px;\n",
              "  }\n",
              "\n",
              "  .colab-df-quickchart:hover {\n",
              "    background-color: var(--hover-bg-color);\n",
              "    box-shadow: 0 1px 2px rgba(60, 64, 67, 0.3), 0 1px 3px 1px rgba(60, 64, 67, 0.15);\n",
              "    fill: var(--button-hover-fill-color);\n",
              "  }\n",
              "\n",
              "  .colab-df-quickchart-complete:disabled,\n",
              "  .colab-df-quickchart-complete:disabled:hover {\n",
              "    background-color: var(--disabled-bg-color);\n",
              "    fill: var(--disabled-fill-color);\n",
              "    box-shadow: none;\n",
              "  }\n",
              "\n",
              "  .colab-df-spinner {\n",
              "    border: 2px solid var(--fill-color);\n",
              "    border-color: transparent;\n",
              "    border-bottom-color: var(--fill-color);\n",
              "    animation:\n",
              "      spin 1s steps(1) infinite;\n",
              "  }\n",
              "\n",
              "  @keyframes spin {\n",
              "    0% {\n",
              "      border-color: transparent;\n",
              "      border-bottom-color: var(--fill-color);\n",
              "      border-left-color: var(--fill-color);\n",
              "    }\n",
              "    20% {\n",
              "      border-color: transparent;\n",
              "      border-left-color: var(--fill-color);\n",
              "      border-top-color: var(--fill-color);\n",
              "    }\n",
              "    30% {\n",
              "      border-color: transparent;\n",
              "      border-left-color: var(--fill-color);\n",
              "      border-top-color: var(--fill-color);\n",
              "      border-right-color: var(--fill-color);\n",
              "    }\n",
              "    40% {\n",
              "      border-color: transparent;\n",
              "      border-right-color: var(--fill-color);\n",
              "      border-top-color: var(--fill-color);\n",
              "    }\n",
              "    60% {\n",
              "      border-color: transparent;\n",
              "      border-right-color: var(--fill-color);\n",
              "    }\n",
              "    80% {\n",
              "      border-color: transparent;\n",
              "      border-right-color: var(--fill-color);\n",
              "      border-bottom-color: var(--fill-color);\n",
              "    }\n",
              "    90% {\n",
              "      border-color: transparent;\n",
              "      border-bottom-color: var(--fill-color);\n",
              "    }\n",
              "  }\n",
              "</style>\n",
              "\n",
              "  <script>\n",
              "    async function quickchart(key) {\n",
              "      const quickchartButtonEl =\n",
              "        document.querySelector('#' + key + ' button');\n",
              "      quickchartButtonEl.disabled = true;  // To prevent multiple clicks.\n",
              "      quickchartButtonEl.classList.add('colab-df-spinner');\n",
              "      try {\n",
              "        const charts = await google.colab.kernel.invokeFunction(\n",
              "            'suggestCharts', [key], {});\n",
              "      } catch (error) {\n",
              "        console.error('Error during call to suggestCharts:', error);\n",
              "      }\n",
              "      quickchartButtonEl.classList.remove('colab-df-spinner');\n",
              "      quickchartButtonEl.classList.add('colab-df-quickchart-complete');\n",
              "    }\n",
              "    (() => {\n",
              "      let quickchartButtonEl =\n",
              "        document.querySelector('#df-b68803d3-9f4e-44da-86f3-e30ee852e0b0 button');\n",
              "      quickchartButtonEl.style.display =\n",
              "        google.colab.kernel.accessAllowed ? 'block' : 'none';\n",
              "    })();\n",
              "  </script>\n",
              "</div>\n",
              "\n",
              "  <div id=\"id_dab03621-67a5-4c96-a63b-2f9802999697\">\n",
              "    <style>\n",
              "      .colab-df-generate {\n",
              "        background-color: #E8F0FE;\n",
              "        border: none;\n",
              "        border-radius: 50%;\n",
              "        cursor: pointer;\n",
              "        display: none;\n",
              "        fill: #1967D2;\n",
              "        height: 32px;\n",
              "        padding: 0 0 0 0;\n",
              "        width: 32px;\n",
              "      }\n",
              "\n",
              "      .colab-df-generate:hover {\n",
              "        background-color: #E2EBFA;\n",
              "        box-shadow: 0px 1px 2px rgba(60, 64, 67, 0.3), 0px 1px 3px 1px rgba(60, 64, 67, 0.15);\n",
              "        fill: #174EA6;\n",
              "      }\n",
              "\n",
              "      [theme=dark] .colab-df-generate {\n",
              "        background-color: #3B4455;\n",
              "        fill: #D2E3FC;\n",
              "      }\n",
              "\n",
              "      [theme=dark] .colab-df-generate:hover {\n",
              "        background-color: #434B5C;\n",
              "        box-shadow: 0px 1px 3px 1px rgba(0, 0, 0, 0.15);\n",
              "        filter: drop-shadow(0px 1px 2px rgba(0, 0, 0, 0.3));\n",
              "        fill: #FFFFFF;\n",
              "      }\n",
              "    </style>\n",
              "    <button class=\"colab-df-generate\" onclick=\"generateWithVariable('subset_synthetic_data')\"\n",
              "            title=\"Generate code using this dataframe.\"\n",
              "            style=\"display:none;\">\n",
              "\n",
              "  <svg xmlns=\"http://www.w3.org/2000/svg\" height=\"24px\"viewBox=\"0 0 24 24\"\n",
              "       width=\"24px\">\n",
              "    <path d=\"M7,19H8.4L18.45,9,17,7.55,7,17.6ZM5,21V16.75L18.45,3.32a2,2,0,0,1,2.83,0l1.4,1.43a1.91,1.91,0,0,1,.58,1.4,1.91,1.91,0,0,1-.58,1.4L9.25,21ZM18.45,9,17,7.55Zm-12,3A5.31,5.31,0,0,0,4.9,8.1,5.31,5.31,0,0,0,1,6.5,5.31,5.31,0,0,0,4.9,4.9,5.31,5.31,0,0,0,6.5,1,5.31,5.31,0,0,0,8.1,4.9,5.31,5.31,0,0,0,12,6.5,5.46,5.46,0,0,0,6.5,12Z\"/>\n",
              "  </svg>\n",
              "    </button>\n",
              "    <script>\n",
              "      (() => {\n",
              "      const buttonEl =\n",
              "        document.querySelector('#id_dab03621-67a5-4c96-a63b-2f9802999697 button.colab-df-generate');\n",
              "      buttonEl.style.display =\n",
              "        google.colab.kernel.accessAllowed ? 'block' : 'none';\n",
              "\n",
              "      buttonEl.onclick = () => {\n",
              "        google.colab.notebook.generateWithVariable('subset_synthetic_data');\n",
              "      }\n",
              "      })();\n",
              "    </script>\n",
              "  </div>\n",
              "\n",
              "    </div>\n",
              "  </div>\n"
            ],
            "text/plain": [
              "              sid     sid_type first_coop_code  first_dist_code  \\\n",
              "3       715371482  Fake record          Jeffco              604   \n",
              "4       498394514  Fake record          Jeffco              527   \n",
              "5       405500760  Fake record            SESC              506   \n",
              "7       117772551  Fake record            KVEC              586   \n",
              "8       731098366  Fake record            OVEC              268   \n",
              "...           ...          ...             ...              ...   \n",
              "111967  363596149  Fake record           NKCES              562   \n",
              "111972  483296375  Fake record            KVEC              527   \n",
              "111978  613778207  Fake record           NKCES              314   \n",
              "111980   44552044  Fake record            KEDC              392   \n",
              "111990  144696166  Fake record            KVEC              500   \n",
              "\n",
              "        first_hs_code first_dist_name first_hs_name  first_hs_alt  \\\n",
              "3                9446      Snowy Hill         Adams             0   \n",
              "4                7528          Barton  Cold Springs             0   \n",
              "5                6875         Caspian      Humphrey             0   \n",
              "7                9190      Snowy Hill       Eleanor             0   \n",
              "8                2805     Summerfield      Lindgren             0   \n",
              "...               ...             ...           ...           ...   \n",
              "111967           7932          Foster      Davidson             0   \n",
              "111972           8170        Adolphus        Cilian             0   \n",
              "111978           5507         Elmwood        Graham             0   \n",
              "111980           4913     Lark Valley    Wellington             0   \n",
              "111990           7645         Quigley       Gilbert             0   \n",
              "\n",
              "       first_hs_urbanicity  chrt_ninth  ...  ihe_retention_lt_4_yr_part_time  \\\n",
              "3            Town: Distant        2009  ...                              NaN   \n",
              "4                      NaN        2010  ...                              NaN   \n",
              "5           Rural: Distant        2009  ...                              NaN   \n",
              "7            Suburb: Small        2010  ...                              NaN   \n",
              "8            Rural: Fringe        2009  ...                              NaN   \n",
              "...                    ...         ...  ...                              ...   \n",
              "111967         City: Large        2009  ...                              NaN   \n",
              "111972        Town: Remote        2009  ...                              NaN   \n",
              "111978       Town: Distant        2009  ...                              NaN   \n",
              "111980       Suburb: Large        2009  ...                              NaN   \n",
              "111990       Suburb: Large        2010  ...                              NaN   \n",
              "\n",
              "       ihe_federal_loan_rate  ihe_share_25_older  ihe_med_debt_completers_all  \\\n",
              "3                     0.3773              0.3224                          NaN   \n",
              "4                     0.6175              0.1737                          NaN   \n",
              "5                        NaN                 NaN                      24092.3   \n",
              "7                     0.5464              0.2358                      19503.6   \n",
              "8                        NaN                 NaN                          NaN   \n",
              "...                      ...                 ...                          ...   \n",
              "111967                   NaN              0.2335                      19085.6   \n",
              "111972                   NaN                 NaN                          NaN   \n",
              "111978                   NaN                 NaN                          NaN   \n",
              "111980                0.4605                 NaN                          NaN   \n",
              "111990                0.5171              0.1947                          NaN   \n",
              "\n",
              "        ihe_med_debt_completers_pmts  ihe_ihe_repay_3_yr_all  ihe_rate_4_yr  \\\n",
              "3                         167.289651                0.623997            NaN   \n",
              "4                         277.917234                0.731175            NaN   \n",
              "5                                NaN                     NaN       0.405821   \n",
              "7                         216.530415                0.725473       0.446269   \n",
              "8                         208.421101                0.631644            NaN   \n",
              "...                              ...                     ...            ...   \n",
              "111967                           NaN                     NaN            NaN   \n",
              "111972                           NaN                     NaN            NaN   \n",
              "111978                           NaN                     NaN            NaN   \n",
              "111980                    222.791918                     NaN            NaN   \n",
              "111990                           NaN                     NaN            NaN   \n",
              "\n",
              "        ihe_rate_lt_4_yr  ihe_med_earn_10_yrs_after  \\\n",
              "3               0.248147                        NaN   \n",
              "4                    NaN                        NaN   \n",
              "5                    NaN                        NaN   \n",
              "7                    NaN                    34538.0   \n",
              "8                    NaN                        NaN   \n",
              "...                  ...                        ...   \n",
              "111967               NaN                    34149.0   \n",
              "111972               NaN                        NaN   \n",
              "111978               NaN                    34955.0   \n",
              "111980               NaN                        NaN   \n",
              "111990               NaN                        NaN   \n",
              "\n",
              "        ihe_pct_earn_gt_25k_6_yrs_after  \n",
              "3                                   NaN  \n",
              "4                              0.580336  \n",
              "5                                   NaN  \n",
              "7                                   NaN  \n",
              "8                                   NaN  \n",
              "...                                 ...  \n",
              "111967                         0.590797  \n",
              "111972                         0.452447  \n",
              "111978                         0.611423  \n",
              "111980                              NaN  \n",
              "111990                         0.593763  \n",
              "\n",
              "[44618 rows x 68 columns]"
            ]
          },
          "execution_count": 18,
          "metadata": {},
          "output_type": "execute_result"
        }
      ],
      "source": [
        "subset_synthetic_data"
      ]
    },
    {
      "cell_type": "code",
      "execution_count": null,
      "metadata": {
        "id": "TOOsIqFXX62W"
      },
      "outputs": [],
      "source": [
        "# prompt: Remove NaN from subset_synthetic_data\n",
        "\n",
        "#subset_synthetic_data = subset_synthetic_data.dropna()\n"
      ]
    },
    {
      "cell_type": "code",
      "execution_count": null,
      "metadata": {
        "id": "66yBAM-3RaMF"
      },
      "outputs": [],
      "source": [
        "# prompt: Drop sid_type from subset_synthetic_data\n",
        "\n",
        "subset_synthetic_data = subset_synthetic_data.drop('sid_type', axis=1)\n"
      ]
    },
    {
      "cell_type": "code",
      "execution_count": null,
      "metadata": {
        "colab": {
          "base_uri": "https://localhost:8080/"
        },
        "id": "G3FoFGVuZhQi",
        "outputId": "5362143c-b86d-4bce-9d29-5ba02b767e36"
      },
      "outputs": [
        {
          "name": "stdout",
          "output_type": "stream",
          "text": [
            "3         NaN\n",
            "4         1.0\n",
            "5         0.0\n",
            "7         NaN\n",
            "8         1.0\n",
            "         ... \n",
            "111967    0.0\n",
            "111972    0.0\n",
            "111978    0.0\n",
            "111980    0.0\n",
            "111990    1.0\n",
            "Name: enroll_yr2_any, Length: 44618, dtype: float64\n",
            "NaN values: 12398\n",
            "0.0 values: 21819\n",
            "1.0 values: 10401\n"
          ]
        }
      ],
      "source": [
        "# prompt: show all rows for enroll_yr2_any.  how many are NaN.  how many have 0.0 or 1.0\n",
        "\n",
        "print(subset_synthetic_data['enroll_yr2_any'])\n",
        "print(\"NaN values:\", subset_synthetic_data['enroll_yr2_any'].isna().sum())\n",
        "print(\"0.0 values:\", (subset_synthetic_data['enroll_yr2_any'] == 0.0).sum())\n",
        "print(\"1.0 values:\", (subset_synthetic_data['enroll_yr2_any'] == 1.0).sum())\n"
      ]
    },
    {
      "cell_type": "code",
      "execution_count": null,
      "metadata": {
        "colab": {
          "base_uri": "https://localhost:8080/",
          "height": 564
        },
        "id": "eZh3fRNyZXCf",
        "outputId": "1e850cf7-7c45-47e5-90ea-27633603d776"
      },
      "outputs": [
        {
          "data": {
            "image/png": "[encoded data removed]",
            "text/plain": [
              "<Figure size 800x600 with 2 Axes>"
            ]
          },
          "metadata": {},
          "output_type": "display_data"
        }
      ],
      "source": [
        "# Split the data into features (X) and target variable (y)\n",
        "X = subset_synthetic_data.drop('enroll_yr2_any', axis=1)\n",
        "y = subset_synthetic_data['enroll_yr2_any']\n",
        "\n",
        "# Drop rows with NaN values in the target variable from the original dataframe\n",
        "subset_synthetic_data = subset_synthetic_data.dropna(subset=['enroll_yr2_any'])\n",
        "\n",
        "# Now recreate X and y from the subset_synthetic_data with dropped NaN\n",
        "X = subset_synthetic_data.drop('enroll_yr2_any', axis=1)\n",
        "y = subset_synthetic_data['enroll_yr2_any']\n",
        "\n",
        "# Convert object columns to categorical\n",
        "# This ensures XGBoost can recognize and handle them correctly\n",
        "for col in X.select_dtypes(include=['object']):\n",
        "    X[col] = X[col].astype('category')\n",
        "\n",
        "#Import train_test_split from sklearn.model_selection\n",
        "from sklearn.model_selection import train_test_split\n",
        "\n",
        "# Split the data into training and testing sets\n",
        "X_train, X_test, y_train, y_test = train_test_split(X, y, test_size=0.2, random_state=42)\n",
        "\n",
        "#Import train_test_split from sklearn.model_selection\n",
        "from sklearn.model_selection import train_test_split\n",
        "\n",
        "#Import XGBClassifier\n",
        "from xgboost import XGBClassifier\n",
        "\n",
        "# Initialize the XGBoost classifier\n",
        "model = XGBClassifier(enable_categorical=True) # Set enable_categorical to True\n",
        "\n",
        "# Train the model\n",
        "model.fit(X_train, y_train)\n",
        "\n",
        "# Make predictions on the test set\n",
        "y_pred = model.predict(X_test)\n",
        "\n",
        "# Import confusion_matrix\n",
        "from sklearn.metrics import confusion_matrix\n",
        "\n",
        "# Create the confusion matrix\n",
        "cm = confusion_matrix(y_test, y_pred)\n",
        "\n",
        "# Import matplotlib.pyplot\n",
        "import matplotlib.pyplot as plt #Added this line to import matplotlib.pyplot\n",
        "import seaborn as sns # Make sure to import seaborn as well\n",
        "\n",
        "# Plot the confusion matrix using seaborn\n",
        "plt.figure(figsize=(8, 6))\n",
        "sns.heatmap(cm, annot=True, fmt=\"d\", cmap=\"Blues\",\n",
        "            xticklabels=['Not Retained', 'Retained'],\n",
        "            yticklabels=['Not Retained', 'Retained'])\n",
        "plt.title(\"Confusion Matrix\")\n",
        "plt.xlabel(\"Predicted Label\")\n",
        "plt.ylabel(\"True Label\")\n",
        "plt.show()"
      ]
    },
    {
      "cell_type": "code",
      "execution_count": null,
      "metadata": {
        "colab": {
          "base_uri": "https://localhost:8080/",
          "height": 564
        },
        "id": "qGOyTo-08jTE",
        "outputId": "2b77aeb0-1d67-4a56-cf25-aeb8886ab78e"
      },
      "outputs": [
        {
          "data": {
            "image/png": "[encoded data removed]",
            "text/plain": [
              "<Figure size 800x600 with 2 Axes>"
            ]
          },
          "metadata": {},
          "output_type": "display_data"
        }
      ],
      "source": [
        "# Split the data into features (X) and target variable (y)\n",
        "X = subset_synthetic_data.drop('enroll_yr2_any', axis=1)\n",
        "y = subset_synthetic_data['enroll_yr2_any']\n",
        "\n",
        "# Drop rows with NaN values in the target variable from the original dataframe\n",
        "subset_synthetic_data = subset_synthetic_data.dropna(subset=['enroll_yr2_any'])\n",
        "\n",
        "# Now recreate X and y from the subset_synthetic_data with dropped NaN\n",
        "X = subset_synthetic_data.drop('enroll_yr2_any', axis=1)\n",
        "y = subset_synthetic_data['enroll_yr2_any']\n",
        "\n",
        "# Convert object columns to categorical\n",
        "# This ensures XGBoost can recognize and handle them correctly\n",
        "for col in X.select_dtypes(include=['object']):\n",
        "    X[col] = X[col].astype('category')\n",
        "\n",
        "#Import train_test_split from sklearn\n",
        "from sklearn.model_selection import train_test_split\n",
        "\n",
        "# Split the data into training and testing sets\n",
        "X_train, X_test, y_train, y_test = train_test_split(X, y, test_size=0.2, random_state=42)\n",
        "\n",
        "# Initialize the XGBoost classifier\n",
        "model = XGBClassifier(enable_categorical=True) # Set enable_categorical to True\n",
        "\n",
        "# Train the model\n",
        "model.fit(X_train, y_train)\n",
        "\n",
        "# Make predictions on the test set\n",
        "y_pred = model.predict(X_test)\n",
        "\n",
        "# Create the confusion matrix\n",
        "cm = confusion_matrix(y_test, y_pred)\n",
        "\n",
        "# Plot the confusion matrix using seaborn\n",
        "plt.figure(figsize=(8, 6))\n",
        "sns.heatmap(cm, annot=True, fmt=\"d\", cmap=\"Blues\",\n",
        "            xticklabels=['Not Retained', 'Retained'],\n",
        "            yticklabels=['Not Retained', 'Retained'])\n",
        "plt.title(\"Confusion Matrix\")\n",
        "plt.xlabel(\"Predicted Label\")\n",
        "plt.ylabel(\"True Label\")\n",
        "plt.show()"
      ]
    },
    {
      "cell_type": "code",
      "execution_count": null,
      "metadata": {
        "colab": {
          "base_uri": "https://localhost:8080/"
        },
        "id": "KsuyoUfpazAA",
        "outputId": "aa64aa02-2ade-40a6-e92c-ab3ccedd989f"
      },
      "outputs": [
        {
          "name": "stdout",
          "output_type": "stream",
          "text": [
            "Accuracy: 0.7101179391682185\n",
            "F1-score: 0.48737650933040616\n",
            "Precision: 0.5591939546599496\n",
            "Recall: 0.43190661478599224\n"
          ]
        }
      ],
      "source": [
        "# prompt: Provide accuracy, F1, precision, and recall from the binary prediction\n",
        "\n",
        "from sklearn.metrics import accuracy_score, f1_score, precision_score, recall_score\n",
        "\n",
        "# Calculate accuracy\n",
        "accuracy = accuracy_score(y_test, y_pred)\n",
        "print(f\"Accuracy: {accuracy}\")\n",
        "\n",
        "# Calculate F1-score\n",
        "f1 = f1_score(y_test, y_pred)\n",
        "print(f\"F1-score: {f1}\")\n",
        "\n",
        "# Calculate precision\n",
        "precision = precision_score(y_test, y_pred)\n",
        "print(f\"Precision: {precision}\")\n",
        "\n",
        "# Calculate recall\n",
        "recall = recall_score(y_test, y_pred)\n",
        "print(f\"Recall: {recall}\")\n"
      ]
    },
    {
      "cell_type": "code",
      "execution_count": null,
      "metadata": {
        "colab": {
          "base_uri": "https://localhost:8080/",
          "height": 903
        },
        "id": "Xg74P4hFbCWB",
        "outputId": "887216d4-0e58-4485-b894-43995a718f2d"
      },
      "outputs": [
        {
          "name": "stdout",
          "output_type": "stream",
          "text": [
            "2         0.0\n",
            "3         1.0\n",
            "7         0.0\n",
            "8         0.0\n",
            "9         1.0\n",
            "         ... \n",
            "111948    0.0\n",
            "111964    0.0\n",
            "111966    1.0\n",
            "111984    0.0\n",
            "111985    1.0\n",
            "Name: enroll_yr2_any, Length: 44442, dtype: float64\n",
            "NaN values: 0\n",
            "0.0 values: 27753\n",
            "1.0 values: 16689\n"
          ]
        },
        {
          "data": {
            "image/png": "[encoded data removed]",
            "text/plain": [
              "<Figure size 800x600 with 2 Axes>"
            ]
          },
          "metadata": {},
          "output_type": "display_data"
        },
        {
          "name": "stdout",
          "output_type": "stream",
          "text": [
            "Accuracy: 0.8636517043536955\n",
            "F1-score: 0.8239395700174317\n",
            "Precision: 0.7858132446661125\n",
            "Recall: 0.8659541984732825\n"
          ]
        }
      ],
      "source": [
        "# prompt: Run the same binary prediction on the real_data and provide the same charts and accuracy information\n",
        "\n",
        "# Create a subset from the real data for students who attended a 4 year university.  Then perform a classification on ihe_retention_4_yr_full_time.\n",
        "\n",
        "subset_real_data = real_data[real_data['enroll_yr1_any'] == 1]\n",
        "\n",
        "#subset_real_data = subset_real_data.dropna()\n",
        "\n",
        "\n",
        "subset_real_data = subset_real_data.drop('sid_type', axis=1)\n",
        "\n",
        "\n",
        "print(subset_real_data['enroll_yr2_any'])\n",
        "print(\"NaN values:\", subset_real_data['enroll_yr2_any'].isna().sum())\n",
        "print(\"0.0 values:\", (subset_real_data['enroll_yr2_any'] == 0.0).sum())\n",
        "print(\"1.0 values:\", (subset_real_data['enroll_yr2_any'] == 1.0).sum())\n",
        "\n",
        "# Split the data into features (X) and target variable (y)\n",
        "X = subset_real_data.drop('enroll_yr2_any', axis=1)\n",
        "y = subset_real_data['enroll_yr2_any']\n",
        "\n",
        "# Drop rows with NaN values in the target variable from the original dataframe\n",
        "subset_real_data = subset_real_data.dropna(subset=['enroll_yr2_any'])\n",
        "\n",
        "# Now recreate X and y from the subset_real_data with dropped NaN\n",
        "X = subset_real_data.drop('enroll_yr2_any', axis=1)\n",
        "y = subset_real_data['enroll_yr2_any']\n",
        "\n",
        "# Convert object columns to categorical\n",
        "# This ensures XGBoost can recognize and handle them correctly\n",
        "for col in X.select_dtypes(include=['object']):\n",
        "    X[col] = X[col].astype('category')\n",
        "\n",
        "# Split the data into training and testing sets\n",
        "X_train, X_test, y_train, y_test = train_test_split(X, y, test_size=0.2, random_state=42)\n",
        "\n",
        "# Initialize the XGBoost classifier\n",
        "model = XGBClassifier(enable_categorical=True) # Set enable_categorical to True\n",
        "\n",
        "# Train the model\n",
        "model.fit(X_train, y_train)\n",
        "\n",
        "# Make predictions on the test set\n",
        "y_pred = model.predict(X_test)\n",
        "\n",
        "# Create the confusion matrix\n",
        "cm = confusion_matrix(y_test, y_pred)\n",
        "\n",
        "# Plot the confusion matrix using seaborn\n",
        "plt.figure(figsize=(8, 6))\n",
        "sns.heatmap(cm, annot=True, fmt=\"d\", cmap=\"Blues\",\n",
        "            xticklabels=['Not Retained', 'Retained'],\n",
        "            yticklabels=['Not Retained', 'Retained'])\n",
        "plt.title(\"Confusion Matrix\")\n",
        "plt.xlabel(\"Predicted Label\")\n",
        "plt.ylabel(\"True Label\")\n",
        "plt.show()\n",
        "\n",
        "\n",
        "# Calculate accuracy\n",
        "accuracy = accuracy_score(y_test, y_pred)\n",
        "print(f\"Accuracy: {accuracy}\")\n",
        "\n",
        "# Calculate F1-score\n",
        "f1 = f1_score(y_test, y_pred)\n",
        "print(f\"F1-score: {f1}\")\n",
        "\n",
        "# Calculate precision\n",
        "precision = precision_score(y_test, y_pred)\n",
        "print(f\"Precision: {precision}\")\n",
        "\n",
        "# Calculate recall\n",
        "recall = recall_score(y_test, y_pred)\n",
        "print(f\"Recall: {recall}\")\n"
      ]
    },
    {
      "cell_type": "code",
      "execution_count": null,
      "metadata": {
        "colab": {
          "base_uri": "https://localhost:8080/"
        },
        "id": "fFqGS9I1buYQ",
        "outputId": "31383bb1-e290-4a44-9fed-bc047c8dd07e"
      },
      "outputs": [
        {
          "name": "stdout",
          "output_type": "stream",
          "text": [
            "Count of value 1 in enroll_yr2_any: 18776\n"
          ]
        }
      ],
      "source": [
        "# prompt: Count of value = 1 in the enroll_yr2_any for the real_data dataset\n",
        "\n",
        "count_ones = (real_data['enroll_yr2_any'] == 1).sum()\n",
        "print(f\"Count of value 1 in enroll_yr2_any: {count_ones}\")\n"
      ]
    },
    {
      "cell_type": "markdown",
      "metadata": {
        "id": "pRPNHcHJ0ZT7"
      },
      "source": [
        "# Dataset #2 - Add differential privacy to Faketucky dataset"
      ]
    },
    {
      "cell_type": "code",
      "execution_count": null,
      "metadata": {
        "id": "Gw9bKX85IBu5"
      },
      "outputs": [],
      "source": [
        "import pandas as pd\n",
        "import numpy as np\n",
        "from pandas.api.types import is_numeric_dtype, is_categorical_dtype\n",
        "\n",
        "def add_dp_noise_numeric(series, epsilon):\n",
        "    \"\"\"\n",
        "    Adds Laplace noise to a numeric pandas Series to achieve differential privacy.\n",
        "    \"\"\"\n",
        "    sensitivity = series.max() - series.min()\n",
        "    scale = sensitivity / epsilon\n",
        "    noisy_series = series + np.random.laplace(0, scale, size=series.shape)\n",
        "    return noisy_series\n",
        "\n",
        "def perturb_categorical(series, epsilon):\n",
        "    \"\"\"\n",
        "    Applies differential privacy to a categorical pandas Series using the exponential mechanism.\n",
        "    \"\"\"\n",
        "    categories = series.cat.categories if hasattr(series, 'cat') else series.unique()\n",
        "    num_categories = len(categories)\n",
        "    probabilities = np.full(num_categories, np.exp(epsilon))\n",
        "    probabilities /= probabilities.sum()\n",
        "    noisy_series = series.copy()\n",
        "\n",
        "    for idx in series.index:\n",
        "        if np.random.rand() > (np.exp(epsilon) / (np.exp(epsilon) + num_categories - 1)):\n",
        "            noisy_category = np.random.choice(categories, p=probabilities)\n",
        "            noisy_series.loc[idx] = noisy_category\n",
        "    return noisy_series\n",
        "\n",
        "def create_dp_data(real_data, epsilon=1.0):\n",
        "    \"\"\"\n",
        "    Creates a differentially private version of the input DataFrame.\n",
        "    \"\"\"\n",
        "    dp_data = pd.DataFrame(index=real_data.index)\n",
        "\n",
        "    for col in real_data.columns:\n",
        "        if is_numeric_dtype(real_data[col]):\n",
        "            dp_data[col] = add_dp_noise_numeric(real_data[col], epsilon)\n",
        "        elif is_categorical_dtype(real_data[col]):\n",
        "            dp_data[col] = perturb_categorical(real_data[col], epsilon)\n",
        "        else:\n",
        "            # Handle other data types if necessary\n",
        "            dp_data[col] = real_data[col]\n",
        "    return dp_data\n",
        "\n",
        "# Example usage:\n",
        "# dp_data = create_dp_data(real_data, epsilon=1.0)\n",
        "\n"
      ]
    },
    {
      "cell_type": "code",
      "execution_count": null,
      "metadata": {
        "colab": {
          "base_uri": "https://localhost:8080/"
        },
        "id": "Zp_936stIGwR",
        "outputId": "b9e7567c-7cfd-459d-f17d-11d43aaa81bc"
      },
      "outputs": [
        {
          "name": "stderr",
          "output_type": "stream",
          "text": [
            "<ipython-input-27-90aab8bdb6c9>:39: DeprecationWarning:\n",
            "\n",
            "is_categorical_dtype is deprecated and will be removed in a future version. Use isinstance(dtype, pd.CategoricalDtype) instead\n",
            "\n",
            "<ipython-input-27-90aab8bdb6c9>:39: DeprecationWarning:\n",
            "\n",
            "is_categorical_dtype is deprecated and will be removed in a future version. Use isinstance(dtype, pd.CategoricalDtype) instead\n",
            "\n",
            "<ipython-input-27-90aab8bdb6c9>:39: DeprecationWarning:\n",
            "\n",
            "is_categorical_dtype is deprecated and will be removed in a future version. Use isinstance(dtype, pd.CategoricalDtype) instead\n",
            "\n",
            "<ipython-input-27-90aab8bdb6c9>:39: DeprecationWarning:\n",
            "\n",
            "is_categorical_dtype is deprecated and will be removed in a future version. Use isinstance(dtype, pd.CategoricalDtype) instead\n",
            "\n",
            "<ipython-input-27-90aab8bdb6c9>:39: DeprecationWarning:\n",
            "\n",
            "is_categorical_dtype is deprecated and will be removed in a future version. Use isinstance(dtype, pd.CategoricalDtype) instead\n",
            "\n",
            "<ipython-input-27-90aab8bdb6c9>:39: DeprecationWarning:\n",
            "\n",
            "is_categorical_dtype is deprecated and will be removed in a future version. Use isinstance(dtype, pd.CategoricalDtype) instead\n",
            "\n",
            "<ipython-input-27-90aab8bdb6c9>:39: DeprecationWarning:\n",
            "\n",
            "is_categorical_dtype is deprecated and will be removed in a future version. Use isinstance(dtype, pd.CategoricalDtype) instead\n",
            "\n",
            "<ipython-input-27-90aab8bdb6c9>:39: DeprecationWarning:\n",
            "\n",
            "is_categorical_dtype is deprecated and will be removed in a future version. Use isinstance(dtype, pd.CategoricalDtype) instead\n",
            "\n",
            "<ipython-input-27-90aab8bdb6c9>:39: DeprecationWarning:\n",
            "\n",
            "is_categorical_dtype is deprecated and will be removed in a future version. Use isinstance(dtype, pd.CategoricalDtype) instead\n",
            "\n",
            "<ipython-input-27-90aab8bdb6c9>:39: DeprecationWarning:\n",
            "\n",
            "is_categorical_dtype is deprecated and will be removed in a future version. Use isinstance(dtype, pd.CategoricalDtype) instead\n",
            "\n"
          ]
        }
      ],
      "source": [
        "# Create dataset with differential privacy\n",
        "dp_data = create_dp_data(real_data, epsilon=1.0)"
      ]
    },
    {
      "cell_type": "code",
      "execution_count": null,
      "metadata": {
        "colab": {
          "base_uri": "https://localhost:8080/",
          "height": 617
        },
        "id": "JTJOUfNYIosw",
        "outputId": "79f5af5f-a527-4c02-97c5-e212aea1e3fe"
      },
      "outputs": [
        {
          "data": {
            "application/vnd.google.colaboratory.intrinsic+json": {
              "type": "dataframe",
              "variable_name": "dp_data"
            },
            "text/html": [
              "\n",
              "  <div id=\"df-82c3b12f-747f-4baf-a10e-95409066b818\" class=\"colab-df-container\">\n",
              "    <div>\n",
              "<style scoped>\n",
              "    .dataframe tbody tr th:only-of-type {\n",
              "        vertical-align: middle;\n",
              "    }\n",
              "\n",
              "    .dataframe tbody tr th {\n",
              "        vertical-align: top;\n",
              "    }\n",
              "\n",
              "    .dataframe thead th {\n",
              "        text-align: right;\n",
              "    }\n",
              "</style>\n",
              "<table border=\"1\" class=\"dataframe\">\n",
              "  <thead>\n",
              "    <tr style=\"text-align: right;\">\n",
              "      <th></th>\n",
              "      <th>sid</th>\n",
              "      <th>sid_type</th>\n",
              "      <th>first_coop_code</th>\n",
              "      <th>first_dist_code</th>\n",
              "      <th>first_hs_code</th>\n",
              "      <th>first_dist_name</th>\n",
              "      <th>first_hs_name</th>\n",
              "      <th>first_hs_alt</th>\n",
              "      <th>first_hs_urbanicity</th>\n",
              "      <th>chrt_ninth</th>\n",
              "      <th>...</th>\n",
              "      <th>ihe_retention_lt_4_yr_part_time</th>\n",
              "      <th>ihe_federal_loan_rate</th>\n",
              "      <th>ihe_share_25_older</th>\n",
              "      <th>ihe_med_debt_completers_all</th>\n",
              "      <th>ihe_med_debt_completers_pmts</th>\n",
              "      <th>ihe_ihe_repay_3_yr_all</th>\n",
              "      <th>ihe_rate_4_yr</th>\n",
              "      <th>ihe_rate_lt_4_yr</th>\n",
              "      <th>ihe_med_earn_10_yrs_after</th>\n",
              "      <th>ihe_pct_earn_gt_25k_6_yrs_after</th>\n",
              "    </tr>\n",
              "  </thead>\n",
              "  <tbody>\n",
              "    <tr>\n",
              "      <th>0</th>\n",
              "      <td>104760.658573</td>\n",
              "      <td>Fake record</td>\n",
              "      <td>KEDC</td>\n",
              "      <td>559.385204</td>\n",
              "      <td>10919.129474</td>\n",
              "      <td>Jackson</td>\n",
              "      <td>Jackson</td>\n",
              "      <td>-0.169381</td>\n",
              "      <td>Rural: Distant</td>\n",
              "      <td>2010.766188</td>\n",
              "      <td>...</td>\n",
              "      <td>NaN</td>\n",
              "      <td>NaN</td>\n",
              "      <td>NaN</td>\n",
              "      <td>NaN</td>\n",
              "      <td>NaN</td>\n",
              "      <td>NaN</td>\n",
              "      <td>NaN</td>\n",
              "      <td>NaN</td>\n",
              "      <td>NaN</td>\n",
              "      <td>NaN</td>\n",
              "    </tr>\n",
              "    <tr>\n",
              "      <th>1</th>\n",
              "      <td>216915.415324</td>\n",
              "      <td>Fake record</td>\n",
              "      <td>Jeffco</td>\n",
              "      <td>395.008516</td>\n",
              "      <td>-1173.460733</td>\n",
              "      <td>Jackson</td>\n",
              "      <td>Jackson</td>\n",
              "      <td>1.100943</td>\n",
              "      <td>Town: Remote</td>\n",
              "      <td>2004.540480</td>\n",
              "      <td>...</td>\n",
              "      <td>NaN</td>\n",
              "      <td>NaN</td>\n",
              "      <td>NaN</td>\n",
              "      <td>NaN</td>\n",
              "      <td>NaN</td>\n",
              "      <td>NaN</td>\n",
              "      <td>NaN</td>\n",
              "      <td>NaN</td>\n",
              "      <td>NaN</td>\n",
              "      <td>NaN</td>\n",
              "    </tr>\n",
              "    <tr>\n",
              "      <th>2</th>\n",
              "      <td>156074.771576</td>\n",
              "      <td>Fake record</td>\n",
              "      <td>KEDC</td>\n",
              "      <td>-52.775955</td>\n",
              "      <td>-18811.862760</td>\n",
              "      <td>Jackson</td>\n",
              "      <td>Jackson</td>\n",
              "      <td>0.069047</td>\n",
              "      <td>City: Small</td>\n",
              "      <td>2006.252276</td>\n",
              "      <td>...</td>\n",
              "      <td>-0.383506</td>\n",
              "      <td>0.504917</td>\n",
              "      <td>0.648647</td>\n",
              "      <td>14738.361323</td>\n",
              "      <td>503.337122</td>\n",
              "      <td>0.597982</td>\n",
              "      <td>NaN</td>\n",
              "      <td>0.728747</td>\n",
              "      <td>36430.578371</td>\n",
              "      <td>0.031946</td>\n",
              "    </tr>\n",
              "    <tr>\n",
              "      <th>3</th>\n",
              "      <td>-39788.493161</td>\n",
              "      <td>Fake record</td>\n",
              "      <td>CKEC</td>\n",
              "      <td>-84.353192</td>\n",
              "      <td>5769.928075</td>\n",
              "      <td>Jackson</td>\n",
              "      <td>Jackson</td>\n",
              "      <td>5.082919</td>\n",
              "      <td>Rural: Distant</td>\n",
              "      <td>2008.009976</td>\n",
              "      <td>...</td>\n",
              "      <td>-0.084519</td>\n",
              "      <td>-0.421977</td>\n",
              "      <td>-0.385404</td>\n",
              "      <td>-11830.962564</td>\n",
              "      <td>-296.597871</td>\n",
              "      <td>0.494838</td>\n",
              "      <td>NaN</td>\n",
              "      <td>0.267650</td>\n",
              "      <td>-720.003495</td>\n",
              "      <td>-1.403100</td>\n",
              "    </tr>\n",
              "    <tr>\n",
              "      <th>4</th>\n",
              "      <td>-243858.064335</td>\n",
              "      <td>Fake record</td>\n",
              "      <td>SESC</td>\n",
              "      <td>-198.044594</td>\n",
              "      <td>1973.099197</td>\n",
              "      <td>Jackson</td>\n",
              "      <td>Jackson</td>\n",
              "      <td>-0.729788</td>\n",
              "      <td>City: Large</td>\n",
              "      <td>2010.414432</td>\n",
              "      <td>...</td>\n",
              "      <td>NaN</td>\n",
              "      <td>NaN</td>\n",
              "      <td>NaN</td>\n",
              "      <td>NaN</td>\n",
              "      <td>NaN</td>\n",
              "      <td>NaN</td>\n",
              "      <td>NaN</td>\n",
              "      <td>NaN</td>\n",
              "      <td>NaN</td>\n",
              "      <td>NaN</td>\n",
              "    </tr>\n",
              "    <tr>\n",
              "      <th>...</th>\n",
              "      <td>...</td>\n",
              "      <td>...</td>\n",
              "      <td>...</td>\n",
              "      <td>...</td>\n",
              "      <td>...</td>\n",
              "      <td>...</td>\n",
              "      <td>...</td>\n",
              "      <td>...</td>\n",
              "      <td>...</td>\n",
              "      <td>...</td>\n",
              "      <td>...</td>\n",
              "      <td>...</td>\n",
              "      <td>...</td>\n",
              "      <td>...</td>\n",
              "      <td>...</td>\n",
              "      <td>...</td>\n",
              "      <td>...</td>\n",
              "      <td>...</td>\n",
              "      <td>...</td>\n",
              "      <td>...</td>\n",
              "      <td>...</td>\n",
              "    </tr>\n",
              "    <tr>\n",
              "      <th>111986</th>\n",
              "      <td>205566.808939</td>\n",
              "      <td>Fake record</td>\n",
              "      <td>SESC</td>\n",
              "      <td>438.103396</td>\n",
              "      <td>12935.042386</td>\n",
              "      <td>Lookout Point</td>\n",
              "      <td>Lookout Point</td>\n",
              "      <td>-0.065025</td>\n",
              "      <td>Rural: Remote</td>\n",
              "      <td>2011.422674</td>\n",
              "      <td>...</td>\n",
              "      <td>NaN</td>\n",
              "      <td>NaN</td>\n",
              "      <td>NaN</td>\n",
              "      <td>NaN</td>\n",
              "      <td>NaN</td>\n",
              "      <td>NaN</td>\n",
              "      <td>NaN</td>\n",
              "      <td>NaN</td>\n",
              "      <td>NaN</td>\n",
              "      <td>NaN</td>\n",
              "    </tr>\n",
              "    <tr>\n",
              "      <th>111987</th>\n",
              "      <td>163271.190460</td>\n",
              "      <td>Fake record</td>\n",
              "      <td>Jeffco</td>\n",
              "      <td>422.841085</td>\n",
              "      <td>2640.406215</td>\n",
              "      <td>Lookout Point</td>\n",
              "      <td>Lookout Point</td>\n",
              "      <td>0.951807</td>\n",
              "      <td>Suburb: Mid-size</td>\n",
              "      <td>2007.172079</td>\n",
              "      <td>...</td>\n",
              "      <td>NaN</td>\n",
              "      <td>NaN</td>\n",
              "      <td>NaN</td>\n",
              "      <td>NaN</td>\n",
              "      <td>NaN</td>\n",
              "      <td>NaN</td>\n",
              "      <td>NaN</td>\n",
              "      <td>NaN</td>\n",
              "      <td>NaN</td>\n",
              "      <td>NaN</td>\n",
              "    </tr>\n",
              "    <tr>\n",
              "      <th>111988</th>\n",
              "      <td>193705.337794</td>\n",
              "      <td>Fake record</td>\n",
              "      <td>OVEC</td>\n",
              "      <td>751.982598</td>\n",
              "      <td>22551.511831</td>\n",
              "      <td>Lookout Point</td>\n",
              "      <td>Lookout Point</td>\n",
              "      <td>0.838432</td>\n",
              "      <td>Town: Distant</td>\n",
              "      <td>2006.207946</td>\n",
              "      <td>...</td>\n",
              "      <td>NaN</td>\n",
              "      <td>NaN</td>\n",
              "      <td>NaN</td>\n",
              "      <td>NaN</td>\n",
              "      <td>NaN</td>\n",
              "      <td>NaN</td>\n",
              "      <td>NaN</td>\n",
              "      <td>NaN</td>\n",
              "      <td>NaN</td>\n",
              "      <td>NaN</td>\n",
              "    </tr>\n",
              "    <tr>\n",
              "      <th>111989</th>\n",
              "      <td>449614.210949</td>\n",
              "      <td>Fake record</td>\n",
              "      <td>Jeffco</td>\n",
              "      <td>1489.088078</td>\n",
              "      <td>19275.504187</td>\n",
              "      <td>Lookout Point</td>\n",
              "      <td>Lookout Point</td>\n",
              "      <td>0.998398</td>\n",
              "      <td>Town: Fringe</td>\n",
              "      <td>2009.113016</td>\n",
              "      <td>...</td>\n",
              "      <td>NaN</td>\n",
              "      <td>NaN</td>\n",
              "      <td>NaN</td>\n",
              "      <td>NaN</td>\n",
              "      <td>NaN</td>\n",
              "      <td>NaN</td>\n",
              "      <td>NaN</td>\n",
              "      <td>NaN</td>\n",
              "      <td>NaN</td>\n",
              "      <td>NaN</td>\n",
              "    </tr>\n",
              "    <tr>\n",
              "      <th>111990</th>\n",
              "      <td>-139262.452572</td>\n",
              "      <td>Fake record</td>\n",
              "      <td>WKEC</td>\n",
              "      <td>482.510005</td>\n",
              "      <td>19449.777578</td>\n",
              "      <td>Lookout Point</td>\n",
              "      <td>Lookout Point</td>\n",
              "      <td>0.751526</td>\n",
              "      <td>Town: Distant</td>\n",
              "      <td>2010.422140</td>\n",
              "      <td>...</td>\n",
              "      <td>NaN</td>\n",
              "      <td>NaN</td>\n",
              "      <td>NaN</td>\n",
              "      <td>NaN</td>\n",
              "      <td>NaN</td>\n",
              "      <td>NaN</td>\n",
              "      <td>NaN</td>\n",
              "      <td>NaN</td>\n",
              "      <td>NaN</td>\n",
              "      <td>NaN</td>\n",
              "    </tr>\n",
              "  </tbody>\n",
              "</table>\n",
              "<p>111991 rows × 68 columns</p>\n",
              "</div>\n",
              "    <div class=\"colab-df-buttons\">\n",
              "\n",
              "  <div class=\"colab-df-container\">\n",
              "    <button class=\"colab-df-convert\" onclick=\"convertToInteractive('df-82c3b12f-747f-4baf-a10e-95409066b818')\"\n",
              "            title=\"Convert this dataframe to an interactive table.\"\n",
              "            style=\"display:none;\">\n",
              "\n",
              "  <svg xmlns=\"http://www.w3.org/2000/svg\" height=\"24px\" viewBox=\"0 -960 960 960\">\n",
              "    <path d=\"M120-120v-720h720v720H120Zm60-500h600v-160H180v160Zm220 220h160v-160H400v160Zm0 220h160v-160H400v160ZM180-400h160v-160H180v160Zm440 0h160v-160H620v160ZM180-180h160v-160H180v160Zm440 0h160v-160H620v160Z\"/>\n",
              "  </svg>\n",
              "    </button>\n",
              "\n",
              "  <style>\n",
              "    .colab-df-container {\n",
              "      display:flex;\n",
              "      gap: 12px;\n",
              "    }\n",
              "\n",
              "    .colab-df-convert {\n",
              "      background-color: #E8F0FE;\n",
              "      border: none;\n",
              "      border-radius: 50%;\n",
              "      cursor: pointer;\n",
              "      display: none;\n",
              "      fill: #1967D2;\n",
              "      height: 32px;\n",
              "      padding: 0 0 0 0;\n",
              "      width: 32px;\n",
              "    }\n",
              "\n",
              "    .colab-df-convert:hover {\n",
              "      background-color: #E2EBFA;\n",
              "      box-shadow: 0px 1px 2px rgba(60, 64, 67, 0.3), 0px 1px 3px 1px rgba(60, 64, 67, 0.15);\n",
              "      fill: #174EA6;\n",
              "    }\n",
              "\n",
              "    .colab-df-buttons div {\n",
              "      margin-bottom: 4px;\n",
              "    }\n",
              "\n",
              "    [theme=dark] .colab-df-convert {\n",
              "      background-color: #3B4455;\n",
              "      fill: #D2E3FC;\n",
              "    }\n",
              "\n",
              "    [theme=dark] .colab-df-convert:hover {\n",
              "      background-color: #434B5C;\n",
              "      box-shadow: 0px 1px 3px 1px rgba(0, 0, 0, 0.15);\n",
              "      filter: drop-shadow(0px 1px 2px rgba(0, 0, 0, 0.3));\n",
              "      fill: #FFFFFF;\n",
              "    }\n",
              "  </style>\n",
              "\n",
              "    <script>\n",
              "      const buttonEl =\n",
              "        document.querySelector('#df-82c3b12f-747f-4baf-a10e-95409066b818 button.colab-df-convert');\n",
              "      buttonEl.style.display =\n",
              "        google.colab.kernel.accessAllowed ? 'block' : 'none';\n",
              "\n",
              "      async function convertToInteractive(key) {\n",
              "        const element = document.querySelector('#df-82c3b12f-747f-4baf-a10e-95409066b818');\n",
              "        const dataTable =\n",
              "          await google.colab.kernel.invokeFunction('convertToInteractive',\n",
              "                                                    [key], {});\n",
              "        if (!dataTable) return;\n",
              "\n",
              "        const docLinkHtml = 'Like what you see? Visit the ' +\n",
              "          '<a target=\"_blank\" href=https://colab.research.google.com/notebooks/data_table.ipynb>data table notebook</a>'\n",
              "          + ' to learn more about interactive tables.';\n",
              "        element.innerHTML = '';\n",
              "        dataTable['output_type'] = 'display_data';\n",
              "        await google.colab.output.renderOutput(dataTable, element);\n",
              "        const docLink = document.createElement('div');\n",
              "        docLink.innerHTML = docLinkHtml;\n",
              "        element.appendChild(docLink);\n",
              "      }\n",
              "    </script>\n",
              "  </div>\n",
              "\n",
              "\n",
              "<div id=\"df-14923f2d-89ea-47b6-a29c-f337ac34fac3\">\n",
              "  <button class=\"colab-df-quickchart\" onclick=\"quickchart('df-14923f2d-89ea-47b6-a29c-f337ac34fac3')\"\n",
              "            title=\"Suggest charts\"\n",
              "            style=\"display:none;\">\n",
              "\n",
              "<svg xmlns=\"http://www.w3.org/2000/svg\" height=\"24px\"viewBox=\"0 0 24 24\"\n",
              "     width=\"24px\">\n",
              "    <g>\n",
              "        <path d=\"M19 3H5c-1.1 0-2 .9-2 2v14c0 1.1.9 2 2 2h14c1.1 0 2-.9 2-2V5c0-1.1-.9-2-2-2zM9 17H7v-7h2v7zm4 0h-2V7h2v10zm4 0h-2v-4h2v4z\"/>\n",
              "    </g>\n",
              "</svg>\n",
              "  </button>\n",
              "\n",
              "<style>\n",
              "  .colab-df-quickchart {\n",
              "      --bg-color: #E8F0FE;\n",
              "      --fill-color: #1967D2;\n",
              "      --hover-bg-color: #E2EBFA;\n",
              "      --hover-fill-color: #174EA6;\n",
              "      --disabled-fill-color: #AAA;\n",
              "      --disabled-bg-color: #DDD;\n",
              "  }\n",
              "\n",
              "  [theme=dark] .colab-df-quickchart {\n",
              "      --bg-color: #3B4455;\n",
              "      --fill-color: #D2E3FC;\n",
              "      --hover-bg-color: #434B5C;\n",
              "      --hover-fill-color: #FFFFFF;\n",
              "      --disabled-bg-color: #3B4455;\n",
              "      --disabled-fill-color: #666;\n",
              "  }\n",
              "\n",
              "  .colab-df-quickchart {\n",
              "    background-color: var(--bg-color);\n",
              "    border: none;\n",
              "    border-radius: 50%;\n",
              "    cursor: pointer;\n",
              "    display: none;\n",
              "    fill: var(--fill-color);\n",
              "    height: 32px;\n",
              "    padding: 0;\n",
              "    width: 32px;\n",
              "  }\n",
              "\n",
              "  .colab-df-quickchart:hover {\n",
              "    background-color: var(--hover-bg-color);\n",
              "    box-shadow: 0 1px 2px rgba(60, 64, 67, 0.3), 0 1px 3px 1px rgba(60, 64, 67, 0.15);\n",
              "    fill: var(--button-hover-fill-color);\n",
              "  }\n",
              "\n",
              "  .colab-df-quickchart-complete:disabled,\n",
              "  .colab-df-quickchart-complete:disabled:hover {\n",
              "    background-color: var(--disabled-bg-color);\n",
              "    fill: var(--disabled-fill-color);\n",
              "    box-shadow: none;\n",
              "  }\n",
              "\n",
              "  .colab-df-spinner {\n",
              "    border: 2px solid var(--fill-color);\n",
              "    border-color: transparent;\n",
              "    border-bottom-color: var(--fill-color);\n",
              "    animation:\n",
              "      spin 1s steps(1) infinite;\n",
              "  }\n",
              "\n",
              "  @keyframes spin {\n",
              "    0% {\n",
              "      border-color: transparent;\n",
              "      border-bottom-color: var(--fill-color);\n",
              "      border-left-color: var(--fill-color);\n",
              "    }\n",
              "    20% {\n",
              "      border-color: transparent;\n",
              "      border-left-color: var(--fill-color);\n",
              "      border-top-color: var(--fill-color);\n",
              "    }\n",
              "    30% {\n",
              "      border-color: transparent;\n",
              "      border-left-color: var(--fill-color);\n",
              "      border-top-color: var(--fill-color);\n",
              "      border-right-color: var(--fill-color);\n",
              "    }\n",
              "    40% {\n",
              "      border-color: transparent;\n",
              "      border-right-color: var(--fill-color);\n",
              "      border-top-color: var(--fill-color);\n",
              "    }\n",
              "    60% {\n",
              "      border-color: transparent;\n",
              "      border-right-color: var(--fill-color);\n",
              "    }\n",
              "    80% {\n",
              "      border-color: transparent;\n",
              "      border-right-color: var(--fill-color);\n",
              "      border-bottom-color: var(--fill-color);\n",
              "    }\n",
              "    90% {\n",
              "      border-color: transparent;\n",
              "      border-bottom-color: var(--fill-color);\n",
              "    }\n",
              "  }\n",
              "</style>\n",
              "\n",
              "  <script>\n",
              "    async function quickchart(key) {\n",
              "      const quickchartButtonEl =\n",
              "        document.querySelector('#' + key + ' button');\n",
              "      quickchartButtonEl.disabled = true;  // To prevent multiple clicks.\n",
              "      quickchartButtonEl.classList.add('colab-df-spinner');\n",
              "      try {\n",
              "        const charts = await google.colab.kernel.invokeFunction(\n",
              "            'suggestCharts', [key], {});\n",
              "      } catch (error) {\n",
              "        console.error('Error during call to suggestCharts:', error);\n",
              "      }\n",
              "      quickchartButtonEl.classList.remove('colab-df-spinner');\n",
              "      quickchartButtonEl.classList.add('colab-df-quickchart-complete');\n",
              "    }\n",
              "    (() => {\n",
              "      let quickchartButtonEl =\n",
              "        document.querySelector('#df-14923f2d-89ea-47b6-a29c-f337ac34fac3 button');\n",
              "      quickchartButtonEl.style.display =\n",
              "        google.colab.kernel.accessAllowed ? 'block' : 'none';\n",
              "    })();\n",
              "  </script>\n",
              "</div>\n",
              "\n",
              "  <div id=\"id_5d204e89-11d0-4573-a6b9-b356068f50f1\">\n",
              "    <style>\n",
              "      .colab-df-generate {\n",
              "        background-color: #E8F0FE;\n",
              "        border: none;\n",
              "        border-radius: 50%;\n",
              "        cursor: pointer;\n",
              "        display: none;\n",
              "        fill: #1967D2;\n",
              "        height: 32px;\n",
              "        padding: 0 0 0 0;\n",
              "        width: 32px;\n",
              "      }\n",
              "\n",
              "      .colab-df-generate:hover {\n",
              "        background-color: #E2EBFA;\n",
              "        box-shadow: 0px 1px 2px rgba(60, 64, 67, 0.3), 0px 1px 3px 1px rgba(60, 64, 67, 0.15);\n",
              "        fill: #174EA6;\n",
              "      }\n",
              "\n",
              "      [theme=dark] .colab-df-generate {\n",
              "        background-color: #3B4455;\n",
              "        fill: #D2E3FC;\n",
              "      }\n",
              "\n",
              "      [theme=dark] .colab-df-generate:hover {\n",
              "        background-color: #434B5C;\n",
              "        box-shadow: 0px 1px 3px 1px rgba(0, 0, 0, 0.15);\n",
              "        filter: drop-shadow(0px 1px 2px rgba(0, 0, 0, 0.3));\n",
              "        fill: #FFFFFF;\n",
              "      }\n",
              "    </style>\n",
              "    <button class=\"colab-df-generate\" onclick=\"generateWithVariable('dp_data')\"\n",
              "            title=\"Generate code using this dataframe.\"\n",
              "            style=\"display:none;\">\n",
              "\n",
              "  <svg xmlns=\"http://www.w3.org/2000/svg\" height=\"24px\"viewBox=\"0 0 24 24\"\n",
              "       width=\"24px\">\n",
              "    <path d=\"M7,19H8.4L18.45,9,17,7.55,7,17.6ZM5,21V16.75L18.45,3.32a2,2,0,0,1,2.83,0l1.4,1.43a1.91,1.91,0,0,1,.58,1.4,1.91,1.91,0,0,1-.58,1.4L9.25,21ZM18.45,9,17,7.55Zm-12,3A5.31,5.31,0,0,0,4.9,8.1,5.31,5.31,0,0,0,1,6.5,5.31,5.31,0,0,0,4.9,4.9,5.31,5.31,0,0,0,6.5,1,5.31,5.31,0,0,0,8.1,4.9,5.31,5.31,0,0,0,12,6.5,5.46,5.46,0,0,0,6.5,12Z\"/>\n",
              "  </svg>\n",
              "    </button>\n",
              "    <script>\n",
              "      (() => {\n",
              "      const buttonEl =\n",
              "        document.querySelector('#id_5d204e89-11d0-4573-a6b9-b356068f50f1 button.colab-df-generate');\n",
              "      buttonEl.style.display =\n",
              "        google.colab.kernel.accessAllowed ? 'block' : 'none';\n",
              "\n",
              "      buttonEl.onclick = () => {\n",
              "        google.colab.notebook.generateWithVariable('dp_data');\n",
              "      }\n",
              "      })();\n",
              "    </script>\n",
              "  </div>\n",
              "\n",
              "    </div>\n",
              "  </div>\n"
            ],
            "text/plain": [
              "                  sid     sid_type first_coop_code  first_dist_code  \\\n",
              "0       104760.658573  Fake record            KEDC       559.385204   \n",
              "1       216915.415324  Fake record          Jeffco       395.008516   \n",
              "2       156074.771576  Fake record            KEDC       -52.775955   \n",
              "3       -39788.493161  Fake record            CKEC       -84.353192   \n",
              "4      -243858.064335  Fake record            SESC      -198.044594   \n",
              "...               ...          ...             ...              ...   \n",
              "111986  205566.808939  Fake record            SESC       438.103396   \n",
              "111987  163271.190460  Fake record          Jeffco       422.841085   \n",
              "111988  193705.337794  Fake record            OVEC       751.982598   \n",
              "111989  449614.210949  Fake record          Jeffco      1489.088078   \n",
              "111990 -139262.452572  Fake record            WKEC       482.510005   \n",
              "\n",
              "        first_hs_code first_dist_name  first_hs_name  first_hs_alt  \\\n",
              "0        10919.129474         Jackson        Jackson     -0.169381   \n",
              "1        -1173.460733         Jackson        Jackson      1.100943   \n",
              "2       -18811.862760         Jackson        Jackson      0.069047   \n",
              "3         5769.928075         Jackson        Jackson      5.082919   \n",
              "4         1973.099197         Jackson        Jackson     -0.729788   \n",
              "...               ...             ...            ...           ...   \n",
              "111986   12935.042386   Lookout Point  Lookout Point     -0.065025   \n",
              "111987    2640.406215   Lookout Point  Lookout Point      0.951807   \n",
              "111988   22551.511831   Lookout Point  Lookout Point      0.838432   \n",
              "111989   19275.504187   Lookout Point  Lookout Point      0.998398   \n",
              "111990   19449.777578   Lookout Point  Lookout Point      0.751526   \n",
              "\n",
              "       first_hs_urbanicity   chrt_ninth  ...  ihe_retention_lt_4_yr_part_time  \\\n",
              "0           Rural: Distant  2010.766188  ...                              NaN   \n",
              "1             Town: Remote  2004.540480  ...                              NaN   \n",
              "2              City: Small  2006.252276  ...                        -0.383506   \n",
              "3           Rural: Distant  2008.009976  ...                        -0.084519   \n",
              "4              City: Large  2010.414432  ...                              NaN   \n",
              "...                    ...          ...  ...                              ...   \n",
              "111986       Rural: Remote  2011.422674  ...                              NaN   \n",
              "111987    Suburb: Mid-size  2007.172079  ...                              NaN   \n",
              "111988       Town: Distant  2006.207946  ...                              NaN   \n",
              "111989        Town: Fringe  2009.113016  ...                              NaN   \n",
              "111990       Town: Distant  2010.422140  ...                              NaN   \n",
              "\n",
              "       ihe_federal_loan_rate  ihe_share_25_older  ihe_med_debt_completers_all  \\\n",
              "0                        NaN                 NaN                          NaN   \n",
              "1                        NaN                 NaN                          NaN   \n",
              "2                   0.504917            0.648647                 14738.361323   \n",
              "3                  -0.421977           -0.385404                -11830.962564   \n",
              "4                        NaN                 NaN                          NaN   \n",
              "...                      ...                 ...                          ...   \n",
              "111986                   NaN                 NaN                          NaN   \n",
              "111987                   NaN                 NaN                          NaN   \n",
              "111988                   NaN                 NaN                          NaN   \n",
              "111989                   NaN                 NaN                          NaN   \n",
              "111990                   NaN                 NaN                          NaN   \n",
              "\n",
              "        ihe_med_debt_completers_pmts  ihe_ihe_repay_3_yr_all  ihe_rate_4_yr  \\\n",
              "0                                NaN                     NaN            NaN   \n",
              "1                                NaN                     NaN            NaN   \n",
              "2                         503.337122                0.597982            NaN   \n",
              "3                        -296.597871                0.494838            NaN   \n",
              "4                                NaN                     NaN            NaN   \n",
              "...                              ...                     ...            ...   \n",
              "111986                           NaN                     NaN            NaN   \n",
              "111987                           NaN                     NaN            NaN   \n",
              "111988                           NaN                     NaN            NaN   \n",
              "111989                           NaN                     NaN            NaN   \n",
              "111990                           NaN                     NaN            NaN   \n",
              "\n",
              "        ihe_rate_lt_4_yr  ihe_med_earn_10_yrs_after  \\\n",
              "0                    NaN                        NaN   \n",
              "1                    NaN                        NaN   \n",
              "2               0.728747               36430.578371   \n",
              "3               0.267650                -720.003495   \n",
              "4                    NaN                        NaN   \n",
              "...                  ...                        ...   \n",
              "111986               NaN                        NaN   \n",
              "111987               NaN                        NaN   \n",
              "111988               NaN                        NaN   \n",
              "111989               NaN                        NaN   \n",
              "111990               NaN                        NaN   \n",
              "\n",
              "        ihe_pct_earn_gt_25k_6_yrs_after  \n",
              "0                                   NaN  \n",
              "1                                   NaN  \n",
              "2                              0.031946  \n",
              "3                             -1.403100  \n",
              "4                                   NaN  \n",
              "...                                 ...  \n",
              "111986                              NaN  \n",
              "111987                              NaN  \n",
              "111988                              NaN  \n",
              "111989                              NaN  \n",
              "111990                              NaN  \n",
              "\n",
              "[111991 rows x 68 columns]"
            ]
          },
          "execution_count": 29,
          "metadata": {},
          "output_type": "execute_result"
        }
      ],
      "source": [
        "dp_data"
      ]
    },
    {
      "cell_type": "markdown",
      "metadata": {
        "id": "HbExHfVpBd1L"
      },
      "source": [
        "# Evaluate with the SDV data vs DP data"
      ]
    },
    {
      "cell_type": "code",
      "execution_count": null,
      "metadata": {
        "id": "GdSmnNlgx8Jr"
      },
      "outputs": [],
      "source": [
        "# from sdmetrics.reports.single_table import QualityReport\n",
        "\n",
        "# # Initialize and generate a report comparing the datasets\n",
        "# synthetic_report = QualityReport()\n",
        "# synthetic_report.generate(real_data, synthetic_data, metadata)"
      ]
    },
    {
      "cell_type": "code",
      "execution_count": null,
      "metadata": {
        "colab": {
          "base_uri": "https://localhost:8080/",
          "height": 542
        },
        "id": "zFY0DgVhyTXy",
        "outputId": "7999b982-a180-41c1-86ed-c4b8ae9f1648"
      },
      "outputs": [
        {
          "data": {
            "text/html": [
              "<html>\n",
              "<head><meta charset=\"utf-8\" /></head>\n",
              "<body>\n",
              "    <div>            <script src=\"https://cdnjs.cloudflare.com/ajax/libs/mathjax/2.7.5/MathJax.js?config=TeX-AMS-MML_SVG\"></script><script type=\"text/javascript\">if (window.MathJax && window.MathJax.Hub && window.MathJax.Hub.Config) {window.MathJax.Hub.Config({SVG: {font: \"STIX-Web\"}});}</script>                <script type=\"text/javascript\">window.PlotlyConfig = {MathJaxConfig: 'local'};</script>\n",
              "        <script charset=\"utf-8\" src=\"https://cdn.plot.ly/plotly-2.35.2.min.js\"></script>                <div id=\"fc350f88-2ec5-477a-8c34-d74fe5965b7e\" class=\"plotly-graph-div\" style=\"height:525px; width:100%;\"></div>            <script type=\"text/javascript\">                                    window.PLOTLYENV=window.PLOTLYENV || {};                                    if (document.getElementById(\"fc350f88-2ec5-477a-8c34-d74fe5965b7e\")) {                    Plotly.newPlot(                        \"fc350f88-2ec5-477a-8c34-d74fe5965b7e\",                        [{\"legendgroup\":\"Real\",\"marker\":{\"color\":\"#000036\"},\"mode\":\"lines\",\"name\":\"Real\",\"showlegend\":true,\"x\":[0.0,0.008,0.016,0.024,0.032,0.04,0.048,0.056,0.064,0.072,0.08,0.088,0.096,0.104,0.112,0.12,0.128,0.136,0.144,0.152,0.16,0.168,0.176,0.184,0.192,0.2,0.208,0.216,0.224,0.232,0.24,0.248,0.256,0.264,0.272,0.28,0.288,0.296,0.304,0.312,0.32,0.328,0.336,0.344,0.352,0.36,0.368,0.376,0.384,0.392,0.4,0.408,0.416,0.424,0.432,0.44,0.448,0.456,0.464,0.472,0.48,0.488,0.496,0.504,0.512,0.52,0.528,0.536,0.544,0.552,0.56,0.568,0.576,0.584,0.592,0.6,0.608,0.616,0.624,0.632,0.64,0.648,0.656,0.664,0.672,0.68,0.688,0.696,0.704,0.712,0.72,0.728,0.736,0.744,0.752,0.76,0.768,0.776,0.784,0.792,0.8,0.808,0.816,0.824,0.832,0.84,0.848,0.856,0.864,0.872,0.88,0.888,0.896,0.904,0.912,0.92,0.928,0.936,0.944,0.952,0.96,0.968,0.976,0.984,0.992,1.0,1.008,1.016,1.024,1.032,1.04,1.048,1.056,1.064,1.072,1.08,1.088,1.096,1.104,1.112,1.12,1.128,1.136,1.144,1.152,1.16,1.168,1.176,1.184,1.192,1.2,1.208,1.216,1.224,1.232,1.24,1.248,1.256,1.264,1.272,1.28,1.288,1.296,1.304,1.312,1.32,1.328,1.336,1.344,1.352,1.36,1.368,1.376,1.384,1.392,1.4,1.408,1.416,1.424,1.432,1.44,1.448,1.456,1.464,1.472,1.48,1.488,1.496,1.504,1.512,1.52,1.528,1.536,1.544,1.552,1.56,1.568,1.576,1.584,1.592,1.6,1.608,1.616,1.624,1.632,1.64,1.648,1.656,1.664,1.672,1.68,1.688,1.696,1.704,1.712,1.72,1.728,1.736,1.744,1.752,1.76,1.768,1.776,1.784,1.792,1.8,1.808,1.816,1.824,1.832,1.84,1.848,1.856,1.864,1.872,1.88,1.888,1.896,1.904,1.912,1.92,1.928,1.936,1.944,1.952,1.96,1.968,1.976,1.984,1.992,2.0,2.008,2.016,2.024,2.032,2.04,2.048,2.056,2.064,2.072,2.08,2.088,2.096,2.104,2.112,2.12,2.128,2.136,2.144,2.152,2.16,2.168,2.176,2.184,2.192,2.2,2.208,2.216,2.224,2.232,2.24,2.248,2.256,2.264,2.272,2.28,2.288,2.296,2.304,2.312,2.32,2.328,2.336,2.344,2.352,2.36,2.368,2.376,2.384,2.392,2.4,2.408,2.416,2.424,2.432,2.44,2.448,2.456,2.464,2.472,2.48,2.488,2.496,2.504,2.512,2.52,2.528,2.536,2.544,2.552,2.56,2.568,2.576,2.584,2.592,2.6,2.608,2.616,2.624,2.632,2.64,2.648,2.656,2.664,2.672,2.68,2.688,2.696,2.704,2.712,2.72,2.728,2.736,2.744,2.752,2.76,2.768,2.776,2.784,2.792,2.8,2.808,2.816,2.824,2.832,2.84,2.848,2.856,2.864,2.872,2.88,2.888,2.896,2.904,2.912,2.92,2.928,2.936,2.944,2.952,2.96,2.968,2.976,2.984,2.992,3.0,3.008,3.016,3.024,3.032,3.04,3.048,3.056,3.064,3.072,3.08,3.088,3.096,3.104,3.112,3.12,3.128,3.136,3.144,3.152,3.16,3.168,3.176,3.184,3.192,3.2,3.208,3.216,3.224,3.232,3.24,3.248,3.256,3.264,3.272,3.28,3.288,3.296,3.304,3.312,3.32,3.328,3.336,3.344,3.352,3.36,3.368,3.376,3.384,3.392,3.4,3.408,3.416,3.424,3.432,3.44,3.448,3.456,3.464,3.472,3.48,3.488,3.496,3.504,3.512,3.52,3.528,3.536,3.544,3.552,3.56,3.568,3.576,3.584,3.592,3.6,3.608,3.616,3.624,3.632,3.64,3.648,3.656,3.664,3.672,3.68,3.688,3.696,3.704,3.712,3.72,3.728,3.736,3.744,3.752,3.76,3.768,3.776,3.784,3.792,3.8,3.808,3.816,3.824,3.832,3.84,3.848,3.856,3.864,3.872,3.88,3.888,3.896,3.904,3.912,3.92,3.928,3.936,3.944,3.952,3.96,3.968,3.976,3.984,3.992],\"xaxis\":\"x\",\"y\":[0.0142563943716848,0.014689056580744753,0.015062783616471228,0.01538030240112487,0.01564623030703268,0.015866815545446958,0.01604960282447821,0.016203045372194084,0.016336087368635822,0.016457741941866957,0.01657668912525721,0.016700915678301006,0.016837414719991287,0.01699195810441583,0.01716894884598108,0.017371355163299414,0.017600722319863493,0.017857253795366537,0.018139949726774594,0.018446788199750184,0.018774933912415852,0.01912095892088607,0.019481061454513286,0.019851270926659035,0.02022762998474383,0.020606347445187634,0.020983918960408642,0.02135721501867996,0.021723538190491203,0.022080653280146856,0.022426795160792455,0.022760659572652806,0.023081382111637707,0.02338851013430347,0.023681971486839024,0.02396204297026531,0.024229320414564784,0.024484691264307176,0.024729309762067327,0.02496457420487322,0.025192105361201575,0.025413724960519402,0.025631433170942422,0.025847384116732253,0.026063858705771756,0.026283234291722704,0.026507950950687847,0.026740474386230426,0.02698325568203042,0.027238688302582734,0.02750906291072331,0.027796520739536493,0.02810300643478516,0.0284302214736597,0.028779579457447066,0.029152164750673688,0.029548696071087274,0.029969496694649385,0.03041447290162952,0.03088310213684213,0.03137443208521838,0.031887091485122206,0.03241931304338439,0.032968968317748634,0.03353361394099183,0.03411054812323603,0.03469687602425778,0.03528958236120157,0.03588560951586295,0.036481939415791406,0.03707567755275408,0.0376641376242976,0.03824492538712533,0.038816020345283773,0.03937585382483285,0.039923381793153224,0.04045815047470697,0.040980352432942645,0.04149087039253621,0.041991305748526477,0.04248398853894514,0.04297196573199269,0.043458965067398714,0.043949332435998224,0.04444794188525582,0.044960078762216686,0.04549129816614183,0.0460472626598831,0.0466335649319274,0.04725554264572335,0.0479180938965978,0.04862550237579937,0.04938128140753293,0.0501880454186061,0.051047416119767465,0.05195996878293687,0.05292522160891097,0.05394166846756954,0.0550068524673436,0.05611747510458191,0.05726953338943734,0.05845847555575595,0.059679364910193426,0.060927041173737165,0.06219626935793609,0.06348186775948467,0.06477880893089652,0.0660822902986723,0.06738777420133744,0.0686910002176056,0.06998797544768208,0.07127495061337545,0.07254839121739258,0.07380495338393074,0.07504147332058449,0.07625497763067175,0.07744271910842225,0.07860223940818639,0.0797314564120803,0.08082877059505393,0.0818931815802322,0.08292440374018978,0.08392296841453681,0.08489030026464502,0.08582875653467413,0.0867416204632747,0.0876330435935218,0.08850793594873635,0.08937180758708455,0.09023056948432999,0.09109030558949266,0.09195703086708834,0.0928364518820622,0.09373374681617508,0.09465338067887506,0.09559896898168677,0.09657319950193616,0.09757781729371919,0.09861367320838452,0.0996808312929202,0.10077872596315259,0.10190635617182432,0.10306250120006433,0.10424594138075764,0.105455667082258,0.10669106059210465,0.10795203798705902,0.10923914141579409,0.11055357615164764,0.1118971909633657,0.11327240447087486,0.11468208389796354,0.1161293857523779,0.11761757026974276,0.1191498028388402,0.1207289560439977,0.12235742544738593,0.12403697088044174,0.1257685929563979,0.12755245192480125,0.1293878330519488,0.13127315962475672,0.13320605163140894,0.13518342535204278,0.13720162665944316,0.13925658892312126,0.14134400513924872,0.14345950334966617,0.14559881459906884,0.14775792360022566,0.1499331938722348,0.15212146127745044,0.15432009245130562,0.15652700740082762,0.15874066831854888,0.1609600391871788,0.16318452281508047,0.16541388335564947,0.1676481629927999,0.16988760125784552,0.17213256440342298,0.17438349050448845,0.17664085367005905,0.17890514817852055,0.1811768907746042,0.1834566370742845,0.18574500627130597,0.18804270732696404,0.19035055966801737,0.19266950213607986,0.1950005854438161,0.19734494552353607,0.199703757657354,0.20207817386369323,0.2044692483831033,0.20687785798031,0.2093046249393858,0.21174985093236565,0.2142134693421633,0.21669502216718833,0.2191936654687312,0.2217082046556598,0.22423715799906585,0.22677884391802766,0.22933148505734588,0.23189332023824014,0.23446271419751352,0.2370382547655319,0.23961882781432509,0.24220366189901926,0.24479233690518543,0.24738475402134505,0.24998106774067,0.2525815840870274,0.25518663256089064,0.25779642212115794,0.26041089359014924,0.26302958196920107,0.26565150212472355,0.26827507007630963,0.2708980697128159,0.2735176713064239,0.2761305039186571,0.2787327790187561,0.28132045776005915,0.28388944982453873,0.28643582799611694,0.28895604007355086,0.29144709871589447,0.2939067305433252,0.29633346835521307,0.2987266745657667,0.3010864896099343,0.30341370569015413,0.3057095732417272,0.3079755542362593,0.31021304224714397,0.3124230734492522,0.3146060549194984,0.3167615364265518,0.3188880492521387,0.32098303062161443,0.3230428454263141,0.3250629086905535,0.3270379034203216,0.3289620798967502,0.3308296149637863,0.33263500413478264,0.33437345596531143,0.33604125743565,0.3376360811247879,0.33915720953304807,0.34060565857713654,0.3419841903994479,0.34329721444023925,0.34455058441387815,0.34575130664792486,0.3469071815425674,0.3480264042195562,0.34911715249492375,0.3501871900922028,0.35124351068220483,0.3522920442326699,0.35333744174441617,0.35438294827075945,0.35543036770582753,0.35648011668711505,0.3575313595065819,0.35858221147596675,0.35962999494169096,0.36067153017043174,0.36170344260403836,0.3627224684035913,0.3637257415978816,0.3647110483159143,0.3656770362952081,0.36662337090069025,0.3675508320611735,0.3684613496588939,0.36935797784926017,0.3702448114359935,0.37112684970789095,0.3720098150149763,0.3728999348096265,0.37380369690833054,0.37472758836401193,0.3756778286054473,0.37666010743319067,0.3776793380841305,0.37873943491662426,0.3798431243344143,0.3809917963737391,0.3821854029305723,0.38342240691855817,0.3846997847473783,0.3860130824378267,0.3873565235075567,0.3887231645540267,0.39010509233437035,0.39149365421359006,0.39287971224541435,0.39425390998189797,0.39560694047648104,0.39692980392048177,0.39821404396465926,0.39945195301283953,0.4006367385720551,0.40176264499856157,0.40282502755055,0.40382037837520335,0.4047463067394071,0.40560147827419785,0.406385520079045,0.4070989000820622,0.40774278998008884,0.40831892133690667,0.40882944400091437,0.4092767949694094,0.4096635842741957,0.4099925025342606,0.41026625267930156,0.41048750617614854,0.4106588820635776,0.41078294538578336,0.4108622203404776,0.41089921271870555,0.4108964360510987,0.4108564362820238,0.41078181070435,0.41067521819818903,0.41053937937650054,0.4103770668815958,0.4101910876199452,0.4099842599967494,0.40975939007784457,0.4095192509603543,0.40926656942837963,0.40900402321863766,0.40873425099246075,0.4084598755297795,0.4081835388924576,0.40790794653505263,0.4076359157631723,0.4073704227263712,0.4071146414225659,0.40687196807188364,0.40664602472081574,0.4064406370311772,0.406259782806673,0.40610750978691507,0.4059878234315455,0.40590454766116735,0.4058611636477156,0.4058606336130656,0.40590521808150315,0.4059962960586153,0.40613419812961793,0.4063180624657058,0.4065457232092515,0.4068136397021768,0.4071168735670891,0.4074491187950451,0.40780278779150525,0.4081691538496775,0.4085385478376324,0.4089006041009765,0.40924454781998887,0.4095595134645419,0.40983488172862736,0.41006062057455006,0.4102276149483219,0.41032796949101746,0.41035526927358695,0.41030478526855696,0.41017361390744483,0.40996074354016904,0.40966704470523246,0.4092951855612161,0.408849478288704,0.40833566639131974,0.40776066626179275,0.40713227883360303,0.4064588883906424,0.40574916554355,0.40501179000281184,0.40425520621696764,0.4034874214389436,0.40271585166529317,0.4019472165540637,0.4011874802737217,0.40044183165606295,0.39971469434513884,0.3990097560832545,0.39833000596787665,0.397677769436503,0.397054732749852,0.39646195159851,0.39589984182093013,0.3953681537124305,0.39486593463365,0.3943914872420019,0.3939423323799639,0.39351518627658266,0.3931059611833433,0.3927097969268262,0.3923211282921419,0.39193378992033007,0.3915411568465979,0.3911363152899574,0.3907122551880386,0.39026207356337234,0.38977917634514225,0.38925746589010074,0.3886915021726115,0.38807662736980486,0.38740904617814603,0.3866858574201489,0.38590503604714527,0.38506536821892656,0.38416634546049594,0.3832080267198181,0.3821908792923648,0.38111561091840623,0.37998300584230615,0.3787937772563281,0.37754844738706733,0.37624726461856844,0.37489016460311886,0.3734767794285786,0.37200649574996253,0.3704785595127045,0.3688922216726203,0.3672469163300495,0.3655424601259294,0.36377925977063025,0.3619585133535195,0.36008239074485743,0.35815417903492386,0.3561783805872018,0.35416075386157825,0.3521082905627243,0.3500291266818102,0.3479323893501556,0.3458279857833874,0.34372634462533525,0.3416381233577402,0.33957389784438885,0.33754385130936415,0.3355574800028691,0.33362333149467516,0.3317487890828743,0.32993991245657595,0.32820134082813607,0.32653626063067215,0.3249464359446255,0.3234322964227,0.3219930749054281,0.32062698532572015,0.3193314309352255,0.3181032332569483,0.3169388732619194,0.3158347377727199,0.31478736563866216,0.3137936894225719,0.31285126883195274,0.31195851165999583,0.3111148764292864,0.31032104828279117,0.3095790761335122,0.30889245504668617,0.30826613380993173,0.30770642430270523,0.3072207873220837,0.3068174696764749,0.3065049702682345,0.3062913190391705,0.30618316230431947,0.30618466110147957,0.3062962253263138,0.30651312480436094,0.3068240378853577,0.30720961708934513,0.3076411679851081,0.3080795498931679,0.30847441325725045,0.3087638869229082,0.30887481783115367,0.30872364513887796,0.3082179606853256,0.3072587691042457,0.3057434157596462,0.30356910195133296,0.3006368581011494,0.2968558009303928,0.29214746409803344,0.286449967201132,0.2797217785235588,0.27194483445061574,0.263126803651916,0.2533023260408181],\"yaxis\":\"y\",\"type\":\"scatter\",\"fill\":\"tozeroy\",\"hovertemplate\":\"\\u003cb\\u003eReal\\u003c\\u002fb\\u003e\\u003cbr\\u003eFrequency: %{y}\\u003cextra\\u003e\\u003c\\u002fextra\\u003e\"},{\"legendgroup\":\"Synthetic\",\"marker\":{\"color\":\"#01E0C9\"},\"mode\":\"lines\",\"name\":\"Synthetic\",\"showlegend\":true,\"x\":[0.0,0.008,0.016,0.024,0.032,0.04,0.048,0.056,0.064,0.072,0.08,0.088,0.096,0.104,0.112,0.12,0.128,0.136,0.144,0.152,0.16,0.168,0.176,0.184,0.192,0.2,0.208,0.216,0.224,0.232,0.24,0.248,0.256,0.264,0.272,0.28,0.288,0.296,0.304,0.312,0.32,0.328,0.336,0.344,0.352,0.36,0.368,0.376,0.384,0.392,0.4,0.408,0.416,0.424,0.432,0.44,0.448,0.456,0.464,0.472,0.48,0.488,0.496,0.504,0.512,0.52,0.528,0.536,0.544,0.552,0.56,0.568,0.576,0.584,0.592,0.6,0.608,0.616,0.624,0.632,0.64,0.648,0.656,0.664,0.672,0.68,0.688,0.696,0.704,0.712,0.72,0.728,0.736,0.744,0.752,0.76,0.768,0.776,0.784,0.792,0.8,0.808,0.816,0.824,0.832,0.84,0.848,0.856,0.864,0.872,0.88,0.888,0.896,0.904,0.912,0.92,0.928,0.936,0.944,0.952,0.96,0.968,0.976,0.984,0.992,1.0,1.008,1.016,1.024,1.032,1.04,1.048,1.056,1.064,1.072,1.08,1.088,1.096,1.104,1.112,1.12,1.128,1.136,1.144,1.152,1.16,1.168,1.176,1.184,1.192,1.2,1.208,1.216,1.224,1.232,1.24,1.248,1.256,1.264,1.272,1.28,1.288,1.296,1.304,1.312,1.32,1.328,1.336,1.344,1.352,1.36,1.368,1.376,1.384,1.392,1.4,1.408,1.416,1.424,1.432,1.44,1.448,1.456,1.464,1.472,1.48,1.488,1.496,1.504,1.512,1.52,1.528,1.536,1.544,1.552,1.56,1.568,1.576,1.584,1.592,1.6,1.608,1.616,1.624,1.632,1.64,1.648,1.656,1.664,1.672,1.68,1.688,1.696,1.704,1.712,1.72,1.728,1.736,1.744,1.752,1.76,1.768,1.776,1.784,1.792,1.8,1.808,1.816,1.824,1.832,1.84,1.848,1.856,1.864,1.872,1.88,1.888,1.896,1.904,1.912,1.92,1.928,1.936,1.944,1.952,1.96,1.968,1.976,1.984,1.992,2.0,2.008,2.016,2.024,2.032,2.04,2.048,2.056,2.064,2.072,2.08,2.088,2.096,2.104,2.112,2.12,2.128,2.136,2.144,2.152,2.16,2.168,2.176,2.184,2.192,2.2,2.208,2.216,2.224,2.232,2.24,2.248,2.256,2.264,2.272,2.28,2.288,2.296,2.304,2.312,2.32,2.328,2.336,2.344,2.352,2.36,2.368,2.376,2.384,2.392,2.4,2.408,2.416,2.424,2.432,2.44,2.448,2.456,2.464,2.472,2.48,2.488,2.496,2.504,2.512,2.52,2.528,2.536,2.544,2.552,2.56,2.568,2.576,2.584,2.592,2.6,2.608,2.616,2.624,2.632,2.64,2.648,2.656,2.664,2.672,2.68,2.688,2.696,2.704,2.712,2.72,2.728,2.736,2.744,2.752,2.76,2.768,2.776,2.784,2.792,2.8,2.808,2.816,2.824,2.832,2.84,2.848,2.856,2.864,2.872,2.88,2.888,2.896,2.904,2.912,2.92,2.928,2.936,2.944,2.952,2.96,2.968,2.976,2.984,2.992,3.0,3.008,3.016,3.024,3.032,3.04,3.048,3.056,3.064,3.072,3.08,3.088,3.096,3.104,3.112,3.12,3.128,3.136,3.144,3.152,3.16,3.168,3.176,3.184,3.192,3.2,3.208,3.216,3.224,3.232,3.24,3.248,3.256,3.264,3.272,3.28,3.288,3.296,3.304,3.312,3.32,3.328,3.336,3.344,3.352,3.36,3.368,3.376,3.384,3.392,3.4,3.408,3.416,3.424,3.432,3.44,3.448,3.456,3.464,3.472,3.48,3.488,3.496,3.504,3.512,3.52,3.528,3.536,3.544,3.552,3.56,3.568,3.576,3.584,3.592,3.6,3.608,3.616,3.624,3.632,3.64,3.648,3.656,3.664,3.672,3.68,3.688,3.696,3.704,3.712,3.72,3.728,3.736,3.744,3.752,3.76,3.768,3.776,3.784,3.792,3.8,3.808,3.816,3.824,3.832,3.84,3.848,3.856,3.864,3.872,3.88,3.888,3.896,3.904,3.912,3.92,3.928,3.936,3.944,3.952,3.96,3.968,3.976,3.984,3.992],\"xaxis\":\"x\",\"y\":[0.005948323030507872,0.006361388293732049,0.006777795109556091,0.007196615538144305,0.007617182824421307,0.008039086971177143,0.008462155822194907,0.008886423305217474,0.009312087294452997,0.009739460182653594,0.010168915663595403,0.01060083539488278,0.011035559134664606,0.011473341637771597,0.011914319085692186,0.01235848715122992,0.012805692011204167,0.013255634771997026,0.013707888916696514,0.014161929570319202,0.0146171726576472,0.015073021436449289,0.015528917458982818,0.01598439276916495,0.016439120093961982,0.016892957936896297,0.01734598781942478,0.017798541421409436,0.018251216013381585,0.0187048773097435,0.01916064965494832,0.01961989423098554,0.020084176690150304,0.020555226221202316,0.021034888506132568,0.021525075286709106,0.022027713317177317,0.022544695330930405,0.02307783531076647,0.0236288298566636,0.024199226837343168,0.024790401847074945,0.02540354232630478,0.026039638601710016,0.026699480609702102,0.027383658727588984,0.028092566974432916,0.02882640686838489,0.029585190431296433,0.030368741191313404,0.031176692513370664,0.03200848313979289,0.032863350397017675,0.03374032206719012,0.03463820838575393,0.035555595965922664,0.03649084563574985,0.037442096183366774,0.03840727583397449,0.03938412293527986,0.04037021682607581,0.04136301923722233,0.04235992586655956,0.04335832702755739,0.044355675547896475,0.045349559441271996,0.046337776343026285,0.047318406330368684,0.048289879573677,0.0492510353064297,0.050201168862763226,0.05114006400272905,0.05206800839984442,0.052985790963467796,0.053894680558684696,0.0547963866105149,0.05569300297640459,0.05658693728274624,0.05748082859633931,0.0583774568005167,0.05927964734300794,0.06019017510957723,0.06111167106183154,0.062046534981832845,0.06299685722522405,0.06396435184120938,0.06495030281858186,0.06595552460729319,0.06698033748488401,0.06802455781769087,0.06908750282862258,0.07016800913528355,0.07126446406238561,0.07237484854948438,0.07349679035168832,0.07462762614616451,0.07576447109030283,0.07690429431009287,0.07804399871674451,0.07918050344924865,0.08031082712123394,0.08143216991942903,0.08254199247224486,0.08363808929852509,0.0847186545799894,0.08578233799880317,0.08682828846584272,0.08785618375449994,0.08886624436329041,0.08985923036514198,0.09083642056040199,0.09179957392218552,0.09275087408337193,0.09369285842931624,0.09462833418354138,0.0955602846510888,0.09649176945644874,0.09742582312031367,0.09836535660728261,0.09931306650148658,0.10027135620250249,0.10124227297460138,0.10222746384762585,0.10322815230179848,0.10424513643849104,0.10527880802964708,0.10632919054632047,0.10739599309062721,0.10847867618739863,0.10957652470849957,0.1106887228579228,0.11181442616466185,0.11295282580843251,0.11410320130601007,0.11526495855351447,0.1164376513729449,0.11762098595863309,0.11881480886700341,0.12001908035173979,0.12123383583902146,0.12245913910349704,0.12369503120478395,0.12494147945711416,0.12619833063147473,0.1274652722479688,0.12874180523778322,0.13002723048141,0.13132065081195424,0.13262098906328634,0.13392702169828186,0.13523742652852871,0.1365508420890493,0.13786593541215603,0.13918147430230332,0.1404963997906234,0.1418098942769856,0.14312144096989163,0.14443087061642543,0.14573839216421927,0.1470446048846711,0.14835049056147384,0.1496573855446082,0.15096693370694192,0.15228102253117426,0.15360170561135694,0.15493111569562162,0.15627137296077362,0.15762449345308585,0.1589923025377646,0.1603763577864935,0.1617778850394926,0.16319773047116334,0.16463633044802178,0.1660936998833978,0.16756943875211225,0.16906275550557384,0.17057250537981344,0.1720972410485375,0.17363527274734972,0.17518473486721564,0.17674365604945386,0.17831002996420203,0.17988188416916007,0.1814573446805418,0.18303469411139642,0.18461242142779463,0.18618926154463966,0.18776422315002878,0.18933660334332375,0.19090598793617777,0.1924722366343799,0.19403545281776283,0.1955959382752226,0.19715413401967274,0.19871054916803602,0.20026568076716206,0.2018199283029794,0.20337350736390436,0.20492636745525616,0.20647811920377315,0.2080279760932276,0.20957471540254352,0.21111666217783961,0.21265169889443494,0.21417730202196184,0.2156906050916714,0.21718848619700837,0.21866767626399294,0.2201248830340478,0.2215569246224038,0.22296086584046193,0.2243341502577734,0.2256747212464046,0.22698112597482342,0.22825259743597132,0.2294891110085481,0.23069141363893528,0.23186102535916633,0.23300021438882332,0.23411194838573715,0.23519982541690554,0.2362679888577929,0.23732103067660026,0.23836388744245476,0.23940173297318887,0.24043987089889524,0.24148362966925918,0.24253826178754875,0.24360884841418562,0.24470021002796497,0.24581682361024712,0.24696274683674185,0.2481415499925878,0.24935625670476644,0.25060929502042084,0.2519024607451676,0.25323689518732984,0.25461307944273126,0.256030847038972,0.2574894161151508,0.25898744136381596,0.2605230847706133,0.26209410285627766,0.26369794678467773,0.2653318704918142,0.2669930410526535,0.26867864495286176,0.2703859838544468,0.2721125538742314,0.2738561033186259,0.2756146651716767,0.27738656230814857,0.27917038525769033,0.280964944223539,0.28276919880260337,0.28458217032444144,0.2864028428175367,0.28823005925602424,0.29006241991959253,0.29189818943668633,0.29373521843824907,0.2955708848124124,0.2974020584190348,0.2992250918941749,0.3010358389316477,0.3028297002344184,0.30460169621771127,0.3063465645310199,0.3080588795407189,0.30973319006375827,0.3113641708518478,0.31294678259296904,0.314476434539768,0.315949143332247,0.31736168121392416,0.31871170672080196,0.31999787112509787,0.32121989450558813,0.32237860633262766,0.32347594689916703,0.3245149277572305,0.3254995514407898,0.3264346930379124,0.327325948452396,0.3281794562847267,0.3290017019861872,0.32979931413987956,0.3305788632824858,0.33134667353720054,0.3321086564813382,0.3328701751830222,0.3336359443291496,0.33440996999456785,0.33519553006021396,0.33599519377488496,0.3368108766580601,0.33764392501983187,0.338495222944022,0.3393653137117581,0.34025452735017375,0.34116310624327156,0.3420913214673485,0.34303957361103105,0.3440084731931705,0.3449988972808415,0.34601202042255025,0.34704931945365625,0.3481125530297783,0.349203717850905,0.3503249844303206,0.35147861593315366,0.352666874071132,0.35389191631156264,0.3551556887653771,0.35645981908274676,0.3578055135264723,0.35919346212594033,0.3606237554483014,0.36209581606450936,0.36360834724117885,0.365159300763771,0.3667458651046841,0.36836447441296094,0.3700108380484865,0.37167998965032784,0.3733663540555344,0.37506382981691494,0.3767658846433452,0.37846566083665284,0.3801560877422461,0.3818299983672406,0.3834802476298904,0.3850998301494339,0.38668199600864783,0.3882203634540208,0.3897090279652137,0.3911426674548137,0.39251664349073406,0.3938270983272627,0.3950710471735057,0.39624646453865925,0.39735236272336877,0.39838885965633647,0.39935723241068105,0.40025995199522824,0.4011006945236591,0.40188432373242255,0.40261684013546,0.4033052929251804,0.4039576520665659,0.40458263984832266,0.4051895233661687,0.40578787188891585,0.4063872856296103,0.4069971049216618,0.4076261109812836,0.4082822311285555,0.40897226236974366,0.40970162748033473,0.4104741770912402,0.41129204974966455,0.4121555995446815,0.41306339776444007,0.41401231135246025,0.41499765686941226,0.41601342449080014,0.41705256254528617,0.41810730948410424,0.4191695572129156,0.42023122761568343,0.4212846430099986,0.42232287128104407,0.42334002756648226,0.42433151655319257,0.4252942025755259,0.4262264985922521,0.42712836953226235,0.42800125017513,0.42884788238964705,0.429672080917122,0.4304784406990242,0.431272001793289,0.432057890032614,0.4328409526447175,0.43362540803801164,0.43441452788414203,0.43521036758950227,0.43601355838953165,0.4368231708102665,0.4376366553439679,0.4384498621152358,0.4392571373075066,0.4400514903974211,0.44082482299926956,0.44156820750620734,0.44227220183589644,0.4429271855022708,0.44352370194685165,0.44405279253191793,0.44450630873948266,0.4448771908202415,0.4451597032566712,0.4453496197954342,0.44544435331727694,0.44544302830597415,0.44534649603160603,0.44515729467720366,0.44487955844355476,0.44451888112255067,0.44408214072296637,0.4435772924749202,0.4430131379622399,0.44239907827762714,0.4417448590147446,0.4410603146503188,0.44035511947103706,0.4396385516936468,0.4389192768301596,0.4382051556682946,0.4375030814641909,0.4368188500700189,0.43615706573077506,0.4355210841793038,0.43491299344168327,0.4343336314626109,0.4337826383128819,0.43325853941012854,0.43275885494586425,0.43228022964902413,0.4318185762148108,0.4313692252624742,0.4309270746143991,0.4304867310416646,0.4300426383977619,0.42958918722435646,0.42912080239285044,0.4286320070398934,0.42811746284552427,0.42757198845347894,0.42699055941145475,0.4263682942915875,0.4257004325367783,0.42498230999516556,0.42420933801811367,0.4233769914098834,0.42248080947279043,0.421516412968696,0.4204795381249728,0.4193660869825996,0.41817219155924074,0.4168942876297649,0.415529192546556,0.4140741805536263,0.41252704857871125,0.4108861655698721,0.4091504990829427,0.40731961398658684,0.40539363974554565,0.40337320464809745,0.40125933740088837,0.39905333855350655,0.3967566260565207,0.39437056074164273,0.3918962585112898,0.38933439645379353,0.38668501993692567,0.3839473570115579,0.3811196452834666,0.3781989749364901,0.3751811500147265,0.37206056861227715,0.3688301214972337,0.3654811081065672,0.36200316893797013,0.3583842342115517,0.35461049027419883,0.35066636747187907,0.34653455592676197,0.34219605854634105,0.33763029330886907,0.33281525901751907,0.3277277798878157,0.3223438441472349,0.31663904997262493,0.3105891683691971,0.3041708269541796,0.2973623111761177,0.29014447059946075,0.2825017080304898,0.2744230191446671,0.26590304072170073,0.2569430574979593,0.24755191189959666,0.23774675832398748,0.22755360481459233,0.21700759028792532,0.20615295496102318,0.1950426749763159,0.18373774874987026,0.1723061412726938],\"yaxis\":\"y\",\"type\":\"scatter\",\"fill\":\"tozeroy\",\"hovertemplate\":\"\\u003cb\\u003eSynthetic\\u003c\\u002fb\\u003e\\u003cbr\\u003eFrequency: %{y}\\u003cextra\\u003e\\u003c\\u002fextra\\u003e\"}],                        {\"barmode\":\"overlay\",\"hovermode\":\"closest\",\"legend\":{\"traceorder\":\"reversed\"},\"xaxis\":{\"anchor\":\"y2\",\"domain\":[0.0,1.0],\"zeroline\":false,\"title\":{\"text\":\"Value\"}},\"yaxis\":{\"anchor\":\"free\",\"domain\":[0.0,1],\"position\":0.0,\"title\":{\"text\":\"Frequency\"}},\"template\":{\"data\":{\"histogram2dcontour\":[{\"type\":\"histogram2dcontour\",\"colorbar\":{\"outlinewidth\":0,\"ticks\":\"\"},\"colorscale\":[[0.0,\"#0d0887\"],[0.1111111111111111,\"#46039f\"],[0.2222222222222222,\"#7201a8\"],[0.3333333333333333,\"#9c179e\"],[0.4444444444444444,\"#bd3786\"],[0.5555555555555556,\"#d8576b\"],[0.6666666666666666,\"#ed7953\"],[0.7777777777777778,\"#fb9f3a\"],[0.8888888888888888,\"#fdca26\"],[1.0,\"#f0f921\"]]}],\"choropleth\":[{\"type\":\"choropleth\",\"colorbar\":{\"outlinewidth\":0,\"ticks\":\"\"}}],\"histogram2d\":[{\"type\":\"histogram2d\",\"colorbar\":{\"outlinewidth\":0,\"ticks\":\"\"},\"colorscale\":[[0.0,\"#0d0887\"],[0.1111111111111111,\"#46039f\"],[0.2222222222222222,\"#7201a8\"],[0.3333333333333333,\"#9c179e\"],[0.4444444444444444,\"#bd3786\"],[0.5555555555555556,\"#d8576b\"],[0.6666666666666666,\"#ed7953\"],[0.7777777777777778,\"#fb9f3a\"],[0.8888888888888888,\"#fdca26\"],[1.0,\"#f0f921\"]]}],\"heatmap\":[{\"type\":\"heatmap\",\"colorbar\":{\"outlinewidth\":0,\"ticks\":\"\"},\"colorscale\":[[0.0,\"#0d0887\"],[0.1111111111111111,\"#46039f\"],[0.2222222222222222,\"#7201a8\"],[0.3333333333333333,\"#9c179e\"],[0.4444444444444444,\"#bd3786\"],[0.5555555555555556,\"#d8576b\"],[0.6666666666666666,\"#ed7953\"],[0.7777777777777778,\"#fb9f3a\"],[0.8888888888888888,\"#fdca26\"],[1.0,\"#f0f921\"]]}],\"heatmapgl\":[{\"type\":\"heatmapgl\",\"colorbar\":{\"outlinewidth\":0,\"ticks\":\"\"},\"colorscale\":[[0.0,\"#0d0887\"],[0.1111111111111111,\"#46039f\"],[0.2222222222222222,\"#7201a8\"],[0.3333333333333333,\"#9c179e\"],[0.4444444444444444,\"#bd3786\"],[0.5555555555555556,\"#d8576b\"],[0.6666666666666666,\"#ed7953\"],[0.7777777777777778,\"#fb9f3a\"],[0.8888888888888888,\"#fdca26\"],[1.0,\"#f0f921\"]]}],\"contourcarpet\":[{\"type\":\"contourcarpet\",\"colorbar\":{\"outlinewidth\":0,\"ticks\":\"\"}}],\"contour\":[{\"type\":\"contour\",\"colorbar\":{\"outlinewidth\":0,\"ticks\":\"\"},\"colorscale\":[[0.0,\"#0d0887\"],[0.1111111111111111,\"#46039f\"],[0.2222222222222222,\"#7201a8\"],[0.3333333333333333,\"#9c179e\"],[0.4444444444444444,\"#bd3786\"],[0.5555555555555556,\"#d8576b\"],[0.6666666666666666,\"#ed7953\"],[0.7777777777777778,\"#fb9f3a\"],[0.8888888888888888,\"#fdca26\"],[1.0,\"#f0f921\"]]}],\"surface\":[{\"type\":\"surface\",\"colorbar\":{\"outlinewidth\":0,\"ticks\":\"\"},\"colorscale\":[[0.0,\"#0d0887\"],[0.1111111111111111,\"#46039f\"],[0.2222222222222222,\"#7201a8\"],[0.3333333333333333,\"#9c179e\"],[0.4444444444444444,\"#bd3786\"],[0.5555555555555556,\"#d8576b\"],[0.6666666666666666,\"#ed7953\"],[0.7777777777777778,\"#fb9f3a\"],[0.8888888888888888,\"#fdca26\"],[1.0,\"#f0f921\"]]}],\"mesh3d\":[{\"type\":\"mesh3d\",\"colorbar\":{\"outlinewidth\":0,\"ticks\":\"\"}}],\"scatter\":[{\"fillpattern\":{\"fillmode\":\"overlay\",\"size\":10,\"solidity\":0.2},\"type\":\"scatter\"}],\"parcoords\":[{\"type\":\"parcoords\",\"line\":{\"colorbar\":{\"outlinewidth\":0,\"ticks\":\"\"}}}],\"scatterpolargl\":[{\"type\":\"scatterpolargl\",\"marker\":{\"colorbar\":{\"outlinewidth\":0,\"ticks\":\"\"}}}],\"bar\":[{\"error_x\":{\"color\":\"#2a3f5f\"},\"error_y\":{\"color\":\"#2a3f5f\"},\"marker\":{\"line\":{\"color\":\"#E5ECF6\",\"width\":0.5},\"pattern\":{\"fillmode\":\"overlay\",\"size\":10,\"solidity\":0.2}},\"type\":\"bar\"}],\"scattergeo\":[{\"type\":\"scattergeo\",\"marker\":{\"colorbar\":{\"outlinewidth\":0,\"ticks\":\"\"}}}],\"scatterpolar\":[{\"type\":\"scatterpolar\",\"marker\":{\"colorbar\":{\"outlinewidth\":0,\"ticks\":\"\"}}}],\"histogram\":[{\"marker\":{\"pattern\":{\"fillmode\":\"overlay\",\"size\":10,\"solidity\":0.2}},\"type\":\"histogram\"}],\"scattergl\":[{\"type\":\"scattergl\",\"marker\":{\"colorbar\":{\"outlinewidth\":0,\"ticks\":\"\"}}}],\"scatter3d\":[{\"type\":\"scatter3d\",\"line\":{\"colorbar\":{\"outlinewidth\":0,\"ticks\":\"\"}},\"marker\":{\"colorbar\":{\"outlinewidth\":0,\"ticks\":\"\"}}}],\"scattermapbox\":[{\"type\":\"scattermapbox\",\"marker\":{\"colorbar\":{\"outlinewidth\":0,\"ticks\":\"\"}}}],\"scatterternary\":[{\"type\":\"scatterternary\",\"marker\":{\"colorbar\":{\"outlinewidth\":0,\"ticks\":\"\"}}}],\"scattercarpet\":[{\"type\":\"scattercarpet\",\"marker\":{\"colorbar\":{\"outlinewidth\":0,\"ticks\":\"\"}}}],\"carpet\":[{\"aaxis\":{\"endlinecolor\":\"#2a3f5f\",\"gridcolor\":\"white\",\"linecolor\":\"white\",\"minorgridcolor\":\"white\",\"startlinecolor\":\"#2a3f5f\"},\"baxis\":{\"endlinecolor\":\"#2a3f5f\",\"gridcolor\":\"white\",\"linecolor\":\"white\",\"minorgridcolor\":\"white\",\"startlinecolor\":\"#2a3f5f\"},\"type\":\"carpet\"}],\"table\":[{\"cells\":{\"fill\":{\"color\":\"#EBF0F8\"},\"line\":{\"color\":\"white\"}},\"header\":{\"fill\":{\"color\":\"#C8D4E3\"},\"line\":{\"color\":\"white\"}},\"type\":\"table\"}],\"barpolar\":[{\"marker\":{\"line\":{\"color\":\"#E5ECF6\",\"width\":0.5},\"pattern\":{\"fillmode\":\"overlay\",\"size\":10,\"solidity\":0.2}},\"type\":\"barpolar\"}],\"pie\":[{\"automargin\":true,\"type\":\"pie\"}]},\"layout\":{\"autotypenumbers\":\"strict\",\"colorway\":[\"#636efa\",\"#EF553B\",\"#00cc96\",\"#ab63fa\",\"#FFA15A\",\"#19d3f3\",\"#FF6692\",\"#B6E880\",\"#FF97FF\",\"#FECB52\"],\"font\":{\"color\":\"#2a3f5f\"},\"hovermode\":\"closest\",\"hoverlabel\":{\"align\":\"left\"},\"paper_bgcolor\":\"white\",\"plot_bgcolor\":\"#E5ECF6\",\"polar\":{\"bgcolor\":\"#E5ECF6\",\"angularaxis\":{\"gridcolor\":\"white\",\"linecolor\":\"white\",\"ticks\":\"\"},\"radialaxis\":{\"gridcolor\":\"white\",\"linecolor\":\"white\",\"ticks\":\"\"}},\"ternary\":{\"bgcolor\":\"#E5ECF6\",\"aaxis\":{\"gridcolor\":\"white\",\"linecolor\":\"white\",\"ticks\":\"\"},\"baxis\":{\"gridcolor\":\"white\",\"linecolor\":\"white\",\"ticks\":\"\"},\"caxis\":{\"gridcolor\":\"white\",\"linecolor\":\"white\",\"ticks\":\"\"}},\"coloraxis\":{\"colorbar\":{\"outlinewidth\":0,\"ticks\":\"\"}},\"colorscale\":{\"sequential\":[[0.0,\"#0d0887\"],[0.1111111111111111,\"#46039f\"],[0.2222222222222222,\"#7201a8\"],[0.3333333333333333,\"#9c179e\"],[0.4444444444444444,\"#bd3786\"],[0.5555555555555556,\"#d8576b\"],[0.6666666666666666,\"#ed7953\"],[0.7777777777777778,\"#fb9f3a\"],[0.8888888888888888,\"#fdca26\"],[1.0,\"#f0f921\"]],\"sequentialminus\":[[0.0,\"#0d0887\"],[0.1111111111111111,\"#46039f\"],[0.2222222222222222,\"#7201a8\"],[0.3333333333333333,\"#9c179e\"],[0.4444444444444444,\"#bd3786\"],[0.5555555555555556,\"#d8576b\"],[0.6666666666666666,\"#ed7953\"],[0.7777777777777778,\"#fb9f3a\"],[0.8888888888888888,\"#fdca26\"],[1.0,\"#f0f921\"]],\"diverging\":[[0,\"#8e0152\"],[0.1,\"#c51b7d\"],[0.2,\"#de77ae\"],[0.3,\"#f1b6da\"],[0.4,\"#fde0ef\"],[0.5,\"#f7f7f7\"],[0.6,\"#e6f5d0\"],[0.7,\"#b8e186\"],[0.8,\"#7fbc41\"],[0.9,\"#4d9221\"],[1,\"#276419\"]]},\"xaxis\":{\"gridcolor\":\"white\",\"linecolor\":\"white\",\"ticks\":\"\",\"title\":{\"standoff\":15},\"zerolinecolor\":\"white\",\"automargin\":true,\"zerolinewidth\":2},\"yaxis\":{\"gridcolor\":\"white\",\"linecolor\":\"white\",\"ticks\":\"\",\"title\":{\"standoff\":15},\"zerolinecolor\":\"white\",\"automargin\":true,\"zerolinewidth\":2},\"scene\":{\"xaxis\":{\"backgroundcolor\":\"#E5ECF6\",\"gridcolor\":\"white\",\"linecolor\":\"white\",\"showbackground\":true,\"ticks\":\"\",\"zerolinecolor\":\"white\",\"gridwidth\":2},\"yaxis\":{\"backgroundcolor\":\"#E5ECF6\",\"gridcolor\":\"white\",\"linecolor\":\"white\",\"showbackground\":true,\"ticks\":\"\",\"zerolinecolor\":\"white\",\"gridwidth\":2},\"zaxis\":{\"backgroundcolor\":\"#E5ECF6\",\"gridcolor\":\"white\",\"linecolor\":\"white\",\"showbackground\":true,\"ticks\":\"\",\"zerolinecolor\":\"white\",\"gridwidth\":2}},\"shapedefaults\":{\"line\":{\"color\":\"#2a3f5f\"}},\"annotationdefaults\":{\"arrowcolor\":\"#2a3f5f\",\"arrowhead\":0,\"arrowwidth\":1},\"geo\":{\"bgcolor\":\"white\",\"landcolor\":\"#E5ECF6\",\"subunitcolor\":\"white\",\"showland\":true,\"showlakes\":true,\"lakecolor\":\"white\"},\"title\":{\"x\":0.05},\"mapbox\":{\"style\":\"light\"}}},\"font\":{\"size\":18},\"title\":{\"text\":\"Real vs. Synthetic Data for column 'avg_gpa_hs'\"},\"plot_bgcolor\":\"#F5F5F8\",\"annotations\":[{\"showarrow\":false,\"text\":\"*Missing Values: Real Data (3.34%), Synthetic Data (3.31%)\",\"x\":1.0,\"xref\":\"paper\",\"y\":1.05,\"yref\":\"paper\"}]},                        {\"responsive\": true}                    ).then(function(){\n",
              "                            \n",
              "var gd = document.getElementById('fc350f88-2ec5-477a-8c34-d74fe5965b7e');\n",
              "var x = new MutationObserver(function (mutations, observer) {{\n",
              "        var display = window.getComputedStyle(gd).display;\n",
              "        if (!display || display === 'none') {{\n",
              "            console.log([gd, 'removed!']);\n",
              "            Plotly.purge(gd);\n",
              "            observer.disconnect();\n",
              "        }}\n",
              "}});\n",
              "\n",
              "// Listen for the removal of the full notebook cells\n",
              "var notebookContainer = gd.closest('#notebook-container');\n",
              "if (notebookContainer) {{\n",
              "    x.observe(notebookContainer, {childList: true});\n",
              "}}\n",
              "\n",
              "// Listen for the clearing of the current output cell\n",
              "var outputEl = gd.closest('.output');\n",
              "if (outputEl) {{\n",
              "    x.observe(outputEl, {childList: true});\n",
              "}}\n",
              "\n",
              "                        })                };                            </script>        </div>\n",
              "</body>\n",
              "</html>"
            ]
          },
          "metadata": {},
          "output_type": "display_data"
        }
      ],
      "source": [
        "from sdmetrics.visualization import get_column_plot\n",
        "\n",
        "fig = get_column_plot(\n",
        "    real_data=real_data,\n",
        "    synthetic_data=synthetic_data,\n",
        "    column_name='avg_gpa_hs',\n",
        "    plot_type='distplot'\n",
        ")\n",
        "\n",
        "fig.show()\n"
      ]
    },
    {
      "cell_type": "markdown",
      "metadata": {
        "id": "THAzNQZ6yxBb"
      },
      "source": [
        "# Dataset \\#3 - Use SDV to create a differentially private dataset."
      ]
    },
    {
      "cell_type": "code",
      "execution_count": null,
      "metadata": {
        "id": "Ib4kq1hmyvtU"
      },
      "outputs": [],
      "source": [
        "## SDV has updated the package so it no longer appears to have the PrivBayes option\n",
        "\n",
        "# from sdv.tabular.BaseTabularModel import PrivBayes\n",
        "\n",
        "# model = PrivBayes(epsilon=1.0)\n",
        "# model.fit(real_data)\n",
        "# dp_synthetic_data = model.sample()\n"
      ]
    },
    {
      "cell_type": "markdown",
      "metadata": {
        "id": "_ZL4AWAl58K3"
      },
      "source": [
        "#Dataset #4 - Use SDV with TVAE\n",
        "Recommended in Kiran, A., and S. Saravana Kumar. 2024. “A Methodology and an Empirical Analysis to Determine the Most Suitable Synthetic Data Generator.” IEEE Access: Practical Innovations, Open Solutions 12: 12209–28.\n",
        "\n",
        "https://ieeexplore.ieee.org/stamp/stamp.jsp?tp=&arnumber=10400420\n",
        "\n",
        "SDV documentation - https://docs.sdv.dev/sdv/single-table-data/modeling/synthesizers/tvaesynthesizer"
      ]
    },
    {
      "cell_type": "code",
      "execution_count": null,
      "metadata": {
        "id": "mvHaDh7F9K89"
      },
      "outputs": [],
      "source": [
        "from sdv.metadata import SingleTableMetadata\n",
        "\n",
        "# Assuming your metadata is in a dictionary called 'metadata_dict'\n",
        "metadata = SingleTableMetadata()\n",
        "metadata.detect_from_dataframe(data=real_data)\n"
      ]
    },
    {
      "cell_type": "code",
      "execution_count": null,
      "metadata": {
        "id": "6GA9NSn69gXM"
      },
      "outputs": [],
      "source": [
        "columns_to_cast = [\n",
        "    'first_coop_code',\n",
        "    'first_hs_urbanicity',\n",
        "    'ihe_degrees_awarded_predominant',\n",
        "    'ihe_degrees_awarded_highest'\n",
        "]\n"
      ]
    },
    {
      "cell_type": "code",
      "execution_count": null,
      "metadata": {
        "id": "IUhrBy-J8NRF"
      },
      "outputs": [],
      "source": [
        "real_data[columns_to_cast] = real_data[columns_to_cast].astype('object')\n"
      ]
    },
    {
      "cell_type": "code",
      "execution_count": null,
      "metadata": {
        "colab": {
          "background_save": true
        },
        "id": "mFUcVikR6ukF"
      },
      "outputs": [],
      "source": [
        "from sdv.single_table import TVAESynthesizer\n",
        "\n",
        "synthesizer = TVAESynthesizer(metadata)\n",
        "synthesizer.fit(real_data)"
      ]
    },
    {
      "cell_type": "code",
      "source": [
        "tvae_synthetic_data = synthesizer.sample(num_rows=111991)\n"
      ],
      "metadata": {
        "id": "uJE18eATswA5"
      },
      "execution_count": null,
      "outputs": []
    },
    {
      "cell_type": "code",
      "source": [
        "tvae_synthetic_data.to_csv('tvae_synthetic_data.csv', index=False)"
      ],
      "metadata": {
        "id": "WCtl726etaXs"
      },
      "execution_count": null,
      "outputs": []
    },
    {
      "cell_type": "markdown",
      "metadata": {
        "id": "mDsUKWXk-p1c"
      },
      "source": [
        "# SDV documentation on Custom Processing and Anonymization\n",
        "https://colab.research.google.com/drive/1Z9Rff5G3eDI-LEc1LXiew9E3hF5Ob-on?usp=sharing#scrollTo=ZZB_FFt7PbCN"
      ]
    }
  ],
  "metadata": {
    "colab": {
      "machine_shape": "hm",
      "provenance": []
    },
    "kernelspec": {
      "display_name": "Python 3",
      "name": "python3"
    },
    "language_info": {
      "name": "python"
    }
  },
  "nbformat": 4,
  "nbformat_minor": 0
}
