{
  "nbformat": 4,
  "nbformat_minor": 0,
  "metadata": {
    "colab": {
      "provenance": []
    },
    "kernelspec": {
      "name": "python3",
      "display_name": "Python 3"
    },
    "language_info": {
      "name": "python"
    }
  },
  "cells": [
    {
      "cell_type": "markdown",
      "source": [
        "OpenDP - applying differntial privacy to the Faketucky dataset with this Python package.\n",
        "\n",
        "Source: https://docs.opendp.org/en/stable/getting-started/quickstart.html"
      ],
      "metadata": {
        "id": "TXcsbmOBQQLo"
      }
    },
    {
      "cell_type": "code",
      "execution_count": 1,
      "metadata": {
        "colab": {
          "base_uri": "https://localhost:8080/"
        },
        "id": "pTknrnIRNjTy",
        "outputId": "3757c485-40cc-40c8-cd0a-d38d4d75689e"
      },
      "outputs": [
        {
          "output_type": "stream",
          "name": "stdout",
          "text": [
            "Collecting opendp\n",
            "  Downloading opendp-0.11.1-cp39-abi3-manylinux_2_17_x86_64.manylinux2014_x86_64.whl.metadata (5.7 kB)\n",
            "Downloading opendp-0.11.1-cp39-abi3-manylinux_2_17_x86_64.manylinux2014_x86_64.whl (23.2 MB)\n",
            "\u001b[2K   \u001b[90m━━━━━━━━━━━━━━━━━━━━━━━━━━━━━━━━━━━━━━━━\u001b[0m \u001b[32m23.2/23.2 MB\u001b[0m \u001b[31m17.5 MB/s\u001b[0m eta \u001b[36m0:00:00\u001b[0m\n",
            "\u001b[?25hInstalling collected packages: opendp\n",
            "Successfully installed opendp-0.11.1\n"
          ]
        }
      ],
      "source": [
        "pip install opendp"
      ]
    },
    {
      "cell_type": "markdown",
      "source": [
        "The vetting process is currently underway for the code in the OpenDP Library. Any code that has not completed the vetting process is marked as “contrib” and will not run unless you opt-in. Enable contrib globally with the following snippet:"
      ],
      "metadata": {
        "id": "7UBimaLDQuuI"
      }
    },
    {
      "cell_type": "code",
      "source": [
        "import opendp.prelude as dp\n",
        "dp.enable_features('contrib')"
      ],
      "metadata": {
        "id": "WoDpD-2GQdEN"
      },
      "execution_count": 2,
      "outputs": []
    },
    {
      "cell_type": "markdown",
      "source": [
        "Once you’ve installed OpenDP, you can write your first program. Let’s apply Laplace noise to a value."
      ],
      "metadata": {
        "id": "eF_EB8glRBLg"
      }
    },
    {
      "cell_type": "code",
      "source": [
        "space = (dp.atom_domain(T=float), dp.absolute_distance(T=float))\n",
        "laplace_mechanism = space >> dp.m.then_laplace(scale=1.)\n",
        "dp_value = laplace_mechanism(123.0)"
      ],
      "metadata": {
        "id": "Fa0_blOqQmYq"
      },
      "execution_count": 3,
      "outputs": []
    },
    {
      "cell_type": "markdown",
      "source": [
        "This demonstrates a number of low-level OpenDP patterns:\n",
        "\n",
        "First, define your “metric space”: a data domain and a definition of distance.\n",
        "\n",
        "Then, chain operators together to construct a Measurement (aka mechanism).\n",
        "\n",
        "Invoke that measurement on a value to get a DP release.\n",
        "\n",
        "OpenDP has two APIs and we’ll demonstrate how to use both:\n",
        "\n",
        "The Context API is simpler and helps to enforce best practices. Currently available only for Python.\n",
        "\n",
        "The Framework API is lower-level. Available for Python, R and Rust, it directly implements the OpenDP Programming Framework.\n",
        "\n",
        "Because the Context API is a wrapper around the Framework API, it is easier to use but less flexible: All calls ultimately pass through the Framework API.\n",
        "\n",
        "The next page will demonstrate usage of the Context API in Python, and Framework API in Python and R. After that, the remaining “Getting Started” documentation will focus just on Python."
      ],
      "metadata": {
        "id": "2bwGo3kERINo"
      }
    },
    {
      "cell_type": "code",
      "source": [],
      "metadata": {
        "id": "7v_lJoX9Qsb_"
      },
      "execution_count": null,
      "outputs": []
    }
  ]
}